{
 "cells": [
  {
   "cell_type": "markdown",
   "id": "e172fe51-bff6-48fd-a7cd-cc57219a3cfb",
   "metadata": {},
   "source": [
    "Tässä projektissa mukaillaan \"Medallion Architecture\" tyylistä tietoarkkitehtuuria, jossa data tallennetaan Bronze, Silver ja Gold-tasolle. Tämä Notebook hoitaa Bronze-tason ETL-putken. Tiivistetysti Bronze-tason ETL-putket hoitavat raakadatan tallentamisen käytettävään muotoon.\n",
    "\n",
    "Tämän notebookin tarkoituksena on alustaa DuckDB tietokanta CSV-tiedostojen pohjalta."
   ]
  },
  {
   "cell_type": "code",
   "execution_count": 1,
   "id": "8a89458d-2661-439a-803e-5aa29b7e1109",
   "metadata": {},
   "outputs": [
    {
     "name": "stdout",
     "output_type": "stream",
     "text": [
      "Requirement already satisfied: duckdb in /opt/conda/lib/python3.11/site-packages (0.10.1)\n"
     ]
    }
   ],
   "source": [
    "!pip install duckdb"
   ]
  },
  {
   "cell_type": "code",
   "execution_count": 8,
   "id": "08661be3-df6a-4e81-ab77-e60175789ad8",
   "metadata": {},
   "outputs": [
    {
     "name": "stdout",
     "output_type": "stream",
     "text": [
      "Bronze_SensorData on jo olemassa\n"
     ]
    }
   ],
   "source": [
    "# Alustetaan duckdb tietokanta ja luodaan Bronze_SensorData taulu\n",
    "import duckdb\n",
    "from functions.database import create_db_table\n",
    "import os\n",
    "\n",
    "\n",
    "lite = False # Muuta false, jos haluat ajaa kaikki datat kantaan, laita True, jos haluat ajaa vain Node3200 datan kantaan (Kevennetty versio)\n",
    "\n",
    "csv_filepath = \"data/files/\" # Kansio, jossa kaikki tallennettavat CSV-tiedostot sijaitsee\n",
    "if not os.path.exists(csv_filepath):\n",
    "    os.mkdir(csv_filepath)\n",
    "    print(f'hakemisto {csv_filepath} luotu')\n",
    "\n",
    "duckdb_path = \"data/duckdb.database\" # Duckdb tietokannalle annettava nimi, tallentuu lokaalisti\n",
    "if lite:\n",
    "    table_name = \"Bronze_SensorData_lite\" # Tietokantataulu Lite-version datalle. (Poista kommentti, jotta voit ajaa Lite-version)\n",
    "else:\n",
    "    table_name = \"Bronze_SensorData\" # Tietokanta tauluun tulee Bronze-prefix, jotta tiedetään, että siellä on raakadataa\n",
    "\n",
    "schema = f'''\n",
    "        CREATE TABLE {table_name} (\n",
    "        node_id INTEGER NOT NULL,\n",
    "        timestamp TEXT,\n",
    "        x INTEGER NOT NULL,\n",
    "        y INTEGER NOT NULL,\n",
    "        z INTEGER NOT NULL,\n",
    "        q INTEGER NOT NULL\n",
    "        )\n",
    "        '''\n",
    "\n",
    "create_db_table(database=duckdb_path, table_name=table_name,schema=schema) # Luodaan tietokantataulu"
   ]
  },
  {
   "cell_type": "code",
   "execution_count": 9,
   "id": "e833e0e5-95f8-4220-8c65-ab5e89aeb987",
   "metadata": {},
   "outputs": [
    {
     "name": "stdout",
     "output_type": "stream",
     "text": [
      "node_51889.csv is being processed, its shape is (4967778, 6)\n",
      "1 / 31 tiedostoa prosessoitu 4.92 sekunnissa\n",
      "node_52008.csv is being processed, its shape is (44, 6)\n",
      "2 / 31 tiedostoa prosessoitu 4.99 sekunnissa\n",
      "node_53130.csv is being processed, its shape is (3978642, 6)\n",
      "3 / 31 tiedostoa prosessoitu 8.92 sekunnissa\n",
      "node_51968.csv is being processed, its shape is (4540572, 6)\n",
      "4 / 31 tiedostoa prosessoitu 13.39 sekunnissa\n",
      "node_53795.csv is being processed, its shape is (671, 6)\n",
      "5 / 31 tiedostoa prosessoitu 13.46 sekunnissa\n",
      "node_53924.csv is being processed, its shape is (6878445, 6)\n",
      "6 / 31 tiedostoa prosessoitu 20.26 sekunnissa\n",
      "node_51976.csv is being processed, its shape is (7711319, 6)\n"
     ]
    },
    {
     "data": {
      "application/vnd.jupyter.widget-view+json": {
       "model_id": "f50f50ea0f9548688b710b3fddd5cf43",
       "version_major": 2,
       "version_minor": 0
      },
      "text/plain": [
       "FloatProgress(value=0.0, layout=Layout(width='auto'), style=ProgressStyle(bar_color='black'))"
      ]
     },
     "metadata": {},
     "output_type": "display_data"
    },
    {
     "name": "stdout",
     "output_type": "stream",
     "text": [
      "7 / 31 tiedostoa prosessoitu 28.00 sekunnissa\n",
      "node_51751.csv is being processed, its shape is (7706871, 6)\n"
     ]
    },
    {
     "data": {
      "application/vnd.jupyter.widget-view+json": {
       "model_id": "6a8ad7e05a0544d7a73b035ed67d309c",
       "version_major": 2,
       "version_minor": 0
      },
      "text/plain": [
       "FloatProgress(value=0.0, layout=Layout(width='auto'), style=ProgressStyle(bar_color='black'))"
      ]
     },
     "metadata": {},
     "output_type": "display_data"
    },
    {
     "name": "stdout",
     "output_type": "stream",
     "text": [
      "8 / 31 tiedostoa prosessoitu 35.67 sekunnissa\n",
      "node_45300.csv is being processed, its shape is (1, 6)\n",
      "9 / 31 tiedostoa prosessoitu 35.77 sekunnissa\n",
      "node_53000.csv is being processed, its shape is (182, 6)\n",
      "10 / 31 tiedostoa prosessoitu 35.77 sekunnissa\n",
      "node_51866.csv is being processed, its shape is (5626086, 6)\n",
      "11 / 31 tiedostoa prosessoitu 41.35 sekunnissa\n",
      "node_53936.csv is being processed, its shape is (8577180, 6)\n"
     ]
    },
    {
     "data": {
      "application/vnd.jupyter.widget-view+json": {
       "model_id": "4aa625b7ab9b49ce8023863567025158",
       "version_major": 2,
       "version_minor": 0
      },
      "text/plain": [
       "FloatProgress(value=0.0, layout=Layout(width='auto'), style=ProgressStyle(bar_color='black'))"
      ]
     },
     "metadata": {},
     "output_type": "display_data"
    },
    {
     "name": "stdout",
     "output_type": "stream",
     "text": [
      "12 / 31 tiedostoa prosessoitu 50.54 sekunnissa\n",
      "node_54016.csv is being processed, its shape is (8438018, 6)\n"
     ]
    },
    {
     "data": {
      "application/vnd.jupyter.widget-view+json": {
       "model_id": "66634b7968294741bdaff93c42d1b9cd",
       "version_major": 2,
       "version_minor": 0
      },
      "text/plain": [
       "FloatProgress(value=0.0, layout=Layout(width='auto'), style=ProgressStyle(bar_color='black'))"
      ]
     },
     "metadata": {},
     "output_type": "display_data"
    },
    {
     "name": "stdout",
     "output_type": "stream",
     "text": [
      "13 / 31 tiedostoa prosessoitu 59.99 sekunnissa\n",
      "node_51735.csv is being processed, its shape is (4903274, 6)\n",
      "14 / 31 tiedostoa prosessoitu 65.05 sekunnissa\n",
      "node_52023.csv is being processed, its shape is (5683645, 6)\n",
      "15 / 31 tiedostoa prosessoitu 70.20 sekunnissa\n",
      "node_51720.csv is being processed, its shape is (216, 6)\n",
      "16 / 31 tiedostoa prosessoitu 70.28 sekunnissa\n",
      "node_52003.csv is being processed, its shape is (7191892, 6)\n"
     ]
    },
    {
     "data": {
      "application/vnd.jupyter.widget-view+json": {
       "model_id": "b79a4bb37a044979a88b9f99d4d669c7",
       "version_major": 2,
       "version_minor": 0
      },
      "text/plain": [
       "FloatProgress(value=0.0, layout=Layout(width='auto'), style=ProgressStyle(bar_color='black'))"
      ]
     },
     "metadata": {},
     "output_type": "display_data"
    },
    {
     "name": "stdout",
     "output_type": "stream",
     "text": [
      "17 / 31 tiedostoa prosessoitu 77.78 sekunnissa\n",
      "node_53027.csv is being processed, its shape is (597, 6)\n",
      "18 / 31 tiedostoa prosessoitu 77.91 sekunnissa\n",
      "node_52535.csv is being processed, its shape is (8964462, 6)\n"
     ]
    },
    {
     "data": {
      "application/vnd.jupyter.widget-view+json": {
       "model_id": "3a25e907813e4a9986a52a9fcb18d022",
       "version_major": 2,
       "version_minor": 0
      },
      "text/plain": [
       "FloatProgress(value=0.0, layout=Layout(width='auto'), style=ProgressStyle(bar_color='black'))"
      ]
     },
     "metadata": {},
     "output_type": "display_data"
    },
    {
     "name": "stdout",
     "output_type": "stream",
     "text": [
      "19 / 31 tiedostoa prosessoitu 88.30 sekunnissa\n",
      "node_3240.csv is being processed, its shape is (6329160, 6)\n",
      "20 / 31 tiedostoa prosessoitu 95.66 sekunnissa\n",
      "node_42787.csv is being processed, its shape is (8, 6)\n",
      "21 / 31 tiedostoa prosessoitu 95.75 sekunnissa\n",
      "node_3224.csv is being processed, its shape is (6136400, 6)\n",
      "22 / 31 tiedostoa prosessoitu 101.61 sekunnissa\n",
      "node_51850.csv is being processed, its shape is (7479609, 6)\n"
     ]
    },
    {
     "data": {
      "application/vnd.jupyter.widget-view+json": {
       "model_id": "b23310139bf64ab990b96416cead70ee",
       "version_major": 2,
       "version_minor": 0
      },
      "text/plain": [
       "FloatProgress(value=0.0, layout=Layout(width='auto'), style=ProgressStyle(bar_color='black'))"
      ]
     },
     "metadata": {},
     "output_type": "display_data"
    },
    {
     "name": "stdout",
     "output_type": "stream",
     "text": [
      "23 / 31 tiedostoa prosessoitu 109.76 sekunnissa\n",
      "node_53011.csv is being processed, its shape is (6447203, 6)\n",
      "24 / 31 tiedostoa prosessoitu 116.33 sekunnissa\n",
      "node_64458.csv is being processed, its shape is (1, 6)\n",
      "25 / 31 tiedostoa prosessoitu 116.42 sekunnissa\n",
      "node_53888.csv is being processed, its shape is (592, 6)\n",
      "26 / 31 tiedostoa prosessoitu 116.42 sekunnissa\n",
      "node_53768.csv is being processed, its shape is (421, 6)\n",
      "27 / 31 tiedostoa prosessoitu 116.43 sekunnissa\n",
      "node_52099.csv is being processed, its shape is (5304114, 6)\n",
      "28 / 31 tiedostoa prosessoitu 121.56 sekunnissa\n",
      "node_3200.csv is being processed, its shape is (6489294, 6)\n",
      "29 / 31 tiedostoa prosessoitu 128.67 sekunnissa\n",
      "node_51992.csv is being processed, its shape is (7288599, 6)\n"
     ]
    },
    {
     "data": {
      "application/vnd.jupyter.widget-view+json": {
       "model_id": "9cac0f5463324d6cb0204cc39948f531",
       "version_major": 2,
       "version_minor": 0
      },
      "text/plain": [
       "FloatProgress(value=0.0, layout=Layout(width='auto'), style=ProgressStyle(bar_color='black'))"
      ]
     },
     "metadata": {},
     "output_type": "display_data"
    },
    {
     "name": "stdout",
     "output_type": "stream",
     "text": [
      "30 / 31 tiedostoa prosessoitu 137.38 sekunnissa\n",
      "node_51719.csv is being processed, its shape is (9316264, 6)\n"
     ]
    },
    {
     "data": {
      "application/vnd.jupyter.widget-view+json": {
       "model_id": "a78b4fbe3e894858a303d2ed2566a76e",
       "version_major": 2,
       "version_minor": 0
      },
      "text/plain": [
       "FloatProgress(value=0.0, layout=Layout(width='auto'), style=ProgressStyle(bar_color='black'))"
      ]
     },
     "metadata": {},
     "output_type": "display_data"
    },
    {
     "name": "stdout",
     "output_type": "stream",
     "text": [
      "31 / 31 tiedostoa prosessoitu 148.89 sekunnissa\n",
      "Tiedostojen lisämiseen meni: 148.89 sekunttia\n"
     ]
    }
   ],
   "source": [
    "from functions.database import insert_csv_files_into_table\n",
    "\n",
    "# Ajetaan halutut CSV_tiedostot tietokantaan\n",
    "insert_csv_files_into_table(csv_folder=csv_filepath, table_name=table_name, db_file=duckdb_path, lite=lite)"
   ]
  },
  {
   "cell_type": "code",
   "execution_count": 4,
   "id": "11391b14-b13a-47b0-99a3-b2125b3cf74b",
   "metadata": {},
   "outputs": [],
   "source": [
    "# Jos tarvitsee tyhjentää tietokantataulu / poistaa se. Se onnistuu alla olevalla koodilla\n",
    "\n",
    "\n",
    "def drop_table(table_name, db_file):\n",
    "    # Connect to DuckDB\n",
    "    conn = duckdb.connect(database=db_file, read_only=False)\n",
    "    # Execute the SQL statement to drop the table\n",
    "    conn.execute(f'DROP TABLE IF EXISTS {table_name}')\n",
    "    conn.close()\n",
    "# Example usage:\n",
    "table_name = 'SensorData'\n",
    "duckdb_path = \"./data/duckdb.database\"\n",
    "\n",
    "\n",
    "# Poista alla oleva kommentti, jos haluat tyhjentää tietyn taulun\n",
    "# drop_table(table_name, duckdb_path)"
   ]
  },
  {
   "cell_type": "code",
   "execution_count": 10,
   "id": "8ba5ba11-b9dd-4b01-a6ab-1ef79198ccef",
   "metadata": {},
   "outputs": [
    {
     "name": "stdout",
     "output_type": "stream",
     "text": [
      "Bronze_SensorData\n",
      "Bronze_SensorData_lite\n"
     ]
    }
   ],
   "source": [
    "import duckdb\n",
    "\n",
    "# Otetaan yhteys tietokantaan\n",
    "conn = duckdb.connect(database=\"./data/duckdb.database\")\n",
    "\n",
    "# Katsotaan mitä tietokantatuluja meillä on tietokannassa\n",
    "query = \"SELECT name FROM sqlite_master WHERE type='table'\"\n",
    "\n",
    "# Ajetaan kysely\n",
    "result = conn.execute(query)\n",
    "\n",
    "# Haetaan kaikkien taulujen nimet\n",
    "table_names = result.fetchall()\n",
    "\n",
    "# Printataan nimet\n",
    "for table_name in table_names:\n",
    "    print(table_name[0])\n",
    "\n",
    "# Suljetaan yhteys \n",
    "conn.close()"
   ]
  },
  {
   "cell_type": "code",
   "execution_count": null,
   "id": "69633788-270d-483e-b6b5-e6f5d0194f9f",
   "metadata": {},
   "outputs": [],
   "source": []
  }
 ],
 "metadata": {
  "kernelspec": {
   "display_name": "Python 3 (ipykernel)",
   "language": "python",
   "name": "python3"
  },
  "language_info": {
   "codemirror_mode": {
    "name": "ipython",
    "version": 3
   },
   "file_extension": ".py",
   "mimetype": "text/x-python",
   "name": "python",
   "nbconvert_exporter": "python",
   "pygments_lexer": "ipython3",
   "version": "3.11.6"
  }
 },
 "nbformat": 4,
 "nbformat_minor": 5
}
