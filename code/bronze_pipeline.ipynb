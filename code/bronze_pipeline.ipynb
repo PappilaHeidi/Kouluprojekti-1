{
 "cells": [
  {
   "cell_type": "markdown",
   "id": "e172fe51-bff6-48fd-a7cd-cc57219a3cfb",
   "metadata": {},
   "source": [
    "Tässä projektissa mukaillaan \"Medallion Architecture\" tyylistä tietoarkkitehtuuria, jossa data tallennetaan Bronze, Silver ja Gold-tasolle. Tämä Notebook hoitaa Bronze-tason ETL-putken. Tiivistetysti Bronze-tason ETL-putket hoitavat raakadatan tallentamisen käytettävään muotoon.\n",
    "\n",
    "Tämän notebookin tarkoituksena on alustaa DuckDB tietokanta CSV-tiedostojen pohjalta."
   ]
  },
  {
   "cell_type": "code",
   "execution_count": 1,
   "id": "8a89458d-2661-439a-803e-5aa29b7e1109",
   "metadata": {},
   "outputs": [
    {
     "name": "stdout",
     "output_type": "stream",
     "text": [
      "Requirement already satisfied: duckdb in d:\\kouluhommat\\projektiopinnot-1-datan-hallinta-ttm23sai\\.venv\\lib\\site-packages (0.10.1)\n"
     ]
    },
    {
     "name": "stderr",
     "output_type": "stream",
     "text": [
      "\n",
      "[notice] A new release of pip is available: 23.2.1 -> 24.0\n",
      "[notice] To update, run: python.exe -m pip install --upgrade pip\n"
     ]
    }
   ],
   "source": [
    "!pip install duckdb"
   ]
  },
  {
   "cell_type": "code",
   "execution_count": 2,
   "id": "08661be3-df6a-4e81-ab77-e60175789ad8",
   "metadata": {},
   "outputs": [
    {
     "name": "stdout",
     "output_type": "stream",
     "text": [
      "Bronze_SensorData luotu\n"
     ]
    }
   ],
   "source": [
    "# Alustetaan duckdb tietokanta ja luodaan Bronze_SensorData taulu\n",
    "import duckdb\n",
    "from functions.database import create_db_table\n",
    "import os\n",
    "\n",
    "\n",
    "lite = False # Muuta false, jos haluat ajaa kaikki datat kantaan, laita True, jos haluat ajaa vain Node3200 datan kantaan (Kevennetty versio)\n",
    "\n",
    "csv_filepath = \"data/files/\" # Kansio, jossa kaikki tallennettavat CSV-tiedostot sijaitsee\n",
    "if not os.path.exists(csv_filepath):\n",
    "    os.mkdir(csv_filepath)\n",
    "    print(f'hakemisto {csv_filepath} luotu')\n",
    "\n",
    "duckdb_path = \"data/duckdb.database\" # Duckdb tietokannalle annettava nimi, tallentuu lokaalisti\n",
    "if lite:\n",
    "    table_name = \"Bronze_SensorData_lite\" # Tietokantataulu Lite-version datalle. (Poista kommentti, jotta voit ajaa Lite-version)\n",
    "else:\n",
    "    table_name = \"Bronze_SensorData\" # Tietokanta tauluun tulee Bronze-prefix, jotta tiedetään, että siellä on raakadataa\n",
    "\n",
    "schema = f'''\n",
    "        CREATE TABLE {table_name} (\n",
    "        node_id INTEGER NOT NULL,\n",
    "        timestamp TEXT,\n",
    "        x INTEGER NOT NULL,\n",
    "        y INTEGER NOT NULL,\n",
    "        z INTEGER NOT NULL,\n",
    "        q INTEGER NOT NULL\n",
    "        )\n",
    "        '''\n",
    "\n",
    "create_db_table(database=duckdb_path, table_name=table_name,schema=schema) # Luodaan tietokantataulu"
   ]
  },
  {
   "cell_type": "code",
   "execution_count": 3,
   "id": "e833e0e5-95f8-4220-8c65-ab5e89aeb987",
   "metadata": {},
   "outputs": [
    {
     "name": "stdout",
     "output_type": "stream",
     "text": [
      "node_3200.csv is being processed, its shape is (6489294, 6)\n",
      "1 / 31 tiedostoa prosessoitu 7.60 sekunnissa\n",
      "node_3224.csv is being processed, its shape is (6136400, 6)\n",
      "2 / 31 tiedostoa prosessoitu 14.40 sekunnissa\n",
      "node_3240.csv is being processed, its shape is (6329160, 6)\n",
      "3 / 31 tiedostoa prosessoitu 21.75 sekunnissa\n",
      "node_42787.csv is being processed, its shape is (8, 6)\n",
      "4 / 31 tiedostoa prosessoitu 21.86 sekunnissa\n",
      "node_45300.csv is being processed, its shape is (1, 6)\n",
      "5 / 31 tiedostoa prosessoitu 21.87 sekunnissa\n",
      "node_51719.csv is being processed, its shape is (9316264, 6)\n",
      "6 / 31 tiedostoa prosessoitu 32.69 sekunnissa\n",
      "node_51720.csv is being processed, its shape is (216, 6)\n",
      "7 / 31 tiedostoa prosessoitu 32.84 sekunnissa\n",
      "node_51735.csv is being processed, its shape is (4903274, 6)\n",
      "8 / 31 tiedostoa prosessoitu 38.53 sekunnissa\n",
      "node_51751.csv is being processed, its shape is (7706871, 6)\n",
      "9 / 31 tiedostoa prosessoitu 47.39 sekunnissa\n",
      "node_51850.csv is being processed, its shape is (7479609, 6)\n",
      "10 / 31 tiedostoa prosessoitu 56.14 sekunnissa\n",
      "node_51866.csv is being processed, its shape is (5626086, 6)\n",
      "11 / 31 tiedostoa prosessoitu 62.24 sekunnissa\n",
      "node_51889.csv is being processed, its shape is (4967778, 6)\n",
      "12 / 31 tiedostoa prosessoitu 67.85 sekunnissa\n",
      "node_51968.csv is being processed, its shape is (4540572, 6)\n",
      "13 / 31 tiedostoa prosessoitu 73.65 sekunnissa\n",
      "node_51976.csv is being processed, its shape is (7711319, 6)\n",
      "14 / 31 tiedostoa prosessoitu 82.99 sekunnissa\n",
      "node_51992.csv is being processed, its shape is (7288599, 6)\n",
      "15 / 31 tiedostoa prosessoitu 91.47 sekunnissa\n",
      "node_52003.csv is being processed, its shape is (7191892, 6)\n",
      "16 / 31 tiedostoa prosessoitu 99.85 sekunnissa\n",
      "node_52008.csv is being processed, its shape is (44, 6)\n",
      "17 / 31 tiedostoa prosessoitu 99.99 sekunnissa\n",
      "node_52023.csv is being processed, its shape is (5683645, 6)\n",
      "18 / 31 tiedostoa prosessoitu 106.49 sekunnissa\n",
      "node_52099.csv is being processed, its shape is (5304114, 6)\n",
      "19 / 31 tiedostoa prosessoitu 112.12 sekunnissa\n",
      "node_52535.csv is being processed, its shape is (8964462, 6)\n",
      "20 / 31 tiedostoa prosessoitu 123.06 sekunnissa\n",
      "node_53000.csv is being processed, its shape is (182, 6)\n",
      "21 / 31 tiedostoa prosessoitu 123.21 sekunnissa\n",
      "node_53011.csv is being processed, its shape is (6447203, 6)\n",
      "22 / 31 tiedostoa prosessoitu 130.53 sekunnissa\n",
      "node_53027.csv is being processed, its shape is (597, 6)\n",
      "23 / 31 tiedostoa prosessoitu 130.63 sekunnissa\n",
      "node_53130.csv is being processed, its shape is (3978642, 6)\n",
      "24 / 31 tiedostoa prosessoitu 135.00 sekunnissa\n",
      "node_53768.csv is being processed, its shape is (421, 6)\n",
      "25 / 31 tiedostoa prosessoitu 135.07 sekunnissa\n",
      "node_53795.csv is being processed, its shape is (671, 6)\n",
      "26 / 31 tiedostoa prosessoitu 135.07 sekunnissa\n",
      "node_53888.csv is being processed, its shape is (592, 6)\n",
      "27 / 31 tiedostoa prosessoitu 135.08 sekunnissa\n",
      "node_53924.csv is being processed, its shape is (6878445, 6)\n",
      "28 / 31 tiedostoa prosessoitu 142.97 sekunnissa\n",
      "node_53936.csv is being processed, its shape is (8577180, 6)\n",
      "29 / 31 tiedostoa prosessoitu 153.38 sekunnissa\n",
      "node_54016.csv is being processed, its shape is (8438018, 6)\n",
      "30 / 31 tiedostoa prosessoitu 163.43 sekunnissa\n",
      "node_64458.csv is being processed, its shape is (1, 6)\n",
      "31 / 31 tiedostoa prosessoitu 163.59 sekunnissa\n",
      "Tiedostojen lisämiseen meni: 163.59 sekunttia\n"
     ]
    }
   ],
   "source": [
    "from functions.database import insert_csv_files_into_table\n",
    "\n",
    "# Ajetaan halutut CSV_tiedostot tietokantaan\n",
    "insert_csv_files_into_table(csv_folder=csv_filepath, table_name=table_name, db_file=duckdb_path, lite=lite)"
   ]
  },
  {
   "cell_type": "code",
   "execution_count": 4,
   "id": "11391b14-b13a-47b0-99a3-b2125b3cf74b",
   "metadata": {},
   "outputs": [],
   "source": [
    "# Jos tarvitsee tyhjentää tietokantataulu / poistaa se. Se onnistuu alla olevalla koodilla\n",
    "\n",
    "\n",
    "def drop_table(table_name, db_file):\n",
    "    # Connect to DuckDB\n",
    "    conn = duckdb.connect(database=db_file, read_only=False)\n",
    "    # Execute the SQL statement to drop the table\n",
    "    conn.execute(f'DROP TABLE IF EXISTS {table_name}')\n",
    "    conn.close()\n",
    "# Example usage:\n",
    "table_name = 'SensorData'\n",
    "duckdb_path = \"./data/duckdb.database\"\n",
    "\n",
    "\n",
    "# Poista alla oleva kommentti, jos haluat tyhjentää tietyn taulun\n",
    "# drop_table(table_name, duckdb_path)"
   ]
  },
  {
   "cell_type": "code",
   "execution_count": 4,
   "id": "8ba5ba11-b9dd-4b01-a6ab-1ef79198ccef",
   "metadata": {},
   "outputs": [
    {
     "name": "stdout",
     "output_type": "stream",
     "text": [
      "Bronze_SensorData\n",
      "Bronze_SensorData_lite\n",
      "Silver_SensorData_lite\n"
     ]
    }
   ],
   "source": [
    "import duckdb\n",
    "\n",
    "# Otetaan yhteys tietokantaan\n",
    "conn = duckdb.connect(database=\"./data/duckdb.database\")\n",
    "\n",
    "# Katsotaan mitä tietokantatuluja meillä on tietokannassa\n",
    "query = \"SELECT name FROM sqlite_master WHERE type='table'\"\n",
    "\n",
    "# Ajetaan kysely\n",
    "result = conn.execute(query)\n",
    "\n",
    "# Haetaan kaikkien taulujen nimet\n",
    "table_names = result.fetchall()\n",
    "\n",
    "# Printataan nimet\n",
    "for table_name in table_names:\n",
    "    print(table_name[0])\n",
    "\n",
    "# Suljetaan yhteys \n",
    "conn.close()"
   ]
  },
  {
   "cell_type": "code",
   "execution_count": null,
   "id": "69633788-270d-483e-b6b5-e6f5d0194f9f",
   "metadata": {},
   "outputs": [],
   "source": []
  }
 ],
 "metadata": {
  "kernelspec": {
   "display_name": "Python 3 (ipykernel)",
   "language": "python",
   "name": "python3"
  },
  "language_info": {
   "codemirror_mode": {
    "name": "ipython",
    "version": 3
   },
   "file_extension": ".py",
   "mimetype": "text/x-python",
   "name": "python",
   "nbconvert_exporter": "python",
   "pygments_lexer": "ipython3",
   "version": "3.12.0"
  }
 },
 "nbformat": 4,
 "nbformat_minor": 5
}
