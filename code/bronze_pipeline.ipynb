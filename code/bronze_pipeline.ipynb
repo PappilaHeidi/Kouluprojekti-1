{
 "cells": [
  {
   "cell_type": "markdown",
   "id": "e172fe51-bff6-48fd-a7cd-cc57219a3cfb",
   "metadata": {},
   "source": [
    "Tässä projektissa mukaillaan \"Medallion Architecture\" tyylistä tietoarkkitehtuuria, jossa data tallennetaan Bronze, Silver ja Gold-tasolle. Tämä Notebook hoitaa Bronze-tason ETL-putken. Tiivistetysti Bronze-tason ETL-putket hoitavat raakadatan tallentamisen käytettävään muotoon.\n",
    "\n",
    "Tämän notebookin tarkoituksena on alustaa DuckDB tietokanta CSV-tiedostojen pohjalta."
   ]
  },
  {
   "cell_type": "code",
   "execution_count": null,
   "id": "8a89458d-2661-439a-803e-5aa29b7e1109",
   "metadata": {},
   "outputs": [],
   "source": [
    "!pip install duckdb"
   ]
  },
  {
   "cell_type": "code",
   "execution_count": 1,
   "id": "08661be3-df6a-4e81-ab77-e60175789ad8",
   "metadata": {},
   "outputs": [
    {
     "name": "stdout",
     "output_type": "stream",
     "text": [
      "Bronze_SensorData_lite on jo olemassa\n"
     ]
    }
   ],
   "source": [
    "# Alustetaan duckdb tietokanta ja luodaan Bronze_SensorData taulu\n",
    "import duckdb\n",
    "from functions.database import create_db_table\n",
    "\n",
    "\n",
    "lite = True # Muuta false, jos haluat ajaa kaikki datat kantaan, laita True, jos haluat ajaa vain Node3200 datan kantaan (Kevennetty versio)\n",
    "\n",
    "csv_filepath = \"data/files/\" # Kansio, jossa kaikki tallennettavat CSV-tiedostot sijaitsee\n",
    "duckdb_path = \"data/duckdb.database\" # Duckdb tietokannalle annettava nimi, tallentuu lokaalisti\n",
    "if lite:\n",
    "    table_name = \"Bronze_SensorData_lite\" # Tietokantataulu Lite-version datalle. (Poista kommentti, jotta voit ajaa Lite-version)\n",
    "else:\n",
    "    table_name = \"Bronze_SensorData\" # Tietokanta tauluun tulee Bronze-prefix, jotta tiedetään, että siellä on raakadataa\n",
    "\n",
    "schema = f'''\n",
    "        CREATE TABLE {table_name} (\n",
    "        node_id INTEGER NOT NULL,\n",
    "        timestamp TEXT,\n",
    "        x INTEGER NOT NULL,\n",
    "        y INTEGER NOT NULL,\n",
    "        z INTEGER NOT NULL,\n",
    "        q INTEGER NOT NULL\n",
    "        )\n",
    "        '''\n",
    "\n",
    "create_db_table(database=duckdb_path, table_name=table_name,schema=schema) # Luodaan tietokantataulu"
   ]
  },
  {
   "cell_type": "code",
   "execution_count": 2,
   "id": "e833e0e5-95f8-4220-8c65-ab5e89aeb987",
   "metadata": {},
   "outputs": [
    {
     "name": "stdout",
     "output_type": "stream",
     "text": [
      "node_3200.csv is being processed, its shape is (6489294, 6)\n",
      "Lite tiedosto prosessoitu 7.49 sekunnissa\n"
     ]
    }
   ],
   "source": [
    "from functions.database import insert_csv_files_into_table\n",
    "\n",
    "# Ajetaan halutut CSV_tiedostot tietokantaan\n",
    "insert_csv_files_into_table(csv_folder=csv_filepath, table_name=table_name, db_file=duckdb_path, lite=lite)"
   ]
  },
  {
   "cell_type": "code",
   "execution_count": null,
   "id": "11391b14-b13a-47b0-99a3-b2125b3cf74b",
   "metadata": {},
   "outputs": [],
   "source": [
    "# Jos tarvitsee tyhjentää tietokantataulu / poistaa se. Se onnistuu alla olevalla koodilla\n",
    "\n",
    "\n",
    "def drop_table(table_name, db_file):\n",
    "    # Connect to DuckDB\n",
    "    conn = duckdb.connect(database=db_file, read_only=False)\n",
    "    # Execute the SQL statement to drop the table\n",
    "    conn.execute(f'DROP TABLE IF EXISTS {table_name}')\n",
    "    conn.close()\n",
    "# Example usage:\n",
    "table_name = 'SensorData'\n",
    "duckdb_path = \"./data/duckdb.database\"\n",
    "\n",
    "\n",
    "# Poista alla oleva kommentti, jos haluat tyhjentää tietyn taulun\n",
    "# drop_table(table_name, duckdb_path)"
   ]
  },
  {
   "cell_type": "code",
   "execution_count": null,
   "id": "8ba5ba11-b9dd-4b01-a6ab-1ef79198ccef",
   "metadata": {},
   "outputs": [],
   "source": [
    "import duckdb\n",
    "\n",
    "# Otetaan yhteys tietokantaan\n",
    "conn = duckdb.connect(database=\"./data/duckdb.database\")\n",
    "\n",
    "# Katsotaan mitä tietokantatuluja meillä on tietokannassa\n",
    "query = \"SELECT name FROM sqlite_master WHERE type='table'\"\n",
    "\n",
    "# Ajetaan kysely\n",
    "result = conn.execute(query)\n",
    "\n",
    "# Haetaan kaikkien taulujen nimet\n",
    "table_names = result.fetchall()\n",
    "\n",
    "# Printataan nimet\n",
    "for table_name in table_names:\n",
    "    print(table_name[0])\n",
    "\n",
    "# Suljetaan yhteys \n",
    "conn.close()"
   ]
  },
  {
   "cell_type": "code",
   "execution_count": null,
   "id": "69633788-270d-483e-b6b5-e6f5d0194f9f",
   "metadata": {},
   "outputs": [],
   "source": []
  }
 ],
 "metadata": {
  "kernelspec": {
   "display_name": "Python 3 (ipykernel)",
   "language": "python",
   "name": "python3"
  },
  "language_info": {
   "codemirror_mode": {
    "name": "ipython",
    "version": 3
   },
   "file_extension": ".py",
   "mimetype": "text/x-python",
   "name": "python",
   "nbconvert_exporter": "python",
   "pygments_lexer": "ipython3",
   "version": "3.12.0"
  }
 },
 "nbformat": 4,
 "nbformat_minor": 5
}
