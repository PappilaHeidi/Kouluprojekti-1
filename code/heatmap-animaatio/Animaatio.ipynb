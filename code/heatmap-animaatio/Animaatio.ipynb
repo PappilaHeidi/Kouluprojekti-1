{
 "cells": [
  {
   "cell_type": "code",
   "execution_count": 20,
   "metadata": {},
   "outputs": [],
   "source": [
    "import glob\n",
    "import os\n",
    "import imageio"
   ]
  },
  {
   "cell_type": "code",
   "execution_count": 21,
   "id": "ef2e74fb",
   "metadata": {},
   "outputs": [
    {
     "name": "stderr",
     "output_type": "stream",
     "text": [
      "/var/folders/h2/rx0448xd29n3594shxkq25f00000gn/T/ipykernel_70865/3754590081.py:13: DeprecationWarning: Starting with ImageIO v3 the behavior of this function will switch to that of iio.v3.imread. To keep the current behavior (and make this warning disappear) use `import imageio.v2 as imageio` or call `imageio.v2.imread` directly.\n",
      "  frame = imageio.imread(image)\n"
     ]
    },
    {
     "name": "stdout",
     "output_type": "stream",
     "text": [
      "GIF-animaatio luotu tiedostoon: heatmap-kuvat/heatmap_animaatio.gif\n"
     ]
    }
   ],
   "source": [
    "folder = \"heatmap-kuvat\"\n",
    "\n",
    "# Hae kaikki PNG-tiedostot kansiossa\n",
    "images = glob.glob(os.path.join(folder, \"*.png\"))\n",
    "\n",
    "# Järjestä tiedostonimet aikajärjestykseen\n",
    "images.sort(key=lambda x: int(x.split('_')[-3]))\n",
    "\n",
    "# Luo GIF-animaatio kuvista\n",
    "gif_filename = os.path.join(folder, 'heatmap_animaatio.gif')\n",
    "with imageio.get_writer(gif_filename, mode='I', duration=1000, loop=0) as writer:\n",
    "    for image in images:\n",
    "        frame = imageio.imread(image)\n",
    "        writer.append_data(frame)\n",
    "\n",
    "print(\"GIF-animaatio luotu tiedostoon:\", gif_filename)"
   ]
  }
 ],
 "metadata": {
  "kernelspec": {
   "display_name": ".venv",
   "language": "python",
   "name": "python3"
  },
  "language_info": {
   "codemirror_mode": {
    "name": "ipython",
    "version": 3
   },
   "file_extension": ".py",
   "mimetype": "text/x-python",
   "name": "python",
   "nbconvert_exporter": "python",
   "pygments_lexer": "ipython3",
   "version": "3.11.4"
  }
 },
 "nbformat": 4,
 "nbformat_minor": 5
}
