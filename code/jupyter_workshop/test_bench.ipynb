{
 "cells": [
  {
   "cell_type": "markdown",
   "id": "b046b70a-6855-43ab-8a93-98676d5af470",
   "metadata": {},
   "source": [
    "# Datan testaus --"
   ]
  },
  {
   "cell_type": "code",
   "execution_count": 1,
   "id": "74e205ff-3048-4fa9-b8c7-519116468274",
   "metadata": {},
   "outputs": [
    {
     "ename": "ModuleNotFoundError",
     "evalue": "No module named 'duckdb'",
     "output_type": "error",
     "traceback": [
      "\u001b[0;31m---------------------------------------------------------------------------\u001b[0m",
      "\u001b[0;31mModuleNotFoundError\u001b[0m                       Traceback (most recent call last)",
      "Cell \u001b[0;32mIn[1], line 1\u001b[0m\n\u001b[0;32m----> 1\u001b[0m \u001b[38;5;28;01mimport\u001b[39;00m \u001b[38;5;21;01mduckdb\u001b[39;00m \u001b[38;5;28;01mas\u001b[39;00m \u001b[38;5;21;01mdd\u001b[39;00m\n\u001b[1;32m      2\u001b[0m \u001b[38;5;28;01mimport\u001b[39;00m \u001b[38;5;21;01mpandas\u001b[39;00m \u001b[38;5;28;01mas\u001b[39;00m \u001b[38;5;21;01mpd\u001b[39;00m\n\u001b[1;32m      3\u001b[0m \u001b[38;5;28;01mimport\u001b[39;00m \u001b[38;5;21;01mread_data\u001b[39;00m \u001b[38;5;28;01mas\u001b[39;00m \u001b[38;5;21;01mrd\u001b[39;00m\n",
      "\u001b[0;31mModuleNotFoundError\u001b[0m: No module named 'duckdb'"
     ]
    }
   ],
   "source": [
    "import duckdb as dd\n",
    "import pandas as pd\n",
    "import read_data as rd\n"
   ]
  },
  {
   "cell_type": "code",
   "execution_count": 2,
   "id": "dcdf4f39-fb58-41d3-9f1e-97b96fac1a61",
   "metadata": {},
   "outputs": [
    {
     "name": "stdout",
     "output_type": "stream",
     "text": [
      "handling ./data/node3200.kevennetty.csv\n",
      "found 600000 lines\n"
     ]
    }
   ],
   "source": [
    "node3200 = rd.read_csv_raw(\"./data/node3200.kevennetty.csv\")"
   ]
  },
  {
   "cell_type": "code",
   "execution_count": 3,
   "id": "12a150e9-1019-41ae-9cf9-617087ecb6e7",
   "metadata": {},
   "outputs": [
    {
     "data": {
      "text/html": [
       "<div>\n",
       "<style scoped>\n",
       "    .dataframe tbody tr th:only-of-type {\n",
       "        vertical-align: middle;\n",
       "    }\n",
       "\n",
       "    .dataframe tbody tr th {\n",
       "        vertical-align: top;\n",
       "    }\n",
       "\n",
       "    .dataframe thead th {\n",
       "        text-align: right;\n",
       "    }\n",
       "</style>\n",
       "<table border=\"1\" class=\"dataframe\">\n",
       "  <thead>\n",
       "    <tr style=\"text-align: right;\">\n",
       "      <th></th>\n",
       "      <th>timestamp</th>\n",
       "      <th>node_id</th>\n",
       "      <th>x</th>\n",
       "      <th>y</th>\n",
       "      <th>z</th>\n",
       "      <th>q</th>\n",
       "    </tr>\n",
       "  </thead>\n",
       "  <tbody>\n",
       "    <tr>\n",
       "      <th>0</th>\n",
       "      <td>2019-04-06 04:24:06.860618</td>\n",
       "      <td>3200</td>\n",
       "      <td>39</td>\n",
       "      <td>2528</td>\n",
       "      <td>0</td>\n",
       "      <td>61</td>\n",
       "    </tr>\n",
       "    <tr>\n",
       "      <th>1</th>\n",
       "      <td>2019-04-06 04:24:06.860621</td>\n",
       "      <td>3200</td>\n",
       "      <td>39</td>\n",
       "      <td>2528</td>\n",
       "      <td>0</td>\n",
       "      <td>61</td>\n",
       "    </tr>\n",
       "    <tr>\n",
       "      <th>2</th>\n",
       "      <td>2019-04-06 04:24:07.860121</td>\n",
       "      <td>3200</td>\n",
       "      <td>0</td>\n",
       "      <td>2542</td>\n",
       "      <td>0</td>\n",
       "      <td>57</td>\n",
       "    </tr>\n",
       "    <tr>\n",
       "      <th>3</th>\n",
       "      <td>2019-04-06 04:24:08.860129</td>\n",
       "      <td>3200</td>\n",
       "      <td>-30</td>\n",
       "      <td>2546</td>\n",
       "      <td>0</td>\n",
       "      <td>56</td>\n",
       "    </tr>\n",
       "    <tr>\n",
       "      <th>4</th>\n",
       "      <td>2019-04-06 04:24:09.859765</td>\n",
       "      <td>3200</td>\n",
       "      <td>-59</td>\n",
       "      <td>2547</td>\n",
       "      <td>0</td>\n",
       "      <td>75</td>\n",
       "    </tr>\n",
       "  </tbody>\n",
       "</table>\n",
       "</div>"
      ],
      "text/plain": [
       "                    timestamp  node_id   x     y  z   q\n",
       "0  2019-04-06 04:24:06.860618     3200  39  2528  0  61\n",
       "1  2019-04-06 04:24:06.860621     3200  39  2528  0  61\n",
       "2  2019-04-06 04:24:07.860121     3200   0  2542  0  57\n",
       "3  2019-04-06 04:24:08.860129     3200 -30  2546  0  56\n",
       "4  2019-04-06 04:24:09.859765     3200 -59  2547  0  75"
      ]
     },
     "execution_count": 3,
     "metadata": {},
     "output_type": "execute_result"
    }
   ],
   "source": [
    "node3200.head()\n"
   ]
  },
  {
   "cell_type": "markdown",
   "id": "3a662d32-2d39-4cca-bddd-01f588e6d185",
   "metadata": {},
   "source": [
    "## Drop z and q columns"
   ]
  },
  {
   "cell_type": "code",
   "execution_count": 4,
   "id": "f5736cc8-6754-4f69-929b-d0a6ebad6878",
   "metadata": {},
   "outputs": [
    {
     "data": {
      "text/html": [
       "<div>\n",
       "<style scoped>\n",
       "    .dataframe tbody tr th:only-of-type {\n",
       "        vertical-align: middle;\n",
       "    }\n",
       "\n",
       "    .dataframe tbody tr th {\n",
       "        vertical-align: top;\n",
       "    }\n",
       "\n",
       "    .dataframe thead th {\n",
       "        text-align: right;\n",
       "    }\n",
       "</style>\n",
       "<table border=\"1\" class=\"dataframe\">\n",
       "  <thead>\n",
       "    <tr style=\"text-align: right;\">\n",
       "      <th></th>\n",
       "      <th>timestamp</th>\n",
       "      <th>node_id</th>\n",
       "      <th>x</th>\n",
       "      <th>y</th>\n",
       "    </tr>\n",
       "  </thead>\n",
       "  <tbody>\n",
       "    <tr>\n",
       "      <th>0</th>\n",
       "      <td>2019-04-06 04:24:06.860618</td>\n",
       "      <td>3200</td>\n",
       "      <td>39</td>\n",
       "      <td>2528</td>\n",
       "    </tr>\n",
       "    <tr>\n",
       "      <th>1</th>\n",
       "      <td>2019-04-06 04:24:06.860621</td>\n",
       "      <td>3200</td>\n",
       "      <td>39</td>\n",
       "      <td>2528</td>\n",
       "    </tr>\n",
       "    <tr>\n",
       "      <th>2</th>\n",
       "      <td>2019-04-06 04:24:07.860121</td>\n",
       "      <td>3200</td>\n",
       "      <td>0</td>\n",
       "      <td>2542</td>\n",
       "    </tr>\n",
       "    <tr>\n",
       "      <th>3</th>\n",
       "      <td>2019-04-06 04:24:08.860129</td>\n",
       "      <td>3200</td>\n",
       "      <td>-30</td>\n",
       "      <td>2546</td>\n",
       "    </tr>\n",
       "    <tr>\n",
       "      <th>4</th>\n",
       "      <td>2019-04-06 04:24:09.859765</td>\n",
       "      <td>3200</td>\n",
       "      <td>-59</td>\n",
       "      <td>2547</td>\n",
       "    </tr>\n",
       "  </tbody>\n",
       "</table>\n",
       "</div>"
      ],
      "text/plain": [
       "                    timestamp  node_id   x     y\n",
       "0  2019-04-06 04:24:06.860618     3200  39  2528\n",
       "1  2019-04-06 04:24:06.860621     3200  39  2528\n",
       "2  2019-04-06 04:24:07.860121     3200   0  2542\n",
       "3  2019-04-06 04:24:08.860129     3200 -30  2546\n",
       "4  2019-04-06 04:24:09.859765     3200 -59  2547"
      ]
     },
     "execution_count": 4,
     "metadata": {},
     "output_type": "execute_result"
    }
   ],
   "source": [
    "#node3200.shape\n",
    "#node3200.columns\n",
    "#column_names = node3200.columns\n",
    "#print(\"columns names:\", column_names)\n",
    "node3200.drop(columns=['z', 'q'], inplace=True)\n",
    "#node300 = node3200.drop_in_place(\"z\")\n",
    "node3200.head()"
   ]
  },
  {
   "cell_type": "markdown",
   "id": "cbfb725f-3e47-44c6-b763-7be79b92174e",
   "metadata": {},
   "source": [
    "## Convert to datetime format and remove ms"
   ]
  },
  {
   "cell_type": "code",
   "execution_count": 7,
   "id": "681eec3c-9350-47cd-9f91-5c04b323d1e6",
   "metadata": {},
   "outputs": [],
   "source": [
    "node3200['timestamp'] = pd.to_datetime(node3200['timestamp'], utc=True)\n",
    "node3200['timestamp'] = node3200['timestamp'].dt.floor('s')\n"
   ]
  },
  {
   "cell_type": "code",
   "execution_count": 8,
   "id": "1ba1ea2b-d740-405d-8184-e57a64c11488",
   "metadata": {},
   "outputs": [
    {
     "data": {
      "text/html": [
       "<div>\n",
       "<style scoped>\n",
       "    .dataframe tbody tr th:only-of-type {\n",
       "        vertical-align: middle;\n",
       "    }\n",
       "\n",
       "    .dataframe tbody tr th {\n",
       "        vertical-align: top;\n",
       "    }\n",
       "\n",
       "    .dataframe thead th {\n",
       "        text-align: right;\n",
       "    }\n",
       "</style>\n",
       "<table border=\"1\" class=\"dataframe\">\n",
       "  <thead>\n",
       "    <tr style=\"text-align: right;\">\n",
       "      <th></th>\n",
       "      <th>timestamp</th>\n",
       "      <th>node_id</th>\n",
       "      <th>x</th>\n",
       "      <th>y</th>\n",
       "    </tr>\n",
       "  </thead>\n",
       "  <tbody>\n",
       "    <tr>\n",
       "      <th>0</th>\n",
       "      <td>2019-04-06 04:24:06+00:00</td>\n",
       "      <td>3200</td>\n",
       "      <td>39</td>\n",
       "      <td>2528</td>\n",
       "    </tr>\n",
       "    <tr>\n",
       "      <th>1</th>\n",
       "      <td>2019-04-06 04:24:06+00:00</td>\n",
       "      <td>3200</td>\n",
       "      <td>39</td>\n",
       "      <td>2528</td>\n",
       "    </tr>\n",
       "    <tr>\n",
       "      <th>2</th>\n",
       "      <td>2019-04-06 04:24:07+00:00</td>\n",
       "      <td>3200</td>\n",
       "      <td>0</td>\n",
       "      <td>2542</td>\n",
       "    </tr>\n",
       "    <tr>\n",
       "      <th>3</th>\n",
       "      <td>2019-04-06 04:24:08+00:00</td>\n",
       "      <td>3200</td>\n",
       "      <td>-30</td>\n",
       "      <td>2546</td>\n",
       "    </tr>\n",
       "    <tr>\n",
       "      <th>4</th>\n",
       "      <td>2019-04-06 04:24:09+00:00</td>\n",
       "      <td>3200</td>\n",
       "      <td>-59</td>\n",
       "      <td>2547</td>\n",
       "    </tr>\n",
       "  </tbody>\n",
       "</table>\n",
       "</div>"
      ],
      "text/plain": [
       "                  timestamp  node_id   x     y\n",
       "0 2019-04-06 04:24:06+00:00     3200  39  2528\n",
       "1 2019-04-06 04:24:06+00:00     3200  39  2528\n",
       "2 2019-04-06 04:24:07+00:00     3200   0  2542\n",
       "3 2019-04-06 04:24:08+00:00     3200 -30  2546\n",
       "4 2019-04-06 04:24:09+00:00     3200 -59  2547"
      ]
     },
     "execution_count": 8,
     "metadata": {},
     "output_type": "execute_result"
    }
   ],
   "source": [
    "node3200.head()"
   ]
  },
  {
   "cell_type": "markdown",
   "id": "150980fe-d28d-468d-b8c7-8a4303843a86",
   "metadata": {},
   "source": [
    "## Timezone convert to Helsinki UTC"
   ]
  },
  {
   "cell_type": "code",
   "execution_count": 10,
   "id": "b7af27a2-0ecc-4ea4-9487-e5833d58e3a0",
   "metadata": {},
   "outputs": [
    {
     "data": {
      "text/html": [
       "<div>\n",
       "<style scoped>\n",
       "    .dataframe tbody tr th:only-of-type {\n",
       "        vertical-align: middle;\n",
       "    }\n",
       "\n",
       "    .dataframe tbody tr th {\n",
       "        vertical-align: top;\n",
       "    }\n",
       "\n",
       "    .dataframe thead th {\n",
       "        text-align: right;\n",
       "    }\n",
       "</style>\n",
       "<table border=\"1\" class=\"dataframe\">\n",
       "  <thead>\n",
       "    <tr style=\"text-align: right;\">\n",
       "      <th></th>\n",
       "      <th>timestamp</th>\n",
       "      <th>node_id</th>\n",
       "      <th>x</th>\n",
       "      <th>y</th>\n",
       "    </tr>\n",
       "  </thead>\n",
       "  <tbody>\n",
       "    <tr>\n",
       "      <th>0</th>\n",
       "      <td>2019-04-06 07:24:06+03:00</td>\n",
       "      <td>3200</td>\n",
       "      <td>39</td>\n",
       "      <td>2528</td>\n",
       "    </tr>\n",
       "    <tr>\n",
       "      <th>1</th>\n",
       "      <td>2019-04-06 07:24:06+03:00</td>\n",
       "      <td>3200</td>\n",
       "      <td>39</td>\n",
       "      <td>2528</td>\n",
       "    </tr>\n",
       "    <tr>\n",
       "      <th>2</th>\n",
       "      <td>2019-04-06 07:24:07+03:00</td>\n",
       "      <td>3200</td>\n",
       "      <td>0</td>\n",
       "      <td>2542</td>\n",
       "    </tr>\n",
       "    <tr>\n",
       "      <th>3</th>\n",
       "      <td>2019-04-06 07:24:08+03:00</td>\n",
       "      <td>3200</td>\n",
       "      <td>-30</td>\n",
       "      <td>2546</td>\n",
       "    </tr>\n",
       "    <tr>\n",
       "      <th>4</th>\n",
       "      <td>2019-04-06 07:24:09+03:00</td>\n",
       "      <td>3200</td>\n",
       "      <td>-59</td>\n",
       "      <td>2547</td>\n",
       "    </tr>\n",
       "    <tr>\n",
       "      <th>...</th>\n",
       "      <td>...</td>\n",
       "      <td>...</td>\n",
       "      <td>...</td>\n",
       "      <td>...</td>\n",
       "    </tr>\n",
       "    <tr>\n",
       "      <th>99995</th>\n",
       "      <td>2019-04-13 14:49:11+03:00</td>\n",
       "      <td>3200</td>\n",
       "      <td>1809</td>\n",
       "      <td>3322</td>\n",
       "    </tr>\n",
       "    <tr>\n",
       "      <th>99996</th>\n",
       "      <td>2019-04-13 14:49:11+03:00</td>\n",
       "      <td>3200</td>\n",
       "      <td>1809</td>\n",
       "      <td>3322</td>\n",
       "    </tr>\n",
       "    <tr>\n",
       "      <th>99997</th>\n",
       "      <td>2019-04-13 14:49:13+03:00</td>\n",
       "      <td>3200</td>\n",
       "      <td>1814</td>\n",
       "      <td>3324</td>\n",
       "    </tr>\n",
       "    <tr>\n",
       "      <th>99998</th>\n",
       "      <td>2019-04-13 14:49:13+03:00</td>\n",
       "      <td>3200</td>\n",
       "      <td>1814</td>\n",
       "      <td>3324</td>\n",
       "    </tr>\n",
       "    <tr>\n",
       "      <th>99999</th>\n",
       "      <td>2019-04-13 14:49:14+03:00</td>\n",
       "      <td>3200</td>\n",
       "      <td>1816</td>\n",
       "      <td>3321</td>\n",
       "    </tr>\n",
       "  </tbody>\n",
       "</table>\n",
       "<p>100000 rows × 4 columns</p>\n",
       "</div>"
      ],
      "text/plain": [
       "                      timestamp  node_id     x     y\n",
       "0     2019-04-06 07:24:06+03:00     3200    39  2528\n",
       "1     2019-04-06 07:24:06+03:00     3200    39  2528\n",
       "2     2019-04-06 07:24:07+03:00     3200     0  2542\n",
       "3     2019-04-06 07:24:08+03:00     3200   -30  2546\n",
       "4     2019-04-06 07:24:09+03:00     3200   -59  2547\n",
       "...                         ...      ...   ...   ...\n",
       "99995 2019-04-13 14:49:11+03:00     3200  1809  3322\n",
       "99996 2019-04-13 14:49:11+03:00     3200  1809  3322\n",
       "99997 2019-04-13 14:49:13+03:00     3200  1814  3324\n",
       "99998 2019-04-13 14:49:13+03:00     3200  1814  3324\n",
       "99999 2019-04-13 14:49:14+03:00     3200  1816  3321\n",
       "\n",
       "[100000 rows x 4 columns]"
      ]
     },
     "execution_count": 10,
     "metadata": {},
     "output_type": "execute_result"
    }
   ],
   "source": [
    "import pytz\n",
    "desired_timezone = pytz.timezone('Europe/Helsinki')\n",
    "node3200['timestamp'] = node3200['timestamp'].dt.tz_convert(desired_timezone)\n",
    "node3200\n"
   ]
  },
  {
   "cell_type": "code",
   "execution_count": 30,
   "id": "b149349f-0a63-4ee9-9c9f-35262ecc728e",
   "metadata": {},
   "outputs": [],
   "source": [
    "import duckdb\n"
   ]
  },
  {
   "cell_type": "code",
   "execution_count": null,
   "id": "4e421584-e348-4552-aa75-e28ef44c45c4",
   "metadata": {},
   "outputs": [],
   "source": []
  }
 ],
 "metadata": {
  "kernelspec": {
   "display_name": "Python 3 (ipykernel)",
   "language": "python",
   "name": "python3"
  },
  "language_info": {
   "codemirror_mode": {
    "name": "ipython",
    "version": 3
   },
   "file_extension": ".py",
   "mimetype": "text/x-python",
   "name": "python",
   "nbconvert_exporter": "python",
   "pygments_lexer": "ipython3",
   "version": "3.11.6"
  }
 },
 "nbformat": 4,
 "nbformat_minor": 5
}
