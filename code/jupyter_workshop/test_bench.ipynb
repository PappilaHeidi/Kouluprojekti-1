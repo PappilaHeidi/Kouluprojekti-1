{
 "cells": [
  {
   "cell_type": "markdown",
   "id": "b046b70a-6855-43ab-8a93-98676d5af470",
   "metadata": {},
   "source": [
    "# Datan testaus --"
   ]
  },
  {
   "cell_type": "code",
   "execution_count": 1,
   "id": "74e205ff-3048-4fa9-b8c7-519116468274",
   "metadata": {},
   "outputs": [],
   "source": [
    "import duckdb as dd\n",
    "import pandas as pd\n",
    "import read_data as rd\n"
   ]
  },
  {
   "cell_type": "code",
   "execution_count": 2,
   "id": "dcdf4f39-fb58-41d3-9f1e-97b96fac1a61",
   "metadata": {},
   "outputs": [
    {
     "name": "stdout",
     "output_type": "stream",
     "text": [
      "handling ./data/node3200.kevennetty.csv\n",
      "found 500000 lines\n"
     ]
    }
   ],
   "source": [
    "node3200 = rd.read_csv_raw(\"./data/node3200.kevennetty.csv\")"
   ]
  },
  {
   "cell_type": "code",
   "execution_count": 6,
   "id": "12a150e9-1019-41ae-9cf9-617087ecb6e7",
   "metadata": {},
   "outputs": [
    {
     "data": {
      "text/html": [
       "<div>\n",
       "<style scoped>\n",
       "    .dataframe tbody tr th:only-of-type {\n",
       "        vertical-align: middle;\n",
       "    }\n",
       "\n",
       "    .dataframe tbody tr th {\n",
       "        vertical-align: top;\n",
       "    }\n",
       "\n",
       "    .dataframe thead th {\n",
       "        text-align: right;\n",
       "    }\n",
       "</style>\n",
       "<table border=\"1\" class=\"dataframe\">\n",
       "  <thead>\n",
       "    <tr style=\"text-align: right;\">\n",
       "      <th></th>\n",
       "      <th>node_id</th>\n",
       "      <th>x</th>\n",
       "      <th>y</th>\n",
       "      <th>z</th>\n",
       "      <th>q</th>\n",
       "    </tr>\n",
       "    <tr>\n",
       "      <th>timestamp</th>\n",
       "      <th></th>\n",
       "      <th></th>\n",
       "      <th></th>\n",
       "      <th></th>\n",
       "      <th></th>\n",
       "    </tr>\n",
       "  </thead>\n",
       "  <tbody>\n",
       "    <tr>\n",
       "      <th>2019-04-06 04:24:06.860618</th>\n",
       "      <td>3200</td>\n",
       "      <td>39</td>\n",
       "      <td>2528</td>\n",
       "      <td>0</td>\n",
       "      <td>61</td>\n",
       "    </tr>\n",
       "    <tr>\n",
       "      <th>2019-04-06 04:24:06.860621</th>\n",
       "      <td>3200</td>\n",
       "      <td>39</td>\n",
       "      <td>2528</td>\n",
       "      <td>0</td>\n",
       "      <td>61</td>\n",
       "    </tr>\n",
       "    <tr>\n",
       "      <th>2019-04-06 04:24:07.860121</th>\n",
       "      <td>3200</td>\n",
       "      <td>0</td>\n",
       "      <td>2542</td>\n",
       "      <td>0</td>\n",
       "      <td>57</td>\n",
       "    </tr>\n",
       "    <tr>\n",
       "      <th>2019-04-06 04:24:08.860129</th>\n",
       "      <td>3200</td>\n",
       "      <td>-30</td>\n",
       "      <td>2546</td>\n",
       "      <td>0</td>\n",
       "      <td>56</td>\n",
       "    </tr>\n",
       "    <tr>\n",
       "      <th>2019-04-06 04:24:09.859765</th>\n",
       "      <td>3200</td>\n",
       "      <td>-59</td>\n",
       "      <td>2547</td>\n",
       "      <td>0</td>\n",
       "      <td>75</td>\n",
       "    </tr>\n",
       "  </tbody>\n",
       "</table>\n",
       "</div>"
      ],
      "text/plain": [
       "                            node_id   x     y  z   q\n",
       "timestamp                                           \n",
       "2019-04-06 04:24:06.860618     3200  39  2528  0  61\n",
       "2019-04-06 04:24:06.860621     3200  39  2528  0  61\n",
       "2019-04-06 04:24:07.860121     3200   0  2542  0  57\n",
       "2019-04-06 04:24:08.860129     3200 -30  2546  0  56\n",
       "2019-04-06 04:24:09.859765     3200 -59  2547  0  75"
      ]
     },
     "execution_count": 6,
     "metadata": {},
     "output_type": "execute_result"
    }
   ],
   "source": [
    "node3200.head()\n"
   ]
  },
  {
   "cell_type": "markdown",
   "id": "3a662d32-2d39-4cca-bddd-01f588e6d185",
   "metadata": {},
   "source": [
    "## Drop z and q columns"
   ]
  },
  {
   "cell_type": "code",
   "execution_count": 8,
   "id": "f5736cc8-6754-4f69-929b-d0a6ebad6878",
   "metadata": {},
   "outputs": [
    {
     "name": "stdout",
     "output_type": "stream",
     "text": [
      "columns names: Index(['node_id', 'x', 'y', 'z', 'q'], dtype='object')\n"
     ]
    },
    {
     "data": {
      "text/html": [
       "<div>\n",
       "<style scoped>\n",
       "    .dataframe tbody tr th:only-of-type {\n",
       "        vertical-align: middle;\n",
       "    }\n",
       "\n",
       "    .dataframe tbody tr th {\n",
       "        vertical-align: top;\n",
       "    }\n",
       "\n",
       "    .dataframe thead th {\n",
       "        text-align: right;\n",
       "    }\n",
       "</style>\n",
       "<table border=\"1\" class=\"dataframe\">\n",
       "  <thead>\n",
       "    <tr style=\"text-align: right;\">\n",
       "      <th></th>\n",
       "      <th>node_id</th>\n",
       "      <th>x</th>\n",
       "      <th>y</th>\n",
       "    </tr>\n",
       "    <tr>\n",
       "      <th>timestamp</th>\n",
       "      <th></th>\n",
       "      <th></th>\n",
       "      <th></th>\n",
       "    </tr>\n",
       "  </thead>\n",
       "  <tbody>\n",
       "    <tr>\n",
       "      <th>2019-04-06 04:24:06.860618</th>\n",
       "      <td>3200</td>\n",
       "      <td>39</td>\n",
       "      <td>2528</td>\n",
       "    </tr>\n",
       "    <tr>\n",
       "      <th>2019-04-06 04:24:06.860621</th>\n",
       "      <td>3200</td>\n",
       "      <td>39</td>\n",
       "      <td>2528</td>\n",
       "    </tr>\n",
       "    <tr>\n",
       "      <th>2019-04-06 04:24:07.860121</th>\n",
       "      <td>3200</td>\n",
       "      <td>0</td>\n",
       "      <td>2542</td>\n",
       "    </tr>\n",
       "    <tr>\n",
       "      <th>2019-04-06 04:24:08.860129</th>\n",
       "      <td>3200</td>\n",
       "      <td>-30</td>\n",
       "      <td>2546</td>\n",
       "    </tr>\n",
       "    <tr>\n",
       "      <th>2019-04-06 04:24:09.859765</th>\n",
       "      <td>3200</td>\n",
       "      <td>-59</td>\n",
       "      <td>2547</td>\n",
       "    </tr>\n",
       "  </tbody>\n",
       "</table>\n",
       "</div>"
      ],
      "text/plain": [
       "                            node_id   x     y\n",
       "timestamp                                    \n",
       "2019-04-06 04:24:06.860618     3200  39  2528\n",
       "2019-04-06 04:24:06.860621     3200  39  2528\n",
       "2019-04-06 04:24:07.860121     3200   0  2542\n",
       "2019-04-06 04:24:08.860129     3200 -30  2546\n",
       "2019-04-06 04:24:09.859765     3200 -59  2547"
      ]
     },
     "execution_count": 8,
     "metadata": {},
     "output_type": "execute_result"
    }
   ],
   "source": [
    "node3200.shape\n",
    "node3200.columns\n",
    "column_names = node3200.columns\n",
    "print(\"columns names:\", column_names)\n",
    "node3200.drop(columns=['z', 'q'], inplace=True)\n",
    "#node300 = node3200.drop_in_place(\"z\")\n",
    "node3200.head()"
   ]
  },
  {
   "cell_type": "code",
   "execution_count": null,
   "id": "681eec3c-9350-47cd-9f91-5c04b323d1e6",
   "metadata": {},
   "outputs": [],
   "source": []
  }
 ],
 "metadata": {
  "kernelspec": {
   "display_name": "Python 3 (ipykernel)",
   "language": "python",
   "name": "python3"
  },
  "language_info": {
   "codemirror_mode": {
    "name": "ipython",
    "version": 3
   },
   "file_extension": ".py",
   "mimetype": "text/x-python",
   "name": "python",
   "nbconvert_exporter": "python",
   "pygments_lexer": "ipython3",
   "version": "3.11.6"
  }
 },
 "nbformat": 4,
 "nbformat_minor": 5
}
