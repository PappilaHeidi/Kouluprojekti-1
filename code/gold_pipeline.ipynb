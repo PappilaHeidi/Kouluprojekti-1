{
 "cells": [
  {
   "cell_type": "code",
   "execution_count": 1,
   "metadata": {},
   "outputs": [
    {
     "name": "stdout",
     "output_type": "stream",
     "text": [
      "Requirement already satisfied: ydata-profiling in /Users/heidipappila/code/projektiopinnot-1-datan-hallinta-ttm23sai/.venv/lib/python3.11/site-packages (4.7.0)\n",
      "Requirement already satisfied: scipy<1.12,>=1.4.1 in /Users/heidipappila/code/projektiopinnot-1-datan-hallinta-ttm23sai/.venv/lib/python3.11/site-packages (from ydata-profiling) (1.11.4)\n",
      "Requirement already satisfied: pandas!=1.4.0,<3,>1.1 in /Users/heidipappila/code/projektiopinnot-1-datan-hallinta-ttm23sai/.venv/lib/python3.11/site-packages (from ydata-profiling) (2.2.1)\n",
      "Requirement already satisfied: matplotlib<3.9,>=3.2 in /Users/heidipappila/code/projektiopinnot-1-datan-hallinta-ttm23sai/.venv/lib/python3.11/site-packages (from ydata-profiling) (3.8.4)\n",
      "Requirement already satisfied: pydantic>=2 in /Users/heidipappila/code/projektiopinnot-1-datan-hallinta-ttm23sai/.venv/lib/python3.11/site-packages (from ydata-profiling) (2.6.4)\n",
      "Requirement already satisfied: PyYAML<6.1,>=5.0.0 in /Users/heidipappila/code/projektiopinnot-1-datan-hallinta-ttm23sai/.venv/lib/python3.11/site-packages (from ydata-profiling) (6.0.1)\n",
      "Requirement already satisfied: jinja2<3.2,>=2.11.1 in /Users/heidipappila/code/projektiopinnot-1-datan-hallinta-ttm23sai/.venv/lib/python3.11/site-packages (from ydata-profiling) (3.1.3)\n",
      "Requirement already satisfied: visions<0.7.7,>=0.7.5 in /Users/heidipappila/code/projektiopinnot-1-datan-hallinta-ttm23sai/.venv/lib/python3.11/site-packages (from visions[type_image_path]<0.7.7,>=0.7.5->ydata-profiling) (0.7.6)\n",
      "Requirement already satisfied: numpy<2,>=1.16.0 in /Users/heidipappila/code/projektiopinnot-1-datan-hallinta-ttm23sai/.venv/lib/python3.11/site-packages (from ydata-profiling) (1.26.4)\n",
      "Requirement already satisfied: htmlmin==0.1.12 in /Users/heidipappila/code/projektiopinnot-1-datan-hallinta-ttm23sai/.venv/lib/python3.11/site-packages (from ydata-profiling) (0.1.12)\n",
      "Requirement already satisfied: phik<0.13,>=0.11.1 in /Users/heidipappila/code/projektiopinnot-1-datan-hallinta-ttm23sai/.venv/lib/python3.11/site-packages (from ydata-profiling) (0.12.4)\n",
      "Requirement already satisfied: requests<3,>=2.24.0 in /Users/heidipappila/code/projektiopinnot-1-datan-hallinta-ttm23sai/.venv/lib/python3.11/site-packages (from ydata-profiling) (2.31.0)\n",
      "Requirement already satisfied: tqdm<5,>=4.48.2 in /Users/heidipappila/code/projektiopinnot-1-datan-hallinta-ttm23sai/.venv/lib/python3.11/site-packages (from ydata-profiling) (4.66.2)\n",
      "Requirement already satisfied: seaborn<0.13,>=0.10.1 in /Users/heidipappila/code/projektiopinnot-1-datan-hallinta-ttm23sai/.venv/lib/python3.11/site-packages (from ydata-profiling) (0.12.2)\n",
      "Requirement already satisfied: multimethod<2,>=1.4 in /Users/heidipappila/code/projektiopinnot-1-datan-hallinta-ttm23sai/.venv/lib/python3.11/site-packages (from ydata-profiling) (1.11.2)\n",
      "Requirement already satisfied: statsmodels<1,>=0.13.2 in /Users/heidipappila/code/projektiopinnot-1-datan-hallinta-ttm23sai/.venv/lib/python3.11/site-packages (from ydata-profiling) (0.14.1)\n",
      "Requirement already satisfied: typeguard<5,>=4.1.2 in /Users/heidipappila/code/projektiopinnot-1-datan-hallinta-ttm23sai/.venv/lib/python3.11/site-packages (from ydata-profiling) (4.2.1)\n",
      "Requirement already satisfied: imagehash==4.3.1 in /Users/heidipappila/code/projektiopinnot-1-datan-hallinta-ttm23sai/.venv/lib/python3.11/site-packages (from ydata-profiling) (4.3.1)\n",
      "Requirement already satisfied: wordcloud>=1.9.1 in /Users/heidipappila/code/projektiopinnot-1-datan-hallinta-ttm23sai/.venv/lib/python3.11/site-packages (from ydata-profiling) (1.9.3)\n",
      "Requirement already satisfied: dacite>=1.8 in /Users/heidipappila/code/projektiopinnot-1-datan-hallinta-ttm23sai/.venv/lib/python3.11/site-packages (from ydata-profiling) (1.8.1)\n",
      "Requirement already satisfied: numba<1,>=0.56.0 in /Users/heidipappila/code/projektiopinnot-1-datan-hallinta-ttm23sai/.venv/lib/python3.11/site-packages (from ydata-profiling) (0.59.1)\n",
      "Requirement already satisfied: PyWavelets in /Users/heidipappila/code/projektiopinnot-1-datan-hallinta-ttm23sai/.venv/lib/python3.11/site-packages (from imagehash==4.3.1->ydata-profiling) (1.6.0)\n",
      "Requirement already satisfied: pillow in /Users/heidipappila/code/projektiopinnot-1-datan-hallinta-ttm23sai/.venv/lib/python3.11/site-packages (from imagehash==4.3.1->ydata-profiling) (10.3.0)\n",
      "Requirement already satisfied: MarkupSafe>=2.0 in /Users/heidipappila/code/projektiopinnot-1-datan-hallinta-ttm23sai/.venv/lib/python3.11/site-packages (from jinja2<3.2,>=2.11.1->ydata-profiling) (2.1.5)\n",
      "Requirement already satisfied: contourpy>=1.0.1 in /Users/heidipappila/code/projektiopinnot-1-datan-hallinta-ttm23sai/.venv/lib/python3.11/site-packages (from matplotlib<3.9,>=3.2->ydata-profiling) (1.2.1)\n",
      "Requirement already satisfied: cycler>=0.10 in /Users/heidipappila/code/projektiopinnot-1-datan-hallinta-ttm23sai/.venv/lib/python3.11/site-packages (from matplotlib<3.9,>=3.2->ydata-profiling) (0.12.1)\n",
      "Requirement already satisfied: fonttools>=4.22.0 in /Users/heidipappila/code/projektiopinnot-1-datan-hallinta-ttm23sai/.venv/lib/python3.11/site-packages (from matplotlib<3.9,>=3.2->ydata-profiling) (4.50.0)\n",
      "Requirement already satisfied: kiwisolver>=1.3.1 in /Users/heidipappila/code/projektiopinnot-1-datan-hallinta-ttm23sai/.venv/lib/python3.11/site-packages (from matplotlib<3.9,>=3.2->ydata-profiling) (1.4.5)\n",
      "Requirement already satisfied: packaging>=20.0 in /Users/heidipappila/code/projektiopinnot-1-datan-hallinta-ttm23sai/.venv/lib/python3.11/site-packages (from matplotlib<3.9,>=3.2->ydata-profiling) (23.2)\n",
      "Requirement already satisfied: pyparsing>=2.3.1 in /Users/heidipappila/code/projektiopinnot-1-datan-hallinta-ttm23sai/.venv/lib/python3.11/site-packages (from matplotlib<3.9,>=3.2->ydata-profiling) (3.1.2)\n",
      "Requirement already satisfied: python-dateutil>=2.7 in /Users/heidipappila/code/projektiopinnot-1-datan-hallinta-ttm23sai/.venv/lib/python3.11/site-packages (from matplotlib<3.9,>=3.2->ydata-profiling) (2.9.0.post0)\n",
      "Requirement already satisfied: llvmlite<0.43,>=0.42.0dev0 in /Users/heidipappila/code/projektiopinnot-1-datan-hallinta-ttm23sai/.venv/lib/python3.11/site-packages (from numba<1,>=0.56.0->ydata-profiling) (0.42.0)\n",
      "Requirement already satisfied: pytz>=2020.1 in /Users/heidipappila/code/projektiopinnot-1-datan-hallinta-ttm23sai/.venv/lib/python3.11/site-packages (from pandas!=1.4.0,<3,>1.1->ydata-profiling) (2024.1)\n",
      "Requirement already satisfied: tzdata>=2022.7 in /Users/heidipappila/code/projektiopinnot-1-datan-hallinta-ttm23sai/.venv/lib/python3.11/site-packages (from pandas!=1.4.0,<3,>1.1->ydata-profiling) (2024.1)\n",
      "Requirement already satisfied: joblib>=0.14.1 in /Users/heidipappila/code/projektiopinnot-1-datan-hallinta-ttm23sai/.venv/lib/python3.11/site-packages (from phik<0.13,>=0.11.1->ydata-profiling) (1.3.2)\n",
      "Requirement already satisfied: annotated-types>=0.4.0 in /Users/heidipappila/code/projektiopinnot-1-datan-hallinta-ttm23sai/.venv/lib/python3.11/site-packages (from pydantic>=2->ydata-profiling) (0.6.0)\n",
      "Requirement already satisfied: pydantic-core==2.16.3 in /Users/heidipappila/code/projektiopinnot-1-datan-hallinta-ttm23sai/.venv/lib/python3.11/site-packages (from pydantic>=2->ydata-profiling) (2.16.3)\n",
      "Requirement already satisfied: typing-extensions>=4.6.1 in /Users/heidipappila/code/projektiopinnot-1-datan-hallinta-ttm23sai/.venv/lib/python3.11/site-packages (from pydantic>=2->ydata-profiling) (4.11.0)\n",
      "Requirement already satisfied: charset-normalizer<4,>=2 in /Users/heidipappila/code/projektiopinnot-1-datan-hallinta-ttm23sai/.venv/lib/python3.11/site-packages (from requests<3,>=2.24.0->ydata-profiling) (3.3.2)\n",
      "Requirement already satisfied: idna<4,>=2.5 in /Users/heidipappila/code/projektiopinnot-1-datan-hallinta-ttm23sai/.venv/lib/python3.11/site-packages (from requests<3,>=2.24.0->ydata-profiling) (3.6)\n",
      "Requirement already satisfied: urllib3<3,>=1.21.1 in /Users/heidipappila/code/projektiopinnot-1-datan-hallinta-ttm23sai/.venv/lib/python3.11/site-packages (from requests<3,>=2.24.0->ydata-profiling) (2.2.1)\n",
      "Requirement already satisfied: certifi>=2017.4.17 in /Users/heidipappila/code/projektiopinnot-1-datan-hallinta-ttm23sai/.venv/lib/python3.11/site-packages (from requests<3,>=2.24.0->ydata-profiling) (2024.2.2)\n",
      "Requirement already satisfied: patsy>=0.5.4 in /Users/heidipappila/code/projektiopinnot-1-datan-hallinta-ttm23sai/.venv/lib/python3.11/site-packages (from statsmodels<1,>=0.13.2->ydata-profiling) (0.5.6)\n",
      "Requirement already satisfied: attrs>=19.3.0 in /Users/heidipappila/code/projektiopinnot-1-datan-hallinta-ttm23sai/.venv/lib/python3.11/site-packages (from visions<0.7.7,>=0.7.5->visions[type_image_path]<0.7.7,>=0.7.5->ydata-profiling) (23.2.0)\n",
      "Requirement already satisfied: networkx>=2.4 in /Users/heidipappila/code/projektiopinnot-1-datan-hallinta-ttm23sai/.venv/lib/python3.11/site-packages (from visions<0.7.7,>=0.7.5->visions[type_image_path]<0.7.7,>=0.7.5->ydata-profiling) (3.2.1)\n",
      "Requirement already satisfied: six in /Users/heidipappila/code/projektiopinnot-1-datan-hallinta-ttm23sai/.venv/lib/python3.11/site-packages (from patsy>=0.5.4->statsmodels<1,>=0.13.2->ydata-profiling) (1.16.0)\n",
      "Requirement already satisfied: setuptools in /Users/heidipappila/code/projektiopinnot-1-datan-hallinta-ttm23sai/.venv/lib/python3.11/site-packages (65.5.0)\n"
     ]
    }
   ],
   "source": [
    "# Tehdään perus EDA (Explorative Data Analysis)\n",
    "!pip install ydata-profiling\n",
    "!pip install setuptools"
   ]
  },
  {
   "cell_type": "code",
   "execution_count": 2,
   "metadata": {},
   "outputs": [
    {
     "data": {
      "text/plain": [
       "\"\\n# Tarkastellaan ja poistetaan Outlierit\\n# Täydellä datalla, kestää noin 6.5min\\nimport matplotlib.pyplot as plt\\n%matplotlib inline\\nplt.figure(figsize=(10, 6))\\ndf.boxplot(column=['x', 'y'])\\nplt.title('Boxplot of X and Y Variables')\\nplt.ylabel('Values')\\nplt.xlabel('Variables')\\nplt.show()\\n\\nprint(df.describe())\\n\\n\""
      ]
     },
     "execution_count": 2,
     "metadata": {},
     "output_type": "execute_result"
    }
   ],
   "source": [
    "\"\"\"\n",
    "# Tarkastellaan ja poistetaan Outlierit\n",
    "# Täydellä datalla, kestää noin 6.5min\n",
    "import matplotlib.pyplot as plt\n",
    "%matplotlib inline\n",
    "plt.figure(figsize=(10, 6))\n",
    "df.boxplot(column=['x', 'y'])\n",
    "plt.title('Boxplot of X and Y Variables')\n",
    "plt.ylabel('Values')\n",
    "plt.xlabel('Variables')\n",
    "plt.show()\n",
    "\n",
    "print(df.describe())\n",
    "\n",
    "\"\"\""
   ]
  },
  {
   "cell_type": "code",
   "execution_count": 3,
   "metadata": {},
   "outputs": [
    {
     "name": "stdout",
     "output_type": "stream",
     "text": [
      "┌─────────┬──────────────────────┬───────┬───────┬───┬──────────┬───────────┬──────────────┬───────────┬───────────┐\n",
      "│ node_id │      timestamp       │   x   │   y   │ … │ distance │ timedelta │    speed     │ x_scaled  │ y_scaled  │\n",
      "│  int32  │      timestamp       │ int32 │ int32 │   │  float   │   int32   │    float     │   float   │   float   │\n",
      "├─────────┼──────────────────────┼───────┼───────┼───┼──────────┼───────────┼──────────────┼───────────┼───────────┤\n",
      "│    3200 │ 2019-03-07 13:46:2…  │     0 │     0 │ … │      0.0 │         1 │          0.0 │     125.0 │      26.0 │\n",
      "│    3200 │ 2019-03-13 17:29:4…  │   -50 │    50 │ … │   70.711 │    531801 │ 4.786745e-06 │ 119.59447 │ 31.431034 │\n",
      "│    3200 │ 2019-03-13 17:29:4…  │   -50 │    50 │ … │      0.0 │         1 │          0.0 │ 119.59447 │ 31.431034 │\n",
      "│    3200 │ 2019-03-13 17:29:4…  │   -50 │    50 │ … │      0.0 │         1 │          0.0 │ 119.59447 │ 31.431034 │\n",
      "│    3200 │ 2019-03-13 17:29:4…  │   -50 │    50 │ … │      0.0 │         1 │          0.0 │ 119.59447 │ 31.431034 │\n",
      "│    3200 │ 2019-03-13 17:29:4…  │   -50 │    50 │ … │      0.0 │         1 │          0.0 │ 119.59447 │ 31.431034 │\n",
      "│    3200 │ 2019-03-13 17:29:5…  │   -50 │    50 │ … │      0.0 │         1 │          0.0 │ 119.59447 │ 31.431034 │\n",
      "│    3200 │ 2019-03-13 17:29:5…  │   -50 │    50 │ … │      0.0 │         1 │          0.0 │ 119.59447 │ 31.431034 │\n",
      "│    3200 │ 2019-03-13 17:29:5…  │   -50 │    50 │ … │      0.0 │         1 │          0.0 │ 119.59447 │ 31.431034 │\n",
      "│    3200 │ 2019-03-13 17:29:5…  │   -50 │    50 │ … │      0.0 │         1 │          0.0 │ 119.59447 │ 31.431034 │\n",
      "│      ·  │          ·           │    ·  │     · │ · │       ·  │         · │           ·  │     ·     │     ·     │\n",
      "│      ·  │          ·           │    ·  │     · │ · │       ·  │         · │           ·  │     ·     │     ·     │\n",
      "│      ·  │          ·           │    ·  │     · │ · │       ·  │         · │           ·  │     ·     │     ·     │\n",
      "│    3200 │ 2019-03-14 14:05:0…  │  8357 │  1389 │ … │     10.0 │         1 │         0.36 │ 1028.4812 │ 176.87415 │\n",
      "│    3200 │ 2019-03-14 14:05:0…  │  8368 │  1388 │ … │   11.045 │         1 │      0.39762 │ 1029.6704 │ 176.76552 │\n",
      "│    3200 │ 2019-03-14 14:05:0…  │  8391 │  1368 │ … │     15.0 │         1 │         0.54 │  1032.157 │ 174.59311 │\n",
      "│    3200 │ 2019-03-14 14:05:1…  │  8398 │  1348 │ … │     13.0 │         1 │        0.468 │ 1032.9137 │ 172.42068 │\n",
      "│    3200 │ 2019-03-14 14:05:1…  │  8426 │  1339 │ … │   29.411 │         1 │     1.058796 │ 1035.9408 │  171.4431 │\n",
      "│    3200 │ 2019-03-14 14:05:1…  │  8418 │  1323 │ … │    9.434 │         1 │     0.339624 │ 1035.0759 │ 169.70517 │\n",
      "│    3200 │ 2019-03-14 14:05:1…  │  8410 │  1322 │ … │    8.062 │         1 │     0.290232 │  1034.211 │ 169.59656 │\n",
      "│    3200 │ 2019-03-14 14:05:1…  │  8423 │  1317 │ … │   13.928 │         1 │     0.501408 │ 1035.6165 │ 169.05345 │\n",
      "│    3200 │ 2019-03-14 14:05:1…  │  8427 │  1326 │ … │     21.0 │         1 │        0.756 │  1036.049 │ 170.03104 │\n",
      "│    3200 │ 2019-03-14 14:05:2…  │  8414 │  1330 │ … │   10.198 │         1 │     0.367128 │ 1034.6434 │ 170.46552 │\n",
      "├─────────┴──────────────────────┴───────┴───────┴───┴──────────┴───────────┴──────────────┴───────────┴───────────┤\n",
      "│ ? rows (>9999 rows, 20 shown)                                                               11 columns (9 shown) │\n",
      "└──────────────────────────────────────────────────────────────────────────────────────────────────────────────────┘\n",
      "\n"
     ]
    }
   ],
   "source": [
    "import duckdb\n",
    "import pandas as pd\n",
    "duckdb_path = \"data/duckdb.database\" # Duckdb tietokannalle annettava nimi, tallentuu lokaalisti\n",
    "table_name = \"Silver_SensorData\" # Tietokantataulu, josta luetaan (voi olla myös Silver_SensorData_lite)\n",
    "\n",
    "# Ota yhteys tietokantaa ja tarkista mitä dataa taulusta löytyy\n",
    "conn = duckdb.connect(database=duckdb_path)\n",
    "conn.table(table_name).show()\n",
    "conn.close()"
   ]
  },
  {
   "cell_type": "code",
   "execution_count": 4,
   "metadata": {},
   "outputs": [],
   "source": [
    "import duckdb\n",
    "import pandas as pd\n",
    "import polars as pl\n",
    "\n",
    "# Ota yhteys tietokantaa ja tarkista mitä dataa taulusta löytyy\n",
    "conn = duckdb.connect(database=duckdb_path)\n",
    "df = conn.sql(f\"SELECT * FROM {table_name}\").pl() # Tallenentaan taulun data Polars dataframeen\n",
    "conn.close()"
   ]
  },
  {
   "cell_type": "code",
   "execution_count": 5,
   "metadata": {},
   "outputs": [],
   "source": [
    "df = df.to_pandas()"
   ]
  },
  {
   "cell_type": "code",
   "execution_count": 6,
   "metadata": {},
   "outputs": [
    {
     "ename": "KeyboardInterrupt",
     "evalue": "",
     "output_type": "error",
     "traceback": [
      "\u001b[0;31m---------------------------------------------------------------------------\u001b[0m",
      "\u001b[0;31mKeyboardInterrupt\u001b[0m                         Traceback (most recent call last)",
      "Cell \u001b[0;32mIn[6], line 8\u001b[0m\n\u001b[1;32m      5\u001b[0m fig, axes \u001b[38;5;241m=\u001b[39m plt\u001b[38;5;241m.\u001b[39msubplots(nrows\u001b[38;5;241m=\u001b[39m\u001b[38;5;241m1\u001b[39m, ncols\u001b[38;5;241m=\u001b[39m\u001b[38;5;241m2\u001b[39m, figsize\u001b[38;5;241m=\u001b[39m(\u001b[38;5;241m15\u001b[39m, \u001b[38;5;241m6\u001b[39m))\n\u001b[1;32m      7\u001b[0m \u001b[38;5;66;03m# Boxplot for x_scaled and y_scaled\u001b[39;00m\n\u001b[0;32m----> 8\u001b[0m \u001b[43mdf\u001b[49m\u001b[43m[\u001b[49m\u001b[43m[\u001b[49m\u001b[38;5;124;43m'\u001b[39;49m\u001b[38;5;124;43mx_scaled\u001b[39;49m\u001b[38;5;124;43m'\u001b[39;49m\u001b[43m,\u001b[49m\u001b[43m \u001b[49m\u001b[38;5;124;43m'\u001b[39;49m\u001b[38;5;124;43my_scaled\u001b[39;49m\u001b[38;5;124;43m'\u001b[39;49m\u001b[43m]\u001b[49m\u001b[43m]\u001b[49m\u001b[38;5;241;43m.\u001b[39;49m\u001b[43mboxplot\u001b[49m\u001b[43m(\u001b[49m\u001b[43max\u001b[49m\u001b[38;5;241;43m=\u001b[39;49m\u001b[43maxes\u001b[49m\u001b[43m[\u001b[49m\u001b[38;5;241;43m0\u001b[39;49m\u001b[43m]\u001b[49m\u001b[43m)\u001b[49m\n\u001b[1;32m      9\u001b[0m axes[\u001b[38;5;241m0\u001b[39m]\u001b[38;5;241m.\u001b[39mset_title(\u001b[38;5;124m'\u001b[39m\u001b[38;5;124mBoxplot of x_scaled and y_scaled\u001b[39m\u001b[38;5;124m'\u001b[39m)\n\u001b[1;32m     10\u001b[0m axes[\u001b[38;5;241m0\u001b[39m]\u001b[38;5;241m.\u001b[39mset_ylabel(\u001b[38;5;124m'\u001b[39m\u001b[38;5;124mValues\u001b[39m\u001b[38;5;124m'\u001b[39m)\n",
      "File \u001b[0;32m~/code/projektiopinnot-1-datan-hallinta-ttm23sai/.venv/lib/python3.11/site-packages/pandas/plotting/_core.py:533\u001b[0m, in \u001b[0;36mboxplot_frame\u001b[0;34m(self, column, by, ax, fontsize, rot, grid, figsize, layout, return_type, backend, **kwargs)\u001b[0m\n\u001b[1;32m    516\u001b[0m \u001b[38;5;129m@Substitution\u001b[39m(data\u001b[38;5;241m=\u001b[39m\u001b[38;5;124m\"\u001b[39m\u001b[38;5;124m\"\u001b[39m, backend\u001b[38;5;241m=\u001b[39m_backend_doc)\n\u001b[1;32m    517\u001b[0m \u001b[38;5;129m@Appender\u001b[39m(_boxplot_doc)\n\u001b[1;32m    518\u001b[0m \u001b[38;5;28;01mdef\u001b[39;00m \u001b[38;5;21mboxplot_frame\u001b[39m(\n\u001b[0;32m   (...)\u001b[0m\n\u001b[1;32m    530\u001b[0m     \u001b[38;5;241m*\u001b[39m\u001b[38;5;241m*\u001b[39mkwargs,\n\u001b[1;32m    531\u001b[0m ):\n\u001b[1;32m    532\u001b[0m     plot_backend \u001b[38;5;241m=\u001b[39m _get_plot_backend(backend)\n\u001b[0;32m--> 533\u001b[0m     \u001b[38;5;28;01mreturn\u001b[39;00m \u001b[43mplot_backend\u001b[49m\u001b[38;5;241;43m.\u001b[39;49m\u001b[43mboxplot_frame\u001b[49m\u001b[43m(\u001b[49m\n\u001b[1;32m    534\u001b[0m \u001b[43m        \u001b[49m\u001b[38;5;28;43mself\u001b[39;49m\u001b[43m,\u001b[49m\n\u001b[1;32m    535\u001b[0m \u001b[43m        \u001b[49m\u001b[43mcolumn\u001b[49m\u001b[38;5;241;43m=\u001b[39;49m\u001b[43mcolumn\u001b[49m\u001b[43m,\u001b[49m\n\u001b[1;32m    536\u001b[0m \u001b[43m        \u001b[49m\u001b[43mby\u001b[49m\u001b[38;5;241;43m=\u001b[39;49m\u001b[43mby\u001b[49m\u001b[43m,\u001b[49m\n\u001b[1;32m    537\u001b[0m \u001b[43m        \u001b[49m\u001b[43max\u001b[49m\u001b[38;5;241;43m=\u001b[39;49m\u001b[43max\u001b[49m\u001b[43m,\u001b[49m\n\u001b[1;32m    538\u001b[0m \u001b[43m        \u001b[49m\u001b[43mfontsize\u001b[49m\u001b[38;5;241;43m=\u001b[39;49m\u001b[43mfontsize\u001b[49m\u001b[43m,\u001b[49m\n\u001b[1;32m    539\u001b[0m \u001b[43m        \u001b[49m\u001b[43mrot\u001b[49m\u001b[38;5;241;43m=\u001b[39;49m\u001b[43mrot\u001b[49m\u001b[43m,\u001b[49m\n\u001b[1;32m    540\u001b[0m \u001b[43m        \u001b[49m\u001b[43mgrid\u001b[49m\u001b[38;5;241;43m=\u001b[39;49m\u001b[43mgrid\u001b[49m\u001b[43m,\u001b[49m\n\u001b[1;32m    541\u001b[0m \u001b[43m        \u001b[49m\u001b[43mfigsize\u001b[49m\u001b[38;5;241;43m=\u001b[39;49m\u001b[43mfigsize\u001b[49m\u001b[43m,\u001b[49m\n\u001b[1;32m    542\u001b[0m \u001b[43m        \u001b[49m\u001b[43mlayout\u001b[49m\u001b[38;5;241;43m=\u001b[39;49m\u001b[43mlayout\u001b[49m\u001b[43m,\u001b[49m\n\u001b[1;32m    543\u001b[0m \u001b[43m        \u001b[49m\u001b[43mreturn_type\u001b[49m\u001b[38;5;241;43m=\u001b[39;49m\u001b[43mreturn_type\u001b[49m\u001b[43m,\u001b[49m\n\u001b[1;32m    544\u001b[0m \u001b[43m        \u001b[49m\u001b[38;5;241;43m*\u001b[39;49m\u001b[38;5;241;43m*\u001b[39;49m\u001b[43mkwargs\u001b[49m\u001b[43m,\u001b[49m\n\u001b[1;32m    545\u001b[0m \u001b[43m    \u001b[49m\u001b[43m)\u001b[49m\n",
      "File \u001b[0;32m~/code/projektiopinnot-1-datan-hallinta-ttm23sai/.venv/lib/python3.11/site-packages/pandas/plotting/_matplotlib/boxplot.py:492\u001b[0m, in \u001b[0;36mboxplot_frame\u001b[0;34m(self, column, by, ax, fontsize, rot, grid, figsize, layout, return_type, **kwds)\u001b[0m\n\u001b[1;32m    477\u001b[0m \u001b[38;5;28;01mdef\u001b[39;00m \u001b[38;5;21mboxplot_frame\u001b[39m(\n\u001b[1;32m    478\u001b[0m     \u001b[38;5;28mself\u001b[39m,\n\u001b[1;32m    479\u001b[0m     column\u001b[38;5;241m=\u001b[39m\u001b[38;5;28;01mNone\u001b[39;00m,\n\u001b[0;32m   (...)\u001b[0m\n\u001b[1;32m    488\u001b[0m     \u001b[38;5;241m*\u001b[39m\u001b[38;5;241m*\u001b[39mkwds,\n\u001b[1;32m    489\u001b[0m ):\n\u001b[1;32m    490\u001b[0m     \u001b[38;5;28;01mimport\u001b[39;00m \u001b[38;5;21;01mmatplotlib\u001b[39;00m\u001b[38;5;21;01m.\u001b[39;00m\u001b[38;5;21;01mpyplot\u001b[39;00m \u001b[38;5;28;01mas\u001b[39;00m \u001b[38;5;21;01mplt\u001b[39;00m\n\u001b[0;32m--> 492\u001b[0m     ax \u001b[38;5;241m=\u001b[39m \u001b[43mboxplot\u001b[49m\u001b[43m(\u001b[49m\n\u001b[1;32m    493\u001b[0m \u001b[43m        \u001b[49m\u001b[38;5;28;43mself\u001b[39;49m\u001b[43m,\u001b[49m\n\u001b[1;32m    494\u001b[0m \u001b[43m        \u001b[49m\u001b[43mcolumn\u001b[49m\u001b[38;5;241;43m=\u001b[39;49m\u001b[43mcolumn\u001b[49m\u001b[43m,\u001b[49m\n\u001b[1;32m    495\u001b[0m \u001b[43m        \u001b[49m\u001b[43mby\u001b[49m\u001b[38;5;241;43m=\u001b[39;49m\u001b[43mby\u001b[49m\u001b[43m,\u001b[49m\n\u001b[1;32m    496\u001b[0m \u001b[43m        \u001b[49m\u001b[43max\u001b[49m\u001b[38;5;241;43m=\u001b[39;49m\u001b[43max\u001b[49m\u001b[43m,\u001b[49m\n\u001b[1;32m    497\u001b[0m \u001b[43m        \u001b[49m\u001b[43mfontsize\u001b[49m\u001b[38;5;241;43m=\u001b[39;49m\u001b[43mfontsize\u001b[49m\u001b[43m,\u001b[49m\n\u001b[1;32m    498\u001b[0m \u001b[43m        \u001b[49m\u001b[43mgrid\u001b[49m\u001b[38;5;241;43m=\u001b[39;49m\u001b[43mgrid\u001b[49m\u001b[43m,\u001b[49m\n\u001b[1;32m    499\u001b[0m \u001b[43m        \u001b[49m\u001b[43mrot\u001b[49m\u001b[38;5;241;43m=\u001b[39;49m\u001b[43mrot\u001b[49m\u001b[43m,\u001b[49m\n\u001b[1;32m    500\u001b[0m \u001b[43m        \u001b[49m\u001b[43mfigsize\u001b[49m\u001b[38;5;241;43m=\u001b[39;49m\u001b[43mfigsize\u001b[49m\u001b[43m,\u001b[49m\n\u001b[1;32m    501\u001b[0m \u001b[43m        \u001b[49m\u001b[43mlayout\u001b[49m\u001b[38;5;241;43m=\u001b[39;49m\u001b[43mlayout\u001b[49m\u001b[43m,\u001b[49m\n\u001b[1;32m    502\u001b[0m \u001b[43m        \u001b[49m\u001b[43mreturn_type\u001b[49m\u001b[38;5;241;43m=\u001b[39;49m\u001b[43mreturn_type\u001b[49m\u001b[43m,\u001b[49m\n\u001b[1;32m    503\u001b[0m \u001b[43m        \u001b[49m\u001b[38;5;241;43m*\u001b[39;49m\u001b[38;5;241;43m*\u001b[39;49m\u001b[43mkwds\u001b[49m\u001b[43m,\u001b[49m\n\u001b[1;32m    504\u001b[0m \u001b[43m    \u001b[49m\u001b[43m)\u001b[49m\n\u001b[1;32m    505\u001b[0m     plt\u001b[38;5;241m.\u001b[39mdraw_if_interactive()\n\u001b[1;32m    506\u001b[0m     \u001b[38;5;28;01mreturn\u001b[39;00m ax\n",
      "File \u001b[0;32m~/code/projektiopinnot-1-datan-hallinta-ttm23sai/.venv/lib/python3.11/site-packages/pandas/plotting/_matplotlib/boxplot.py:471\u001b[0m, in \u001b[0;36mboxplot\u001b[0;34m(data, column, by, ax, fontsize, rot, grid, figsize, layout, return_type, **kwds)\u001b[0m\n\u001b[1;32m    468\u001b[0m     \u001b[38;5;28;01melse\u001b[39;00m:\n\u001b[1;32m    469\u001b[0m         data \u001b[38;5;241m=\u001b[39m data[columns]\n\u001b[0;32m--> 471\u001b[0m     result \u001b[38;5;241m=\u001b[39m \u001b[43mplot_group\u001b[49m\u001b[43m(\u001b[49m\u001b[43mcolumns\u001b[49m\u001b[43m,\u001b[49m\u001b[43m \u001b[49m\u001b[43mdata\u001b[49m\u001b[38;5;241;43m.\u001b[39;49m\u001b[43mvalues\u001b[49m\u001b[38;5;241;43m.\u001b[39;49m\u001b[43mT\u001b[49m\u001b[43m,\u001b[49m\u001b[43m \u001b[49m\u001b[43max\u001b[49m\u001b[43m,\u001b[49m\u001b[43m \u001b[49m\u001b[38;5;241;43m*\u001b[39;49m\u001b[38;5;241;43m*\u001b[39;49m\u001b[43mkwds\u001b[49m\u001b[43m)\u001b[49m\n\u001b[1;32m    472\u001b[0m     ax\u001b[38;5;241m.\u001b[39mgrid(grid)\n\u001b[1;32m    474\u001b[0m \u001b[38;5;28;01mreturn\u001b[39;00m result\n",
      "File \u001b[0;32m~/code/projektiopinnot-1-datan-hallinta-ttm23sai/.venv/lib/python3.11/site-packages/pandas/plotting/_matplotlib/boxplot.py:409\u001b[0m, in \u001b[0;36mboxplot.<locals>.plot_group\u001b[0;34m(keys, values, ax, **kwds)\u001b[0m\n\u001b[1;32m    407\u001b[0m keys \u001b[38;5;241m=\u001b[39m [pprint_thing(x) \u001b[38;5;28;01mfor\u001b[39;00m x \u001b[38;5;129;01min\u001b[39;00m keys]\n\u001b[1;32m    408\u001b[0m values \u001b[38;5;241m=\u001b[39m [np\u001b[38;5;241m.\u001b[39masarray(remove_na_arraylike(v), dtype\u001b[38;5;241m=\u001b[39m\u001b[38;5;28mobject\u001b[39m) \u001b[38;5;28;01mfor\u001b[39;00m v \u001b[38;5;129;01min\u001b[39;00m values]\n\u001b[0;32m--> 409\u001b[0m bp \u001b[38;5;241m=\u001b[39m \u001b[43max\u001b[49m\u001b[38;5;241;43m.\u001b[39;49m\u001b[43mboxplot\u001b[49m\u001b[43m(\u001b[49m\u001b[43mvalues\u001b[49m\u001b[43m,\u001b[49m\u001b[43m \u001b[49m\u001b[38;5;241;43m*\u001b[39;49m\u001b[38;5;241;43m*\u001b[39;49m\u001b[43mkwds\u001b[49m\u001b[43m)\u001b[49m\n\u001b[1;32m    410\u001b[0m \u001b[38;5;28;01mif\u001b[39;00m fontsize \u001b[38;5;129;01mis\u001b[39;00m \u001b[38;5;129;01mnot\u001b[39;00m \u001b[38;5;28;01mNone\u001b[39;00m:\n\u001b[1;32m    411\u001b[0m     ax\u001b[38;5;241m.\u001b[39mtick_params(axis\u001b[38;5;241m=\u001b[39m\u001b[38;5;124m\"\u001b[39m\u001b[38;5;124mboth\u001b[39m\u001b[38;5;124m\"\u001b[39m, labelsize\u001b[38;5;241m=\u001b[39mfontsize)\n",
      "File \u001b[0;32m~/code/projektiopinnot-1-datan-hallinta-ttm23sai/.venv/lib/python3.11/site-packages/matplotlib/__init__.py:1465\u001b[0m, in \u001b[0;36m_preprocess_data.<locals>.inner\u001b[0;34m(ax, data, *args, **kwargs)\u001b[0m\n\u001b[1;32m   1462\u001b[0m \u001b[38;5;129m@functools\u001b[39m\u001b[38;5;241m.\u001b[39mwraps(func)\n\u001b[1;32m   1463\u001b[0m \u001b[38;5;28;01mdef\u001b[39;00m \u001b[38;5;21minner\u001b[39m(ax, \u001b[38;5;241m*\u001b[39margs, data\u001b[38;5;241m=\u001b[39m\u001b[38;5;28;01mNone\u001b[39;00m, \u001b[38;5;241m*\u001b[39m\u001b[38;5;241m*\u001b[39mkwargs):\n\u001b[1;32m   1464\u001b[0m     \u001b[38;5;28;01mif\u001b[39;00m data \u001b[38;5;129;01mis\u001b[39;00m \u001b[38;5;28;01mNone\u001b[39;00m:\n\u001b[0;32m-> 1465\u001b[0m         \u001b[38;5;28;01mreturn\u001b[39;00m \u001b[43mfunc\u001b[49m\u001b[43m(\u001b[49m\u001b[43max\u001b[49m\u001b[43m,\u001b[49m\u001b[43m \u001b[49m\u001b[38;5;241;43m*\u001b[39;49m\u001b[38;5;28;43mmap\u001b[39;49m\u001b[43m(\u001b[49m\u001b[43msanitize_sequence\u001b[49m\u001b[43m,\u001b[49m\u001b[43m \u001b[49m\u001b[43margs\u001b[49m\u001b[43m)\u001b[49m\u001b[43m,\u001b[49m\u001b[43m \u001b[49m\u001b[38;5;241;43m*\u001b[39;49m\u001b[38;5;241;43m*\u001b[39;49m\u001b[43mkwargs\u001b[49m\u001b[43m)\u001b[49m\n\u001b[1;32m   1467\u001b[0m     bound \u001b[38;5;241m=\u001b[39m new_sig\u001b[38;5;241m.\u001b[39mbind(ax, \u001b[38;5;241m*\u001b[39margs, \u001b[38;5;241m*\u001b[39m\u001b[38;5;241m*\u001b[39mkwargs)\n\u001b[1;32m   1468\u001b[0m     auto_label \u001b[38;5;241m=\u001b[39m (bound\u001b[38;5;241m.\u001b[39marguments\u001b[38;5;241m.\u001b[39mget(label_namer)\n\u001b[1;32m   1469\u001b[0m                   \u001b[38;5;129;01mor\u001b[39;00m bound\u001b[38;5;241m.\u001b[39mkwargs\u001b[38;5;241m.\u001b[39mget(label_namer))\n",
      "File \u001b[0;32m~/code/projektiopinnot-1-datan-hallinta-ttm23sai/.venv/lib/python3.11/site-packages/matplotlib/axes/_axes.py:3950\u001b[0m, in \u001b[0;36mAxes.boxplot\u001b[0;34m(self, x, notch, sym, vert, whis, positions, widths, patch_artist, bootstrap, usermedians, conf_intervals, meanline, showmeans, showcaps, showbox, showfliers, boxprops, labels, flierprops, medianprops, meanprops, capprops, whiskerprops, manage_ticks, autorange, zorder, capwidths)\u001b[0m\n\u001b[1;32m   3947\u001b[0m \u001b[38;5;28;01mif\u001b[39;00m bootstrap \u001b[38;5;129;01mis\u001b[39;00m \u001b[38;5;28;01mNone\u001b[39;00m:\n\u001b[1;32m   3948\u001b[0m     bootstrap \u001b[38;5;241m=\u001b[39m mpl\u001b[38;5;241m.\u001b[39mrcParams[\u001b[38;5;124m'\u001b[39m\u001b[38;5;124mboxplot.bootstrap\u001b[39m\u001b[38;5;124m'\u001b[39m]\n\u001b[0;32m-> 3950\u001b[0m bxpstats \u001b[38;5;241m=\u001b[39m \u001b[43mcbook\u001b[49m\u001b[38;5;241;43m.\u001b[39;49m\u001b[43mboxplot_stats\u001b[49m\u001b[43m(\u001b[49m\u001b[43mx\u001b[49m\u001b[43m,\u001b[49m\u001b[43m \u001b[49m\u001b[43mwhis\u001b[49m\u001b[38;5;241;43m=\u001b[39;49m\u001b[43mwhis\u001b[49m\u001b[43m,\u001b[49m\u001b[43m \u001b[49m\u001b[43mbootstrap\u001b[49m\u001b[38;5;241;43m=\u001b[39;49m\u001b[43mbootstrap\u001b[49m\u001b[43m,\u001b[49m\n\u001b[1;32m   3951\u001b[0m \u001b[43m                               \u001b[49m\u001b[43mlabels\u001b[49m\u001b[38;5;241;43m=\u001b[39;49m\u001b[43mlabels\u001b[49m\u001b[43m,\u001b[49m\u001b[43m \u001b[49m\u001b[43mautorange\u001b[49m\u001b[38;5;241;43m=\u001b[39;49m\u001b[43mautorange\u001b[49m\u001b[43m)\u001b[49m\n\u001b[1;32m   3952\u001b[0m \u001b[38;5;28;01mif\u001b[39;00m notch \u001b[38;5;129;01mis\u001b[39;00m \u001b[38;5;28;01mNone\u001b[39;00m:\n\u001b[1;32m   3953\u001b[0m     notch \u001b[38;5;241m=\u001b[39m mpl\u001b[38;5;241m.\u001b[39mrcParams[\u001b[38;5;124m'\u001b[39m\u001b[38;5;124mboxplot.notch\u001b[39m\u001b[38;5;124m'\u001b[39m]\n",
      "File \u001b[0;32m~/code/projektiopinnot-1-datan-hallinta-ttm23sai/.venv/lib/python3.11/site-packages/matplotlib/cbook.py:1245\u001b[0m, in \u001b[0;36mboxplot_stats\u001b[0;34m(X, whis, bootstrap, labels, autorange)\u001b[0m\n\u001b[1;32m   1242\u001b[0m stats[\u001b[38;5;124m'\u001b[39m\u001b[38;5;124mmean\u001b[39m\u001b[38;5;124m'\u001b[39m] \u001b[38;5;241m=\u001b[39m np\u001b[38;5;241m.\u001b[39mmean(x)\n\u001b[1;32m   1244\u001b[0m \u001b[38;5;66;03m# medians and quartiles\u001b[39;00m\n\u001b[0;32m-> 1245\u001b[0m q1, med, q3 \u001b[38;5;241m=\u001b[39m \u001b[43mnp\u001b[49m\u001b[38;5;241;43m.\u001b[39;49m\u001b[43mpercentile\u001b[49m\u001b[43m(\u001b[49m\u001b[43mx\u001b[49m\u001b[43m,\u001b[49m\u001b[43m \u001b[49m\u001b[43m[\u001b[49m\u001b[38;5;241;43m25\u001b[39;49m\u001b[43m,\u001b[49m\u001b[43m \u001b[49m\u001b[38;5;241;43m50\u001b[39;49m\u001b[43m,\u001b[49m\u001b[43m \u001b[49m\u001b[38;5;241;43m75\u001b[39;49m\u001b[43m]\u001b[49m\u001b[43m)\u001b[49m\n\u001b[1;32m   1247\u001b[0m \u001b[38;5;66;03m# interquartile range\u001b[39;00m\n\u001b[1;32m   1248\u001b[0m stats[\u001b[38;5;124m'\u001b[39m\u001b[38;5;124miqr\u001b[39m\u001b[38;5;124m'\u001b[39m] \u001b[38;5;241m=\u001b[39m q3 \u001b[38;5;241m-\u001b[39m q1\n",
      "File \u001b[0;32m~/code/projektiopinnot-1-datan-hallinta-ttm23sai/.venv/lib/python3.11/site-packages/numpy/lib/function_base.py:4283\u001b[0m, in \u001b[0;36mpercentile\u001b[0;34m(a, q, axis, out, overwrite_input, method, keepdims, interpolation)\u001b[0m\n\u001b[1;32m   4281\u001b[0m \u001b[38;5;28;01mif\u001b[39;00m \u001b[38;5;129;01mnot\u001b[39;00m _quantile_is_valid(q):\n\u001b[1;32m   4282\u001b[0m     \u001b[38;5;28;01mraise\u001b[39;00m \u001b[38;5;167;01mValueError\u001b[39;00m(\u001b[38;5;124m\"\u001b[39m\u001b[38;5;124mPercentiles must be in the range [0, 100]\u001b[39m\u001b[38;5;124m\"\u001b[39m)\n\u001b[0;32m-> 4283\u001b[0m \u001b[38;5;28;01mreturn\u001b[39;00m \u001b[43m_quantile_unchecked\u001b[49m\u001b[43m(\u001b[49m\n\u001b[1;32m   4284\u001b[0m \u001b[43m    \u001b[49m\u001b[43ma\u001b[49m\u001b[43m,\u001b[49m\u001b[43m \u001b[49m\u001b[43mq\u001b[49m\u001b[43m,\u001b[49m\u001b[43m \u001b[49m\u001b[43maxis\u001b[49m\u001b[43m,\u001b[49m\u001b[43m \u001b[49m\u001b[43mout\u001b[49m\u001b[43m,\u001b[49m\u001b[43m \u001b[49m\u001b[43moverwrite_input\u001b[49m\u001b[43m,\u001b[49m\u001b[43m \u001b[49m\u001b[43mmethod\u001b[49m\u001b[43m,\u001b[49m\u001b[43m \u001b[49m\u001b[43mkeepdims\u001b[49m\u001b[43m)\u001b[49m\n",
      "File \u001b[0;32m~/code/projektiopinnot-1-datan-hallinta-ttm23sai/.venv/lib/python3.11/site-packages/numpy/lib/function_base.py:4555\u001b[0m, in \u001b[0;36m_quantile_unchecked\u001b[0;34m(a, q, axis, out, overwrite_input, method, keepdims)\u001b[0m\n\u001b[1;32m   4547\u001b[0m \u001b[38;5;28;01mdef\u001b[39;00m \u001b[38;5;21m_quantile_unchecked\u001b[39m(a,\n\u001b[1;32m   4548\u001b[0m                         q,\n\u001b[1;32m   4549\u001b[0m                         axis\u001b[38;5;241m=\u001b[39m\u001b[38;5;28;01mNone\u001b[39;00m,\n\u001b[0;32m   (...)\u001b[0m\n\u001b[1;32m   4552\u001b[0m                         method\u001b[38;5;241m=\u001b[39m\u001b[38;5;124m\"\u001b[39m\u001b[38;5;124mlinear\u001b[39m\u001b[38;5;124m\"\u001b[39m,\n\u001b[1;32m   4553\u001b[0m                         keepdims\u001b[38;5;241m=\u001b[39m\u001b[38;5;28;01mFalse\u001b[39;00m):\n\u001b[1;32m   4554\u001b[0m \u001b[38;5;250m    \u001b[39m\u001b[38;5;124;03m\"\"\"Assumes that q is in [0, 1], and is an ndarray\"\"\"\u001b[39;00m\n\u001b[0;32m-> 4555\u001b[0m     \u001b[38;5;28;01mreturn\u001b[39;00m \u001b[43m_ureduce\u001b[49m\u001b[43m(\u001b[49m\u001b[43ma\u001b[49m\u001b[43m,\u001b[49m\n\u001b[1;32m   4556\u001b[0m \u001b[43m                    \u001b[49m\u001b[43mfunc\u001b[49m\u001b[38;5;241;43m=\u001b[39;49m\u001b[43m_quantile_ureduce_func\u001b[49m\u001b[43m,\u001b[49m\n\u001b[1;32m   4557\u001b[0m \u001b[43m                    \u001b[49m\u001b[43mq\u001b[49m\u001b[38;5;241;43m=\u001b[39;49m\u001b[43mq\u001b[49m\u001b[43m,\u001b[49m\n\u001b[1;32m   4558\u001b[0m \u001b[43m                    \u001b[49m\u001b[43mkeepdims\u001b[49m\u001b[38;5;241;43m=\u001b[39;49m\u001b[43mkeepdims\u001b[49m\u001b[43m,\u001b[49m\n\u001b[1;32m   4559\u001b[0m \u001b[43m                    \u001b[49m\u001b[43maxis\u001b[49m\u001b[38;5;241;43m=\u001b[39;49m\u001b[43maxis\u001b[49m\u001b[43m,\u001b[49m\n\u001b[1;32m   4560\u001b[0m \u001b[43m                    \u001b[49m\u001b[43mout\u001b[49m\u001b[38;5;241;43m=\u001b[39;49m\u001b[43mout\u001b[49m\u001b[43m,\u001b[49m\n\u001b[1;32m   4561\u001b[0m \u001b[43m                    \u001b[49m\u001b[43moverwrite_input\u001b[49m\u001b[38;5;241;43m=\u001b[39;49m\u001b[43moverwrite_input\u001b[49m\u001b[43m,\u001b[49m\n\u001b[1;32m   4562\u001b[0m \u001b[43m                    \u001b[49m\u001b[43mmethod\u001b[49m\u001b[38;5;241;43m=\u001b[39;49m\u001b[43mmethod\u001b[49m\u001b[43m)\u001b[49m\n",
      "File \u001b[0;32m~/code/projektiopinnot-1-datan-hallinta-ttm23sai/.venv/lib/python3.11/site-packages/numpy/lib/function_base.py:3823\u001b[0m, in \u001b[0;36m_ureduce\u001b[0;34m(a, func, keepdims, **kwargs)\u001b[0m\n\u001b[1;32m   3820\u001b[0m             index_out \u001b[38;5;241m=\u001b[39m (\u001b[38;5;241m0\u001b[39m, ) \u001b[38;5;241m*\u001b[39m nd\n\u001b[1;32m   3821\u001b[0m             kwargs[\u001b[38;5;124m'\u001b[39m\u001b[38;5;124mout\u001b[39m\u001b[38;5;124m'\u001b[39m] \u001b[38;5;241m=\u001b[39m out[(\u001b[38;5;28mEllipsis\u001b[39m, ) \u001b[38;5;241m+\u001b[39m index_out]\n\u001b[0;32m-> 3823\u001b[0m r \u001b[38;5;241m=\u001b[39m \u001b[43mfunc\u001b[49m\u001b[43m(\u001b[49m\u001b[43ma\u001b[49m\u001b[43m,\u001b[49m\u001b[43m \u001b[49m\u001b[38;5;241;43m*\u001b[39;49m\u001b[38;5;241;43m*\u001b[39;49m\u001b[43mkwargs\u001b[49m\u001b[43m)\u001b[49m\n\u001b[1;32m   3825\u001b[0m \u001b[38;5;28;01mif\u001b[39;00m out \u001b[38;5;129;01mis\u001b[39;00m \u001b[38;5;129;01mnot\u001b[39;00m \u001b[38;5;28;01mNone\u001b[39;00m:\n\u001b[1;32m   3826\u001b[0m     \u001b[38;5;28;01mreturn\u001b[39;00m out\n",
      "File \u001b[0;32m~/code/projektiopinnot-1-datan-hallinta-ttm23sai/.venv/lib/python3.11/site-packages/numpy/lib/function_base.py:4722\u001b[0m, in \u001b[0;36m_quantile_ureduce_func\u001b[0;34m(a, q, axis, out, overwrite_input, method)\u001b[0m\n\u001b[1;32m   4720\u001b[0m     \u001b[38;5;28;01melse\u001b[39;00m:\n\u001b[1;32m   4721\u001b[0m         arr \u001b[38;5;241m=\u001b[39m a\u001b[38;5;241m.\u001b[39mcopy()\n\u001b[0;32m-> 4722\u001b[0m result \u001b[38;5;241m=\u001b[39m \u001b[43m_quantile\u001b[49m\u001b[43m(\u001b[49m\u001b[43marr\u001b[49m\u001b[43m,\u001b[49m\n\u001b[1;32m   4723\u001b[0m \u001b[43m                   \u001b[49m\u001b[43mquantiles\u001b[49m\u001b[38;5;241;43m=\u001b[39;49m\u001b[43mq\u001b[49m\u001b[43m,\u001b[49m\n\u001b[1;32m   4724\u001b[0m \u001b[43m                   \u001b[49m\u001b[43maxis\u001b[49m\u001b[38;5;241;43m=\u001b[39;49m\u001b[43maxis\u001b[49m\u001b[43m,\u001b[49m\n\u001b[1;32m   4725\u001b[0m \u001b[43m                   \u001b[49m\u001b[43mmethod\u001b[49m\u001b[38;5;241;43m=\u001b[39;49m\u001b[43mmethod\u001b[49m\u001b[43m,\u001b[49m\n\u001b[1;32m   4726\u001b[0m \u001b[43m                   \u001b[49m\u001b[43mout\u001b[49m\u001b[38;5;241;43m=\u001b[39;49m\u001b[43mout\u001b[49m\u001b[43m)\u001b[49m\n\u001b[1;32m   4727\u001b[0m \u001b[38;5;28;01mreturn\u001b[39;00m result\n",
      "File \u001b[0;32m~/code/projektiopinnot-1-datan-hallinta-ttm23sai/.venv/lib/python3.11/site-packages/numpy/lib/function_base.py:4824\u001b[0m, in \u001b[0;36m_quantile\u001b[0;34m(arr, quantiles, axis, method, out)\u001b[0m\n\u001b[1;32m   4820\u001b[0m previous_indexes, next_indexes \u001b[38;5;241m=\u001b[39m _get_indexes(arr,\n\u001b[1;32m   4821\u001b[0m                                               virtual_indexes,\n\u001b[1;32m   4822\u001b[0m                                               values_count)\n\u001b[1;32m   4823\u001b[0m \u001b[38;5;66;03m# --- Sorting\u001b[39;00m\n\u001b[0;32m-> 4824\u001b[0m \u001b[43marr\u001b[49m\u001b[38;5;241;43m.\u001b[39;49m\u001b[43mpartition\u001b[49m\u001b[43m(\u001b[49m\n\u001b[1;32m   4825\u001b[0m \u001b[43m    \u001b[49m\u001b[43mnp\u001b[49m\u001b[38;5;241;43m.\u001b[39;49m\u001b[43munique\u001b[49m\u001b[43m(\u001b[49m\u001b[43mnp\u001b[49m\u001b[38;5;241;43m.\u001b[39;49m\u001b[43mconcatenate\u001b[49m\u001b[43m(\u001b[49m\u001b[43m(\u001b[49m\u001b[43m[\u001b[49m\u001b[38;5;241;43m0\u001b[39;49m\u001b[43m,\u001b[49m\u001b[43m \u001b[49m\u001b[38;5;241;43m-\u001b[39;49m\u001b[38;5;241;43m1\u001b[39;49m\u001b[43m]\u001b[49m\u001b[43m,\u001b[49m\n\u001b[1;32m   4826\u001b[0m \u001b[43m                              \u001b[49m\u001b[43mprevious_indexes\u001b[49m\u001b[38;5;241;43m.\u001b[39;49m\u001b[43mravel\u001b[49m\u001b[43m(\u001b[49m\u001b[43m)\u001b[49m\u001b[43m,\u001b[49m\n\u001b[1;32m   4827\u001b[0m \u001b[43m                              \u001b[49m\u001b[43mnext_indexes\u001b[49m\u001b[38;5;241;43m.\u001b[39;49m\u001b[43mravel\u001b[49m\u001b[43m(\u001b[49m\u001b[43m)\u001b[49m\u001b[43m,\u001b[49m\n\u001b[1;32m   4828\u001b[0m \u001b[43m                              \u001b[49m\u001b[43m)\u001b[49m\u001b[43m)\u001b[49m\u001b[43m)\u001b[49m\u001b[43m,\u001b[49m\n\u001b[1;32m   4829\u001b[0m \u001b[43m    \u001b[49m\u001b[43maxis\u001b[49m\u001b[38;5;241;43m=\u001b[39;49m\u001b[38;5;241;43m0\u001b[39;49m\u001b[43m)\u001b[49m\n\u001b[1;32m   4830\u001b[0m \u001b[38;5;28;01mif\u001b[39;00m supports_nans:\n\u001b[1;32m   4831\u001b[0m     slices_having_nans \u001b[38;5;241m=\u001b[39m np\u001b[38;5;241m.\u001b[39misnan(arr[\u001b[38;5;241m-\u001b[39m\u001b[38;5;241m1\u001b[39m, \u001b[38;5;241m.\u001b[39m\u001b[38;5;241m.\u001b[39m\u001b[38;5;241m.\u001b[39m])\n",
      "\u001b[0;31mKeyboardInterrupt\u001b[0m: "
     ]
    },
    {
     "data": {
      "image/png": "[encoded data removed]",
      "text/plain": [
       "<Figure size 1500x600 with 2 Axes>"
      ]
     },
     "metadata": {},
     "output_type": "display_data"
    }
   ],
   "source": [
    "import matplotlib.pyplot as plt\n",
    "%matplotlib inline\n",
    "\n",
    "# Create a figure and two subplots\n",
    "fig, axes = plt.subplots(nrows=1, ncols=2, figsize=(15, 6))\n",
    "\n",
    "# Boxplot for x_scaled and y_scaled\n",
    "df[['x_scaled', 'y_scaled']].boxplot(ax=axes[0])\n",
    "axes[0].set_title('Boxplot of x_scaled and y_scaled')\n",
    "axes[0].set_ylabel('Values')\n",
    "axes[0].set_xlabel('Variables')\n",
    "\n",
    "# Boxplot for speed and distance\n",
    "df[['speed', 'distance']].boxplot(ax=axes[1])\n",
    "axes[1].set_title('Boxplot of speed and distance')\n",
    "axes[1].set_ylabel('Values')\n",
    "axes[1].set_xlabel('Variables')\n",
    "\n",
    "plt.tight_layout()\n",
    "plt.show()\n",
    "\n",
    "print(df.describe())\n"
   ]
  },
  {
   "cell_type": "code",
   "execution_count": 7,
   "metadata": {},
   "outputs": [
    {
     "data": {
      "text/plain": [
       "node_id       38977673\n",
       "timestamp     38977673\n",
       "x             38977673\n",
       "y             38977673\n",
       "previous_x    38977673\n",
       "previous_y    38977673\n",
       "distance      38977673\n",
       "timedelta     38977673\n",
       "speed         38977673\n",
       "x_scaled      38977673\n",
       "y_scaled      38977673\n",
       "dtype: int64"
      ]
     },
     "execution_count": 7,
     "metadata": {},
     "output_type": "execute_result"
    }
   ],
   "source": [
    "df.count()"
   ]
  }
 ],
 "metadata": {
  "kernelspec": {
   "display_name": ".venv",
   "language": "python",
   "name": "python3"
  },
  "language_info": {
   "codemirror_mode": {
    "name": "ipython",
    "version": 3
   },
   "file_extension": ".py",
   "mimetype": "text/x-python",
   "name": "python",
   "nbconvert_exporter": "python",
   "pygments_lexer": "ipython3",
   "version": "3.11.4"
  }
 },
 "nbformat": 4,
 "nbformat_minor": 2
}
