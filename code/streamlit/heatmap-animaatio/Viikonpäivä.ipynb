{
 "cells": [
  {
   "cell_type": "code",
   "execution_count": 9,
   "metadata": {},
   "outputs": [],
   "source": [
    "import glob\n",
    "import os\n",
    "import imageio"
   ]
  },
  {
   "cell_type": "code",
   "execution_count": 12,
   "metadata": {},
   "outputs": [
    {
     "name": "stderr",
     "output_type": "stream",
     "text": [
      "/var/folders/h2/rx0448xd29n3594shxkq25f00000gn/T/ipykernel_87647/913505100.py:14: DeprecationWarning: Starting with ImageIO v3 the behavior of this function will switch to that of iio.v3.imread. To keep the current behavior (and make this warning disappear) use `import imageio.v2 as imageio` or call `imageio.v2.imread` directly.\n",
      "  frame = imageio.imread(image)\n"
     ]
    },
    {
     "name": "stdout",
     "output_type": "stream",
     "text": [
      "GIF-animaatio luotu tiedostoon: heatmap-viikonpäivä/heatmap_animaatio_viikonpäivä.gif\n"
     ]
    }
   ],
   "source": [
    "# Valitaan kansio, josta kuvat otetaan\n",
    "folder = \"heatmap-viikonpäivä\"\n",
    "\n",
    "# Tiedostojen nimet\n",
    "ordered_days = ['heatmap_1Monday.png', 'heatmap_2Tuesday.png', 'heatmap_3Wednesday.png', 'heatmap_4Thursday.png', 'heatmap_5Friday.png', 'heatmap_6Saturday.png', 'heatmap_7Sunday.png']\n",
    "\n",
    "# Järjestetään tiedostot, jotta näkyy oikeassa järjestyksessä\n",
    "images = [os.path.join(folder, day) for day in ordered_days]\n",
    "\n",
    "# Luo GIF-animaatio kuvista\n",
    "gif_filename = os.path.join(folder, 'heatmap_animaatio_viikonpäivä.gif')\n",
    "with imageio.get_writer(gif_filename, mode='I', duration=1000, loop=0) as writer:\n",
    "    for image in images:\n",
    "        frame = imageio.imread(image)\n",
    "        writer.append_data(frame)\n",
    "\n",
    "print(\"GIF-animaatio luotu tiedostoon:\", gif_filename)"
   ]
  }
 ],
 "metadata": {
  "kernelspec": {
   "display_name": ".venv",
   "language": "python",
   "name": "python3"
  },
  "language_info": {
   "codemirror_mode": {
    "name": "ipython",
    "version": 3
   },
   "file_extension": ".py",
   "mimetype": "text/x-python",
   "name": "python",
   "nbconvert_exporter": "python",
   "pygments_lexer": "ipython3",
   "version": "3.11.4"
  }
 },
 "nbformat": 4,
 "nbformat_minor": 2
}
