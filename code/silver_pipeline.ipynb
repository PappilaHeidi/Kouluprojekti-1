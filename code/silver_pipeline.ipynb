{
 "cells": [
  {
   "cell_type": "markdown",
   "id": "2ba92c30-280a-41e1-8796-a9a36f6139af",
   "metadata": {},
   "source": [
    "Tässä notebookissa tehdään Silver-tason prosessoinnit datalle, eli ladataan bronze_pipeline.ipynb ETL-putken luomat lopputulokset ja otetaan data esikäsittellyyn. Esikäsittelyssä data putsataan ja prosessoidaan haluttuun muotoon. Tämän jälkeen data tallennetaan Gold-tason tauluun, joka toimii datan lopullisena tallennuspaikkana, josta sitä käytetään tämän projektin muissa välivaiheissa."
   ]
  },
  {
   "cell_type": "code",
   "execution_count": 2,
   "id": "36a8afa9-6f9c-4832-b8c7-58cff0d77995",
   "metadata": {},
   "outputs": [
    {
     "name": "stdout",
     "output_type": "stream",
     "text": [
      "Requirement already satisfied: duckdb in /opt/conda/lib/python3.11/site-packages (0.10.1)\n"
     ]
    }
   ],
   "source": [
    "!pip install duckdb"
   ]
  },
  {
   "cell_type": "code",
   "execution_count": 28,
   "id": "db970226-895a-43e9-99af-bd74bab63181",
   "metadata": {},
   "outputs": [
    {
     "name": "stdout",
     "output_type": "stream",
     "text": [
      "┌─────────┬──────────────────────────────────┬───────┬───────┬───────┬───────┐\n",
      "│ node_id │            timestamp             │   x   │   y   │   z   │   q   │\n",
      "│  int32  │             varchar              │ int32 │ int32 │ int32 │ int32 │\n",
      "├─────────┼──────────────────────────────────┼───────┼───────┼───────┼───────┤\n",
      "│   51889 │ 2019-03-07 13:04:56.080345+00:00 │     0 │     0 │     0 │   176 │\n",
      "│   51889 │ 2019-03-07 13:05:09.080128+00:00 │     0 │     0 │     0 │    32 │\n",
      "│   51889 │ 2019-03-07 13:05:16.079998+00:00 │     0 │     0 │     0 │   202 │\n",
      "│   51889 │ 2019-03-07 13:05:17.078234+00:00 │     0 │     0 │     0 │   229 │\n",
      "│   51889 │ 2019-03-07 13:05:19.077941+00:00 │     0 │     0 │     0 │    64 │\n",
      "│   51889 │ 2019-03-07 13:05:20.07851+00:00  │     0 │     0 │     0 │   184 │\n",
      "│   51889 │ 2019-03-07 13:05:21.078149+00:00 │     0 │     0 │     0 │   103 │\n",
      "│   51889 │ 2019-03-07 13:05:23.078481+00:00 │     0 │     0 │     0 │    92 │\n",
      "│   51889 │ 2019-03-07 13:05:24.078174+00:00 │     0 │     0 │     0 │    53 │\n",
      "│   51889 │ 2019-03-07 13:05:25.07798+00:00  │     0 │     0 │     0 │   111 │\n",
      "│     ·   │                ·                 │     · │     · │     · │     · │\n",
      "│     ·   │                ·                 │     · │     · │     · │     · │\n",
      "│     ·   │                ·                 │     · │     · │     · │     · │\n",
      "│   51889 │ 2019-03-12 17:26:10.468255+00:00 │   147 │  2634 │     0 │    83 │\n",
      "│   51889 │ 2019-03-12 17:26:11.469135+00:00 │   156 │  2644 │     0 │    85 │\n",
      "│   51889 │ 2019-03-12 17:26:12.469265+00:00 │   159 │  2649 │     0 │    88 │\n",
      "│   51889 │ 2019-03-12 17:26:13.46904+00:00  │   165 │  2653 │     0 │    86 │\n",
      "│   51889 │ 2019-03-12 17:26:14.469542+00:00 │   161 │  2652 │     0 │    61 │\n",
      "│   51889 │ 2019-03-12 17:26:15.469073+00:00 │   161 │  2649 │     0 │    60 │\n",
      "│   51889 │ 2019-03-12 17:26:16.469262+00:00 │   156 │  2650 │     0 │    62 │\n",
      "│   51889 │ 2019-03-12 17:26:17.469156+00:00 │   156 │  2648 │     0 │    59 │\n",
      "│   51889 │ 2019-03-12 17:26:18.468919+00:00 │   162 │  2655 │     0 │    87 │\n",
      "│   51889 │ 2019-03-12 17:26:18.468926+00:00 │   162 │  2655 │     0 │    87 │\n",
      "├─────────┴──────────────────────────────────┴───────┴───────┴───────┴───────┤\n",
      "│ ? rows (>9999 rows, 20 shown)                                    6 columns │\n",
      "└────────────────────────────────────────────────────────────────────────────┘\n",
      "\n"
     ]
    }
   ],
   "source": [
    "import duckdb\n",
    "import pandas as pd\n",
    "duckdb_path = \"data/duckdb.database\" # Duckdb tietokannalle annettava nimi, tallentuu lokaalisti\n",
    "table_name = \"Bronze_SensorData\" # Tietokantataulu, josta luetaan\n",
    "\n",
    "# Ota yhteys tietokantaa ja tarkista mitä dataa taulusta löytyy\n",
    "conn = duckdb.connect(database=duckdb_path)\n",
    "conn.table(table_name).show()\n",
    "conn.close()"
   ]
  },
  {
   "cell_type": "code",
   "execution_count": 29,
   "id": "ce2aa2a1-562c-4c53-b5af-b34800e4cff9",
   "metadata": {},
   "outputs": [],
   "source": [
    "import duckdb\n",
    "import pandas as pd\n",
    "duckdb_path = \"data/duckdb.database\" # Duckdb tietokannalle annettava nimi, tallentuu lokaalisti\n",
    "table_name = \"Bronze_SensorData\" # Tietokantataulu, josta luetaan\n",
    "\n",
    "# Ota yhteys tietokantaa ja tarkista mitä dataa taulusta löytyy\n",
    "conn = duckdb.connect(database=duckdb_path)\n",
    "df = conn.sql(f\"SELECT * FROM {table_name} WHERE node_id = 3200\").df() # Tallenentaan taulun data Pandasin dataframeen\n",
    "conn.close()"
   ]
  },
  {
   "cell_type": "code",
   "execution_count": 4,
   "id": "bc23b1a7-7554-4075-936c-53c5de1c1593",
   "metadata": {},
   "outputs": [
    {
     "name": "stdout",
     "output_type": "stream",
     "text": [
      "<class 'pandas.core.frame.DataFrame'>\n",
      "RangeIndex: 6489294 entries, 0 to 6489293\n",
      "Data columns (total 6 columns):\n",
      " #   Column     Dtype \n",
      "---  ------     ----- \n",
      " 0   node_id    int32 \n",
      " 1   timestamp  object\n",
      " 2   x          int32 \n",
      " 3   y          int32 \n",
      " 4   z          int32 \n",
      " 5   q          int32 \n",
      "dtypes: int32(5), object(1)\n",
      "memory usage: 173.3+ MB\n"
     ]
    },
    {
     "data": {
      "text/html": [
       "<div>\n",
       "<style scoped>\n",
       "    .dataframe tbody tr th:only-of-type {\n",
       "        vertical-align: middle;\n",
       "    }\n",
       "\n",
       "    .dataframe tbody tr th {\n",
       "        vertical-align: top;\n",
       "    }\n",
       "\n",
       "    .dataframe thead th {\n",
       "        text-align: right;\n",
       "    }\n",
       "</style>\n",
       "<table border=\"1\" class=\"dataframe\">\n",
       "  <thead>\n",
       "    <tr style=\"text-align: right;\">\n",
       "      <th></th>\n",
       "      <th>node_id</th>\n",
       "      <th>timestamp</th>\n",
       "      <th>x</th>\n",
       "      <th>y</th>\n",
       "      <th>z</th>\n",
       "      <th>q</th>\n",
       "    </tr>\n",
       "  </thead>\n",
       "  <tbody>\n",
       "    <tr>\n",
       "      <th>0</th>\n",
       "      <td>3200</td>\n",
       "      <td>2019-03-07 11:46:19.078016+00:00</td>\n",
       "      <td>0</td>\n",
       "      <td>0</td>\n",
       "      <td>0</td>\n",
       "      <td>51</td>\n",
       "    </tr>\n",
       "    <tr>\n",
       "      <th>1</th>\n",
       "      <td>3200</td>\n",
       "      <td>2019-03-07 11:46:20.078012+00:00</td>\n",
       "      <td>0</td>\n",
       "      <td>0</td>\n",
       "      <td>0</td>\n",
       "      <td>163</td>\n",
       "    </tr>\n",
       "    <tr>\n",
       "      <th>2</th>\n",
       "      <td>3200</td>\n",
       "      <td>2019-03-07 11:46:21.078081+00:00</td>\n",
       "      <td>0</td>\n",
       "      <td>0</td>\n",
       "      <td>0</td>\n",
       "      <td>42</td>\n",
       "    </tr>\n",
       "    <tr>\n",
       "      <th>3</th>\n",
       "      <td>3200</td>\n",
       "      <td>2019-03-07 11:46:22.07813+00:00</td>\n",
       "      <td>0</td>\n",
       "      <td>0</td>\n",
       "      <td>0</td>\n",
       "      <td>105</td>\n",
       "    </tr>\n",
       "    <tr>\n",
       "      <th>4</th>\n",
       "      <td>3200</td>\n",
       "      <td>2019-03-13 15:29:43.686639+00:00</td>\n",
       "      <td>-50</td>\n",
       "      <td>50</td>\n",
       "      <td>0</td>\n",
       "      <td>106</td>\n",
       "    </tr>\n",
       "    <tr>\n",
       "      <th>...</th>\n",
       "      <td>...</td>\n",
       "      <td>...</td>\n",
       "      <td>...</td>\n",
       "      <td>...</td>\n",
       "      <td>...</td>\n",
       "      <td>...</td>\n",
       "    </tr>\n",
       "    <tr>\n",
       "      <th>6489289</th>\n",
       "      <td>3200</td>\n",
       "      <td>2020-01-22 17:53:32.478699+00:00</td>\n",
       "      <td>253</td>\n",
       "      <td>1143</td>\n",
       "      <td>0</td>\n",
       "      <td>98</td>\n",
       "    </tr>\n",
       "    <tr>\n",
       "      <th>6489290</th>\n",
       "      <td>3200</td>\n",
       "      <td>2020-01-22 17:53:35.478839+00:00</td>\n",
       "      <td>256</td>\n",
       "      <td>1152</td>\n",
       "      <td>0</td>\n",
       "      <td>123</td>\n",
       "    </tr>\n",
       "    <tr>\n",
       "      <th>6489291</th>\n",
       "      <td>3200</td>\n",
       "      <td>2020-01-22 17:53:36.478961+00:00</td>\n",
       "      <td>501</td>\n",
       "      <td>2034</td>\n",
       "      <td>0</td>\n",
       "      <td>108</td>\n",
       "    </tr>\n",
       "    <tr>\n",
       "      <th>6489292</th>\n",
       "      <td>3200</td>\n",
       "      <td>2020-01-22 17:53:46.479005+00:00</td>\n",
       "      <td>745</td>\n",
       "      <td>2914</td>\n",
       "      <td>0</td>\n",
       "      <td>113</td>\n",
       "    </tr>\n",
       "    <tr>\n",
       "      <th>6489293</th>\n",
       "      <td>3200</td>\n",
       "      <td>2020-01-22 17:53:46.479008+00:00</td>\n",
       "      <td>745</td>\n",
       "      <td>2914</td>\n",
       "      <td>0</td>\n",
       "      <td>113</td>\n",
       "    </tr>\n",
       "  </tbody>\n",
       "</table>\n",
       "<p>6489294 rows × 6 columns</p>\n",
       "</div>"
      ],
      "text/plain": [
       "         node_id                         timestamp    x     y  z    q\n",
       "0           3200  2019-03-07 11:46:19.078016+00:00    0     0  0   51\n",
       "1           3200  2019-03-07 11:46:20.078012+00:00    0     0  0  163\n",
       "2           3200  2019-03-07 11:46:21.078081+00:00    0     0  0   42\n",
       "3           3200   2019-03-07 11:46:22.07813+00:00    0     0  0  105\n",
       "4           3200  2019-03-13 15:29:43.686639+00:00  -50    50  0  106\n",
       "...          ...                               ...  ...   ... ..  ...\n",
       "6489289     3200  2020-01-22 17:53:32.478699+00:00  253  1143  0   98\n",
       "6489290     3200  2020-01-22 17:53:35.478839+00:00  256  1152  0  123\n",
       "6489291     3200  2020-01-22 17:53:36.478961+00:00  501  2034  0  108\n",
       "6489292     3200  2020-01-22 17:53:46.479005+00:00  745  2914  0  113\n",
       "6489293     3200  2020-01-22 17:53:46.479008+00:00  745  2914  0  113\n",
       "\n",
       "[6489294 rows x 6 columns]"
      ]
     },
     "execution_count": 4,
     "metadata": {},
     "output_type": "execute_result"
    }
   ],
   "source": [
    "df.info(verbose=True)\n",
    "df"
   ]
  },
  {
   "cell_type": "code",
   "execution_count": 3,
   "id": "df5561c9",
   "metadata": {},
   "outputs": [
    {
     "name": "stdout",
     "output_type": "stream",
     "text": [
      "Collecting ydata-profiling\n",
      "  Downloading ydata_profiling-4.7.0-py2.py3-none-any.whl.metadata (20 kB)\n",
      "Requirement already satisfied: scipy<1.12,>=1.4.1 in /opt/conda/lib/python3.11/site-packages (from ydata-profiling) (1.11.3)\n",
      "Requirement already satisfied: pandas!=1.4.0,<3,>1.1 in /opt/conda/lib/python3.11/site-packages (from ydata-profiling) (2.1.1)\n",
      "Requirement already satisfied: matplotlib<3.9,>=3.2 in /opt/conda/lib/python3.11/site-packages (from ydata-profiling) (3.8.0)\n",
      "Collecting pydantic>=2 (from ydata-profiling)\n",
      "  Downloading pydantic-2.6.4-py3-none-any.whl.metadata (85 kB)\n",
      "\u001b[2K     \u001b[90m━━━━━━━━━━━━━━━━━━━━━━━━━━━━━━━━━━━━━━━━\u001b[0m \u001b[32m85.1/85.1 kB\u001b[0m \u001b[31m7.7 MB/s\u001b[0m eta \u001b[36m0:00:00\u001b[0m\n",
      "\u001b[?25hRequirement already satisfied: PyYAML<6.1,>=5.0.0 in /opt/conda/lib/python3.11/site-packages (from ydata-profiling) (6.0.1)\n",
      "Requirement already satisfied: jinja2<3.2,>=2.11.1 in /opt/conda/lib/python3.11/site-packages (from ydata-profiling) (3.1.2)\n",
      "Collecting visions<0.7.7,>=0.7.5 (from visions[type_image_path]<0.7.7,>=0.7.5->ydata-profiling)\n",
      "  Downloading visions-0.7.6-py3-none-any.whl.metadata (11 kB)\n",
      "Requirement already satisfied: numpy<2,>=1.16.0 in /opt/conda/lib/python3.11/site-packages (from ydata-profiling) (1.24.4)\n",
      "Collecting htmlmin==0.1.12 (from ydata-profiling)\n",
      "  Downloading htmlmin-0.1.12.tar.gz (19 kB)\n",
      "  Preparing metadata (setup.py) ... \u001b[?25ldone\n",
      "\u001b[?25hCollecting phik<0.13,>=0.11.1 (from ydata-profiling)\n",
      "  Downloading phik-0.12.4-cp311-cp311-manylinux_2_17_x86_64.manylinux2014_x86_64.whl.metadata (5.6 kB)\n",
      "Requirement already satisfied: requests<3,>=2.24.0 in /opt/conda/lib/python3.11/site-packages (from ydata-profiling) (2.31.0)\n",
      "Requirement already satisfied: tqdm<5,>=4.48.2 in /opt/conda/lib/python3.11/site-packages (from ydata-profiling) (4.66.1)\n",
      "Collecting seaborn<0.13,>=0.10.1 (from ydata-profiling)\n",
      "  Downloading seaborn-0.12.2-py3-none-any.whl.metadata (5.4 kB)\n",
      "Collecting multimethod<2,>=1.4 (from ydata-profiling)\n",
      "  Downloading multimethod-1.11.2-py3-none-any.whl.metadata (9.1 kB)\n",
      "Requirement already satisfied: statsmodels<1,>=0.13.2 in /opt/conda/lib/python3.11/site-packages (from ydata-profiling) (0.14.0)\n",
      "Collecting typeguard<5,>=4.1.2 (from ydata-profiling)\n",
      "  Downloading typeguard-4.2.1-py3-none-any.whl.metadata (3.7 kB)\n",
      "Collecting imagehash==4.3.1 (from ydata-profiling)\n",
      "  Downloading ImageHash-4.3.1-py2.py3-none-any.whl.metadata (8.0 kB)\n",
      "Collecting wordcloud>=1.9.1 (from ydata-profiling)\n",
      "  Downloading wordcloud-1.9.3-cp311-cp311-manylinux_2_17_x86_64.manylinux2014_x86_64.whl.metadata (3.4 kB)\n",
      "Collecting dacite>=1.8 (from ydata-profiling)\n",
      "  Downloading dacite-1.8.1-py3-none-any.whl.metadata (15 kB)\n",
      "Requirement already satisfied: numba<1,>=0.56.0 in /opt/conda/lib/python3.11/site-packages (from ydata-profiling) (0.57.1)\n",
      "Requirement already satisfied: PyWavelets in /opt/conda/lib/python3.11/site-packages (from imagehash==4.3.1->ydata-profiling) (1.4.1)\n",
      "Requirement already satisfied: pillow in /opt/conda/lib/python3.11/site-packages (from imagehash==4.3.1->ydata-profiling) (10.1.0)\n",
      "Requirement already satisfied: MarkupSafe>=2.0 in /opt/conda/lib/python3.11/site-packages (from jinja2<3.2,>=2.11.1->ydata-profiling) (2.1.3)\n",
      "Requirement already satisfied: contourpy>=1.0.1 in /opt/conda/lib/python3.11/site-packages (from matplotlib<3.9,>=3.2->ydata-profiling) (1.1.1)\n",
      "Requirement already satisfied: cycler>=0.10 in /opt/conda/lib/python3.11/site-packages (from matplotlib<3.9,>=3.2->ydata-profiling) (0.12.1)\n",
      "Requirement already satisfied: fonttools>=4.22.0 in /opt/conda/lib/python3.11/site-packages (from matplotlib<3.9,>=3.2->ydata-profiling) (4.43.1)\n",
      "Requirement already satisfied: kiwisolver>=1.0.1 in /opt/conda/lib/python3.11/site-packages (from matplotlib<3.9,>=3.2->ydata-profiling) (1.4.5)\n",
      "Requirement already satisfied: packaging>=20.0 in /opt/conda/lib/python3.11/site-packages (from matplotlib<3.9,>=3.2->ydata-profiling) (23.2)\n",
      "Requirement already satisfied: pyparsing>=2.3.1 in /opt/conda/lib/python3.11/site-packages (from matplotlib<3.9,>=3.2->ydata-profiling) (3.1.1)\n",
      "Requirement already satisfied: python-dateutil>=2.7 in /opt/conda/lib/python3.11/site-packages (from matplotlib<3.9,>=3.2->ydata-profiling) (2.8.2)\n",
      "Requirement already satisfied: llvmlite<0.41,>=0.40.0dev0 in /opt/conda/lib/python3.11/site-packages (from numba<1,>=0.56.0->ydata-profiling) (0.40.1)\n",
      "Requirement already satisfied: pytz>=2020.1 in /opt/conda/lib/python3.11/site-packages (from pandas!=1.4.0,<3,>1.1->ydata-profiling) (2023.3.post1)\n",
      "Requirement already satisfied: tzdata>=2022.1 in /opt/conda/lib/python3.11/site-packages (from pandas!=1.4.0,<3,>1.1->ydata-profiling) (2023.3)\n",
      "Requirement already satisfied: joblib>=0.14.1 in /opt/conda/lib/python3.11/site-packages (from phik<0.13,>=0.11.1->ydata-profiling) (1.3.2)\n",
      "Collecting annotated-types>=0.4.0 (from pydantic>=2->ydata-profiling)\n",
      "  Downloading annotated_types-0.6.0-py3-none-any.whl.metadata (12 kB)\n",
      "Collecting pydantic-core==2.16.3 (from pydantic>=2->ydata-profiling)\n",
      "  Downloading pydantic_core-2.16.3-cp311-cp311-manylinux_2_17_x86_64.manylinux2014_x86_64.whl.metadata (6.5 kB)\n",
      "Requirement already satisfied: typing-extensions>=4.6.1 in /opt/conda/lib/python3.11/site-packages (from pydantic>=2->ydata-profiling) (4.8.0)\n",
      "Requirement already satisfied: charset-normalizer<4,>=2 in /opt/conda/lib/python3.11/site-packages (from requests<3,>=2.24.0->ydata-profiling) (3.3.0)\n",
      "Requirement already satisfied: idna<4,>=2.5 in /opt/conda/lib/python3.11/site-packages (from requests<3,>=2.24.0->ydata-profiling) (3.4)\n",
      "Requirement already satisfied: urllib3<3,>=1.21.1 in /opt/conda/lib/python3.11/site-packages (from requests<3,>=2.24.0->ydata-profiling) (2.0.7)\n",
      "Requirement already satisfied: certifi>=2017.4.17 in /opt/conda/lib/python3.11/site-packages (from requests<3,>=2.24.0->ydata-profiling) (2023.7.22)\n",
      "Requirement already satisfied: patsy>=0.5.2 in /opt/conda/lib/python3.11/site-packages (from statsmodels<1,>=0.13.2->ydata-profiling) (0.5.3)\n",
      "Collecting typing-extensions>=4.6.1 (from pydantic>=2->ydata-profiling)\n",
      "  Downloading typing_extensions-4.11.0-py3-none-any.whl.metadata (3.0 kB)\n",
      "Requirement already satisfied: attrs>=19.3.0 in /opt/conda/lib/python3.11/site-packages (from visions<0.7.7,>=0.7.5->visions[type_image_path]<0.7.7,>=0.7.5->ydata-profiling) (23.1.0)\n",
      "Requirement already satisfied: networkx>=2.4 in /opt/conda/lib/python3.11/site-packages (from visions<0.7.7,>=0.7.5->visions[type_image_path]<0.7.7,>=0.7.5->ydata-profiling) (3.2)\n",
      "Requirement already satisfied: six in /opt/conda/lib/python3.11/site-packages (from patsy>=0.5.2->statsmodels<1,>=0.13.2->ydata-profiling) (1.16.0)\n",
      "Downloading ydata_profiling-4.7.0-py2.py3-none-any.whl (357 kB)\n",
      "\u001b[2K   \u001b[90m━━━━━━━━━━━━━━━━━━━━━━━━━━━━━━━━━━━━━━━━\u001b[0m \u001b[32m357.9/357.9 kB\u001b[0m \u001b[31m10.7 MB/s\u001b[0m eta \u001b[36m0:00:00\u001b[0ma \u001b[36m0:00:01\u001b[0m\n",
      "\u001b[?25hDownloading ImageHash-4.3.1-py2.py3-none-any.whl (296 kB)\n",
      "\u001b[2K   \u001b[90m━━━━━━━━━━━━━━━━━━━━━━━━━━━━━━━━━━━━━━━━\u001b[0m \u001b[32m296.5/296.5 kB\u001b[0m \u001b[31m12.2 MB/s\u001b[0m eta \u001b[36m0:00:00\u001b[0m\n",
      "\u001b[?25hDownloading dacite-1.8.1-py3-none-any.whl (14 kB)\n",
      "Downloading multimethod-1.11.2-py3-none-any.whl (10 kB)\n",
      "Downloading phik-0.12.4-cp311-cp311-manylinux_2_17_x86_64.manylinux2014_x86_64.whl (687 kB)\n",
      "\u001b[2K   \u001b[90m━━━━━━━━━━━━━━━━━━━━━━━━━━━━━━━━━━━━━━━━\u001b[0m \u001b[32m687.8/687.8 kB\u001b[0m \u001b[31m19.4 MB/s\u001b[0m eta \u001b[36m0:00:00\u001b[0m00:01\u001b[0m\n",
      "\u001b[?25hDownloading pydantic-2.6.4-py3-none-any.whl (394 kB)\n",
      "\u001b[2K   \u001b[90m━━━━━━━━━━━━━━━━━━━━━━━━━━━━━━━━━━━━━━━━\u001b[0m \u001b[32m394.9/394.9 kB\u001b[0m \u001b[31m25.7 MB/s\u001b[0m eta \u001b[36m0:00:00\u001b[0m\n",
      "\u001b[?25hDownloading pydantic_core-2.16.3-cp311-cp311-manylinux_2_17_x86_64.manylinux2014_x86_64.whl (2.2 MB)\n",
      "\u001b[2K   \u001b[90m━━━━━━━━━━━━━━━━━━━━━━━━━━━━━━━━━━━━━━━━\u001b[0m \u001b[32m2.2/2.2 MB\u001b[0m \u001b[31m29.5 MB/s\u001b[0m eta \u001b[36m0:00:00\u001b[0m00:01\u001b[0m00:01\u001b[0m\n",
      "\u001b[?25hDownloading seaborn-0.12.2-py3-none-any.whl (293 kB)\n",
      "\u001b[2K   \u001b[90m━━━━━━━━━━━━━━━━━━━━━━━━━━━━━━━━━━━━━━━━\u001b[0m \u001b[32m293.3/293.3 kB\u001b[0m \u001b[31m12.8 MB/s\u001b[0m eta \u001b[36m0:00:00\u001b[0m\n",
      "\u001b[?25hDownloading typeguard-4.2.1-py3-none-any.whl (34 kB)\n",
      "Downloading visions-0.7.6-py3-none-any.whl (104 kB)\n",
      "\u001b[2K   \u001b[90m━━━━━━━━━━━━━━━━━━━━━━━━━━━━━━━━━━━━━━━━\u001b[0m \u001b[32m104.8/104.8 kB\u001b[0m \u001b[31m11.3 MB/s\u001b[0m eta \u001b[36m0:00:00\u001b[0m\n",
      "\u001b[?25hDownloading wordcloud-1.9.3-cp311-cp311-manylinux_2_17_x86_64.manylinux2014_x86_64.whl (548 kB)\n",
      "\u001b[2K   \u001b[90m━━━━━━━━━━━━━━━━━━━━━━━━━━━━━━━━━━━━━━━━\u001b[0m \u001b[32m548.3/548.3 kB\u001b[0m \u001b[31m16.8 MB/s\u001b[0m eta \u001b[36m0:00:00\u001b[0m\n",
      "\u001b[?25hDownloading annotated_types-0.6.0-py3-none-any.whl (12 kB)\n",
      "Downloading typing_extensions-4.11.0-py3-none-any.whl (34 kB)\n",
      "Building wheels for collected packages: htmlmin\n",
      "  Building wheel for htmlmin (setup.py) ... \u001b[?25ldone\n",
      "\u001b[?25h  Created wheel for htmlmin: filename=htmlmin-0.1.12-py3-none-any.whl size=27081 sha256=bcb2b21b928dd942959b97e86ecf4b58f8ec615ca5b446023a87b129259dfc6f\n",
      "  Stored in directory: /home/jovyan/.cache/pip/wheels/8d/55/1a/19cd535375ed1ede0c996405ebffe34b196d78e2d9545723a2\n",
      "Successfully built htmlmin\n",
      "Installing collected packages: htmlmin, typing-extensions, multimethod, dacite, annotated-types, typeguard, pydantic-core, imagehash, wordcloud, visions, seaborn, pydantic, phik, ydata-profiling\n",
      "  Attempting uninstall: typing-extensions\n",
      "    Found existing installation: typing_extensions 4.8.0\n",
      "    Uninstalling typing_extensions-4.8.0:\n",
      "      Successfully uninstalled typing_extensions-4.8.0\n",
      "  Attempting uninstall: seaborn\n",
      "    Found existing installation: seaborn 0.13.0\n",
      "    Uninstalling seaborn-0.13.0:\n",
      "      Successfully uninstalled seaborn-0.13.0\n",
      "Successfully installed annotated-types-0.6.0 dacite-1.8.1 htmlmin-0.1.12 imagehash-4.3.1 multimethod-1.11.2 phik-0.12.4 pydantic-2.6.4 pydantic-core-2.16.3 seaborn-0.12.2 typeguard-4.2.1 typing-extensions-4.11.0 visions-0.7.6 wordcloud-1.9.3 ydata-profiling-4.7.0\n",
      "Requirement already satisfied: setuptools in /opt/conda/lib/python3.11/site-packages (68.2.2)\n"
     ]
    }
   ],
   "source": [
    "# Tehdään perus EDA (Explorative Data Analysis)\n",
    "!pip install ydata-profiling\n",
    "!pip install setuptools"
   ]
  },
  {
   "cell_type": "code",
   "execution_count": 30,
   "id": "eceaff8c",
   "metadata": {
    "jupyter": {
     "source_hidden": true
    }
   },
   "outputs": [
    {
     "name": "stdout",
     "output_type": "stream",
     "text": [
      "         node_id             x             y\n",
      "count  6489294.0  6.489294e+06  6.489294e+06\n",
      "mean      3200.0  7.801438e+02  2.594087e+03\n",
      "std          0.0  1.977287e+03  7.415937e+02\n",
      "min       3200.0 -3.281800e+04 -3.270500e+04\n",
      "25%       3200.0  4.600000e+01  2.453000e+03\n",
      "50%       3200.0  1.320000e+02  2.536000e+03\n",
      "75%       3200.0  3.130000e+02  2.642000e+03\n",
      "max       3200.0  3.265500e+04  3.270600e+04\n",
      "<class 'pandas.core.frame.DataFrame'>\n",
      "RangeIndex: 6489294 entries, 0 to 6489293\n",
      "Data columns (total 4 columns):\n",
      " #   Column     Dtype \n",
      "---  ------     ----- \n",
      " 0   node_id    int32 \n",
      " 1   timestamp  object\n",
      " 2   x          int32 \n",
      " 3   y          int32 \n",
      "dtypes: int32(3), object(1)\n",
      "memory usage: 123.8+ MB\n"
     ]
    }
   ],
   "source": [
    "# Tässä prosessoinnin vaiheessa poistetaan Z & Q sarakkeet\n",
    "\n",
    "df = df.drop(columns=['z', 'q'])\n",
    "print(df.describe())\n",
    "df.info(verbose=True)"
   ]
  },
  {
   "cell_type": "code",
   "execution_count": 31,
   "id": "43c39c7f",
   "metadata": {},
   "outputs": [
    {
     "name": "stdout",
     "output_type": "stream",
     "text": [
      "<class 'pandas.core.frame.DataFrame'>\n",
      "RangeIndex: 6489294 entries, 0 to 6489293\n",
      "Data columns (total 4 columns):\n",
      " #   Column     Dtype              \n",
      "---  ------     -----              \n",
      " 0   node_id    int32              \n",
      " 1   timestamp  datetime64[ns, UTC]\n",
      " 2   x          int32              \n",
      " 3   y          int32              \n",
      "dtypes: datetime64[ns, UTC](1), int32(3)\n",
      "memory usage: 123.8 MB\n",
      "   node_id                        timestamp   x   y\n",
      "0     3200 2019-03-07 11:46:19.078016+00:00   0   0\n",
      "1     3200 2019-03-07 11:46:20.078012+00:00   0   0\n",
      "2     3200 2019-03-07 11:46:21.078081+00:00   0   0\n",
      "3     3200 2019-03-07 11:46:22.078130+00:00   0   0\n",
      "4     3200 2019-03-13 15:29:43.686639+00:00 -50  50\n",
      "5     3200 2019-03-13 15:29:44.686592+00:00 -50  50\n",
      "6     3200 2019-03-13 15:29:45.686654+00:00 -50  50\n",
      "7     3200 2019-03-13 15:29:46.686785+00:00 -50  50\n",
      "8     3200 2019-03-13 15:29:47.687715+00:00 -50  50\n",
      "9     3200 2019-03-13 15:29:48.686671+00:00 -50  50\n"
     ]
    }
   ],
   "source": [
    "# Tässä prosessoinnin vaiheessa laitetaan oikea tietotyyppi timestamp sarakkeelle (datetime)\n",
    "\n",
    "df[\"timestamp\"] = pd.to_datetime(df[\"timestamp\"])\n",
    "\n",
    "df.info(verbose=True)\n",
    "print(df.head(n=10))\n"
   ]
  },
  {
   "cell_type": "code",
   "execution_count": 46,
   "id": "8fbe7185",
   "metadata": {},
   "outputs": [
    {
     "data": {
      "image/png": "[encoded data removed]",
      "text/plain": [
       "<Figure size 1000x600 with 1 Axes>"
      ]
     },
     "metadata": {},
     "output_type": "display_data"
    },
    {
     "name": "stdout",
     "output_type": "stream",
     "text": [
      "         node_id             x             y          z             q\n",
      "count  6489294.0  6.489294e+06  6.489294e+06  6489294.0  6.489294e+06\n",
      "mean      3200.0  7.801438e+02  2.594087e+03        0.0  6.484833e+01\n",
      "std          0.0  1.977287e+03  7.415937e+02        0.0  3.327497e+01\n",
      "min       3200.0 -3.281800e+04 -3.270500e+04        0.0  0.000000e+00\n",
      "25%       3200.0  4.600000e+01  2.453000e+03        0.0  4.800000e+01\n",
      "50%       3200.0  1.320000e+02  2.536000e+03        0.0  5.600000e+01\n",
      "75%       3200.0  3.130000e+02  2.642000e+03        0.0  6.900000e+01\n",
      "max       3200.0  3.265500e+04  3.270600e+04        0.0  2.550000e+02\n"
     ]
    }
   ],
   "source": [
    "# Tarkastellaan ja poistetaan Outlierit\n",
    "import matplotlib.pyplot as plt\n",
    "%matplotlib inline\n",
    "plt.figure(figsize=(10, 6))\n",
    "df.boxplot(column=['x', 'y'])\n",
    "plt.title('Boxplot of X and Y Variables')\n",
    "plt.ylabel('Values')\n",
    "plt.xlabel('Variables')\n",
    "plt.show()\n",
    "\n",
    "print(df.describe())"
   ]
  },
  {
   "cell_type": "code",
   "execution_count": 32,
   "id": "cdd300fc",
   "metadata": {},
   "outputs": [
    {
     "name": "stdout",
     "output_type": "stream",
     "text": [
      "<class 'pandas.core.frame.DataFrame'>\n",
      "Index: 1088631 entries, 0 to 6489290\n",
      "Data columns (total 4 columns):\n",
      " #   Column     Non-Null Count    Dtype              \n",
      "---  ------     --------------    -----              \n",
      " 0   node_id    1088631 non-null  int32              \n",
      " 1   timestamp  1088631 non-null  datetime64[ns, UTC]\n",
      " 2   x          1088631 non-null  int32              \n",
      " 3   y          1088631 non-null  int32              \n",
      "dtypes: datetime64[ns, UTC](1), int32(3)\n",
      "memory usage: 29.1 MB\n"
     ]
    },
    {
     "data": {
      "image/png": "[encoded data removed]",
      "text/plain": [
       "<Figure size 1000x600 with 1 Axes>"
      ]
     },
     "metadata": {},
     "output_type": "display_data"
    }
   ],
   "source": [
    "# Tarkastellaan ja poistetaan Outlierit\n",
    "\n",
    "# Määritellään ylä ja alarajat X-akselissa \n",
    "lower_bound_X = -700\n",
    "upper_bound_X = 10250\n",
    "\n",
    "\n",
    "# Määritellään ylä ja alarajat y-akselissa\n",
    "lower_bound_Y = 0\n",
    "upper_bound_Y = 5100\n",
    "\n",
    "# Filteröidään pois\n",
    "outliers_X = df[(df['x'] < lower_bound_X) | (df['x'] > upper_bound_X)]\n",
    "outliers_Y = df[(df['y'] < lower_bound_Y) | (df['y'] > upper_bound_Y)]\n",
    "\n",
    "#Latausasemien filtteröinti\n",
    "charging_station1 = df[df['x'].between(-150, 1600) & (df['y'] > 2900)]\n",
    "charging_station2 = df[(df['y']> 2000) & df['x'].between(-150, 800)]\n",
    "\n",
    "\n",
    "# Poistetaan outlierit\n",
    "df = df[~df.index.isin(outliers_X.index) & ~df.index.isin(outliers_Y.index)]\n",
    "df = df[~df.index.isin(charging_station1.index) & ~df.index.isin(charging_station2.index)]\n",
    "\n",
    "df.info(verbose=True)\n",
    "\n",
    "\n",
    "\n",
    "\n",
    "\n",
    "import matplotlib.pyplot as plt\n",
    "%matplotlib inline\n",
    "plt.figure(figsize=(10, 6))\n",
    "df.boxplot(column=['x', 'y'])\n",
    "plt.title('Boxplot of X and Y Variables')\n",
    "plt.ylabel('Values')\n",
    "plt.xlabel('Variables')\n",
    "plt.show()"
   ]
  },
  {
   "cell_type": "markdown",
   "id": "f0da148a",
   "metadata": {},
   "source": [
    "### Onko jotain muuta?\n",
    "\n",
    "- Poistetaan järjestelmän koordinaatiston vanhat rajoitteet. Ainakin aikaisemmassa versiossa x,y akselit olivat rajoitettu tiettyyn arvoon, esim x>=(-50), jos kärryt menivät yli rajojen. Tällöin jos kärry meni alle -50 arvoon, niin se tallennettiin x=-50"
   ]
  },
  {
   "cell_type": "code",
   "execution_count": 33,
   "id": "c40370a2",
   "metadata": {},
   "outputs": [
    {
     "name": "stdout",
     "output_type": "stream",
     "text": [
      "Löydetty: 9448 37049 9919 kpl\n"
     ]
    }
   ],
   "source": [
    "limited_left_val = df['x'].isin([-50])\n",
    "limited_upper_val = df['y'].isin([150])\n",
    "limited_lower_val = df['y'].isin([5050])\n",
    "\n",
    "print(\"Löydetty:\", limited_lower_val.value_counts()[True], limited_left_val.value_counts()[True], limited_upper_val.value_counts()[True], \"kpl\")\n",
    "\n",
    "df = df[~limited_left_val & ~limited_upper_val & ~limited_lower_val]"
   ]
  },
  {
   "cell_type": "markdown",
   "id": "c1653ab4",
   "metadata": {},
   "source": []
  },
  {
   "cell_type": "code",
   "execution_count": 9,
   "id": "4844656e",
   "metadata": {},
   "outputs": [
    {
     "name": "stdout",
     "output_type": "stream",
     "text": [
      "<class 'pandas.core.frame.DataFrame'>\n",
      "Index: 1081371 entries, 0 to 6489293\n",
      "Data columns (total 4 columns):\n",
      " #   Column     Non-Null Count    Dtype              \n",
      "---  ------     --------------    -----              \n",
      " 0   node_id    1081371 non-null  int32              \n",
      " 1   timestamp  1081371 non-null  datetime64[ns, UTC]\n",
      " 2   x          1081371 non-null  int32              \n",
      " 3   y          1081371 non-null  int32              \n",
      "dtypes: datetime64[ns, UTC](1), int32(3)\n",
      "memory usage: 28.9 MB\n"
     ]
    }
   ],
   "source": [
    "df.info(verbose=True)"
   ]
  },
  {
   "cell_type": "code",
   "execution_count": 34,
   "id": "1dfb3237",
   "metadata": {},
   "outputs": [
    {
     "name": "stdout",
     "output_type": "stream",
     "text": [
      "Table dropped\n",
      "Silver_SensorData luotu\n",
      "Tallennetaan dataframe tietokantaan, jonka muoto on: (1040755, 4)\n",
      "Tallennus tauluun Silver_SensorData onnistui\n"
     ]
    }
   ],
   "source": [
    "from functions.database import create_db_table\n",
    "from functions.database import insert_dataframe_into_table\n",
    "from functions.database import drop_table\n",
    "\n",
    "#from functions.database import drop_table\n",
    "# Tallennetaan dataframe silver tauluun\n",
    "\n",
    "table_name = \"Silver_SensorData\" # tai Silver_SensorData\n",
    "duckdb_path = \"data/duckdb.database\"\n",
    "schema = f'''\n",
    "        CREATE TABLE {table_name} (\n",
    "        node_id INTEGER NOT NULL,\n",
    "        timestamp TIMESTAMP,\n",
    "        x INTEGER NOT NULL,\n",
    "        y INTEGER NOT NULL,\n",
    "        )\n",
    "        '''\n",
    "\n",
    "drop_table(table_name, duckdb_path) # Poista kommentti, jos tarvitsee poistaa tietokantataulu\n",
    "create_db_table(database=duckdb_path, table_name=table_name,schema=schema) # Luodaan tietokantataulu\n",
    "insert_dataframe_into_table(database=duckdb_path, table_name=table_name, df=df, insert=True) # Lisätään dataframe tietokantatauluun (Insert, eli lisätään rivejä vanhan perään)\n",
    "\n"
   ]
  },
  {
   "cell_type": "code",
   "execution_count": 35,
   "id": "bc14e0f7",
   "metadata": {},
   "outputs": [
    {
     "name": "stdout",
     "output_type": "stream",
     "text": [
      "┌─────────┬────────────────────────────┬───────┬───────┐\n",
      "│ node_id │         timestamp          │   x   │   y   │\n",
      "│  int32  │         timestamp          │ int32 │ int32 │\n",
      "├─────────┼────────────────────────────┼───────┼───────┤\n",
      "│    3200 │ 2019-03-07 13:46:19.078016 │     0 │     0 │\n",
      "│    3200 │ 2019-03-07 13:46:20.078012 │     0 │     0 │\n",
      "│    3200 │ 2019-03-07 13:46:21.078081 │     0 │     0 │\n",
      "│    3200 │ 2019-03-07 13:46:22.07813  │     0 │     0 │\n",
      "│    3200 │ 2019-03-14 11:57:31.687637 │   228 │  1084 │\n",
      "│    3200 │ 2019-03-14 11:57:32.687573 │   272 │  1240 │\n",
      "│    3200 │ 2019-03-14 11:57:33.687582 │   314 │  1388 │\n",
      "│    3200 │ 2019-03-14 11:57:34.687527 │   352 │  1523 │\n",
      "│    3200 │ 2019-03-14 11:57:35.687944 │   386 │  1642 │\n",
      "│    3200 │ 2019-03-14 11:57:36.688477 │   415 │  1745 │\n",
      "│      ·  │             ·              │    ·  │    ·  │\n",
      "│      ·  │             ·              │    ·  │    ·  │\n",
      "│      ·  │             ·              │    ·  │    ·  │\n",
      "│    3200 │ 2019-03-15 16:16:13.695478 │  7181 │  3361 │\n",
      "│    3200 │ 2019-03-15 16:16:14.69543  │  7181 │  3366 │\n",
      "│    3200 │ 2019-03-15 16:16:15.695393 │  7179 │  3360 │\n",
      "│    3200 │ 2019-03-15 16:16:16.695407 │  7176 │  3361 │\n",
      "│    3200 │ 2019-03-15 16:16:17.695362 │  7179 │  3388 │\n",
      "│    3200 │ 2019-03-15 16:16:18.695905 │  7177 │  3381 │\n",
      "│    3200 │ 2019-03-15 16:16:19.695494 │  7180 │  3373 │\n",
      "│    3200 │ 2019-03-15 16:16:20.695494 │  7179 │  3393 │\n",
      "│    3200 │ 2019-03-15 16:16:21.695539 │  7175 │  3412 │\n",
      "│    3200 │ 2019-03-15 16:16:22.695407 │  7176 │  3395 │\n",
      "├─────────┴────────────────────────────┴───────┴───────┤\n",
      "│ ? rows (>9999 rows, 20 shown)              4 columns │\n",
      "└──────────────────────────────────────────────────────┘\n",
      "\n"
     ]
    }
   ],
   "source": [
    "# Tarkistetaan, miltä luotu taulu näyttää:\n",
    "table_name = \"Silver_SensorData\"\n",
    "duckdb_path = \"data/duckdb.database\"\n",
    "import duckdb\n",
    "conn = duckdb.connect(database=duckdb_path)\n",
    "conn.table(table_name).show()\n",
    "conn.close()"
   ]
  },
  {
   "cell_type": "code",
   "execution_count": null,
   "id": "e835d4e0-2526-485f-82e8-16e515cf36b8",
   "metadata": {},
   "outputs": [],
   "source": []
  }
 ],
 "metadata": {
  "kernelspec": {
   "display_name": "Python 3 (ipykernel)",
   "language": "python",
   "name": "python3"
  },
  "language_info": {
   "codemirror_mode": {
    "name": "ipython",
    "version": 3
   },
   "file_extension": ".py",
   "mimetype": "text/x-python",
   "name": "python",
   "nbconvert_exporter": "python",
   "pygments_lexer": "ipython3",
   "version": "3.10.12"
  }
 },
 "nbformat": 4,
 "nbformat_minor": 5
}
