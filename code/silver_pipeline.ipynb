{
 "cells": [
  {
   "cell_type": "markdown",
   "id": "2ba92c30-280a-41e1-8796-a9a36f6139af",
   "metadata": {},
   "source": [
    "Tässä notebookissa tehdään Silver-tason prosessoinnit datalle, eli ladataan bronze_pipeline.ipynb ETL-putken luomat lopputulokset ja otetaan data esikäsittellyyn. Esikäsittelyssä data putsataan ja prosessoidaan haluttuun muotoon. Tämän jälkeen data tallennetaan Gold-tason tauluun, joka toimii datan lopullisena tallennuspaikkana, josta sitä käytetään tämän projektin muissa välivaiheissa."
   ]
  },
  {
   "cell_type": "code",
   "execution_count": 1,
   "id": "36a8afa9-6f9c-4832-b8c7-58cff0d77995",
   "metadata": {},
   "outputs": [
    {
     "name": "stdout",
     "output_type": "stream",
     "text": [
      "Requirement already satisfied: duckdb in d:\\kouluhommat\\projektiopinnot-1-datan-hallinta-ttm23sai\\.venv\\lib\\site-packages (0.10.1)\n"
     ]
    },
    {
     "name": "stderr",
     "output_type": "stream",
     "text": [
      "\n",
      "[notice] A new release of pip is available: 23.2.1 -> 24.0\n",
      "[notice] To update, run: python.exe -m pip install --upgrade pip\n"
     ]
    }
   ],
   "source": [
    "!pip install duckdb"
   ]
  },
  {
   "cell_type": "code",
   "execution_count": 2,
   "id": "db970226-895a-43e9-99af-bd74bab63181",
   "metadata": {},
   "outputs": [
    {
     "name": "stdout",
     "output_type": "stream",
     "text": [
      "┌─────────┬──────────────────────────────────┬───────┬───────┬───────┬───────┐\n",
      "│ node_id │            timestamp             │   x   │   y   │   z   │   q   │\n",
      "│  int32  │             varchar              │ int32 │ int32 │ int32 │ int32 │\n",
      "├─────────┼──────────────────────────────────┼───────┼───────┼───────┼───────┤\n",
      "│    3200 │ 2019-03-07 11:46:19.078016+00:00 │     0 │     0 │     0 │    51 │\n",
      "│    3200 │ 2019-03-07 11:46:20.078012+00:00 │     0 │     0 │     0 │   163 │\n",
      "│    3200 │ 2019-03-07 11:46:21.078081+00:00 │     0 │     0 │     0 │    42 │\n",
      "│    3200 │ 2019-03-07 11:46:22.07813+00:00  │     0 │     0 │     0 │   105 │\n",
      "│    3200 │ 2019-03-13 15:29:43.686639+00:00 │   -50 │    50 │     0 │   106 │\n",
      "│    3200 │ 2019-03-13 15:29:44.686592+00:00 │   -50 │    50 │     0 │    76 │\n",
      "│    3200 │ 2019-03-13 15:29:45.686654+00:00 │   -50 │    50 │     0 │    68 │\n",
      "│    3200 │ 2019-03-13 15:29:46.686785+00:00 │   -50 │    50 │     0 │   142 │\n",
      "│    3200 │ 2019-03-13 15:29:47.687715+00:00 │   -50 │    50 │     0 │   118 │\n",
      "│    3200 │ 2019-03-13 15:29:48.686671+00:00 │   -50 │    50 │     0 │   108 │\n",
      "│      ·  │                ·                 │     · │     · │     · │     · │\n",
      "│      ·  │                ·                 │     · │     · │     · │     · │\n",
      "│      ·  │                ·                 │     · │     · │     · │     · │\n",
      "│    3200 │ 2019-03-13 18:16:18.687651+00:00 │    85 │  2600 │     0 │    90 │\n",
      "│    3200 │ 2019-03-13 18:16:20.688145+00:00 │    91 │  2603 │     0 │    90 │\n",
      "│    3200 │ 2019-03-13 18:16:20.688157+00:00 │    81 │  2600 │     0 │    74 │\n",
      "│    3200 │ 2019-03-13 18:16:21.687772+00:00 │    84 │  2604 │     0 │    93 │\n",
      "│    3200 │ 2019-03-13 18:16:22.68769+00:00  │   100 │  2607 │     0 │    87 │\n",
      "│    3200 │ 2019-03-13 18:16:23.687961+00:00 │   105 │  2607 │     0 │    88 │\n",
      "│    3200 │ 2019-03-13 18:16:24.687727+00:00 │    91 │  2600 │     0 │    77 │\n",
      "│    3200 │ 2019-03-13 18:16:25.687547+00:00 │    80 │  2596 │     0 │    77 │\n",
      "│    3200 │ 2019-03-13 18:16:26.687789+00:00 │    74 │  2591 │     0 │    80 │\n",
      "│    3200 │ 2019-03-13 18:16:27.687683+00:00 │    72 │  2583 │     0 │    76 │\n",
      "├─────────┴──────────────────────────────────┴───────┴───────┴───────┴───────┤\n",
      "│ ? rows (>9999 rows, 20 shown)                                    6 columns │\n",
      "└────────────────────────────────────────────────────────────────────────────┘\n",
      "\n"
     ]
    }
   ],
   "source": [
    "import duckdb\n",
    "import pandas as pd\n",
    "duckdb_path = \"data/duckdb.database\" # Duckdb tietokannalle annettava nimi, tallentuu lokaalisti\n",
    "table_name = \"Bronze_SensorData_lite\" # Tietokantataulu, josta luetaan\n",
    "\n",
    "# Ota yhteys tietokantaa ja tarkista mitä dataa taulusta löytyy\n",
    "conn = duckdb.connect(database=duckdb_path)\n",
    "conn.table(table_name).show()\n",
    "conn.close()"
   ]
  },
  {
   "cell_type": "code",
   "execution_count": 3,
   "id": "ce2aa2a1-562c-4c53-b5af-b34800e4cff9",
   "metadata": {},
   "outputs": [],
   "source": [
    "import duckdb\n",
    "import pandas as pd\n",
    "duckdb_path = \"data/duckdb.database\" # Duckdb tietokannalle annettava nimi, tallentuu lokaalisti\n",
    "table_name = \"Bronze_SensorData_lite\" # Tietokantataulu, josta luetaan\n",
    "\n",
    "# Ota yhteys tietokantaa ja tarkista mitä dataa taulusta löytyy\n",
    "conn = duckdb.connect(database=duckdb_path)\n",
    "df = conn.sql(f\"SELECT * FROM {table_name}\").df() # Tallenentaan taulun data Pandasin dataframeen\n",
    "conn.close()"
   ]
  },
  {
   "cell_type": "code",
   "execution_count": 4,
   "id": "bc23b1a7-7554-4075-936c-53c5de1c1593",
   "metadata": {},
   "outputs": [
    {
     "name": "stdout",
     "output_type": "stream",
     "text": [
      "<class 'pandas.core.frame.DataFrame'>\n",
      "RangeIndex: 12978588 entries, 0 to 12978587\n",
      "Data columns (total 6 columns):\n",
      " #   Column     Dtype \n",
      "---  ------     ----- \n",
      " 0   node_id    int32 \n",
      " 1   timestamp  object\n",
      " 2   x          int32 \n",
      " 3   y          int32 \n",
      " 4   z          int32 \n",
      " 5   q          int32 \n",
      "dtypes: int32(5), object(1)\n",
      "memory usage: 346.6+ MB\n"
     ]
    }
   ],
   "source": [
    "df.info(verbose=True)"
   ]
  },
  {
   "cell_type": "code",
   "execution_count": null,
   "id": "df5561c9",
   "metadata": {},
   "outputs": [],
   "source": [
    "# Tehdään perus EDA (Explorative Data Analysis)\n",
    "!pip install ydata-profiling\n",
    "!pip install setuptools"
   ]
  },
  {
   "cell_type": "code",
   "execution_count": null,
   "id": "fb72161d",
   "metadata": {},
   "outputs": [],
   "source": [
    "import numpy as np\n",
    "import pandas as pd\n",
    "from ydata_profiling import ProfileReport\n",
    "\n",
    "#Tätä ei kannata ajaa koko datasetille, koska kestää ajallisesti tosi pitkään.\n",
    "profile = ProfileReport(df, title=\"Profiling Report\")\n",
    "profile.to_file(\"data_raportti.html\")"
   ]
  },
  {
   "cell_type": "code",
   "execution_count": 5,
   "id": "eceaff8c",
   "metadata": {},
   "outputs": [
    {
     "name": "stdout",
     "output_type": "stream",
     "text": [
      "<class 'pandas.core.frame.DataFrame'>\n",
      "RangeIndex: 12978588 entries, 0 to 12978587\n",
      "Data columns (total 4 columns):\n",
      " #   Column     Dtype \n",
      "---  ------     ----- \n",
      " 0   node_id    int32 \n",
      " 1   timestamp  object\n",
      " 2   x          int32 \n",
      " 3   y          int32 \n",
      "dtypes: int32(3), object(1)\n",
      "memory usage: 247.5+ MB\n"
     ]
    }
   ],
   "source": [
    "# Tässä prosessoinnin vaiheessa poistetaan Z & Q sarakkeet\n",
    "\n",
    "df = df.drop(columns=['z', 'q'])\n",
    "\n",
    "df.info(verbose=True)"
   ]
  },
  {
   "cell_type": "code",
   "execution_count": 6,
   "id": "43c39c7f",
   "metadata": {},
   "outputs": [
    {
     "name": "stdout",
     "output_type": "stream",
     "text": [
      "<class 'pandas.core.frame.DataFrame'>\n",
      "RangeIndex: 12978588 entries, 0 to 12978587\n",
      "Data columns (total 4 columns):\n",
      " #   Column     Dtype              \n",
      "---  ------     -----              \n",
      " 0   node_id    int32              \n",
      " 1   timestamp  datetime64[ns, UTC]\n",
      " 2   x          int32              \n",
      " 3   y          int32              \n",
      "dtypes: datetime64[ns, UTC](1), int32(3)\n",
      "memory usage: 247.5 MB\n",
      "   node_id                        timestamp   x   y\n",
      "0     3200 2019-03-07 11:46:19.078016+00:00   0   0\n",
      "1     3200 2019-03-07 11:46:20.078012+00:00   0   0\n",
      "2     3200 2019-03-07 11:46:21.078081+00:00   0   0\n",
      "3     3200 2019-03-07 11:46:22.078130+00:00   0   0\n",
      "4     3200 2019-03-13 15:29:43.686639+00:00 -50  50\n",
      "5     3200 2019-03-13 15:29:44.686592+00:00 -50  50\n",
      "6     3200 2019-03-13 15:29:45.686654+00:00 -50  50\n",
      "7     3200 2019-03-13 15:29:46.686785+00:00 -50  50\n",
      "8     3200 2019-03-13 15:29:47.687715+00:00 -50  50\n",
      "9     3200 2019-03-13 15:29:48.686671+00:00 -50  50\n"
     ]
    }
   ],
   "source": [
    "# Tässä prosessoinnin vaiheessa laitetaan oikea tietotyyppi timestamp sarakkeelle (datetime)\n",
    "\n",
    "df[\"timestamp\"] = pd.to_datetime(df[\"timestamp\"])\n",
    "\n",
    "df.info(verbose=True)\n",
    "print(df.head(n=10))"
   ]
  },
  {
   "cell_type": "code",
   "execution_count": 7,
   "id": "8fbe7185",
   "metadata": {},
   "outputs": [
    {
     "data": {
      "image/png": "[encoded data removed]",
      "text/plain": [
       "<Figure size 1000x600 with 1 Axes>"
      ]
     },
     "metadata": {},
     "output_type": "display_data"
    },
    {
     "name": "stdout",
     "output_type": "stream",
     "text": [
      "          node_id             x             y\n",
      "count  12978588.0  1.297859e+07  1.297859e+07\n",
      "mean       3200.0  7.801438e+02  2.594087e+03\n",
      "std           0.0  1.977286e+03  7.415937e+02\n",
      "min        3200.0 -3.281800e+04 -3.270500e+04\n",
      "25%        3200.0  4.600000e+01  2.453000e+03\n",
      "50%        3200.0  1.320000e+02  2.536000e+03\n",
      "75%        3200.0  3.130000e+02  2.642000e+03\n",
      "max        3200.0  3.265500e+04  3.270600e+04\n"
     ]
    }
   ],
   "source": [
    "# Tarkastellaan ja poistetaan Outlierit\n",
    "import matplotlib.pyplot as plt\n",
    "%matplotlib inline\n",
    "plt.figure(figsize=(10, 6))\n",
    "df.boxplot(column=['x', 'y'])\n",
    "plt.title('Boxplot of X and Y Variables')\n",
    "plt.ylabel('Values')\n",
    "plt.xlabel('Variables')\n",
    "plt.show()\n",
    "\n",
    "print(df.describe())"
   ]
  },
  {
   "cell_type": "code",
   "execution_count": 8,
   "id": "cdd300fc",
   "metadata": {},
   "outputs": [
    {
     "name": "stdout",
     "output_type": "stream",
     "text": [
      "<class 'pandas.core.frame.DataFrame'>\n",
      "Index: 12970242 entries, 0 to 12978587\n",
      "Data columns (total 4 columns):\n",
      " #   Column     Dtype              \n",
      "---  ------     -----              \n",
      " 0   node_id    int32              \n",
      " 1   timestamp  datetime64[ns, UTC]\n",
      " 2   x          int32              \n",
      " 3   y          int32              \n",
      "dtypes: datetime64[ns, UTC](1), int32(3)\n",
      "memory usage: 346.3 MB\n"
     ]
    },
    {
     "data": {
      "image/png": "[encoded data removed]",
      "text/plain": [
       "<Figure size 1000x600 with 1 Axes>"
      ]
     },
     "metadata": {},
     "output_type": "display_data"
    }
   ],
   "source": [
    "# Tarkastellaan ja poistetaan Outlierit\n",
    "\n",
    "# Määritellään ylä ja alarajat X-akselissa TODO: määrittele tarkemmin\n",
    "lower_bound_X = -12000\n",
    "upper_bound_X = 12000\n",
    "\n",
    "\n",
    "# Määritellään ylä ja alarajat y-akselissa TODO: määrittele tarkemmin\n",
    "lower_bound_Y = -12000\n",
    "upper_bound_Y = 12000\n",
    "\n",
    "# Filteröidään pois\n",
    "outliers_X = df[(df['x'] < lower_bound_X) | (df['x'] > upper_bound_X)]\n",
    "outliers_Y = df[(df['y'] < lower_bound_Y) | (df['y'] > upper_bound_Y)]\n",
    "\n",
    "\n",
    "# Poistetaan outlierit\n",
    "df = df[~df.index.isin(outliers_X.index) & ~df.index.isin(outliers_Y.index)]\n",
    "\n",
    "df.info(verbose=True)\n",
    "\n",
    "\n",
    "import matplotlib.pyplot as plt\n",
    "%matplotlib inline\n",
    "plt.figure(figsize=(10, 6))\n",
    "df.boxplot(column=['x', 'y'])\n",
    "plt.title('Boxplot of X and Y Variables')\n",
    "plt.ylabel('Values')\n",
    "plt.xlabel('Variables')\n",
    "plt.show()"
   ]
  },
  {
   "cell_type": "code",
   "execution_count": null,
   "id": "f0da148a",
   "metadata": {},
   "outputs": [],
   "source": [
    "# Onko jotain muuta?"
   ]
  },
  {
   "cell_type": "code",
   "execution_count": 9,
   "id": "1dfb3237",
   "metadata": {},
   "outputs": [
    {
     "name": "stdout",
     "output_type": "stream",
     "text": [
      "Silver_SensorData_lite on jo olemassa\n",
      "Tallennetaan dataframe tietokantaan, jonka muoto on: (12970242, 4)\n",
      "Tallennus tauluun Silver_SensorData_lite onnistui\n"
     ]
    }
   ],
   "source": [
    "from functions.database import create_db_table\n",
    "from functions.database import insert_dataframe_into_table\n",
    "#from functions.database import drop_table\n",
    "# Tallennetaan dataframe silver tauluun\n",
    "\n",
    "table_name = \"Silver_SensorData_lite\" # tai Silver_SensorData\n",
    "duckdb_path = \"data/duckdb.database\"\n",
    "schema = f'''\n",
    "        CREATE TABLE {table_name} (\n",
    "        node_id INTEGER NOT NULL,\n",
    "        timestamp TIMESTAMP,\n",
    "        x INTEGER NOT NULL,\n",
    "        y INTEGER NOT NULL,\n",
    "        )\n",
    "        '''\n",
    "\n",
    "#drop_table(database=duckdb_path, table_name=table_name) # Poista kommentti, jos tarvitsee poistaa tietokantataulu\n",
    "create_db_table(database=duckdb_path, table_name=table_name,schema=schema) # Luodaan tietokantataulu\n",
    "insert_dataframe_into_table(database=duckdb_path, table_name=table_name, df=df, insert=True) # Lisätään dataframe tietokantatauluun (Insert, eli lisätään rivejä vanhan perään)\n",
    "\n"
   ]
  },
  {
   "cell_type": "code",
   "execution_count": 10,
   "id": "bc14e0f7",
   "metadata": {},
   "outputs": [
    {
     "name": "stdout",
     "output_type": "stream",
     "text": [
      "┌─────────┬────────────────────────────┬───────┬───────┐\n",
      "│ node_id │         timestamp          │   x   │   y   │\n",
      "│  int32  │         timestamp          │ int32 │ int32 │\n",
      "├─────────┼────────────────────────────┼───────┼───────┤\n",
      "│    3200 │ 2019-03-07 13:46:19.078016 │     0 │     0 │\n",
      "│    3200 │ 2019-03-07 13:46:20.078012 │     0 │     0 │\n",
      "│    3200 │ 2019-03-07 13:46:21.078081 │     0 │     0 │\n",
      "│    3200 │ 2019-03-07 13:46:22.07813  │     0 │     0 │\n",
      "│    3200 │ 2019-03-13 17:29:43.686639 │   -50 │    50 │\n",
      "│    3200 │ 2019-03-13 17:29:44.686592 │   -50 │    50 │\n",
      "│    3200 │ 2019-03-13 17:29:45.686654 │   -50 │    50 │\n",
      "│    3200 │ 2019-03-13 17:29:46.686785 │   -50 │    50 │\n",
      "│    3200 │ 2019-03-13 17:29:47.687715 │   -50 │    50 │\n",
      "│    3200 │ 2019-03-13 17:29:48.686671 │   -50 │    50 │\n",
      "│      ·  │             ·              │     · │     · │\n",
      "│      ·  │             ·              │     · │     · │\n",
      "│      ·  │             ·              │     · │     · │\n",
      "│    3200 │ 2019-03-13 20:16:18.687651 │    85 │  2600 │\n",
      "│    3200 │ 2019-03-13 20:16:20.688145 │    91 │  2603 │\n",
      "│    3200 │ 2019-03-13 20:16:20.688157 │    81 │  2600 │\n",
      "│    3200 │ 2019-03-13 20:16:21.687772 │    84 │  2604 │\n",
      "│    3200 │ 2019-03-13 20:16:22.68769  │   100 │  2607 │\n",
      "│    3200 │ 2019-03-13 20:16:23.687961 │   105 │  2607 │\n",
      "│    3200 │ 2019-03-13 20:16:24.687727 │    91 │  2600 │\n",
      "│    3200 │ 2019-03-13 20:16:25.687547 │    80 │  2596 │\n",
      "│    3200 │ 2019-03-13 20:16:26.687789 │    74 │  2591 │\n",
      "│    3200 │ 2019-03-13 20:16:27.687683 │    72 │  2583 │\n",
      "├─────────┴────────────────────────────┴───────┴───────┤\n",
      "│ ? rows (>9999 rows, 20 shown)              4 columns │\n",
      "└──────────────────────────────────────────────────────┘\n",
      "\n"
     ]
    }
   ],
   "source": [
    "# Tarkistetaan, miltä luotu taulu näyttää:\n",
    "conn = duckdb.connect(database=duckdb_path)\n",
    "conn.table(table_name).show()\n",
    "conn.close()"
   ]
  }
 ],
 "metadata": {
  "kernelspec": {
   "display_name": "Python 3 (ipykernel)",
   "language": "python",
   "name": "python3"
  },
  "language_info": {
   "codemirror_mode": {
    "name": "ipython",
    "version": 3
   },
   "file_extension": ".py",
   "mimetype": "text/x-python",
   "name": "python",
   "nbconvert_exporter": "python",
   "pygments_lexer": "ipython3",
   "version": "3.12.0"
  }
 },
 "nbformat": 4,
 "nbformat_minor": 5
}
