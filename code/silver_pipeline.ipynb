{
 "cells": [
  {
   "cell_type": "markdown",
   "id": "2ba92c30-280a-41e1-8796-a9a36f6139af",
   "metadata": {},
   "source": [
    "Tässä notebookissa tehdään Silver-tason prosessoinnit datalle, eli ladataan bronze_pipeline.ipynb ETL-putken luomat lopputulokset ja otetaan data esikäsittellyyn. Esikäsittelyssä data putsataan ja prosessoidaan haluttuun muotoon. Tämän jälkeen data tallennetaan Gold-tason tauluun, joka toimii datan lopullisena tallennuspaikkana, josta sitä käytetään tämän projektin muissa välivaiheissa."
   ]
  },
  {
   "cell_type": "code",
   "execution_count": 1,
   "id": "36a8afa9-6f9c-4832-b8c7-58cff0d77995",
   "metadata": {},
   "outputs": [
    {
     "name": "stdout",
     "output_type": "stream",
     "text": [
      "Requirement already satisfied: duckdb in /Users/heidipappila/code/projektiopinnot-1-datan-hallinta-ttm23sai/.venv/lib/python3.11/site-packages (0.10.1)\n",
      "\n",
      "\u001b[1m[\u001b[0m\u001b[34;49mnotice\u001b[0m\u001b[1;39;49m]\u001b[0m\u001b[39;49m A new release of pip is available: \u001b[0m\u001b[31;49m23.1.2\u001b[0m\u001b[39;49m -> \u001b[0m\u001b[32;49m24.0\u001b[0m\n",
      "\u001b[1m[\u001b[0m\u001b[34;49mnotice\u001b[0m\u001b[1;39;49m]\u001b[0m\u001b[39;49m To update, run: \u001b[0m\u001b[32;49mpip install --upgrade pip\u001b[0m\n"
     ]
    }
   ],
   "source": [
    "!pip install duckdb"
   ]
  },
  {
   "cell_type": "code",
   "execution_count": 2,
   "id": "db970226-895a-43e9-99af-bd74bab63181",
   "metadata": {},
   "outputs": [
    {
     "name": "stdout",
     "output_type": "stream",
     "text": [
      "┌─────────┬──────────────────────────────────┬───────┬───────┬───────┬───────┐\n",
      "│ node_id │            timestamp             │   x   │   y   │   z   │   q   │\n",
      "│  int32  │             varchar              │ int32 │ int32 │ int32 │ int32 │\n",
      "├─────────┼──────────────────────────────────┼───────┼───────┼───────┼───────┤\n",
      "│   51992 │ 2019-03-06 15:34:02.078335+00:00 │     0 │     0 │     0 │    28 │\n",
      "│   51992 │ 2019-03-06 15:34:03.078454+00:00 │     0 │     0 │     0 │    66 │\n",
      "│   51992 │ 2019-03-07 11:40:37.07778+00:00  │     0 │     0 │     0 │   162 │\n",
      "│   51992 │ 2019-03-07 12:31:06.078094+00:00 │     0 │     0 │     0 │    29 │\n",
      "│   51992 │ 2019-03-07 13:04:55.079817+00:00 │     0 │     0 │     0 │   158 │\n",
      "│   51992 │ 2019-03-07 13:05:04.079898+00:00 │     0 │     0 │     0 │   204 │\n",
      "│   51992 │ 2019-03-07 13:05:05.080419+00:00 │     0 │     0 │     0 │   201 │\n",
      "│   51992 │ 2019-03-07 13:05:08.080256+00:00 │     0 │     0 │     0 │    92 │\n",
      "│   51992 │ 2019-03-07 13:05:14.080323+00:00 │     0 │     0 │     0 │   219 │\n",
      "│   51992 │ 2019-03-07 13:05:17.07848+00:00  │     0 │     0 │     0 │    79 │\n",
      "│     ·   │                ·                 │     · │     · │     · │     · │\n",
      "│     ·   │                ·                 │     · │     · │     · │     · │\n",
      "│     ·   │                ·                 │     · │     · │     · │     · │\n",
      "│   51992 │ 2019-03-25 15:00:41.694603+00:00 │   -50 │   100 │     0 │    63 │\n",
      "│   51992 │ 2019-03-25 15:00:44.694458+00:00 │   -50 │    65 │     0 │    77 │\n",
      "│   51992 │ 2019-03-25 15:00:47.694348+00:00 │   -50 │   150 │     0 │   132 │\n",
      "│   51992 │ 2019-03-25 15:00:50.694457+00:00 │   -50 │    98 │     0 │   212 │\n",
      "│   51992 │ 2019-03-25 15:00:53.694567+00:00 │   -50 │    63 │     0 │   162 │\n",
      "│   51992 │ 2019-03-25 15:00:57.694429+00:00 │   -50 │   143 │     0 │   183 │\n",
      "│   51992 │ 2019-03-25 15:01:02.695032+00:00 │   -50 │   150 │     0 │   140 │\n",
      "│   51992 │ 2019-03-25 15:01:05.694519+00:00 │   -50 │    93 │     0 │    45 │\n",
      "│   51992 │ 2019-03-25 15:01:08.69443+00:00  │   -50 │    55 │     0 │   115 │\n",
      "│   51992 │ 2019-03-25 15:01:11.694608+00:00 │   -50 │   141 │     0 │   223 │\n",
      "├─────────┴──────────────────────────────────┴───────┴───────┴───────┴───────┤\n",
      "│ ? rows (>9999 rows, 20 shown)                                    6 columns │\n",
      "└────────────────────────────────────────────────────────────────────────────┘\n",
      "\n"
     ]
    }
   ],
   "source": [
    "import duckdb\n",
    "import pandas as pd\n",
    "duckdb_path = \"data/duckdb.database\" # Duckdb tietokannalle annettava nimi, tallentuu lokaalisti\n",
    "table_name = \"Bronze_SensorData\" # Tietokantataulu, josta luetaan\n",
    "\n",
    "# Ota yhteys tietokantaa ja tarkista mitä dataa taulusta löytyy\n",
    "conn = duckdb.connect(database=duckdb_path)\n",
    "conn.table(table_name).show()\n",
    "conn.close()"
   ]
  },
  {
   "cell_type": "code",
   "execution_count": 3,
   "id": "ce2aa2a1-562c-4c53-b5af-b34800e4cff9",
   "metadata": {},
   "outputs": [],
   "source": [
    "import duckdb\n",
    "import pandas as pd\n",
    "duckdb_path = \"data/duckdb.database\" # Duckdb tietokannalle annettava nimi, tallentuu lokaalisti\n",
    "table_name = \"Bronze_SensorData\" # Tietokantataulu, josta luetaan\n",
    "\n",
    "# Ota yhteys tietokantaa ja tarkista mitä dataa taulusta löytyy\n",
    "conn = duckdb.connect(database=duckdb_path)\n",
    "df = conn.sql(f\"SELECT * FROM {table_name}\").df() # Tallenentaan taulun data Pandasin dataframeen\n",
    "conn.close()"
   ]
  },
  {
   "cell_type": "code",
   "execution_count": 4,
   "id": "bc23b1a7-7554-4075-936c-53c5de1c1593",
   "metadata": {},
   "outputs": [
    {
     "name": "stdout",
     "output_type": "stream",
     "text": [
      "<class 'pandas.core.frame.DataFrame'>\n",
      "RangeIndex: 139961560 entries, 0 to 139961559\n",
      "Data columns (total 6 columns):\n",
      " #   Column     Dtype \n",
      "---  ------     ----- \n",
      " 0   node_id    int32 \n",
      " 1   timestamp  object\n",
      " 2   x          int32 \n",
      " 3   y          int32 \n",
      " 4   z          int32 \n",
      " 5   q          int32 \n",
      "dtypes: int32(5), object(1)\n",
      "memory usage: 3.6+ GB\n"
     ]
    },
    {
     "data": {
      "text/html": [
       "<div>\n",
       "<style scoped>\n",
       "    .dataframe tbody tr th:only-of-type {\n",
       "        vertical-align: middle;\n",
       "    }\n",
       "\n",
       "    .dataframe tbody tr th {\n",
       "        vertical-align: top;\n",
       "    }\n",
       "\n",
       "    .dataframe thead th {\n",
       "        text-align: right;\n",
       "    }\n",
       "</style>\n",
       "<table border=\"1\" class=\"dataframe\">\n",
       "  <thead>\n",
       "    <tr style=\"text-align: right;\">\n",
       "      <th></th>\n",
       "      <th>node_id</th>\n",
       "      <th>timestamp</th>\n",
       "      <th>x</th>\n",
       "      <th>y</th>\n",
       "      <th>z</th>\n",
       "      <th>q</th>\n",
       "    </tr>\n",
       "  </thead>\n",
       "  <tbody>\n",
       "    <tr>\n",
       "      <th>0</th>\n",
       "      <td>51992</td>\n",
       "      <td>2019-03-06 15:34:02.078335+00:00</td>\n",
       "      <td>0</td>\n",
       "      <td>0</td>\n",
       "      <td>0</td>\n",
       "      <td>28</td>\n",
       "    </tr>\n",
       "    <tr>\n",
       "      <th>1</th>\n",
       "      <td>51992</td>\n",
       "      <td>2019-03-06 15:34:03.078454+00:00</td>\n",
       "      <td>0</td>\n",
       "      <td>0</td>\n",
       "      <td>0</td>\n",
       "      <td>66</td>\n",
       "    </tr>\n",
       "    <tr>\n",
       "      <th>2</th>\n",
       "      <td>51992</td>\n",
       "      <td>2019-03-07 11:40:37.07778+00:00</td>\n",
       "      <td>0</td>\n",
       "      <td>0</td>\n",
       "      <td>0</td>\n",
       "      <td>162</td>\n",
       "    </tr>\n",
       "    <tr>\n",
       "      <th>3</th>\n",
       "      <td>51992</td>\n",
       "      <td>2019-03-07 12:31:06.078094+00:00</td>\n",
       "      <td>0</td>\n",
       "      <td>0</td>\n",
       "      <td>0</td>\n",
       "      <td>29</td>\n",
       "    </tr>\n",
       "    <tr>\n",
       "      <th>4</th>\n",
       "      <td>51992</td>\n",
       "      <td>2019-03-07 13:04:55.079817+00:00</td>\n",
       "      <td>0</td>\n",
       "      <td>0</td>\n",
       "      <td>0</td>\n",
       "      <td>158</td>\n",
       "    </tr>\n",
       "    <tr>\n",
       "      <th>...</th>\n",
       "      <td>...</td>\n",
       "      <td>...</td>\n",
       "      <td>...</td>\n",
       "      <td>...</td>\n",
       "      <td>...</td>\n",
       "      <td>...</td>\n",
       "    </tr>\n",
       "    <tr>\n",
       "      <th>139961555</th>\n",
       "      <td>53795</td>\n",
       "      <td>2020-01-02 12:27:15.471987+00:00</td>\n",
       "      <td>-16</td>\n",
       "      <td>2572</td>\n",
       "      <td>0</td>\n",
       "      <td>42</td>\n",
       "    </tr>\n",
       "    <tr>\n",
       "      <th>139961556</th>\n",
       "      <td>53795</td>\n",
       "      <td>2020-01-02 12:29:19.471035+00:00</td>\n",
       "      <td>-66</td>\n",
       "      <td>2549</td>\n",
       "      <td>0</td>\n",
       "      <td>48</td>\n",
       "    </tr>\n",
       "    <tr>\n",
       "      <th>139961557</th>\n",
       "      <td>53795</td>\n",
       "      <td>2020-01-02 12:29:19.471038+00:00</td>\n",
       "      <td>-66</td>\n",
       "      <td>2549</td>\n",
       "      <td>0</td>\n",
       "      <td>48</td>\n",
       "    </tr>\n",
       "    <tr>\n",
       "      <th>139961558</th>\n",
       "      <td>53795</td>\n",
       "      <td>2020-01-02 12:37:30.47119+00:00</td>\n",
       "      <td>-71</td>\n",
       "      <td>2573</td>\n",
       "      <td>0</td>\n",
       "      <td>50</td>\n",
       "    </tr>\n",
       "    <tr>\n",
       "      <th>139961559</th>\n",
       "      <td>53795</td>\n",
       "      <td>2020-01-02 12:45:04.472121+00:00</td>\n",
       "      <td>856</td>\n",
       "      <td>2710</td>\n",
       "      <td>0</td>\n",
       "      <td>50</td>\n",
       "    </tr>\n",
       "  </tbody>\n",
       "</table>\n",
       "<p>139961560 rows × 6 columns</p>\n",
       "</div>"
      ],
      "text/plain": [
       "           node_id                         timestamp    x     y  z    q\n",
       "0            51992  2019-03-06 15:34:02.078335+00:00    0     0  0   28\n",
       "1            51992  2019-03-06 15:34:03.078454+00:00    0     0  0   66\n",
       "2            51992   2019-03-07 11:40:37.07778+00:00    0     0  0  162\n",
       "3            51992  2019-03-07 12:31:06.078094+00:00    0     0  0   29\n",
       "4            51992  2019-03-07 13:04:55.079817+00:00    0     0  0  158\n",
       "...            ...                               ...  ...   ... ..  ...\n",
       "139961555    53795  2020-01-02 12:27:15.471987+00:00  -16  2572  0   42\n",
       "139961556    53795  2020-01-02 12:29:19.471035+00:00  -66  2549  0   48\n",
       "139961557    53795  2020-01-02 12:29:19.471038+00:00  -66  2549  0   48\n",
       "139961558    53795   2020-01-02 12:37:30.47119+00:00  -71  2573  0   50\n",
       "139961559    53795  2020-01-02 12:45:04.472121+00:00  856  2710  0   50\n",
       "\n",
       "[139961560 rows x 6 columns]"
      ]
     },
     "execution_count": 4,
     "metadata": {},
     "output_type": "execute_result"
    }
   ],
   "source": [
    "df.info(verbose=True)\n",
    "df"
   ]
  },
  {
   "cell_type": "code",
   "execution_count": 5,
   "id": "df5561c9",
   "metadata": {},
   "outputs": [
    {
     "name": "stderr",
     "output_type": "stream",
     "text": [
      "python(364) MallocStackLogging: can't turn off malloc stack logging because it was not enabled.\n"
     ]
    },
    {
     "name": "stdout",
     "output_type": "stream",
     "text": [
      "Requirement already satisfied: ydata-profiling in /Users/heidipappila/code/projektiopinnot-1-datan-hallinta-ttm23sai/.venv/lib/python3.11/site-packages (4.7.0)\n",
      "Requirement already satisfied: scipy<1.12,>=1.4.1 in /Users/heidipappila/code/projektiopinnot-1-datan-hallinta-ttm23sai/.venv/lib/python3.11/site-packages (from ydata-profiling) (1.11.4)\n",
      "Requirement already satisfied: pandas!=1.4.0,<3,>1.1 in /Users/heidipappila/code/projektiopinnot-1-datan-hallinta-ttm23sai/.venv/lib/python3.11/site-packages (from ydata-profiling) (2.2.1)\n",
      "Requirement already satisfied: matplotlib<3.9,>=3.2 in /Users/heidipappila/code/projektiopinnot-1-datan-hallinta-ttm23sai/.venv/lib/python3.11/site-packages (from ydata-profiling) (3.8.4)\n",
      "Requirement already satisfied: pydantic>=2 in /Users/heidipappila/code/projektiopinnot-1-datan-hallinta-ttm23sai/.venv/lib/python3.11/site-packages (from ydata-profiling) (2.6.4)\n",
      "Requirement already satisfied: PyYAML<6.1,>=5.0.0 in /Users/heidipappila/code/projektiopinnot-1-datan-hallinta-ttm23sai/.venv/lib/python3.11/site-packages (from ydata-profiling) (6.0.1)\n",
      "Requirement already satisfied: jinja2<3.2,>=2.11.1 in /Users/heidipappila/code/projektiopinnot-1-datan-hallinta-ttm23sai/.venv/lib/python3.11/site-packages (from ydata-profiling) (3.1.3)\n",
      "Requirement already satisfied: visions[type_image_path]<0.7.7,>=0.7.5 in /Users/heidipappila/code/projektiopinnot-1-datan-hallinta-ttm23sai/.venv/lib/python3.11/site-packages (from ydata-profiling) (0.7.6)\n",
      "Requirement already satisfied: numpy<2,>=1.16.0 in /Users/heidipappila/code/projektiopinnot-1-datan-hallinta-ttm23sai/.venv/lib/python3.11/site-packages (from ydata-profiling) (1.26.4)\n",
      "Requirement already satisfied: htmlmin==0.1.12 in /Users/heidipappila/code/projektiopinnot-1-datan-hallinta-ttm23sai/.venv/lib/python3.11/site-packages (from ydata-profiling) (0.1.12)\n",
      "Requirement already satisfied: phik<0.13,>=0.11.1 in /Users/heidipappila/code/projektiopinnot-1-datan-hallinta-ttm23sai/.venv/lib/python3.11/site-packages (from ydata-profiling) (0.12.4)\n",
      "Requirement already satisfied: requests<3,>=2.24.0 in /Users/heidipappila/code/projektiopinnot-1-datan-hallinta-ttm23sai/.venv/lib/python3.11/site-packages (from ydata-profiling) (2.31.0)\n",
      "Requirement already satisfied: tqdm<5,>=4.48.2 in /Users/heidipappila/code/projektiopinnot-1-datan-hallinta-ttm23sai/.venv/lib/python3.11/site-packages (from ydata-profiling) (4.66.2)\n",
      "Requirement already satisfied: seaborn<0.13,>=0.10.1 in /Users/heidipappila/code/projektiopinnot-1-datan-hallinta-ttm23sai/.venv/lib/python3.11/site-packages (from ydata-profiling) (0.12.2)\n",
      "Requirement already satisfied: multimethod<2,>=1.4 in /Users/heidipappila/code/projektiopinnot-1-datan-hallinta-ttm23sai/.venv/lib/python3.11/site-packages (from ydata-profiling) (1.11.2)\n",
      "Requirement already satisfied: statsmodels<1,>=0.13.2 in /Users/heidipappila/code/projektiopinnot-1-datan-hallinta-ttm23sai/.venv/lib/python3.11/site-packages (from ydata-profiling) (0.14.1)\n",
      "Requirement already satisfied: typeguard<5,>=4.1.2 in /Users/heidipappila/code/projektiopinnot-1-datan-hallinta-ttm23sai/.venv/lib/python3.11/site-packages (from ydata-profiling) (4.2.1)\n",
      "Requirement already satisfied: imagehash==4.3.1 in /Users/heidipappila/code/projektiopinnot-1-datan-hallinta-ttm23sai/.venv/lib/python3.11/site-packages (from ydata-profiling) (4.3.1)\n",
      "Requirement already satisfied: wordcloud>=1.9.1 in /Users/heidipappila/code/projektiopinnot-1-datan-hallinta-ttm23sai/.venv/lib/python3.11/site-packages (from ydata-profiling) (1.9.3)\n",
      "Requirement already satisfied: dacite>=1.8 in /Users/heidipappila/code/projektiopinnot-1-datan-hallinta-ttm23sai/.venv/lib/python3.11/site-packages (from ydata-profiling) (1.8.1)\n",
      "Requirement already satisfied: numba<1,>=0.56.0 in /Users/heidipappila/code/projektiopinnot-1-datan-hallinta-ttm23sai/.venv/lib/python3.11/site-packages (from ydata-profiling) (0.59.1)\n",
      "Requirement already satisfied: PyWavelets in /Users/heidipappila/code/projektiopinnot-1-datan-hallinta-ttm23sai/.venv/lib/python3.11/site-packages (from imagehash==4.3.1->ydata-profiling) (1.6.0)\n",
      "Requirement already satisfied: pillow in /Users/heidipappila/code/projektiopinnot-1-datan-hallinta-ttm23sai/.venv/lib/python3.11/site-packages (from imagehash==4.3.1->ydata-profiling) (10.3.0)\n",
      "Requirement already satisfied: MarkupSafe>=2.0 in /Users/heidipappila/code/projektiopinnot-1-datan-hallinta-ttm23sai/.venv/lib/python3.11/site-packages (from jinja2<3.2,>=2.11.1->ydata-profiling) (2.1.5)\n",
      "Requirement already satisfied: contourpy>=1.0.1 in /Users/heidipappila/code/projektiopinnot-1-datan-hallinta-ttm23sai/.venv/lib/python3.11/site-packages (from matplotlib<3.9,>=3.2->ydata-profiling) (1.2.1)\n",
      "Requirement already satisfied: cycler>=0.10 in /Users/heidipappila/code/projektiopinnot-1-datan-hallinta-ttm23sai/.venv/lib/python3.11/site-packages (from matplotlib<3.9,>=3.2->ydata-profiling) (0.12.1)\n",
      "Requirement already satisfied: fonttools>=4.22.0 in /Users/heidipappila/code/projektiopinnot-1-datan-hallinta-ttm23sai/.venv/lib/python3.11/site-packages (from matplotlib<3.9,>=3.2->ydata-profiling) (4.50.0)\n",
      "Requirement already satisfied: kiwisolver>=1.3.1 in /Users/heidipappila/code/projektiopinnot-1-datan-hallinta-ttm23sai/.venv/lib/python3.11/site-packages (from matplotlib<3.9,>=3.2->ydata-profiling) (1.4.5)\n",
      "Requirement already satisfied: packaging>=20.0 in /Users/heidipappila/code/projektiopinnot-1-datan-hallinta-ttm23sai/.venv/lib/python3.11/site-packages (from matplotlib<3.9,>=3.2->ydata-profiling) (23.2)\n",
      "Requirement already satisfied: pyparsing>=2.3.1 in /Users/heidipappila/code/projektiopinnot-1-datan-hallinta-ttm23sai/.venv/lib/python3.11/site-packages (from matplotlib<3.9,>=3.2->ydata-profiling) (3.1.2)\n",
      "Requirement already satisfied: python-dateutil>=2.7 in /Users/heidipappila/code/projektiopinnot-1-datan-hallinta-ttm23sai/.venv/lib/python3.11/site-packages (from matplotlib<3.9,>=3.2->ydata-profiling) (2.9.0.post0)\n",
      "Requirement already satisfied: llvmlite<0.43,>=0.42.0dev0 in /Users/heidipappila/code/projektiopinnot-1-datan-hallinta-ttm23sai/.venv/lib/python3.11/site-packages (from numba<1,>=0.56.0->ydata-profiling) (0.42.0)\n",
      "Requirement already satisfied: pytz>=2020.1 in /Users/heidipappila/code/projektiopinnot-1-datan-hallinta-ttm23sai/.venv/lib/python3.11/site-packages (from pandas!=1.4.0,<3,>1.1->ydata-profiling) (2024.1)\n",
      "Requirement already satisfied: tzdata>=2022.7 in /Users/heidipappila/code/projektiopinnot-1-datan-hallinta-ttm23sai/.venv/lib/python3.11/site-packages (from pandas!=1.4.0,<3,>1.1->ydata-profiling) (2024.1)\n",
      "Requirement already satisfied: joblib>=0.14.1 in /Users/heidipappila/code/projektiopinnot-1-datan-hallinta-ttm23sai/.venv/lib/python3.11/site-packages (from phik<0.13,>=0.11.1->ydata-profiling) (1.3.2)\n",
      "Requirement already satisfied: annotated-types>=0.4.0 in /Users/heidipappila/code/projektiopinnot-1-datan-hallinta-ttm23sai/.venv/lib/python3.11/site-packages (from pydantic>=2->ydata-profiling) (0.6.0)\n",
      "Requirement already satisfied: pydantic-core==2.16.3 in /Users/heidipappila/code/projektiopinnot-1-datan-hallinta-ttm23sai/.venv/lib/python3.11/site-packages (from pydantic>=2->ydata-profiling) (2.16.3)\n",
      "Requirement already satisfied: typing-extensions>=4.6.1 in /Users/heidipappila/code/projektiopinnot-1-datan-hallinta-ttm23sai/.venv/lib/python3.11/site-packages (from pydantic>=2->ydata-profiling) (4.11.0)\n",
      "Requirement already satisfied: charset-normalizer<4,>=2 in /Users/heidipappila/code/projektiopinnot-1-datan-hallinta-ttm23sai/.venv/lib/python3.11/site-packages (from requests<3,>=2.24.0->ydata-profiling) (3.3.2)\n",
      "Requirement already satisfied: idna<4,>=2.5 in /Users/heidipappila/code/projektiopinnot-1-datan-hallinta-ttm23sai/.venv/lib/python3.11/site-packages (from requests<3,>=2.24.0->ydata-profiling) (3.6)\n",
      "Requirement already satisfied: urllib3<3,>=1.21.1 in /Users/heidipappila/code/projektiopinnot-1-datan-hallinta-ttm23sai/.venv/lib/python3.11/site-packages (from requests<3,>=2.24.0->ydata-profiling) (2.2.1)\n",
      "Requirement already satisfied: certifi>=2017.4.17 in /Users/heidipappila/code/projektiopinnot-1-datan-hallinta-ttm23sai/.venv/lib/python3.11/site-packages (from requests<3,>=2.24.0->ydata-profiling) (2024.2.2)\n",
      "Requirement already satisfied: patsy>=0.5.4 in /Users/heidipappila/code/projektiopinnot-1-datan-hallinta-ttm23sai/.venv/lib/python3.11/site-packages (from statsmodels<1,>=0.13.2->ydata-profiling) (0.5.6)\n",
      "Requirement already satisfied: attrs>=19.3.0 in /Users/heidipappila/code/projektiopinnot-1-datan-hallinta-ttm23sai/.venv/lib/python3.11/site-packages (from visions[type_image_path]<0.7.7,>=0.7.5->ydata-profiling) (23.2.0)\n",
      "Requirement already satisfied: networkx>=2.4 in /Users/heidipappila/code/projektiopinnot-1-datan-hallinta-ttm23sai/.venv/lib/python3.11/site-packages (from visions[type_image_path]<0.7.7,>=0.7.5->ydata-profiling) (3.2.1)\n",
      "Requirement already satisfied: six in /Users/heidipappila/code/projektiopinnot-1-datan-hallinta-ttm23sai/.venv/lib/python3.11/site-packages (from patsy>=0.5.4->statsmodels<1,>=0.13.2->ydata-profiling) (1.16.0)\n",
      "\n",
      "\u001b[1m[\u001b[0m\u001b[34;49mnotice\u001b[0m\u001b[1;39;49m]\u001b[0m\u001b[39;49m A new release of pip is available: \u001b[0m\u001b[31;49m23.1.2\u001b[0m\u001b[39;49m -> \u001b[0m\u001b[32;49m24.0\u001b[0m\n",
      "\u001b[1m[\u001b[0m\u001b[34;49mnotice\u001b[0m\u001b[1;39;49m]\u001b[0m\u001b[39;49m To update, run: \u001b[0m\u001b[32;49mpip install --upgrade pip\u001b[0m\n"
     ]
    },
    {
     "name": "stderr",
     "output_type": "stream",
     "text": [
      "python(380) MallocStackLogging: can't turn off malloc stack logging because it was not enabled.\n"
     ]
    },
    {
     "name": "stdout",
     "output_type": "stream",
     "text": [
      "Requirement already satisfied: setuptools in /Users/heidipappila/code/projektiopinnot-1-datan-hallinta-ttm23sai/.venv/lib/python3.11/site-packages (65.5.0)\n",
      "\n",
      "\u001b[1m[\u001b[0m\u001b[34;49mnotice\u001b[0m\u001b[1;39;49m]\u001b[0m\u001b[39;49m A new release of pip is available: \u001b[0m\u001b[31;49m23.1.2\u001b[0m\u001b[39;49m -> \u001b[0m\u001b[32;49m24.0\u001b[0m\n",
      "\u001b[1m[\u001b[0m\u001b[34;49mnotice\u001b[0m\u001b[1;39;49m]\u001b[0m\u001b[39;49m To update, run: \u001b[0m\u001b[32;49mpip install --upgrade pip\u001b[0m\n"
     ]
    }
   ],
   "source": [
    "# Tehdään perus EDA (Explorative Data Analysis)\n",
    "!pip install ydata-profiling\n",
    "!pip install setuptools"
   ]
  },
  {
   "cell_type": "code",
   "execution_count": 6,
   "id": "fb72161d",
   "metadata": {},
   "outputs": [
    {
     "name": "stderr",
     "output_type": "stream",
     "text": [
      "/Users/heidipappila/code/projektiopinnot-1-datan-hallinta-ttm23sai/.venv/lib/python3.11/site-packages/tqdm/auto.py:21: TqdmWarning: IProgress not found. Please update jupyter and ipywidgets. See https://ipywidgets.readthedocs.io/en/stable/user_install.html\n",
      "  from .autonotebook import tqdm as notebook_tqdm\n",
      "python(98919) MallocStackLogging: can't turn off malloc stack logging because it was not enabled.\n",
      "python(98921) MallocStackLogging: can't turn off malloc stack logging because it was not enabled.\n",
      "Summarize dataset:   0%|          | 0/5 [00:00<?, ?it/s]"
     ]
    }
   ],
   "source": [
    "import numpy as np\n",
    "import pandas as pd\n",
    "from ydata_profiling import ProfileReport\n",
    "\n",
    "#Tätä ei kannata ajaa koko datasetille, koska kestää ajallisesti tosi pitkään.\n",
    "profile = ProfileReport(df, title=\"Profiling Report\")\n",
    "profile.to_file(\"data_raportti.html\")"
   ]
  },
  {
   "cell_type": "code",
   "execution_count": 6,
   "id": "eceaff8c",
   "metadata": {
    "jupyter": {
     "source_hidden": true
    }
   },
   "outputs": [
    {
     "name": "stdout",
     "output_type": "stream",
     "text": [
      "            node_id             x             y\n",
      "count  1.399616e+08  1.399616e+08  1.399616e+08\n",
      "mean   4.578467e+04  7.999079e+02  2.587674e+03\n",
      "std    1.686354e+04  2.339921e+03  1.329330e+03\n",
      "min    3.200000e+03 -3.281800e+04 -3.271800e+04\n",
      "25%    5.175100e+04  4.100000e+01  2.440000e+03\n",
      "50%    5.197600e+04  1.460000e+02  2.516000e+03\n",
      "75%    5.253500e+04  7.580000e+02  2.642000e+03\n",
      "max    6.445800e+04  3.271700e+04  3.281700e+04\n",
      "<class 'pandas.core.frame.DataFrame'>\n",
      "RangeIndex: 139961560 entries, 0 to 139961559\n",
      "Data columns (total 4 columns):\n",
      " #   Column     Dtype \n",
      "---  ------     ----- \n",
      " 0   node_id    int32 \n",
      " 1   timestamp  object\n",
      " 2   x          int32 \n",
      " 3   y          int32 \n",
      "dtypes: int32(3), object(1)\n",
      "memory usage: 2.6+ GB\n"
     ]
    }
   ],
   "source": [
    "# Tässä prosessoinnin vaiheessa poistetaan Z & Q sarakkeet\n",
    "\n",
    "df = df.drop(columns=['z', 'q'])\n",
    "print(df.describe())\n",
    "df.info(verbose=True)"
   ]
  },
  {
   "cell_type": "code",
   "execution_count": 7,
   "id": "43c39c7f",
   "metadata": {},
   "outputs": [
    {
     "name": "stdout",
     "output_type": "stream",
     "text": [
      "<class 'pandas.core.frame.DataFrame'>\n",
      "RangeIndex: 139961560 entries, 0 to 139961559\n",
      "Data columns (total 4 columns):\n",
      " #   Column     Dtype              \n",
      "---  ------     -----              \n",
      " 0   node_id    int32              \n",
      " 1   timestamp  datetime64[ns, UTC]\n",
      " 2   x          int32              \n",
      " 3   y          int32              \n",
      "dtypes: datetime64[ns, UTC](1), int32(3)\n",
      "memory usage: 2.6 GB\n",
      "   node_id                        timestamp  x  y\n",
      "0    51992 2019-03-06 15:34:02.078335+00:00  0  0\n",
      "1    51992 2019-03-06 15:34:03.078454+00:00  0  0\n",
      "2    51992 2019-03-07 11:40:37.077780+00:00  0  0\n",
      "3    51992 2019-03-07 12:31:06.078094+00:00  0  0\n",
      "4    51992 2019-03-07 13:04:55.079817+00:00  0  0\n",
      "5    51992 2019-03-07 13:05:04.079898+00:00  0  0\n",
      "6    51992 2019-03-07 13:05:05.080419+00:00  0  0\n",
      "7    51992 2019-03-07 13:05:08.080256+00:00  0  0\n",
      "8    51992 2019-03-07 13:05:14.080323+00:00  0  0\n",
      "9    51992 2019-03-07 13:05:17.078480+00:00  0  0\n"
     ]
    }
   ],
   "source": [
    "# Tässä prosessoinnin vaiheessa laitetaan oikea tietotyyppi timestamp sarakkeelle (datetime)\n",
    "\n",
    "df[\"timestamp\"] = pd.to_datetime(df[\"timestamp\"])\n",
    "\n",
    "df.info(verbose=True)\n",
    "print(df.head(n=10))\n"
   ]
  },
  {
   "cell_type": "code",
   "execution_count": 8,
   "id": "8fbe7185",
   "metadata": {},
   "outputs": [
    {
     "data": {
      "image/png": "[encoded data removed]",
      "text/plain": [
       "<Figure size 1000x600 with 1 Axes>"
      ]
     },
     "metadata": {},
     "output_type": "display_data"
    },
    {
     "name": "stdout",
     "output_type": "stream",
     "text": [
      "            node_id             x             y\n",
      "count  1.399616e+08  1.399616e+08  1.399616e+08\n",
      "mean   4.578467e+04  7.999079e+02  2.587674e+03\n",
      "std    1.686354e+04  2.339921e+03  1.329330e+03\n",
      "min    3.200000e+03 -3.281800e+04 -3.271800e+04\n",
      "25%    5.175100e+04  4.100000e+01  2.440000e+03\n",
      "50%    5.197600e+04  1.460000e+02  2.516000e+03\n",
      "75%    5.253500e+04  7.580000e+02  2.642000e+03\n",
      "max    6.445800e+04  3.271700e+04  3.281700e+04\n"
     ]
    }
   ],
   "source": [
    "# Tarkastellaan ja poistetaan Outlierit\n",
    "import matplotlib.pyplot as plt\n",
    "%matplotlib inline\n",
    "plt.figure(figsize=(10, 6))\n",
    "df.boxplot(column=['x', 'y'])\n",
    "plt.title('Boxplot of X and Y Variables')\n",
    "plt.ylabel('Values')\n",
    "plt.xlabel('Variables')\n",
    "plt.show()\n",
    "\n",
    "print(df.describe())"
   ]
  },
  {
   "cell_type": "code",
   "execution_count": 9,
   "id": "cdd300fc",
   "metadata": {},
   "outputs": [
    {
     "name": "stdout",
     "output_type": "stream",
     "text": [
      "<class 'pandas.core.frame.DataFrame'>\n",
      "Index: 23443604 entries, 0 to 139961559\n",
      "Data columns (total 4 columns):\n",
      " #   Column     Dtype              \n",
      "---  ------     -----              \n",
      " 0   node_id    int32              \n",
      " 1   timestamp  datetime64[ns, UTC]\n",
      " 2   x          int32              \n",
      " 3   y          int32              \n",
      "dtypes: datetime64[ns, UTC](1), int32(3)\n",
      "memory usage: 626.0 MB\n"
     ]
    },
    {
     "data": {
      "image/png": "[encoded data removed]",
      "text/plain": [
       "<Figure size 1000x600 with 1 Axes>"
      ]
     },
     "metadata": {},
     "output_type": "display_data"
    }
   ],
   "source": [
    "# Tarkastellaan ja poistetaan Outlierit\n",
    "\n",
    "# Määritellään ylä ja alarajat X-akselissa \n",
    "lower_bound_X = -700\n",
    "upper_bound_X = 10250\n",
    "\n",
    "\n",
    "# Määritellään ylä ja alarajat y-akselissa\n",
    "lower_bound_Y = 0\n",
    "upper_bound_Y = 5100\n",
    "\n",
    "# Filteröidään pois\n",
    "outliers_X = df[(df['x'] < lower_bound_X) | (df['x'] > upper_bound_X)]\n",
    "outliers_Y = df[(df['y'] < lower_bound_Y) | (df['y'] > upper_bound_Y)]\n",
    "\n",
    "#Latausasemien filtteröinti\n",
    "charging_station1 = df[df['x'].between(-150, 1600) & (df['y'] > 3000)]\n",
    "charging_station2 = df[(df['y']> 2000) & df['x'].between(-150, 550)]\n",
    "\n",
    "\n",
    "# Poistetaan outlierit\n",
    "df = df[~df.index.isin(outliers_X.index) & ~df.index.isin(outliers_Y.index)]\n",
    "df = df[~df.index.isin(charging_station1.index) & ~df.index.isin(charging_station2.index)]\n",
    "\n",
    "df.info(verbose=True)\n",
    "\n",
    "\n",
    "\n",
    "\n",
    "\n",
    "import matplotlib.pyplot as plt\n",
    "%matplotlib inline\n",
    "plt.figure(figsize=(10, 6))\n",
    "df.boxplot(column=['x', 'y'])\n",
    "plt.title('Boxplot of X and Y Variables')\n",
    "plt.ylabel('Values')\n",
    "plt.xlabel('Variables')\n",
    "plt.show()"
   ]
  },
  {
   "cell_type": "markdown",
   "id": "f0da148a",
   "metadata": {},
   "source": [
    "### Onko jotain muuta?\n",
    "\n",
    "- Poistetaan järjestelmän koordinaatiston vanhat rajoitteet. Ainakin aikaisemmassa versiossa x,y akselit olivat rajoitettu tiettyyn arvoon, esim x>=(-50), jos kärryt menivät yli rajojen. Tällöin jos kärry meni alle -50 arvoon, niin se tallennettiin x=-50"
   ]
  },
  {
   "cell_type": "code",
   "execution_count": 10,
   "id": "c40370a2",
   "metadata": {},
   "outputs": [
    {
     "name": "stdout",
     "output_type": "stream",
     "text": [
      "Löydetty: 290452 440330 136653 kpl\n"
     ]
    }
   ],
   "source": [
    "limited_left_val = df['x'].isin([-50])\n",
    "limited_upper_val = df['y'].isin([150])\n",
    "limited_lower_val = df['y'].isin([5050])\n",
    "\n",
    "print(\"Löydetty:\", limited_lower_val.value_counts()[True], limited_left_val.value_counts()[True], limited_upper_val.value_counts()[True], \"kpl\")\n",
    "\n",
    "df = df[~limited_left_val & ~limited_upper_val & ~limited_lower_val]"
   ]
  },
  {
   "cell_type": "markdown",
   "id": "c1653ab4",
   "metadata": {},
   "source": []
  },
  {
   "cell_type": "code",
   "execution_count": 11,
   "id": "4844656e",
   "metadata": {},
   "outputs": [
    {
     "name": "stdout",
     "output_type": "stream",
     "text": [
      "<class 'pandas.core.frame.DataFrame'>\n",
      "Index: 22685511 entries, 0 to 139961559\n",
      "Data columns (total 4 columns):\n",
      " #   Column     Dtype              \n",
      "---  ------     -----              \n",
      " 0   node_id    int32              \n",
      " 1   timestamp  datetime64[ns, UTC]\n",
      " 2   x          int32              \n",
      " 3   y          int32              \n",
      "dtypes: datetime64[ns, UTC](1), int32(3)\n",
      "memory usage: 605.8 MB\n"
     ]
    }
   ],
   "source": [
    "df.info(verbose=True)"
   ]
  },
  {
   "cell_type": "code",
   "execution_count": 12,
   "id": "1dfb3237",
   "metadata": {},
   "outputs": [
    {
     "name": "stdout",
     "output_type": "stream",
     "text": [
      "Table dropped\n",
      "Silver_SensorData luotu\n",
      "Tallennetaan dataframe tietokantaan, jonka muoto on: (22685511, 4)\n",
      "Tallennus tauluun Silver_SensorData onnistui\n"
     ]
    }
   ],
   "source": [
    "from functions.database import create_db_table\n",
    "from functions.database import insert_dataframe_into_table\n",
    "from functions.database import drop_table\n",
    "\n",
    "#from functions.database import drop_table\n",
    "# Tallennetaan dataframe silver tauluun\n",
    "\n",
    "table_name = \"Silver_SensorData\" # tai Silver_SensorData\n",
    "duckdb_path = \"data/duckdb.database\"\n",
    "schema = f'''\n",
    "        CREATE TABLE {table_name} (\n",
    "        node_id INTEGER NOT NULL,\n",
    "        timestamp TIMESTAMP,\n",
    "        x INTEGER NOT NULL,\n",
    "        y INTEGER NOT NULL,\n",
    "        )\n",
    "        '''\n",
    "\n",
    "drop_table(table_name, duckdb_path) # Poista kommentti, jos tarvitsee poistaa tietokantataulu\n",
    "create_db_table(database=duckdb_path, table_name=table_name,schema=schema) # Luodaan tietokantataulu\n",
    "insert_dataframe_into_table(database=duckdb_path, table_name=table_name, df=df, insert=True) # Lisätään dataframe tietokantatauluun (Insert, eli lisätään rivejä vanhan perään)\n",
    "\n"
   ]
  },
  {
   "cell_type": "code",
   "execution_count": 13,
   "id": "bc14e0f7",
   "metadata": {},
   "outputs": [
    {
     "name": "stdout",
     "output_type": "stream",
     "text": [
      "┌─────────┬────────────────────────────┬───────┬───────┐\n",
      "│ node_id │         timestamp          │   x   │   y   │\n",
      "│  int32  │         timestamp          │ int32 │ int32 │\n",
      "├─────────┼────────────────────────────┼───────┼───────┤\n",
      "│   51992 │ 2019-03-06 17:34:02.078335 │     0 │     0 │\n",
      "│   51992 │ 2019-03-06 17:34:03.078454 │     0 │     0 │\n",
      "│   51992 │ 2019-03-07 13:40:37.07778  │     0 │     0 │\n",
      "│   51992 │ 2019-03-07 14:31:06.078094 │     0 │     0 │\n",
      "│   51992 │ 2019-03-07 15:04:55.079817 │     0 │     0 │\n",
      "│   51992 │ 2019-03-07 15:05:04.079898 │     0 │     0 │\n",
      "│   51992 │ 2019-03-07 15:05:05.080419 │     0 │     0 │\n",
      "│   51992 │ 2019-03-07 15:05:08.080256 │     0 │     0 │\n",
      "│   51992 │ 2019-03-07 15:05:14.080323 │     0 │     0 │\n",
      "│   51992 │ 2019-03-07 15:05:17.07848  │     0 │     0 │\n",
      "│     ·   │             ·              │     · │     · │\n",
      "│     ·   │             ·              │     · │     · │\n",
      "│     ·   │             ·              │     · │     · │\n",
      "│   51992 │ 2019-03-31 15:46:46.924862 │   519 │   860 │\n",
      "│   51992 │ 2019-03-31 15:46:47.925152 │   564 │   940 │\n",
      "│   51992 │ 2019-03-31 15:46:48.924973 │   602 │  1009 │\n",
      "│   51992 │ 2019-03-31 15:46:49.924746 │   633 │  1066 │\n",
      "│   51992 │ 2019-03-31 15:46:50.924765 │   657 │  1112 │\n",
      "│   51992 │ 2019-03-31 15:46:51.92483  │   674 │  1148 │\n",
      "│   51992 │ 2019-03-31 15:46:52.924747 │   687 │  1175 │\n",
      "│   51992 │ 2019-03-31 15:46:53.924781 │   695 │  1194 │\n",
      "│   51992 │ 2019-03-31 15:46:54.924611 │   699 │  1206 │\n",
      "│   51992 │ 2019-03-31 15:46:55.924731 │   699 │  1213 │\n",
      "├─────────┴────────────────────────────┴───────┴───────┤\n",
      "│ ? rows (>9999 rows, 20 shown)              4 columns │\n",
      "└──────────────────────────────────────────────────────┘\n",
      "\n"
     ]
    }
   ],
   "source": [
    "# Tarkistetaan, miltä luotu taulu näyttää:\n",
    "table_name = \"Silver_SensorData\"\n",
    "duckdb_path = \"data/duckdb.database\"\n",
    "import duckdb\n",
    "conn = duckdb.connect(database=duckdb_path)\n",
    "conn.table(table_name).show()\n",
    "conn.close()"
   ]
  },
  {
   "cell_type": "code",
   "execution_count": null,
   "id": "e835d4e0-2526-485f-82e8-16e515cf36b8",
   "metadata": {},
   "outputs": [],
   "source": []
  }
 ],
 "metadata": {
  "kernelspec": {
   "display_name": "Python 3 (ipykernel)",
   "language": "python",
   "name": "python3"
  },
  "language_info": {
   "codemirror_mode": {
    "name": "ipython",
    "version": 3
   },
   "file_extension": ".py",
   "mimetype": "text/x-python",
   "name": "python",
   "nbconvert_exporter": "python",
   "pygments_lexer": "ipython3",
   "version": "3.11.4"
  }
 },
 "nbformat": 4,
 "nbformat_minor": 5
}
