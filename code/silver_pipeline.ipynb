{
 "cells": [
  {
   "cell_type": "markdown",
   "id": "2ba92c30-280a-41e1-8796-a9a36f6139af",
   "metadata": {},
   "source": [
    "Tässä notebookissa tehdään Silver-tason prosessoinnit datalle, eli ladataan bronze_pipeline.ipynb ETL-putken luomat lopputulokset ja otetaan data esikäsittellyyn. Esikäsittelyssä data putsataan ja prosessoidaan haluttuun muotoon. Tämän jälkeen data tallennetaan Gold-tason tauluun, joka toimii datan lopullisena tallennuspaikkana, josta sitä käytetään tämän projektin muissa välivaiheissa."
   ]
  },
  {
   "cell_type": "code",
   "execution_count": 2,
   "id": "36a8afa9-6f9c-4832-b8c7-58cff0d77995",
   "metadata": {},
   "outputs": [
    {
     "name": "stdout",
     "output_type": "stream",
     "text": [
<<<<<<< HEAD
      "Requirement already satisfied: duckdb in c:\\users\\jonik\\appdata\\local\\programs\\python\\python311\\lib\\site-packages (0.9.2)\n"
     ]
    },
    {
     "name": "stderr",
     "output_type": "stream",
     "text": [
      "WARNING: Ignoring invalid distribution ~treamlit (C:\\Users\\jonik\\AppData\\Local\\Programs\\Python\\Python311\\Lib\\site-packages)\n",
      "WARNING: Ignoring invalid distribution ~treamlit (C:\\Users\\jonik\\AppData\\Local\\Programs\\Python\\Python311\\Lib\\site-packages)\n",
      "\n",
      "[notice] A new release of pip is available: 23.3.1 -> 24.0\n",
      "[notice] To update, run: python.exe -m pip install --upgrade pip\n"
=======
      "Requirement already satisfied: duckdb in /opt/conda/lib/python3.11/site-packages (0.10.1)\n"
>>>>>>> main
     ]
    }
   ],
   "source": [
    "!pip install duckdb"
   ]
  },
  {
   "cell_type": "code",
   "execution_count": 28,
   "id": "db970226-895a-43e9-99af-bd74bab63181",
   "metadata": {},
   "outputs": [
    {
     "name": "stdout",
     "output_type": "stream",
     "text": [
      "┌─────────┬──────────────────────────────────┬───────┬───────┬───────┬───────┐\n",
      "│ node_id │            timestamp             │   x   │   y   │   z   │   q   │\n",
      "│  int32  │             varchar              │ int32 │ int32 │ int32 │ int32 │\n",
      "├─────────┼──────────────────────────────────┼───────┼───────┼───────┼───────┤\n",
      "│   51889 │ 2019-03-07 13:04:56.080345+00:00 │     0 │     0 │     0 │   176 │\n",
      "│   51889 │ 2019-03-07 13:05:09.080128+00:00 │     0 │     0 │     0 │    32 │\n",
      "│   51889 │ 2019-03-07 13:05:16.079998+00:00 │     0 │     0 │     0 │   202 │\n",
      "│   51889 │ 2019-03-07 13:05:17.078234+00:00 │     0 │     0 │     0 │   229 │\n",
      "│   51889 │ 2019-03-07 13:05:19.077941+00:00 │     0 │     0 │     0 │    64 │\n",
      "│   51889 │ 2019-03-07 13:05:20.07851+00:00  │     0 │     0 │     0 │   184 │\n",
      "│   51889 │ 2019-03-07 13:05:21.078149+00:00 │     0 │     0 │     0 │   103 │\n",
      "│   51889 │ 2019-03-07 13:05:23.078481+00:00 │     0 │     0 │     0 │    92 │\n",
      "│   51889 │ 2019-03-07 13:05:24.078174+00:00 │     0 │     0 │     0 │    53 │\n",
      "│   51889 │ 2019-03-07 13:05:25.07798+00:00  │     0 │     0 │     0 │   111 │\n",
      "│     ·   │                ·                 │     · │     · │     · │     · │\n",
      "│     ·   │                ·                 │     · │     · │     · │     · │\n",
      "│     ·   │                ·                 │     · │     · │     · │     · │\n",
      "│   51889 │ 2019-03-12 17:26:10.468255+00:00 │   147 │  2634 │     0 │    83 │\n",
      "│   51889 │ 2019-03-12 17:26:11.469135+00:00 │   156 │  2644 │     0 │    85 │\n",
      "│   51889 │ 2019-03-12 17:26:12.469265+00:00 │   159 │  2649 │     0 │    88 │\n",
      "│   51889 │ 2019-03-12 17:26:13.46904+00:00  │   165 │  2653 │     0 │    86 │\n",
      "│   51889 │ 2019-03-12 17:26:14.469542+00:00 │   161 │  2652 │     0 │    61 │\n",
      "│   51889 │ 2019-03-12 17:26:15.469073+00:00 │   161 │  2649 │     0 │    60 │\n",
      "│   51889 │ 2019-03-12 17:26:16.469262+00:00 │   156 │  2650 │     0 │    62 │\n",
      "│   51889 │ 2019-03-12 17:26:17.469156+00:00 │   156 │  2648 │     0 │    59 │\n",
      "│   51889 │ 2019-03-12 17:26:18.468919+00:00 │   162 │  2655 │     0 │    87 │\n",
      "│   51889 │ 2019-03-12 17:26:18.468926+00:00 │   162 │  2655 │     0 │    87 │\n",
      "├─────────┴──────────────────────────────────┴───────┴───────┴───────┴───────┤\n",
      "│ ? rows (>9999 rows, 20 shown)                                    6 columns │\n",
      "└────────────────────────────────────────────────────────────────────────────┘\n",
      "\n"
     ]
    }
   ],
   "source": [
    "import duckdb\n",
    "import pandas as pd\n",
    "duckdb_path = \"data/duckdb.database\" # Duckdb tietokannalle annettava nimi, tallentuu lokaalisti\n",
    "table_name = \"Bronze_SensorData\" # Tietokantataulu, josta luetaan\n",
    "\n",
    "# Ota yhteys tietokantaa ja tarkista mitä dataa taulusta löytyy\n",
    "conn = duckdb.connect(database=duckdb_path)\n",
    "conn.table(table_name).show()\n",
    "conn.close()"
   ]
  },
  {
   "cell_type": "code",
   "execution_count": 29,
   "id": "ce2aa2a1-562c-4c53-b5af-b34800e4cff9",
   "metadata": {},
   "outputs": [],
   "source": [
    "import duckdb\n",
    "import pandas as pd\n",
    "duckdb_path = \"data/duckdb.database\" # Duckdb tietokannalle annettava nimi, tallentuu lokaalisti\n",
    "table_name = \"Bronze_SensorData\" # Tietokantataulu, josta luetaan\n",
    "\n",
    "# Ota yhteys tietokantaa ja tarkista mitä dataa taulusta löytyy\n",
    "conn = duckdb.connect(database=duckdb_path)\n",
    "df = conn.sql(f\"SELECT * FROM {table_name} WHERE node_id = 3200\").df() # Tallenentaan taulun data Pandasin dataframeen\n",
    "conn.close()"
   ]
  },
  {
   "cell_type": "code",
   "execution_count": 4,
   "id": "bc23b1a7-7554-4075-936c-53c5de1c1593",
   "metadata": {},
   "outputs": [
    {
     "name": "stdout",
     "output_type": "stream",
     "text": [
      "<class 'pandas.core.frame.DataFrame'>\n",
      "RangeIndex: 6489294 entries, 0 to 6489293\n",
      "Data columns (total 6 columns):\n",
      " #   Column     Dtype \n",
      "---  ------     ----- \n",
      " 0   node_id    int32 \n",
      " 1   timestamp  object\n",
      " 2   x          int32 \n",
      " 3   y          int32 \n",
      " 4   z          int32 \n",
      " 5   q          int32 \n",
      "dtypes: int32(5), object(1)\n",
      "memory usage: 173.3+ MB\n"
     ]
    },
    {
     "data": {
      "text/html": [
       "<div>\n",
       "<style scoped>\n",
       "    .dataframe tbody tr th:only-of-type {\n",
       "        vertical-align: middle;\n",
       "    }\n",
       "\n",
       "    .dataframe tbody tr th {\n",
       "        vertical-align: top;\n",
       "    }\n",
       "\n",
       "    .dataframe thead th {\n",
       "        text-align: right;\n",
       "    }\n",
       "</style>\n",
       "<table border=\"1\" class=\"dataframe\">\n",
       "  <thead>\n",
       "    <tr style=\"text-align: right;\">\n",
       "      <th></th>\n",
       "      <th>node_id</th>\n",
       "      <th>timestamp</th>\n",
       "      <th>x</th>\n",
       "      <th>y</th>\n",
       "      <th>z</th>\n",
       "      <th>q</th>\n",
       "    </tr>\n",
       "  </thead>\n",
       "  <tbody>\n",
       "    <tr>\n",
       "      <th>0</th>\n",
       "      <td>3200</td>\n",
       "      <td>2019-03-07 11:46:19.078016+00:00</td>\n",
       "      <td>0</td>\n",
       "      <td>0</td>\n",
       "      <td>0</td>\n",
       "      <td>51</td>\n",
       "    </tr>\n",
       "    <tr>\n",
       "      <th>1</th>\n",
       "      <td>3200</td>\n",
       "      <td>2019-03-07 11:46:20.078012+00:00</td>\n",
       "      <td>0</td>\n",
       "      <td>0</td>\n",
       "      <td>0</td>\n",
       "      <td>163</td>\n",
       "    </tr>\n",
       "    <tr>\n",
       "      <th>2</th>\n",
       "      <td>3200</td>\n",
       "      <td>2019-03-07 11:46:21.078081+00:00</td>\n",
       "      <td>0</td>\n",
       "      <td>0</td>\n",
       "      <td>0</td>\n",
       "      <td>42</td>\n",
       "    </tr>\n",
       "    <tr>\n",
       "      <th>3</th>\n",
       "      <td>3200</td>\n",
       "      <td>2019-03-07 11:46:22.07813+00:00</td>\n",
       "      <td>0</td>\n",
       "      <td>0</td>\n",
       "      <td>0</td>\n",
       "      <td>105</td>\n",
       "    </tr>\n",
       "    <tr>\n",
       "      <th>4</th>\n",
       "      <td>3200</td>\n",
       "      <td>2019-03-13 15:29:43.686639+00:00</td>\n",
       "      <td>-50</td>\n",
       "      <td>50</td>\n",
       "      <td>0</td>\n",
       "      <td>106</td>\n",
       "    </tr>\n",
       "    <tr>\n",
       "      <th>...</th>\n",
       "      <td>...</td>\n",
       "      <td>...</td>\n",
       "      <td>...</td>\n",
       "      <td>...</td>\n",
       "      <td>...</td>\n",
       "      <td>...</td>\n",
       "    </tr>\n",
       "    <tr>\n",
       "      <th>6489289</th>\n",
       "      <td>3200</td>\n",
       "      <td>2020-01-22 17:53:32.478699+00:00</td>\n",
       "      <td>253</td>\n",
       "      <td>1143</td>\n",
       "      <td>0</td>\n",
       "      <td>98</td>\n",
       "    </tr>\n",
       "    <tr>\n",
       "      <th>6489290</th>\n",
       "      <td>3200</td>\n",
       "      <td>2020-01-22 17:53:35.478839+00:00</td>\n",
       "      <td>256</td>\n",
       "      <td>1152</td>\n",
       "      <td>0</td>\n",
       "      <td>123</td>\n",
       "    </tr>\n",
       "    <tr>\n",
       "      <th>6489291</th>\n",
       "      <td>3200</td>\n",
       "      <td>2020-01-22 17:53:36.478961+00:00</td>\n",
       "      <td>501</td>\n",
       "      <td>2034</td>\n",
       "      <td>0</td>\n",
       "      <td>108</td>\n",
       "    </tr>\n",
       "    <tr>\n",
       "      <th>6489292</th>\n",
       "      <td>3200</td>\n",
       "      <td>2020-01-22 17:53:46.479005+00:00</td>\n",
       "      <td>745</td>\n",
       "      <td>2914</td>\n",
       "      <td>0</td>\n",
       "      <td>113</td>\n",
       "    </tr>\n",
       "    <tr>\n",
       "      <th>6489293</th>\n",
       "      <td>3200</td>\n",
       "      <td>2020-01-22 17:53:46.479008+00:00</td>\n",
       "      <td>745</td>\n",
       "      <td>2914</td>\n",
       "      <td>0</td>\n",
       "      <td>113</td>\n",
       "    </tr>\n",
       "  </tbody>\n",
       "</table>\n",
       "<p>6489294 rows × 6 columns</p>\n",
       "</div>"
      ],
      "text/plain": [
       "         node_id                         timestamp    x     y  z    q\n",
       "0           3200  2019-03-07 11:46:19.078016+00:00    0     0  0   51\n",
       "1           3200  2019-03-07 11:46:20.078012+00:00    0     0  0  163\n",
       "2           3200  2019-03-07 11:46:21.078081+00:00    0     0  0   42\n",
       "3           3200   2019-03-07 11:46:22.07813+00:00    0     0  0  105\n",
       "4           3200  2019-03-13 15:29:43.686639+00:00  -50    50  0  106\n",
       "...          ...                               ...  ...   ... ..  ...\n",
       "6489289     3200  2020-01-22 17:53:32.478699+00:00  253  1143  0   98\n",
       "6489290     3200  2020-01-22 17:53:35.478839+00:00  256  1152  0  123\n",
       "6489291     3200  2020-01-22 17:53:36.478961+00:00  501  2034  0  108\n",
       "6489292     3200  2020-01-22 17:53:46.479005+00:00  745  2914  0  113\n",
       "6489293     3200  2020-01-22 17:53:46.479008+00:00  745  2914  0  113\n",
       "\n",
       "[6489294 rows x 6 columns]"
      ]
     },
     "execution_count": 4,
     "metadata": {},
     "output_type": "execute_result"
    }
   ],
   "source": [
    "df.info(verbose=True)\n",
    "df"
   ]
  },
  {
   "cell_type": "code",
<<<<<<< HEAD
   "execution_count": 5,
=======
   "execution_count": 3,
>>>>>>> main
   "id": "df5561c9",
   "metadata": {},
   "outputs": [
    {
     "name": "stdout",
     "output_type": "stream",
     "text": [
<<<<<<< HEAD
      "Requirement already satisfied: ydata-profiling in c:\\users\\jonik\\appdata\\local\\programs\\python\\python311\\lib\\site-packages (4.7.0)\n",
      "Requirement already satisfied: scipy<1.12,>=1.4.1 in c:\\users\\jonik\\appdata\\local\\programs\\python\\python311\\lib\\site-packages (from ydata-profiling) (1.11.4)\n",
      "Requirement already satisfied: pandas!=1.4.0,<3,>1.1 in c:\\users\\jonik\\appdata\\local\\programs\\python\\python311\\lib\\site-packages (from ydata-profiling) (2.1.4)\n",
      "Requirement already satisfied: matplotlib<3.9,>=3.2 in c:\\users\\jonik\\appdata\\local\\programs\\python\\python311\\lib\\site-packages (from ydata-profiling) (3.8.2)\n",
      "Requirement already satisfied: pydantic>=2 in c:\\users\\jonik\\appdata\\local\\programs\\python\\python311\\lib\\site-packages (from ydata-profiling) (2.5.3)\n",
      "Requirement already satisfied: PyYAML<6.1,>=5.0.0 in c:\\users\\jonik\\appdata\\local\\programs\\python\\python311\\lib\\site-packages (from ydata-profiling) (6.0.1)\n",
      "Requirement already satisfied: jinja2<3.2,>=2.11.1 in c:\\users\\jonik\\appdata\\local\\programs\\python\\python311\\lib\\site-packages (from ydata-profiling) (3.1.2)\n",
      "Requirement already satisfied: visions<0.7.7,>=0.7.5 in c:\\users\\jonik\\appdata\\local\\programs\\python\\python311\\lib\\site-packages (from visions[type_image_path]<0.7.7,>=0.7.5->ydata-profiling) (0.7.6)\n",
      "Requirement already satisfied: numpy<2,>=1.16.0 in c:\\users\\jonik\\appdata\\local\\programs\\python\\python311\\lib\\site-packages (from ydata-profiling) (1.26.3)\n",
      "Requirement already satisfied: htmlmin==0.1.12 in c:\\users\\jonik\\appdata\\local\\programs\\python\\python311\\lib\\site-packages (from ydata-profiling) (0.1.12)\n",
      "Requirement already satisfied: phik<0.13,>=0.11.1 in c:\\users\\jonik\\appdata\\local\\programs\\python\\python311\\lib\\site-packages (from ydata-profiling) (0.12.4)\n",
      "Requirement already satisfied: requests<3,>=2.24.0 in c:\\users\\jonik\\appdata\\local\\programs\\python\\python311\\lib\\site-packages (from ydata-profiling) (2.31.0)\n",
      "Requirement already satisfied: tqdm<5,>=4.48.2 in c:\\users\\jonik\\appdata\\local\\programs\\python\\python311\\lib\\site-packages (from ydata-profiling) (4.66.1)\n",
      "Requirement already satisfied: seaborn<0.13,>=0.10.1 in c:\\users\\jonik\\appdata\\local\\programs\\python\\python311\\lib\\site-packages (from ydata-profiling) (0.12.2)\n",
      "Requirement already satisfied: multimethod<2,>=1.4 in c:\\users\\jonik\\appdata\\local\\programs\\python\\python311\\lib\\site-packages (from ydata-profiling) (1.11.2)\n",
      "Requirement already satisfied: statsmodels<1,>=0.13.2 in c:\\users\\jonik\\appdata\\local\\programs\\python\\python311\\lib\\site-packages (from ydata-profiling) (0.14.1)\n",
      "Requirement already satisfied: typeguard<5,>=4.1.2 in c:\\users\\jonik\\appdata\\local\\programs\\python\\python311\\lib\\site-packages (from ydata-profiling) (4.2.1)\n",
      "Requirement already satisfied: imagehash==4.3.1 in c:\\users\\jonik\\appdata\\local\\programs\\python\\python311\\lib\\site-packages (from ydata-profiling) (4.3.1)\n",
      "Requirement already satisfied: wordcloud>=1.9.1 in c:\\users\\jonik\\appdata\\local\\programs\\python\\python311\\lib\\site-packages (from ydata-profiling) (1.9.3)\n",
      "Requirement already satisfied: dacite>=1.8 in c:\\users\\jonik\\appdata\\local\\programs\\python\\python311\\lib\\site-packages (from ydata-profiling) (1.8.1)\n",
      "Requirement already satisfied: numba<1,>=0.56.0 in c:\\users\\jonik\\appdata\\local\\programs\\python\\python311\\lib\\site-packages (from ydata-profiling) (0.59.1)\n",
      "Requirement already satisfied: PyWavelets in c:\\users\\jonik\\appdata\\local\\programs\\python\\python311\\lib\\site-packages (from imagehash==4.3.1->ydata-profiling) (1.5.0)\n",
      "Requirement already satisfied: pillow in c:\\users\\jonik\\appdata\\local\\programs\\python\\python311\\lib\\site-packages (from imagehash==4.3.1->ydata-profiling) (10.2.0)\n",
      "Requirement already satisfied: MarkupSafe>=2.0 in c:\\users\\jonik\\appdata\\local\\programs\\python\\python311\\lib\\site-packages (from jinja2<3.2,>=2.11.1->ydata-profiling) (2.1.3)\n",
      "Requirement already satisfied: contourpy>=1.0.1 in c:\\users\\jonik\\appdata\\local\\programs\\python\\python311\\lib\\site-packages (from matplotlib<3.9,>=3.2->ydata-profiling) (1.2.0)\n",
      "Requirement already satisfied: cycler>=0.10 in c:\\users\\jonik\\appdata\\local\\programs\\python\\python311\\lib\\site-packages (from matplotlib<3.9,>=3.2->ydata-profiling) (0.12.1)\n",
      "Requirement already satisfied: fonttools>=4.22.0 in c:\\users\\jonik\\appdata\\local\\programs\\python\\python311\\lib\\site-packages (from matplotlib<3.9,>=3.2->ydata-profiling) (4.47.2)\n",
      "Requirement already satisfied: kiwisolver>=1.3.1 in c:\\users\\jonik\\appdata\\local\\programs\\python\\python311\\lib\\site-packages (from matplotlib<3.9,>=3.2->ydata-profiling) (1.4.5)\n",
      "Requirement already satisfied: packaging>=20.0 in c:\\users\\jonik\\appdata\\local\\programs\\python\\python311\\lib\\site-packages (from matplotlib<3.9,>=3.2->ydata-profiling) (23.2)\n",
      "Requirement already satisfied: pyparsing>=2.3.1 in c:\\users\\jonik\\appdata\\local\\programs\\python\\python311\\lib\\site-packages (from matplotlib<3.9,>=3.2->ydata-profiling) (3.1.1)\n",
      "Requirement already satisfied: python-dateutil>=2.7 in c:\\users\\jonik\\appdata\\local\\programs\\python\\python311\\lib\\site-packages (from matplotlib<3.9,>=3.2->ydata-profiling) (2.8.2)\n",
      "Requirement already satisfied: llvmlite<0.43,>=0.42.0dev0 in c:\\users\\jonik\\appdata\\local\\programs\\python\\python311\\lib\\site-packages (from numba<1,>=0.56.0->ydata-profiling) (0.42.0)\n",
      "Requirement already satisfied: pytz>=2020.1 in c:\\users\\jonik\\appdata\\local\\programs\\python\\python311\\lib\\site-packages (from pandas!=1.4.0,<3,>1.1->ydata-profiling) (2023.3.post1)\n",
      "Requirement already satisfied: tzdata>=2022.1 in c:\\users\\jonik\\appdata\\local\\programs\\python\\python311\\lib\\site-packages (from pandas!=1.4.0,<3,>1.1->ydata-profiling) (2023.4)\n",
      "Requirement already satisfied: joblib>=0.14.1 in c:\\users\\jonik\\appdata\\local\\programs\\python\\python311\\lib\\site-packages (from phik<0.13,>=0.11.1->ydata-profiling) (1.3.2)\n",
      "Requirement already satisfied: annotated-types>=0.4.0 in c:\\users\\jonik\\appdata\\local\\programs\\python\\python311\\lib\\site-packages (from pydantic>=2->ydata-profiling) (0.6.0)\n",
      "Requirement already satisfied: pydantic-core==2.14.6 in c:\\users\\jonik\\appdata\\local\\programs\\python\\python311\\lib\\site-packages (from pydantic>=2->ydata-profiling) (2.14.6)\n",
      "Requirement already satisfied: typing-extensions>=4.6.1 in c:\\users\\jonik\\appdata\\local\\programs\\python\\python311\\lib\\site-packages (from pydantic>=2->ydata-profiling) (4.10.0)\n",
      "Requirement already satisfied: charset-normalizer<4,>=2 in c:\\users\\jonik\\appdata\\local\\programs\\python\\python311\\lib\\site-packages (from requests<3,>=2.24.0->ydata-profiling) (3.3.2)\n",
      "Requirement already satisfied: idna<4,>=2.5 in c:\\users\\jonik\\appdata\\local\\programs\\python\\python311\\lib\\site-packages (from requests<3,>=2.24.0->ydata-profiling) (3.6)\n",
      "Requirement already satisfied: urllib3<3,>=1.21.1 in c:\\users\\jonik\\appdata\\local\\programs\\python\\python311\\lib\\site-packages (from requests<3,>=2.24.0->ydata-profiling) (2.1.0)\n",
      "Requirement already satisfied: certifi>=2017.4.17 in c:\\users\\jonik\\appdata\\local\\programs\\python\\python311\\lib\\site-packages (from requests<3,>=2.24.0->ydata-profiling) (2023.11.17)\n",
      "Requirement already satisfied: patsy>=0.5.4 in c:\\users\\jonik\\appdata\\local\\programs\\python\\python311\\lib\\site-packages (from statsmodels<1,>=0.13.2->ydata-profiling) (0.5.6)\n",
      "Requirement already satisfied: colorama in c:\\users\\jonik\\appdata\\local\\programs\\python\\python311\\lib\\site-packages (from tqdm<5,>=4.48.2->ydata-profiling) (0.4.6)\n",
      "Requirement already satisfied: attrs>=19.3.0 in c:\\users\\jonik\\appdata\\local\\programs\\python\\python311\\lib\\site-packages (from visions<0.7.7,>=0.7.5->visions[type_image_path]<0.7.7,>=0.7.5->ydata-profiling) (23.2.0)\n",
      "Requirement already satisfied: networkx>=2.4 in c:\\users\\jonik\\appdata\\local\\programs\\python\\python311\\lib\\site-packages (from visions<0.7.7,>=0.7.5->visions[type_image_path]<0.7.7,>=0.7.5->ydata-profiling) (3.2.1)\n",
      "Requirement already satisfied: six in c:\\users\\jonik\\appdata\\local\\programs\\python\\python311\\lib\\site-packages (from patsy>=0.5.4->statsmodels<1,>=0.13.2->ydata-profiling) (1.16.0)\n"
     ]
    },
    {
     "name": "stderr",
     "output_type": "stream",
     "text": [
      "WARNING: Ignoring invalid distribution ~treamlit (C:\\Users\\jonik\\AppData\\Local\\Programs\\Python\\Python311\\Lib\\site-packages)\n",
      "WARNING: Ignoring invalid distribution ~treamlit (C:\\Users\\jonik\\AppData\\Local\\Programs\\Python\\Python311\\Lib\\site-packages)\n",
      "\n",
      "[notice] A new release of pip is available: 23.3.1 -> 24.0\n",
      "[notice] To update, run: python.exe -m pip install --upgrade pip\n"
     ]
    },
    {
     "name": "stdout",
     "output_type": "stream",
     "text": [
      "Requirement already satisfied: setuptools in c:\\users\\jonik\\appdata\\local\\programs\\python\\python311\\lib\\site-packages (65.5.0)\n"
     ]
    },
    {
     "name": "stderr",
     "output_type": "stream",
     "text": [
      "WARNING: Ignoring invalid distribution ~treamlit (C:\\Users\\jonik\\AppData\\Local\\Programs\\Python\\Python311\\Lib\\site-packages)\n",
      "WARNING: Ignoring invalid distribution ~treamlit (C:\\Users\\jonik\\AppData\\Local\\Programs\\Python\\Python311\\Lib\\site-packages)\n",
      "\n",
      "[notice] A new release of pip is available: 23.3.1 -> 24.0\n",
      "[notice] To update, run: python.exe -m pip install --upgrade pip\n"
=======
      "Collecting ydata-profiling\n",
      "  Downloading ydata_profiling-4.7.0-py2.py3-none-any.whl.metadata (20 kB)\n",
      "Requirement already satisfied: scipy<1.12,>=1.4.1 in /opt/conda/lib/python3.11/site-packages (from ydata-profiling) (1.11.3)\n",
      "Requirement already satisfied: pandas!=1.4.0,<3,>1.1 in /opt/conda/lib/python3.11/site-packages (from ydata-profiling) (2.1.1)\n",
      "Requirement already satisfied: matplotlib<3.9,>=3.2 in /opt/conda/lib/python3.11/site-packages (from ydata-profiling) (3.8.0)\n",
      "Collecting pydantic>=2 (from ydata-profiling)\n",
      "  Downloading pydantic-2.6.4-py3-none-any.whl.metadata (85 kB)\n",
      "\u001b[2K     \u001b[90m━━━━━━━━━━━━━━━━━━━━━━━━━━━━━━━━━━━━━━━━\u001b[0m \u001b[32m85.1/85.1 kB\u001b[0m \u001b[31m7.7 MB/s\u001b[0m eta \u001b[36m0:00:00\u001b[0m\n",
      "\u001b[?25hRequirement already satisfied: PyYAML<6.1,>=5.0.0 in /opt/conda/lib/python3.11/site-packages (from ydata-profiling) (6.0.1)\n",
      "Requirement already satisfied: jinja2<3.2,>=2.11.1 in /opt/conda/lib/python3.11/site-packages (from ydata-profiling) (3.1.2)\n",
      "Collecting visions<0.7.7,>=0.7.5 (from visions[type_image_path]<0.7.7,>=0.7.5->ydata-profiling)\n",
      "  Downloading visions-0.7.6-py3-none-any.whl.metadata (11 kB)\n",
      "Requirement already satisfied: numpy<2,>=1.16.0 in /opt/conda/lib/python3.11/site-packages (from ydata-profiling) (1.24.4)\n",
      "Collecting htmlmin==0.1.12 (from ydata-profiling)\n",
      "  Downloading htmlmin-0.1.12.tar.gz (19 kB)\n",
      "  Preparing metadata (setup.py) ... \u001b[?25ldone\n",
      "\u001b[?25hCollecting phik<0.13,>=0.11.1 (from ydata-profiling)\n",
      "  Downloading phik-0.12.4-cp311-cp311-manylinux_2_17_x86_64.manylinux2014_x86_64.whl.metadata (5.6 kB)\n",
      "Requirement already satisfied: requests<3,>=2.24.0 in /opt/conda/lib/python3.11/site-packages (from ydata-profiling) (2.31.0)\n",
      "Requirement already satisfied: tqdm<5,>=4.48.2 in /opt/conda/lib/python3.11/site-packages (from ydata-profiling) (4.66.1)\n",
      "Collecting seaborn<0.13,>=0.10.1 (from ydata-profiling)\n",
      "  Downloading seaborn-0.12.2-py3-none-any.whl.metadata (5.4 kB)\n",
      "Collecting multimethod<2,>=1.4 (from ydata-profiling)\n",
      "  Downloading multimethod-1.11.2-py3-none-any.whl.metadata (9.1 kB)\n",
      "Requirement already satisfied: statsmodels<1,>=0.13.2 in /opt/conda/lib/python3.11/site-packages (from ydata-profiling) (0.14.0)\n",
      "Collecting typeguard<5,>=4.1.2 (from ydata-profiling)\n",
      "  Downloading typeguard-4.2.1-py3-none-any.whl.metadata (3.7 kB)\n",
      "Collecting imagehash==4.3.1 (from ydata-profiling)\n",
      "  Downloading ImageHash-4.3.1-py2.py3-none-any.whl.metadata (8.0 kB)\n",
      "Collecting wordcloud>=1.9.1 (from ydata-profiling)\n",
      "  Downloading wordcloud-1.9.3-cp311-cp311-manylinux_2_17_x86_64.manylinux2014_x86_64.whl.metadata (3.4 kB)\n",
      "Collecting dacite>=1.8 (from ydata-profiling)\n",
      "  Downloading dacite-1.8.1-py3-none-any.whl.metadata (15 kB)\n",
      "Requirement already satisfied: numba<1,>=0.56.0 in /opt/conda/lib/python3.11/site-packages (from ydata-profiling) (0.57.1)\n",
      "Requirement already satisfied: PyWavelets in /opt/conda/lib/python3.11/site-packages (from imagehash==4.3.1->ydata-profiling) (1.4.1)\n",
      "Requirement already satisfied: pillow in /opt/conda/lib/python3.11/site-packages (from imagehash==4.3.1->ydata-profiling) (10.1.0)\n",
      "Requirement already satisfied: MarkupSafe>=2.0 in /opt/conda/lib/python3.11/site-packages (from jinja2<3.2,>=2.11.1->ydata-profiling) (2.1.3)\n",
      "Requirement already satisfied: contourpy>=1.0.1 in /opt/conda/lib/python3.11/site-packages (from matplotlib<3.9,>=3.2->ydata-profiling) (1.1.1)\n",
      "Requirement already satisfied: cycler>=0.10 in /opt/conda/lib/python3.11/site-packages (from matplotlib<3.9,>=3.2->ydata-profiling) (0.12.1)\n",
      "Requirement already satisfied: fonttools>=4.22.0 in /opt/conda/lib/python3.11/site-packages (from matplotlib<3.9,>=3.2->ydata-profiling) (4.43.1)\n",
      "Requirement already satisfied: kiwisolver>=1.0.1 in /opt/conda/lib/python3.11/site-packages (from matplotlib<3.9,>=3.2->ydata-profiling) (1.4.5)\n",
      "Requirement already satisfied: packaging>=20.0 in /opt/conda/lib/python3.11/site-packages (from matplotlib<3.9,>=3.2->ydata-profiling) (23.2)\n",
      "Requirement already satisfied: pyparsing>=2.3.1 in /opt/conda/lib/python3.11/site-packages (from matplotlib<3.9,>=3.2->ydata-profiling) (3.1.1)\n",
      "Requirement already satisfied: python-dateutil>=2.7 in /opt/conda/lib/python3.11/site-packages (from matplotlib<3.9,>=3.2->ydata-profiling) (2.8.2)\n",
      "Requirement already satisfied: llvmlite<0.41,>=0.40.0dev0 in /opt/conda/lib/python3.11/site-packages (from numba<1,>=0.56.0->ydata-profiling) (0.40.1)\n",
      "Requirement already satisfied: pytz>=2020.1 in /opt/conda/lib/python3.11/site-packages (from pandas!=1.4.0,<3,>1.1->ydata-profiling) (2023.3.post1)\n",
      "Requirement already satisfied: tzdata>=2022.1 in /opt/conda/lib/python3.11/site-packages (from pandas!=1.4.0,<3,>1.1->ydata-profiling) (2023.3)\n",
      "Requirement already satisfied: joblib>=0.14.1 in /opt/conda/lib/python3.11/site-packages (from phik<0.13,>=0.11.1->ydata-profiling) (1.3.2)\n",
      "Collecting annotated-types>=0.4.0 (from pydantic>=2->ydata-profiling)\n",
      "  Downloading annotated_types-0.6.0-py3-none-any.whl.metadata (12 kB)\n",
      "Collecting pydantic-core==2.16.3 (from pydantic>=2->ydata-profiling)\n",
      "  Downloading pydantic_core-2.16.3-cp311-cp311-manylinux_2_17_x86_64.manylinux2014_x86_64.whl.metadata (6.5 kB)\n",
      "Requirement already satisfied: typing-extensions>=4.6.1 in /opt/conda/lib/python3.11/site-packages (from pydantic>=2->ydata-profiling) (4.8.0)\n",
      "Requirement already satisfied: charset-normalizer<4,>=2 in /opt/conda/lib/python3.11/site-packages (from requests<3,>=2.24.0->ydata-profiling) (3.3.0)\n",
      "Requirement already satisfied: idna<4,>=2.5 in /opt/conda/lib/python3.11/site-packages (from requests<3,>=2.24.0->ydata-profiling) (3.4)\n",
      "Requirement already satisfied: urllib3<3,>=1.21.1 in /opt/conda/lib/python3.11/site-packages (from requests<3,>=2.24.0->ydata-profiling) (2.0.7)\n",
      "Requirement already satisfied: certifi>=2017.4.17 in /opt/conda/lib/python3.11/site-packages (from requests<3,>=2.24.0->ydata-profiling) (2023.7.22)\n",
      "Requirement already satisfied: patsy>=0.5.2 in /opt/conda/lib/python3.11/site-packages (from statsmodels<1,>=0.13.2->ydata-profiling) (0.5.3)\n",
      "Collecting typing-extensions>=4.6.1 (from pydantic>=2->ydata-profiling)\n",
      "  Downloading typing_extensions-4.11.0-py3-none-any.whl.metadata (3.0 kB)\n",
      "Requirement already satisfied: attrs>=19.3.0 in /opt/conda/lib/python3.11/site-packages (from visions<0.7.7,>=0.7.5->visions[type_image_path]<0.7.7,>=0.7.5->ydata-profiling) (23.1.0)\n",
      "Requirement already satisfied: networkx>=2.4 in /opt/conda/lib/python3.11/site-packages (from visions<0.7.7,>=0.7.5->visions[type_image_path]<0.7.7,>=0.7.5->ydata-profiling) (3.2)\n",
      "Requirement already satisfied: six in /opt/conda/lib/python3.11/site-packages (from patsy>=0.5.2->statsmodels<1,>=0.13.2->ydata-profiling) (1.16.0)\n",
      "Downloading ydata_profiling-4.7.0-py2.py3-none-any.whl (357 kB)\n",
      "\u001b[2K   \u001b[90m━━━━━━━━━━━━━━━━━━━━━━━━━━━━━━━━━━━━━━━━\u001b[0m \u001b[32m357.9/357.9 kB\u001b[0m \u001b[31m10.7 MB/s\u001b[0m eta \u001b[36m0:00:00\u001b[0ma \u001b[36m0:00:01\u001b[0m\n",
      "\u001b[?25hDownloading ImageHash-4.3.1-py2.py3-none-any.whl (296 kB)\n",
      "\u001b[2K   \u001b[90m━━━━━━━━━━━━━━━━━━━━━━━━━━━━━━━━━━━━━━━━\u001b[0m \u001b[32m296.5/296.5 kB\u001b[0m \u001b[31m12.2 MB/s\u001b[0m eta \u001b[36m0:00:00\u001b[0m\n",
      "\u001b[?25hDownloading dacite-1.8.1-py3-none-any.whl (14 kB)\n",
      "Downloading multimethod-1.11.2-py3-none-any.whl (10 kB)\n",
      "Downloading phik-0.12.4-cp311-cp311-manylinux_2_17_x86_64.manylinux2014_x86_64.whl (687 kB)\n",
      "\u001b[2K   \u001b[90m━━━━━━━━━━━━━━━━━━━━━━━━━━━━━━━━━━━━━━━━\u001b[0m \u001b[32m687.8/687.8 kB\u001b[0m \u001b[31m19.4 MB/s\u001b[0m eta \u001b[36m0:00:00\u001b[0m00:01\u001b[0m\n",
      "\u001b[?25hDownloading pydantic-2.6.4-py3-none-any.whl (394 kB)\n",
      "\u001b[2K   \u001b[90m━━━━━━━━━━━━━━━━━━━━━━━━━━━━━━━━━━━━━━━━\u001b[0m \u001b[32m394.9/394.9 kB\u001b[0m \u001b[31m25.7 MB/s\u001b[0m eta \u001b[36m0:00:00\u001b[0m\n",
      "\u001b[?25hDownloading pydantic_core-2.16.3-cp311-cp311-manylinux_2_17_x86_64.manylinux2014_x86_64.whl (2.2 MB)\n",
      "\u001b[2K   \u001b[90m━━━━━━━━━━━━━━━━━━━━━━━━━━━━━━━━━━━━━━━━\u001b[0m \u001b[32m2.2/2.2 MB\u001b[0m \u001b[31m29.5 MB/s\u001b[0m eta \u001b[36m0:00:00\u001b[0m00:01\u001b[0m00:01\u001b[0m\n",
      "\u001b[?25hDownloading seaborn-0.12.2-py3-none-any.whl (293 kB)\n",
      "\u001b[2K   \u001b[90m━━━━━━━━━━━━━━━━━━━━━━━━━━━━━━━━━━━━━━━━\u001b[0m \u001b[32m293.3/293.3 kB\u001b[0m \u001b[31m12.8 MB/s\u001b[0m eta \u001b[36m0:00:00\u001b[0m\n",
      "\u001b[?25hDownloading typeguard-4.2.1-py3-none-any.whl (34 kB)\n",
      "Downloading visions-0.7.6-py3-none-any.whl (104 kB)\n",
      "\u001b[2K   \u001b[90m━━━━━━━━━━━━━━━━━━━━━━━━━━━━━━━━━━━━━━━━\u001b[0m \u001b[32m104.8/104.8 kB\u001b[0m \u001b[31m11.3 MB/s\u001b[0m eta \u001b[36m0:00:00\u001b[0m\n",
      "\u001b[?25hDownloading wordcloud-1.9.3-cp311-cp311-manylinux_2_17_x86_64.manylinux2014_x86_64.whl (548 kB)\n",
      "\u001b[2K   \u001b[90m━━━━━━━━━━━━━━━━━━━━━━━━━━━━━━━━━━━━━━━━\u001b[0m \u001b[32m548.3/548.3 kB\u001b[0m \u001b[31m16.8 MB/s\u001b[0m eta \u001b[36m0:00:00\u001b[0m\n",
      "\u001b[?25hDownloading annotated_types-0.6.0-py3-none-any.whl (12 kB)\n",
      "Downloading typing_extensions-4.11.0-py3-none-any.whl (34 kB)\n",
      "Building wheels for collected packages: htmlmin\n",
      "  Building wheel for htmlmin (setup.py) ... \u001b[?25ldone\n",
      "\u001b[?25h  Created wheel for htmlmin: filename=htmlmin-0.1.12-py3-none-any.whl size=27081 sha256=bcb2b21b928dd942959b97e86ecf4b58f8ec615ca5b446023a87b129259dfc6f\n",
      "  Stored in directory: /home/jovyan/.cache/pip/wheels/8d/55/1a/19cd535375ed1ede0c996405ebffe34b196d78e2d9545723a2\n",
      "Successfully built htmlmin\n",
      "Installing collected packages: htmlmin, typing-extensions, multimethod, dacite, annotated-types, typeguard, pydantic-core, imagehash, wordcloud, visions, seaborn, pydantic, phik, ydata-profiling\n",
      "  Attempting uninstall: typing-extensions\n",
      "    Found existing installation: typing_extensions 4.8.0\n",
      "    Uninstalling typing_extensions-4.8.0:\n",
      "      Successfully uninstalled typing_extensions-4.8.0\n",
      "  Attempting uninstall: seaborn\n",
      "    Found existing installation: seaborn 0.13.0\n",
      "    Uninstalling seaborn-0.13.0:\n",
      "      Successfully uninstalled seaborn-0.13.0\n",
      "Successfully installed annotated-types-0.6.0 dacite-1.8.1 htmlmin-0.1.12 imagehash-4.3.1 multimethod-1.11.2 phik-0.12.4 pydantic-2.6.4 pydantic-core-2.16.3 seaborn-0.12.2 typeguard-4.2.1 typing-extensions-4.11.0 visions-0.7.6 wordcloud-1.9.3 ydata-profiling-4.7.0\n",
      "Requirement already satisfied: setuptools in /opt/conda/lib/python3.11/site-packages (68.2.2)\n"
>>>>>>> main
     ]
    }
   ],
   "source": [
    "# Tehdään perus EDA (Explorative Data Analysis)\n",
    "!pip install ydata-profiling\n",
    "!pip install setuptools"
   ]
  },
  {
   "cell_type": "code",
<<<<<<< HEAD
   "execution_count": 6,
   "id": "fb72161d",
   "metadata": {},
   "outputs": [
    {
     "name": "stderr",
     "output_type": "stream",
     "text": [
      "c:\\Users\\jonik\\AppData\\Local\\Programs\\Python\\Python311\\Lib\\site-packages\\tqdm\\auto.py:21: TqdmWarning: IProgress not found. Please update jupyter and ipywidgets. See https://ipywidgets.readthedocs.io/en/stable/user_install.html\n",
      "  from .autonotebook import tqdm as notebook_tqdm\n",
      "Summarize dataset: 100%|██████████| 24/24 [02:42<00:00,  6.76s/it, Completed]                 \n",
      "Generate report structure: 100%|██████████| 1/1 [00:01<00:00,  1.19s/it]\n",
      "Render HTML: 100%|██████████| 1/1 [00:00<00:00,  1.67it/s]\n",
      "Export report to file: 100%|██████████| 1/1 [00:00<00:00, 333.38it/s]\n"
     ]
    }
   ],
   "source": [
    "import numpy as np\n",
    "import pandas as pd\n",
    "from ydata_profiling import ProfileReport\n",
    "\n",
    "#Tätä ei kannata ajaa koko datasetille, koska kestää ajallisesti tosi pitkään.\n",
    "profile = ProfileReport(df, title=\"Profiling Report\")\n",
    "profile.to_file(\"data_raportti.html\")"
   ]
  },
  {
   "cell_type": "code",
   "execution_count": 7,
=======
   "execution_count": 30,
>>>>>>> main
   "id": "eceaff8c",
   "metadata": {
    "jupyter": {
     "source_hidden": true
    }
   },
   "outputs": [
    {
     "name": "stdout",
     "output_type": "stream",
     "text": [
      "         node_id             x             y\n",
      "count  6489294.0  6.489294e+06  6.489294e+06\n",
      "mean      3200.0  7.801438e+02  2.594087e+03\n",
      "std          0.0  1.977287e+03  7.415937e+02\n",
      "min       3200.0 -3.281800e+04 -3.270500e+04\n",
      "25%       3200.0  4.600000e+01  2.453000e+03\n",
      "50%       3200.0  1.320000e+02  2.536000e+03\n",
      "75%       3200.0  3.130000e+02  2.642000e+03\n",
      "max       3200.0  3.265500e+04  3.270600e+04\n",
      "<class 'pandas.core.frame.DataFrame'>\n",
      "RangeIndex: 6489294 entries, 0 to 6489293\n",
      "Data columns (total 4 columns):\n",
      " #   Column     Dtype \n",
      "---  ------     ----- \n",
      " 0   node_id    int32 \n",
      " 1   timestamp  object\n",
      " 2   x          int32 \n",
      " 3   y          int32 \n",
      "dtypes: int32(3), object(1)\n",
      "memory usage: 123.8+ MB\n"
     ]
    }
   ],
   "source": [
    "# Tässä prosessoinnin vaiheessa poistetaan Z & Q sarakkeet\n",
    "\n",
    "df = df.drop(columns=['z', 'q'])\n",
    "print(df.describe())\n",
    "df.info(verbose=True)"
   ]
  },
  {
   "cell_type": "code",
<<<<<<< HEAD
   "execution_count": 8,
=======
   "execution_count": 31,
>>>>>>> main
   "id": "43c39c7f",
   "metadata": {},
   "outputs": [
    {
     "name": "stdout",
     "output_type": "stream",
     "text": [
      "<class 'pandas.core.frame.DataFrame'>\n",
      "RangeIndex: 6489294 entries, 0 to 6489293\n",
      "Data columns (total 4 columns):\n",
      " #   Column     Dtype              \n",
      "---  ------     -----              \n",
      " 0   node_id    int32              \n",
      " 1   timestamp  datetime64[ns, UTC]\n",
      " 2   x          int32              \n",
      " 3   y          int32              \n",
      "dtypes: datetime64[ns, UTC](1), int32(3)\n",
      "memory usage: 123.8 MB\n",
      "   node_id                        timestamp   x   y\n",
      "0     3200 2019-03-07 11:46:19.078016+00:00   0   0\n",
      "1     3200 2019-03-07 11:46:20.078012+00:00   0   0\n",
      "2     3200 2019-03-07 11:46:21.078081+00:00   0   0\n",
      "3     3200 2019-03-07 11:46:22.078130+00:00   0   0\n",
      "4     3200 2019-03-13 15:29:43.686639+00:00 -50  50\n",
      "5     3200 2019-03-13 15:29:44.686592+00:00 -50  50\n",
      "6     3200 2019-03-13 15:29:45.686654+00:00 -50  50\n",
      "7     3200 2019-03-13 15:29:46.686785+00:00 -50  50\n",
      "8     3200 2019-03-13 15:29:47.687715+00:00 -50  50\n",
      "9     3200 2019-03-13 15:29:48.686671+00:00 -50  50\n"
     ]
    }
   ],
   "source": [
    "# Tässä prosessoinnin vaiheessa laitetaan oikea tietotyyppi timestamp sarakkeelle (datetime)\n",
    "\n",
    "df[\"timestamp\"] = pd.to_datetime(df[\"timestamp\"])\n",
    "\n",
    "df.info(verbose=True)\n",
    "print(df.head(n=10))\n"
   ]
  },
  {
   "cell_type": "code",
<<<<<<< HEAD
   "execution_count": 9,
=======
   "execution_count": 46,
>>>>>>> main
   "id": "8fbe7185",
   "metadata": {},
   "outputs": [
    {
     "data": {
<<<<<<< HEAD
      "image/png": "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",
=======
      "image/png": "iVBORw0KGgoAAAANSUhEUgAAA28AAAIjCAYAAACUIiNfAAAAOXRFWHRTb2Z0d2FyZQBNYXRwbG90bGliIHZlcnNpb24zLjguMywgaHR0cHM6Ly9tYXRwbG90bGliLm9yZy/H5lhTAAAACXBIWXMAAA9hAAAPYQGoP6dpAABmyklEQVR4nO3df3yN9eP/8efZ781++DE2YySVUaSQpvyKrOjHSkVJ9Fa9CYUI1Vv0rnyiEinq3fud6v32TvqhQn5E5J1FTQpFKgyzIbbDxn6d8/1j313t2HCmy3VcO4/77ebWua7rea69dtp29tx1Xa/L4Xa73QIAAAAAnNMCfD0AAAAAAMDpUd4AAAAAwAYobwAAAABgA5Q3AAAAALAByhsAAAAA2ADlDQAAAABsgPIGAAAAADZAeQMAAAAAG6C8AQAAAIANUN4AAGeNw+HQxIkTfT0MD9988406dOigGjVqyOFwaOPGjb4e0p+2c+dOORwOzZkzx9dDMU2XLl3UpUuXKj+v7LV4/vnnT5udOHGiHA7HGYwOAHyD8gYANjRnzhw5HA6Pf/Xq1VPXrl312Wef+Xp4f9qPP/6oiRMnaufOnabut6ioSLfffrsOHTqkadOm6Z133lHjxo0rzT7xxBNyOBxatWpVhW3vvvuuHA6HZs6caer4zqbBgwcrJCREmzdvrrCtuLhYrVq10nnnnae8vLwK2zds2CCHw6EnnnjipPvfvn27HA6HRo0aZeq4AQB/oLwBgI099dRTeuedd/T222/r0Ucf1YEDB9SzZ08tXLjQ10P7U3788UdNmjTJ9PL266+/ateuXRo9erQeeOAB3X333apVq1al2SeeeEJNmzbV4MGDVVhYaKzPycnRyJEj1a5dOz344IOmju9s+r//+z/VqVNHgwcPltvt9tg2bdo0bdq0Sa+++qpq1KhR4bmXX365kpKS9N///vek+587d64k6e677zZlvMuWLdOyZctM2RcAVBeUNwCwseuvv1533323+vfvr9GjR2vNmjUKDg4+5S/Z/mz//v2SpJo1a542GxYWplmzZmnbtm2aPHmysX7cuHE6cOCAXn/9dQUE2OdttGbNmpo+fbq++uor/eMf/zDWZ2RkaNKkSbrjjjvUs2fPkz6/X79++u233/T1119Xuv2///2vkpKSdPnll/+pcebn50uSQkJCFBIS8qf2BQDVjX3edQAAp1WzZk2Fh4crKCjIY31eXp4eeeQRJSYmKjQ0VM2aNdPzzz9vHIE5duyYkpKSlJSUpGPHjhnPO3TokOrXr68OHTqopKREkjRw4EBFRkbqt99+U0pKimrUqKGEhAQ99dRTFY7oVOa7777T9ddfr+joaEVGRqpbt24ehWDOnDm6/fbbJUldu3Y1Tgut7PTF8lauXKmOHTuqRo0aqlmzpm6++Wb99NNPxvaBAweqc+fOkqTbb79dDofjtNdUXXvttbrrrrs0efJk/fzzz0pLS9Prr7+uhx9+WK1btz7t57pmzRrdfvvtatSokUJDQ5WYmKiRI0d6vMZlY4uMjNTevXuVmpqqyMhI1a1bV6NHjzZe9zI5OTkaOHCgYmJiVLNmTQ0YMEA5OTmnHYsko6CNGzfOKLLDhw9XcHCwpk+ffsrn9uvXT9IfR9jKS09P17Zt24zMxx9/rF69eikhIUGhoaFq2rSp/v73v1f4XLp06aJLLrlE6enp6tSpkyIiIvTYY48Z28r//yksLNSECRPUpk0bxcTEqEaNGurYsaO++OKLk4552rRpaty4scLDw9W5c+dKTxmtzL///W+1adNG4eHhql27tvr27avdu3d7ZLZv367evXsrPj5eYWFhatiwofr27avc3FyvPgYAnImg00cAAOeq3NxcHTx4UG63W/v379fLL7+so0ePepy65na7ddNNN+mLL77QoEGD1Lp1ay1dulRjxozR3r17NW3aNIWHh+utt97SVVddpccff1wvvviiJGno0KHKzc3VnDlzFBgYaOyzpKRE1113na688kpNmTJFS5Ys0ZNPPqni4mI99dRTJx3vli1b1LFjR0VHR+vRRx9VcHCwXnvtNXXp0kWrV69W+/bt1alTJz300EOaMWOGHnvsMTVv3lySjP9W5vPPP9f111+v888/XxMnTtSxY8f08ssv66qrrtKGDRt03nnn6a9//asaNGigZ599Vg899JDatWunuLi4077GL774oj777DP99a9/1e+//66GDRtq0qRJp32eJM2fP1/5+fkaMmSI6tSpo/Xr1+vll1/Wnj17NH/+fI9sSUmJUlJS1L59ez3//PP6/PPP9cILL6hp06YaMmSIpNL/lzfffLP+97//afDgwWrevLk++ugjDRgwwKvxSNKrr76qiy++WCNHjtQdd9yhTz75RLNnz1Z8fPwpn9ekSRN16NBB7733nqZNm+bx9VBW6O666y5JpQU8MjJSo0aNUmRkpFauXKkJEybI6XRq6tSpHvv9/fffdf3116tv3766++67T/r/xOl06o033tCdd96p+++/X0eOHNE///lPpaSkaP369RXK9Ntvv60jR45o6NChOn78uKZPn65rrrlGmzZtOuX/92eeeUZ/+9vfdMcdd+i+++7TgQMH9PLLL6tTp0767rvvVLNmTRUWFiolJUUFBQUaPny44uPjtXfvXi1cuFA5OTmKiYk55WsJAGfMDQCwnTfffNMtqcK/0NBQ95w5czyyCxYscEtyP/300x7rb7vtNrfD4XD/8ssvxrrx48e7AwIC3F9++aV7/vz5bknul156yeN5AwYMcEtyDx8+3FjncrncvXr1coeEhLgPHDhgrJfkfvLJJ43l1NRUd0hIiPvXX3811mVmZrqjoqLcnTp1MtaVfewvvvjCq9ejdevW7nr16rl///13Y93333/vDggIcN9zzz3Gui+++MItyT1//nyv9lvmtddeM17jBQsWeP28/Pz8CusmT57sdjgc7l27dhnryl7Tp556yiN72WWXudu0aWMsl/2/nDJlirGuuLjY3bFjR7ck95tvvunVuJ5//nm3JHft2rXdV111ldvlcnn1vFdeecUtyb106VJjXUlJibtBgwbu5ORkY11ln/df//pXd0REhPv48ePGus6dO7sluWfPnl0h37lzZ3fnzp2N5eLiYndBQYFH5vDhw+64uDj3X/7yF2Pdjh073JLc4eHh7j179hjr161b55bkHjlypLHuySefdJf/VWjnzp3uwMBA9zPPPOPxcTZt2uQOCgoy1n/33Xdn9HUEAH8Wp00CgI298sorWr58uZYvX65///vf6tq1q+677z59+OGHRmbx4sUKDAzUQw895PHcRx55RG6322N2yokTJ+riiy/WgAED9OCDD6pz584Vnldm2LBhxmOHw6Fhw4apsLBQn3/+eaX5kpISLVu2TKmpqTr//PON9fXr19ddd92l//3vf3I6nVV+Dfbt26eNGzdq4MCBql27trG+VatWuvbaa7V48eIq7/NEsbGxkqSIiAhdffXVXj8vPDzceJyXl6eDBw+qQ4cOcrvd+u677yrkBw8e7LHcsWNH/fbbb8by4sWLFRQUZByJk6TAwEANHz7c6zFJ0ogRI9SqVSvl5OTotdde83q6/D59+ig4ONjj1MnVq1dr7969ximTkufnfeTIER08eFAdO3ZUfn6+tm7d6rHP0NBQ3Xvvvaf92IGBgcY1cC6XS4cOHVJxcbHatm2rDRs2VMinpqaqQYMGxvIVV1yh9u3bn/Lr4cMPP5TL5dIdd9yhgwcPGv/i4+N14YUXGqdolh1ZW7p0qXGNHgBYgfIGADZ2xRVXqHv37urevbv69eunRYsWqUWLFkaRkqRdu3YpISFBUVFRHs8tOw1x165dxrqQkBD961//0o4dO3TkyBG9+eablf5iHxAQ4FHAJOmiiy6SpJPOEHngwAHl5+erWbNmFbY1b95cLperwnVF3igb/8n2e/DgwUqnv/fWkSNH9NBDD6lZs2YqLCzU2LFjvX5uRkaGUSrLrmMru+7uxGujwsLCVLduXY91tWrV0uHDh43lXbt2qX79+oqMjPTIVfa5n0pgYKAuu+wyhYeH6+KLL/b6eXXq1FFKSoo++ugjHT9+XFLpKZNBQUG64447jNyWLVt0yy23KCYmRtHR0apbt65xKu+Jn3eDBg28npjkrbfeUqtWrRQWFqY6deqobt26WrRoUaXXmV144YUV1l100UWnnMF0+/btcrvduvDCC1W3bl2Pfz/99JNxnWCTJk00atQovfHGG4qNjVVKSopeeeUVrncDcNZxzRsAVCMBAQHq2rWrpk+fru3bt1fpF/MyS5culSQdP35c27dvV5MmTcwepq08/vjjysrK0vr16/Xuu+/q+eef17333qurrrrqlM8rKSnRtddeq0OHDmns2LFKSkpSjRo1tHfvXg0cOFAul8sjX/4asnPZ3XffrYULF2rhwoW66aab9MEHH6hHjx5G8czJyVHnzp0VHR2tp556Sk2bNlVYWJg2bNigsWPHVvi8yx+lO5V///vfGjhwoFJTUzVmzBjVq1dPgYGBmjx5sn799VdTPjeXyyWHw6HPPvus0v8f5UvzCy+8oIEDB+rjjz/WsmXL9NBDD2ny5Mn6+uuv1bBhQ1PGAwAnorwBQDVTXFwsSTp69KgkqXHjxvr888915MgRj6NvZaevlb9J9Q8//KCnnnpK9957rzZu3Kj77rtPmzZtqjABg8vl0m+//WYcbZOkn3/+WZJ03nnnVTquunXrKiIiQtu2bauwbevWrQoICFBiYqIkeX0aX/nxn2y/sbGxld67zBvffvutXnnlFQ0fPlyXX365mjVrpnnz5mnw4MH67rvvKszqWd6mTZv0888/66233tI999xjrF++fPkZjUUq/VxXrFiho0ePehSJyj73s+Wmm25SVFSU5s6dq+DgYB0+fNjjlMlVq1bp999/14cffqhOnToZ63fs2PGnPu7777+v888/Xx9++KHH18eTTz5ZaX779u0V1v38888n/fqUpKZNm8rtdqtJkyYeX9sn07JlS7Vs2VJPPPGE1q5dq6uuukqzZ8/W008/ffpPCADOAKdNAkA1UlRUpGXLlikkJMQ4LbJnz54qKSnRzJkzPbLTpk2Tw+HQ9ddfbzx34MCBSkhI0PTp0zVnzhxlZ2dr5MiRlX6s8vtzu92aOXOmgoOD1a1bt0rzgYGB6tGjhz7++GOPU9eys7M1d+5cXX311YqOjpYko2x5MwV+/fr11bp1a7311lse+c2bN2vZsmWnvHfZqZSUlOivf/2r6tevr7///e/GuF5++WVt3rxZ06ZNO+Xzy47cuMvdPsHtdp92Sv5T6dmzp4qLizVr1iyPcb788stnvM+qCg8P1y233KLFixdr1qxZqlGjhm6++WZje2Wfd2FhoV599dU/9XEr2++6deuUlpZWaX7BggXau3evsbx+/XqtW7fO+HqvzK233qrAwEBNmjSpwm0v3G63fv/9d0mlM1+W/ZGkTMuWLRUQEKCCgoKqfWIAUAUceQMAG/vss8+MI2j79+/X3LlztX37do0bN84oQjfeeKO6du2qxx9/XDt37tSll16qZcuW6eOPP9aIESPUtGlTSdLTTz+tjRs3asWKFYqKilKrVq00YcIEPfHEE7rttts8SlBYWJiWLFmiAQMGqH379vrss8+0aNEiPfbYYxWu2yrv6aef1vLly3X11VfrwQcfVFBQkF577TUVFBRoypQpRq5169YKDAzUc889p9zcXIWGhuqaa65RvXr1Kt3v1KlTdf311ys5OVmDBg0ybhUQExOjiRMnntFrO2PGDG3YsEEffPCBxxHLm266STfddJMmTZqkPn36qFGjRpU+PykpSU2bNtXo0aO1d+9eRUdH64MPPvC4hq2qbrzxRl111VUaN26cdu7cqRYtWujDDz+0/Fqru+++W2+//baWLl2qfv36eRzZ7NChg2rVqqUBAwbooYceksPh0DvvvOPVPQBP5YYbbtCHH36oW265Rb169dKOHTs0e/ZstWjRwjjKXN4FF1ygq6++WkOGDFFBQYFeeukl1alTR48++uhJP0bTpk319NNPa/z48dq5c6dSU1MVFRWlHTt26KOPPtIDDzyg0aNHa+XKlRo2bJhuv/12XXTRRSouLtY777yjwMBA9e7d+099ngBwSr6Z5BIA8GdUdquAsLAwd+vWrd2zZs2qMPX7kSNH3CNHjnQnJCS4g4OD3RdeeKF76tSpRi49Pd0dFBTkMf2/2106PXu7du3cCQkJ7sOHD7vd7tJp7WvUqOH+9ddf3T169HBHRES44+Li3E8++aS7pKTE4/k64VYBbrfbvWHDBndKSoo7MjLSHRER4e7atat77dq1FT7Hf/zjH+7zzz/fHRgY6NVtAz7//HP3VVdd5Q4PD3dHR0e7b7zxRvePP/7okfH2VgG7d+92R0ZGum+44YZKt+/atctdo0YN90033XTK/fz444/u7t27uyMjI92xsbHu+++/3/39999XmNa/7DU90YlT2bvdbvfvv//u7t+/vzs6OtodExPj7t+/vzF1vbe3CjjVx/RGcXGxu379+m5J7sWLF1fY/tVXX7mvvPJKd3h4uDshIcH96KOPupcuXVrh/2Pnzp3dF198caUf48RbBbhcLvezzz7rbty4sTs0NNR92WWXuRcuXOgeMGCAu3Hjxkau7FYBU6dOdb/wwgvuxMREd2hoqLtjx47u77//3uNjVPb6ut1u9wcffOC++uqr3TVq1HDXqFHDnZSU5B46dKh727Ztbrfb7f7tt9/cf/nLX9xNmzZ1h4WFuWvXru3u2rWr+/PPP6/CqwgAVedwu//kn8IAAH5l4MCBev/99ys92gEAAM4ernkDAAAAABugvAEAAACADVDeAAAAAMAGuOYNAAAAAGyAI28AAAAAYAOUNwAAAACwAW7S7SMul0uZmZmKioqSw+Hw9XAAAAAA+Ijb7daRI0eUkJCggICTH1+jvPlIZmamEhMTfT0MAAAAAOeI3bt3q2HDhifdTnnzkaioKEml/4Oio6N9PBrAN4qKirRs2TL16NFDwcHBvh4OAMAHeC8AJKfTqcTERKMjnAzlzUfKTpWMjo6mvMFvFRUVKSIiQtHR0bxhA4Cf4r0A+MPpLqdiwhIAAAAAsAHKGwAAAADYAOUNAAAAAGyA8gYAAAAANkB5AwAAAAAboLwBAAAAgA1Q3gAAAADABihvAAAAAGADlDcAAAAAsAHKGwAAAADYAOUNAAAAAGyA8gYAAAAANkB5AwAAAAAboLwB8Iljx47poYce0sSJE/XQQw/p2LFjvh4SAMBihYWFmjFjhl5//XXNmDFDhYWFvh4ScE5zuN1ut68H4Y+cTqdiYmKUm5ur6OhoXw8HsFRqaqo+/vjjCutvvvlmLViwwPoBAQAs9+ijj+rFF19USUmJsS4wMFCjRo3SlClTfDgywHredgOOvAGw1MmKmyR9/PHHSk1NtXZAAADLPfroo5o6dapcLpfHepfLpalTp+rRRx/10ciAcxtH3nyEI2/wR8eOHVNERMRpc/n5+QoPD7dgRAAAqxUWFio8PFwul0vh4eEep82XLQcEBOjYsWMKCQnx4UgB63DkDcA5Z9iwYabmAAD2M3PmTOOIW7du3bRmzRr997//1Zo1a9StWzdJpUfgZs6c6cthAuckyhsAy7z//vum5gAA9vPll19Kkq644grNnz9f69at0zvvvKN169Zp/vz5ateunUcOwB+CfD0AAP4jLy/P1BwAwH7y8/MllR5di4qKUnFxsSRp8eLFGjdunFq1auWRA/AHjrwBsExAgHc/crzNAQDsp23btpKkb7/9VnXq1NHs2bP15ptvavbs2apTp442bNjgkQPwB35DAmCZsLAwU3MAAPvp3Lmz8bikpEQul0tut1sul8vjtgHlcwBKcdokAAAALLNlyxbj8cGDB/Xggw+eNJeSkmLVsABb4MgbAMsUFhaamgMA2M+OHTtOus3hcHiVA/wV5Q2AZcouSjcrBwCwn6ZNm550W/nbD58qB/grbtLtI9ykG/6o/F9UT4cfTQBQPR07dkwRERGSSieoKrvn24nL+fn5Cg8P98kYAatxk24AAACcc/73v/8Zj4OCgjRmzBi9+uqrGjNmjIKCgirNASjFhCUALBMYGOgxk9ipcgCA6umtt96SJMXGxurw4cOaOnWqsS0wMFCxsbE6ePCg3nrrLV177bW+GiZwTuLIGwDLNGjQwNQcAMB+du7cKUkaN26cjhw5osGDB6t169YaPHiwjhw5ojFjxnjkAPyBI28ALJObm2tqDgBgP+edd56++uorTZ8+XTNnzjRK2saNG7VkyRLjDI3zzjvPd4MEzlEceQNgGcobAGDAgAGSpN27dysjI8NjW0ZGhnbv3u2RA/AH25S3WbNmqVWrVoqOjlZ0dLSSk5P12WefGduPHz+uoUOHqk6dOoqMjFTv3r2VnZ3tsY+MjAz16tVLERERqlevnsaMGVNhSvJVq1bp8ssvV2hoqC644ALNmTOnwlheeeUVnXfeeQoLC1P79u21fv36s/I5AwAAVDedO3c2Zh8uP9Nk+WWHw6HOnTtbPjbgXGeb8tawYUP93//9n9LT0/Xtt9/qmmuu0c0336wtW7ZIkkaOHKlPP/1U8+fP1+rVq5WZmalbb73VeH5JSYl69eqlwsJCrV27Vm+99ZbmzJmjCRMmGJkdO3aoV69e6tq1qzZu3KgRI0bovvvu09KlS43MvHnzNGrUKD355JPasGGDLr30UqWkpGj//v3WvRgAAAA2tWbNmtPeDsbtdmvNmjUWjQiwD1vf56127dqaOnWqbrvtNtWtW1dz587VbbfdJknaunWrmjdvrrS0NF155ZX67LPPdMMNNygzM1NxcXGSpNmzZ2vs2LE6cOCAQkJCNHbsWC1atEibN282Pkbfvn2Vk5OjJUuWSJLat2+vdu3aaebMmZJK/0KUmJio4cOHa9y4cV6Pnfu8wR9xnzcAwOOPP65nn31WF110kQoKCrRr1y5j23nnnaeQkBD9/PPPeuyxx/TMM8/4cKSAdbztBracsKSkpETz589XXl6ekpOTlZ6erqKiInXv3t3IJCUlqVGjRkZ5S0tLU8uWLY3iJkkpKSkaMmSItmzZossuu0xpaWke+yjLjBgxQpJUWFio9PR0jR8/3tgeEBCg7t27Ky0t7ZRjLigoUEFBgbHsdDolSUVFRSoqKjrj1wKorvi+AIDqqWyCkgcffFB//etftWrVKi1fvlzXXnutunTpolmzZmnUqFHauXMn7wXwG95+rduqvG3atEnJyck6fvy4IiMj9dFHH6lFixbauHGjQkJCVLNmTY98XFycsrKyJElZWVkexa1se9m2U2WcTqeOHTumw4cPq6SkpNLM1q1bTzn2yZMna9KkSRXWL1u2TBEREaf/5AE/s3jxYl8PAQBwFhQWFkoqnc+gQYMGxu9Q3377rY4eParXXnvNyPFeAH+Rn5/vVc5W5a1Zs2bauHGjcnNz9f7772vAgAFavXq1r4fllfHjx2vUqFHGstPpVGJionr06MFpk/AboaGhHkegT5Xr2bOnBSMCAFgtPDxc77//vrZt26Z77rlHx44d89hWtnz//fera9euvhomYKmys/JOx1blLSQkRBdccIEkqU2bNvrmm280ffp09enTR4WFhcrJyfE4+padna34+HhJUnx8fIVZIctmoyyfOXGGyuzsbEVHRys8PFyBgYEKDAysNFO2j5MJDQ1VaGhohfXBwcEKDg724rMH7K/s3j3e5Pi+AIDqqVu3boqOjpbT6dTx48c9tpUtR0dHq1u3bgoMDPTFEAHLeft7j21mm6yMy+VSQUGB2rRpo+DgYK1YscLYtm3bNmVkZCg5OVmSlJycrE2bNnnMCrl8+XJFR0erRYsWRqb8PsoyZfsICQlRmzZtPDIul0srVqwwMgBOrirlDQBQfYWFhUmqODlV2XLZdgCebHPkbfz48br++uvVqFEjHTlyRHPnztWqVau0dOlSxcTEaNCgQRo1apRq166t6OhoDR8+XMnJybryyislST169FCLFi3Uv39/TZkyRVlZWXriiSc0dOhQ44jY4MGDNXPmTD366KP6y1/+opUrV+q9997TokWLjHGMGjVKAwYMUNu2bXXFFVfopZdeUl5enu69916fvC6AnQQEBHhVzAICbP13JQDAKaxZs+a0t1jav3+/1qxZoy5dulgzKMAmbFPe9u/fr3vuuUf79u1TTEyMWrVqpaVLl+raa6+VJE2bNk0BAQHq3bu3CgoKlJKSoldffdV4fmBgoBYuXKghQ4YoOTlZNWrU0IABA/TUU08ZmSZNmmjRokUaOXKkpk+froYNG+qNN95QSkqKkenTp48OHDigCRMmKCsrS61bt9aSJUsqTGICoKLw8HAdPXrUqxwAoHravXu3qTnAn9j6Pm92xn3e4I+ioqK8Km+RkZE6cuSIBSMCAFhtyJAhmj179mlzgwcP1qxZsywYEeB73nYDzk0CYBlviltVcgAA+9mzZ4+pOcCfUN4AAABgmb1795qaA/wJ5Q0AAACW8fZmxN7mAH9CeQMAAIBlTjfTZFVzgD+hvAGwTFCQdxPcepsDANiPt3PlMaceUBHlDYBliouLTc0BAOyndu3apuYAf0J5AwAAAAAboLwBAADAMi6Xy9Qc4E8obwAAALBMgwYNTM0B/oTyBsAyTFgCALj33ntNzQH+hPIGwDJMWAIAyMnJMTUH+BPKGwAAACxz6NAhU3OAP+HcJAAAAPjEddddpyNHjigjI0ONGjVSVFSUlixZ4uthAecsyhsAy0RHR8vpdHqVAwBUT3Xq1JEkNW7cWD/++KMyMjIkSbt371bjxo3VuHFj7dq1y8gB+APlDYBlCgoKTM0BAOwnLi5OkrRr1y6Fh4d7bNu/f7+OHTvmkQPwB655A2AZh8Nhag4AYD/lbwFw/Phxj23l/3jHrQKAijjyBsAyHHkDAHTo0EFBQUEKCAhQYWGhxzaXy6WQkBC5XC516NDBRyMEzl2UNwCWcbvdpuYAAPazdu1a45YwISEhuvXWWxUeHq5jx47pww8/NArd2rVr1aVLFx+OFDj3UN4AAABgmd27d0sqnZwqOjpa7777rrEtMTFRubm5cjqdRg7AH7jmDYBlgoODTc0BAOxn3bp1kqSkpCTt27fPY1tmZqaaNWvmkQPwB468AbBM2WkyZuUAAPZTdmr8+vXrK2wrKSnRN99845ED8AeOvAGwDNe8AQDOO+88U3OAP6G8AQAAwDIlJSWm5gB/QnkDAACAZT755BNTc4A/obwBsExISIipOQCA/fz222+m5gB/QnkDYJmoqChTcwAA+8nPzzce9+jRQ5dccolq166tSy65RD169Kg0B6AUs00CsMzvv/9uag4AYD+hoaE6cuSIJGnZsmXG+kOHDmnz5s0eOQCeOPIGAAAAyzRs2NDUHOBPKG8AAACwTNeuXU3NAf6E8gbAMsHBwabmAAD288svv5iaA/wJ5Q2AZWJjY03NAQDsp+x6N7NygD+hvAGwzMGDB03NAQDs59dffzU1B/gTyhsAyxQXF5uaAwDYz6FDh0zNAf6E8gbAMg6Hw9QcAACAP6G8AbCM2+02NQcAsJ+gIO9uM+xtDvAnlDcAlqG8AQBcLpepOcCfUN4AAABgmcDAQFNzgD+hvAGwTHh4uKk5AID9NGzY0NQc4E8obwAsQ3kDAOTm5nosBwcHKygoSMHBwafMAZC4EhSAZbhVAAAgJyfHY7moqMirHACOvAGwUGFhoak5AID9hIaGmpoD/AnlDYBlTvbX1TPNAQDsp3nz5qbmAH9CeQNgGW4VAACIjo42NQf4E8obAMtQ3gAAmZmZpuYAf0J5A2CZyMhIU3MAAPuhvAFnjvIGwDIBAd79yPE2BwCwnwMHDhiPQ0JCPLaVn6SkfA5AKX5DAmAZb+/Zw719AKD6crlcxuMTZxcuKCioNAegFOUNAAAAljnxZtx/Ngf4E8obAAAALHPDDTeYmgP8CeUNgGX4aysAoEOHDqbmAH9CeQNgmVq1apmaAwDYT506dUzNAf6E8gbAMocPHzY1BwCwn08++cTUHOBPKG8ALFNUVGRqDgBgP3l5eZJOfmStbH1ZDsAfbFPeJk+erHbt2ikqKkr16tVTamqqtm3b5pE5fvy4hg4dqjp16igyMlK9e/dWdna2RyYjI0O9evVSRESE6tWrpzFjxqi4uNgjs2rVKl1++eUKDQ3VBRdcoDlz5lQYzyuvvKLzzjtPYWFhat++vdavX2/65wwAAFDdXHTRRZKk33//vdLtZevLcgD+YJvytnr1ag0dOlRff/21li9frqKiIvXo0cPjrzIjR47Up59+qvnz52v16tXKzMzUrbfeamwvKSlRr169VFhYqLVr1+qtt97SnDlzNGHCBCOzY8cO9erVS127dtXGjRs1YsQI3XfffVq6dKmRmTdvnkaNGqUnn3xSGzZs0KWXXqqUlBTt37/fmhcDAADApp555hlTc4A/cbjdbrevB3EmDhw4oHr16mn16tXq1KmTcnNzVbduXc2dO1e33XabJGnr1q1q3ry50tLSdOWVV+qzzz7TDTfcoMzMTMXFxUmSZs+erbFjx+rAgQMKCQnR2LFjtWjRIm3evNn4WH379lVOTo6WLFkiSWrfvr3atWunmTNnSiq9iWRiYqKGDx+ucePGeTV+p9OpmJgY5ebmKjo62syXBjhnORwOr7M2/dEEADiNyZMn67HHHpMkBQUF6dZbb1VERITy8/P14YcfGmdEPfvssxo/frwvhwpYxttuEGThmEyVm5srSapdu7YkKT09XUVFRerevbuRSUpKUqNGjYzylpaWppYtWxrFTZJSUlI0ZMgQbdmyRZdddpnS0tI89lGWGTFihCSpsLBQ6enpHj9MAgIC1L17d6WlpZ10vAUFBSooKDCWnU6npNJre7i+B6iI7wsAqJ5ef/11SVJ8fLyysrL03nvveWwvW//6669r9OjRvhgiYDlvf++xZXlzuVwaMWKErrrqKl1yySWSpKysLIWEhKhmzZoe2bi4OGVlZRmZ8sWtbHvZtlNlnE6njh07psOHD6ukpKTSzNatW0865smTJ2vSpEkV1i9btkwRERFefNaAf1m8eLGvhwAAOAtycnIkSZ06dVJqaqpeeuklZWdnKy4uTiNGjNCHH36o999/Xzk5ObwXwG/k5+d7lbNleRs6dKg2b96s//3vf74eitfGjx+vUaNGGctOp1OJiYnq0aMHp00ClejZs6evhwAAOAuuuuoqLVq0SB999JG+/vprZWRkSJJ27dqlcePGad++fUaO9wL4i7Kz8k7HduVt2LBhWrhwob788ks1bNjQWB8fH6/CwkLl5OR4HH3Lzs5WfHy8kTlxVsiy2SjLZ06coTI7O1vR0dEKDw9XYGCgAgMDK82U7aMyoaGhCg0NrbA+ODhYwcHBXnzmgH/h+wIAqqd3331XUVFRKioqUmZmphISEpSfn6+IiAhlZmYa17y9++67vBfAb3j7tW6b2SbdbreGDRumjz76SCtXrlSTJk08trdp00bBwcFasWKFsW7btm3KyMhQcnKyJCk5OVmbNm3ymBVy+fLlio6OVosWLYxM+X2UZcr2ERISojZt2nhkXC6XVqxYYWQAVM7bo8wcjQaA6is8PFwhISGSpOLiYmVmZionJ8ejuIWEhCg8PNyXwwTOSbYpb0OHDtW///1vzZ07V1FRUcrKylJWVpaOHTsmSYqJidGgQYM0atQoffHFF0pPT9e9996r5ORkXXnllZKkHj16qEWLFurfv7++//57LV26VE888YSGDh1qHBUbPHiwfvvtNz366KPaunWrXn31Vb333nsaOXKkMZZRo0bpH//4h9566y399NNPGjJkiPLy8nTvvfda/8IANuLtKQHe5gAA9rNmzRoVFhaeMlNYWKg1a9ZYNCLAPmxz2uSsWbMkSV26dPFY/+abb2rgwIGSpGnTpikgIEC9e/dWQUGBUlJS9OqrrxrZwMBALVy4UEOGDFFycrJq1KihAQMG6KmnnjIyTZo00aJFizRy5EhNnz5dDRs21BtvvKGUlBQj06dPHx04cEATJkxQVlaWWrdurSVLllSYxAQAAACefv31V69zJ/7eB/g7297nze64zxv8Efd5AwAkJSVp27ZtkqTrrrtOjz/+uPbs2aOGDRvqmWeeMe6r26xZs1PO5A1UJ952A9ucNgnA/ho0aGBqDgBgPz///LOk0j/oLViwQMePH9c333yj48ePa8GCBcYf+spyAP5gm9MmAdhfvXr1tHfvXq9yAIDqqezMCrfbrVq1ahnzF7z44osKDw/32A7AE0feAFjmxx9/NDUHALCf2rVrG4/LZpcsU1JSUmkOQCnKGwDLFBQUmJoDANjP66+/bjwuKiry2FZ+FsryOQClKG8AAACwTM2aNU3NAf6E8gbAMgEB3v3I8TYHALCfrKwsU3OAP+E3JACWCQrybo4kb3MAAPuhvAFnjt+QAFjG25nDmGEMAKqv/fv3G49jY2PVpUsXHTp0SLVr19aqVat08ODBCjkApShvACxz4oXpfzYHALCfb7/91nh89OhRvf/++8ZyWFhYpTkApThtEgAAAJYpf0TtVGdacOQNqIjyBgAAAMtER0cbj0+8Nczx48crzQEoRXkDAACAZVq2bGlqDvAnlDcAAABYpn379qbmAH9CeQNgGe7zBgBIT083NQf4E35DAmAZl8tlag4AYD8lJSWm5gB/QnkDAACAZcrPMBkYGOixrfwy9/wEKqK8AQAAwDJOp9N4fOLRtfLL5XMASlHeAAAAYJn8/HxTc4A/obwBsExISIipOQCA/dSrV8/UHOBPKG8ALONwOEzNAQDs59ChQ6bmAH9CeQNgGcobAIBbBQBnjvIGwDKxsbGm5gAA9lNQUGBqDvAnlDcAlgkODjY1BwCwn3379pmaA/wJ5Q2AZbKzs03NAQAA+BPKGwDLFBYWmpoDAADwJ5Q3AJYJDw83NQcAAOBPKG8ALNO6dWtTcwAAAP6E8gYAAAAANkB5A2CZ9evXm5oDAADwJ5Q3AJbh3j4AgGuuucbUHOBPKG8AAACwTGxsrKk5wJ9Q3gAAAGCZAwcOmJoD/AnlDQAAAJbJzs42NQf4E8obAMtERUWZmgMA2M/Ro0dNzQH+hPIGwDLHjx83NQcAsB8mrwLOHOUNgGWKi4tNzQEA7CcoKMh47HA4PLaVXy6fA1CK8gYAAADLxMXFGY/dbrfHtvLL5XMASlHeAFgmOjra1BwAwH66d+9uag7wJ5Q3AJaJj483NQcAsJ9u3bqZmgP8CeUNgGVKSkpMzQEA7If3AuDMUd4AWIYZxgAAL7zwgqk5wJ9Q3gBYhr+2AgC2bdtmag7wJ5Q3AJbhVgEAgMDAQFNzgD+hvAGwTH5+vqk5AID9nHfeeabmAH9CeQNgmaNHj5qaAwDYj9PpNDUH+BPKGwAAACxDeQPOHOUNAAAAluEUeuDMUd4AAABgmcLCQlNzgD+hvAEAAMAyDofD1BzgTyhvAAAAsMwll1xiag7wJ5Q3AAAAWOaiiy4yNQf4E8obAMtwqgwAwOVymZoD/AnlDYBl3G63qTkAgP2kpaWZmgP8ia3K25dffqkbb7xRCQkJcjgcWrBggcd2t9utCRMmqH79+goPD1f37t21fft2j8yhQ4fUr18/RUdHq2bNmho0aFCFGwL/8MMP6tixo8LCwpSYmKgpU6ZUGMv8+fOVlJSksLAwtWzZUosXLzb98wUAAKhuDh48KKn0LIvExESPbY0aNTLOvijLAfiDrcpbXl6eLr30Ur3yyiuVbp8yZYpmzJih2bNna926dapRo4ZSUlJ0/PhxI9OvXz9t2bJFy5cv18KFC/Xll1/qgQceMLY7nU716NFDjRs3Vnp6uqZOnaqJEyfq9ddfNzJr167VnXfeqUGDBum7775TamqqUlNTtXnz5rP3yQMAAFQjbrdbe/bs8Vi3e/duzr4ATsHhtul3iMPh0EcffaTU1FRJpT8AEhIS9Mgjj2j06NGSpNzcXMXFxWnOnDnq27evfvrpJ7Vo0ULffPON2rZtK0lasmSJevbsqT179ighIUGzZs3S448/rqysLIWEhEiSxo0bpwULFmjr1q2SpD59+igvL08LFy40xnPllVeqdevWmj17tlfjdzqdiomJUW5urqKjo816WYBzWlWuZbPpjyYAwGn07dtX8+bNO22uT58+evfddy0YEeB73naDIAvHdFbt2LFDWVlZ6t69u7EuJiZG7du3V1pamvr27au0tDTVrFnTKG6S1L17dwUEBGjdunW65ZZblJaWpk6dOhnFTZJSUlL03HPP6fDhw6pVq5bS0tI0atQoj4+fkpJS4TTO8goKClRQUGAsO51OSVJRUZGKior+7KcPVDt8XwBA9dS/f3+vylv//v15L4Df8PZrvdqUt6ysLElSXFycx/q4uDhjW1ZWlurVq+exPSgoSLVr1/bINGnSpMI+yrbVqlVLWVlZp/w4lZk8ebImTZpUYf2yZcsUERHhzacI+BWuIwWA6un777/3Kpeenq7i4uKzPBrg3JCfn+9VrtqUt3Pd+PHjPY7WOZ1OJSYmqkePHpw2CVSiZ8+evh4CAOAsyMnJ8SrXuHFj3gvgN8rOyjudalPe4uPjJUnZ2dmqX7++sT47O1utW7c2Mvv37/d4XnFxsQ4dOmQ8Pz4+XtnZ2R6ZsuXTZcq2VyY0NFShoaEV1gcHBys4ONibTxHwK3xfAED1dOLvYqfK8V4Af+Ht17qtZps8lSZNmig+Pl4rVqww1jmdTq1bt07JycmSpOTkZOXk5Cg9Pd3IrFy5Ui6XS+3btzcyX375pcd5p8uXL1ezZs1Uq1YtI1P+45Rlyj4OAAAAKrd+/XpTc4A/sVV5O3r0qDZu3KiNGzdKKp2kZOPGjcrIyJDD4dCIESP09NNP65NPPtGmTZt0zz33KCEhwZiRsnnz5rruuut0//33a/369frqq680bNgw9e3bVwkJCZKku+66SyEhIRo0aJC2bNmiefPmafr06R6nPD788MNasmSJXnjhBW3dulUTJ07Ut99+q2HDhln9kgAAANjK559/bmoO8Ce2ulXAqlWr1LVr1wrrBwwYoDlz5sjtduvJJ5/U66+/rpycHF199dV69dVXddFFFxnZQ4cOadiwYfr0008VEBCg3r17a8aMGYqMjDQyP/zwg4YOHapvvvlGsbGxGj58uMaOHevxMefPn68nnnhCO3fu1IUXXqgpU6ZU6bxsbhUAf8StAgAAoaGhKiwsPG0uJCTEY6ZuoDrzthvYqrxVJ5Q3+CPKGwAgMjJSeXl5p83VqFFDR48etWBEgO952w1sddokAAAA7K127dqm5gB/QnkDAACAZbw9s4IzMICKKG8AAACwjDfXu1UlB/gTyhsAAAAs43K5TM0B/oTyBgAAAMt4O3lVVSa5AvwF5Q0AAACW8WamyarkAH9CeQMAAIBlSkpKTM0B/oTyBgAAAMvUrFnT1BzgTyhvAAAAsMwNN9xgag7wJ5Q3AAAAWKZjx46m5gB/QnkDAACAZfbt22dqDvAnlDcAAABYZt68eabmAH8S5OsBAAAAwH/s2LHDeBwUFKSOHTvK5XIpICBAa9asUXFxcYUcgFKUNwAAAFimrJxJUkJCgr744gtjuXHjxtq1a1eFHIBSnDYJAAAAy4SHhxuPs7OzPbZlZWVVmgNQivIGAAAAy9SrV894XFBQ4LGt/HL5HIBSlDcAAABYpn///qbmAH9CeQMAAIBlLr30UlNzgD+hvAEAAMAya9euNTUH+BPKGwAAACxTWFhoag7wJ5Q3AAAAWGbz5s2m5gB/QnkDAACAZX744QdTc4A/obwBAADAMm6329Qc4E8obwAAALDM3r17Tc0B/oTyBgAAAAA2QHkDAAAAABugvAEAAACADVDeAAAAAMAGKG8AAAAAYAOUNwAAAACwAcobAAAAANgA5Q0AAAAAbIDyBgAAAAA2QHkDAAAAABugvAEAAACADVDeAAAAAMAGKG8AAAAAYAOUNwAAAACwgaCqPmH37t1yOBxq2LChJGn9+vWaO3euWrRooQceeMD0AQIAAODclp+fr61bt5q+3w0bNniVS0pKUkREhOkfHzjXVLm83XXXXXrggQfUv39/ZWVl6dprr9XFF1+s//znP8rKytKECRPOxjgBAABggR0H85RXUFyl5/y4aaP6XN/F9LG0adPGq9y8z1apRcvWVdp3jdAgNYmtcQajAnzH4Xa73VV5Qq1atfT111+rWbNmmjFjhubNm6evvvpKy5Yt0+DBg/Xbb7+drbFWK06nUzExMcrNzVV0dLSvhwNYwuFweJ2t4o8mAIAJdhzM0zUvfSJH0JEqPc9VXKDinP1eZX9f+LzX+61zw2ivckE16ykgKNTr/UqSuzhKK0fcRIHDOcHbblDlI29FRUUKDS395vj888910003SSo9XL1v374zHC4AAAB87eDRAgXXXKfQuivO2seo1e6CKqQXnK1hqOBAN+UV9Dxr+wfOhiqXt4svvlizZ89Wr169tHz5cv3973+XJGVmZqpOnTqmDxAAAADW+HX/URXltFfx0RZVep5dj7zVCK3yr8KAT1X5K/a5557TLbfcoqlTp2rAgAG69NJLJUmffPKJrrjiCtMHCAAAAGv0uDhe0lVqWi9S4cGBXj/vbF3ztveVp73Kcc0b/EWVr3mTpJKSEjmdTtWqVctYt3PnTkVERKhevXqmDrC64po3+COueQOA6qkqs016OwmJJKWnp3uVY7ZJ2N1Zu+ZNKv2lKj09Xb/++qvuuusuRUVFKSQkhG8aAAAAPxQREaHLL7/c9P2ejX0Cdlbl8rZr1y5dd911ysjIUEFBga699lpFRUXpueeeU0FBgWbPnn02xgkAAAAAfi2gqk94+OGH1bZtWx0+fFjh4eHG+ltuuUUrVpy9mYkAAAAAwJ9V+cjbmjVrtHbtWoWEhHisP++887R3717TBgYAAAAA+EOVj7y5XC6VlJRUWL9nzx5FRUWZMigAAAAAgKcql7cePXropZdeMpYdDoeOHj2qJ598Uj17cqNDAAAAADgbqnyrgD179iglJUVut1vbt29X27ZttX37dsXGxurLL7/kVgFe4lYB8EfcKgAAwHsBUNFZu1VAw4YN9f333+vdd9/VDz/8oKNHj2rQoEHq16+fxwQmAPxDVe7tUxUbNmw4bYb7+gAAAH9yRjfpRqlXXnlFU6dOVVZWli699FK9/PLLuuKKK7x6LkfeUF1s2LChSjdcNVN6ejr3AAIAm+HIG1DRWTvy9vbbb59y+z333FPVXdrSvHnzNGrUKM2ePVvt27fXSy+9pJSUFG3bto1TR2FLOw7mKa+guMrPK4mur3mfrfIq2+f6Ll7v15t9lkTX1+a9uV7vs0yN0CA1ia1R5ecBAAD4UpWPvNWqVctjuaioSPn5+QoJCVFERIQOHTpk6gDPVe3bt1e7du00c+ZMSaWzcCYmJmr48OEaN27caZ/PkTecS3YczFPX51ed9Y+z67kbvM42HrvwLI5E+mJ0FwocAPgAR96Ais7akbfDhw9XWLd9+3YNGTJEY8aMqerubKmwsFDp6ekaP368sS4gIEDdu3dXWlpapc8pKChQQUGBsex0OiWVlt+ioqKzO2DgNLJy8uQIcir18kg1rHUWr11NWa4n7r3xtLGn3/z0rA1h/5ECvbfeqdy84yqKCTn9EwAAPsPvSPAX3n6tV7m8VebCCy/U//3f/+nuu+8+KxMXnGsOHjyokpISxcXFeayPi4s76ec/efJkTZo0qcL6ZcuWMeECfC4t26Hgmuv0+ZEV0pGz+7EumHTBaTNzMkae1TEE1+ymb9IitIs5lgDgnLZ48WJfDwGwRH5+vlc5U8qbJAUFBSkzM9Os3VU748eP16hRo4xlp9OpxMRE9ejRg9Mm4XNX5hWqyaYGiom6TWFBgWft49x5wzVeZ/+7cOVZG0f9qLq6PKHxWds/AMAc3EMY/qLsrLzTqXJ5++STTzyW3W639u3bp5kzZ+qqq66q6u5sKTY2VoGBgcrOzvZYn52drfj4+EqfExoaqtDQ0Arrg4ODFRwcfFbGCXgrrmaw/trxzGaMrMqtAo7vOu71fhsVVvx+ORG3CgCA6o3fkeAvvP1ar3J5S01N9Vh2OByqW7eurrnmGr3wwgtV3Z0thYSEqE2bNlqxYoXxerhcLq1YsULDhg3z7eAAi23duvWs3CrAm31yqwAAsJ/i4mIFBZ3+V9Di4qrPgAxUd1Uuby6X62yMw3ZGjRqlAQMGqG3btrriiiv00ksvKS8vT/fee6+vhwZYKikpSenp6V5lq1LyvNlnUlKS1/sDAJwbVqxY4XWuR48eZ3k0gL2Yds2bv+nTp48OHDigCRMmKCsrS61bt9aSJUsqTGICVHcRERFn5egXR9QAoHp64403vM5R3gBPXt3nrfxEG6fz4osv/qkB+Qvu8wZ/xL19AADx8fHGvAHh4eE6duyYsa38clxcnLKysnwyRsBqpt7n7bvvvvPqg1blFzMAAAD4n7y8PONx+eJ24nL5HIBSXpW3L7744myPAwAAAH4gIiJCR48elVR6q6nevXurRo0aysvL0wcffGBMVMJswkBFXPMGwDJRUVE6cuT0dwGPioqyYDQAAF9o3ry59u/fL6l0Rsl58+adNAfA0xmVt2+//VbvvfeeMjIyVFhY6LHtww8/NGVgAKqfunXrelXe6tata8FoAAC+EBgYaGoO8CcBVX3Cu+++qw4dOuinn37SRx99pKKiIm3ZskUrV65UTEzM2RgjgGqioKDA1BwAwH4iIyNNzQH+pMrl7dlnn9W0adP06aefKiQkRNOnT9fWrVt1xx13qFGjRmdjjACqib1795qaAwDYT506dUzNAf6kyuXt119/Va9evSRJISEhysvLk8Ph0MiRI/X666+bPkAAAABUH97OYu5tDvAnVS5vtWrVMq5ZadCggTZv3ixJysnJUX5+vrmjAwAAQLWyb98+U3OAP/G6vJWVtE6dOmn58uWSpNtvv10PP/yw7r//ft15553q1q3b2RklgGrB22mfmR4aAKqvoCDv5svzNgf4E6/LW6tWrdS+fXu1bNlSt99+uyTp8ccf16hRo5Sdna3evXvrn//851kbKAD7Y8ISAEDLli1NzQH+xOs/aaxevVpvvvmmJk+erGeeeUa9e/fWfffdp3Hjxp3N8QGoRkpKSkzNAQDsJyDAu2MH3uYAf+L1d0XHjh31r3/9S/v27dPLL7+snTt3qnPnzrrooov03HPPKSsr62yOEwAAANXAjh07TM0B/qTKf9KoUaOG7r33Xq1evVo///yzbr/9dr3yyitq1KiRbrrpprMxRgDVhMPhMDUHALCfsonvpIo/78svl88BKPWnjkdfcMEFeuyxx/TEE08oKipKixYtMmtcAKoht9ttag4AYD/NmjWTVHpa5Ik/791ut3G6ZFkOwB/OuLx9+eWXGjhwoOLj4zVmzBjdeuut+uqrr8wcG4BqhiNvAIDRo0dLklwuV6Xby9aX5QD8oUpzsGZmZmrOnDmaM2eOfvnlF3Xo0EEzZszQHXfcoRo1apytMQKoJjjyBgC45pprTM0B/sTr8nb99dfr888/V2xsrO655x795S9/4XA2AAAAqmTNmjVe57iHMODJ6/IWHBys999/XzfccIMCAwPP5pgAAABQTa1cuVKSdNFFF+nYsWPavXu3sa1Ro0YKCwvTzz//rJUrV1LegBN4fc3bJ598optvvpniBgAAgDOWkZEhqfQ2VCeeJu9yuXT11Vd75AD8oUrXvAEAAAB/RqNGjSRJ//znPyts27Nnj/71r3955AD8gVvXAwAAwDJdunQxNQf4E8obAAAALFNQUGBqDvAnlDcAAABY5qWXXjI1B/gTyhsAy3CTbgDArl27TM0B/oTyBsAyAQHe/cjxNgcAsJ/Dhw+bmgP8Cb8hAbBMSUmJqTkAgP0UFxebmgP8CeUNAAAAliksLDQ1B/gTyhsAy3DNGwAAwJmjvAGwzHXXXWdqDgAAwJ9Q3gBY5ptvvjE1BwCwn6ioKFNzgD+hvAGwzPHjx03NAQDsp379+qbmAH9CeQNgGWYYAwDUqFHD1BzgTyhvACzDfd4AAE2aNDE1B/gTfkMCYBmXy2VqDgBgP/369TM1B/gTyhsAy3DkDQCwefNmU3OAP+E3JACWYcISAMDatWtNzQH+hPIGwDKcNgkACA8PNzUH+BPKGwAAACyTm5trPE5MTPTYVn65fA5AqSBfDwCA/3A4HHK73V7lAADV0w8//GA8zsrKUp8+fRQREaH8/Hx9+OGHleYAlKK8AbBMUFCQioqKvMoBAKq/oqIizZs3z9fDAGyD0yYBWMbbUkZ5A4Dqq3Xr1qbmAH9CeQNgmdDQUFNzAAD7ufXWWz2WY2JiFB0drZiYmFPmAHDaJAALcasAAMDBgwc9lk82McmJOQAceQNgocDAQFNzAAD7+f77703NAf6E8gbAMpQ3AED5I23dunVTXFycQkNDFRcXp27dulWaA1CK0yYBWKawsNDUHADAfnbu3Cmp9LYwK1asMNZnZ2crOzvbuK1MWQ7AHzjyBsAyLpfL1BwAwL5Odt9Pb+4HCvgryhsAy3CrAABAo0aNTM0B/oTyBsAyDofD1BwAwH68PbLGETigIsobAMtw5A0AsGXLFlNzgD+hvAGwTGRkpKk5AID95OTkmJoD/AnlDYBlDh8+bGoOAGA/YWFhpuYAf0J5A2CZgoICU3MAAPuJiooyNQf4E8obAMswYQkAoKSkxNQc4E9sU96eeeYZdejQQREREapZs2almYyMDPXq1UsRERGqV6+exowZo+LiYo/MqlWrdPnllys0NFQXXHCB5syZU2E/r7zyis477zyFhYWpffv2Wr9+vcf248ePa+jQoapTp44iIyPVu3dvZWdnm/WpAtVWQIB3P3K8zQEA7Idr3oAzZ5vfkAoLC3X77bdryJAhlW4vKSlRr169VFhYqLVr1+qtt97SnDlzNGHCBCOzY8cO9erVS127dtXGjRs1YsQI3XfffVq6dKmRmTdvnkaNGqUnn3xSGzZs0KWXXqqUlBTt37/fyIwcOVKffvqp5s+fr9WrVyszM1O33nrr2fvkgWqC2SYBAE6n09Qc4E8cbpvdRGPOnDkaMWJEhb/GfPbZZ7rhhhuUmZmpuLg4SdLs2bM1duxYHThwQCEhIRo7dqwWLVqkzZs3G8/r27evcnJytGTJEklS+/bt1a5dO82cOVOS5HK5lJiYqOHDh2vcuHHKzc1V3bp1NXfuXN12222SpK1bt6p58+ZKS0vTlVdeWem4CwoKPK7jcTqdSkxM1MGDBxUdHW3a6wOcy6Kjo3X8+PHT5sLCwnjTBoBqKiQkxOtsYWHhWRwJcO5wOp2KjY1Vbm7uKbtBtfnzdlpamlq2bGkUN0lKSUnRkCFDtGXLFl122WVKS0tT9+7dPZ6XkpKiESNGSCr9AZGenq7x48cb2wMCAtS9e3elpaVJktLT01VUVOSxn6SkJDVq1OiU5W3y5MmaNGlShfXLli1TRETEGX/egJ14U9zKcosXLz7LowEAnOt4L4C/yM/P9ypXbcpbVlaWR3GTZCxnZWWdMuN0OnXs2DEdPnxYJSUllWa2bt1q7CMkJKTCdXdxcXHGx6nM+PHjNWrUKGO57Mhbjx49OPIGVKJnz56+HgIA4CyIiYlRbm6uVzneC+AvvD3jyKflbdy4cXruuedOmfnpp5+UlJRk0YjOntDQUIWGhlZYHxwcrODgYB+MCDi38X0BANVTo0aNtGnTJq9yvBfAX3j7te7T8vbII49o4MCBp8ycf/75Xu0rPj6+wqyQZTNAxsfHG/89cVbI7OxsRUdHKzw8XIGBgQoMDKw0U34fhYWFysnJ8Tj6Vj4DAACAymVmZpqaA/yJT2ebrFu3rpKSkk75z9uLWpOTk7Vp0yaPWSGXL1+u6OhotWjRwsisWLHC43nLly9XcnKypNILaNu0aeORcblcWrFihZFp06aNgoODPTLbtm1TRkaGkQFQOe7zBgA4duyYqTnAn9jmmreMjAwdOnRIGRkZKikp0caNGyVJF1xwgSIjI9WjRw+1aNFC/fv315QpU5SVlaUnnnhCQ4cONU5XHDx4sGbOnKlHH31Uf/nLX7Ry5Uq99957WrRokfFxRo0apQEDBqht27a64oor9NJLLykvL0/33nuvpNLzrwcNGqRRo0apdu3aio6O1vDhw5WcnHzSyUoAlPJ2clubTYILAKiCE2++HRwcLJfLpYCAABUVFZ00B8BG5W3ChAl66623jOXLLrtMkvTFF1+oS5cuCgwM1MKFCzVkyBAlJyerRo0aGjBggJ566injOU2aNNGiRYs0cuRITZ8+XQ0bNtQbb7yhlJQUI9OnTx8dOHBAEyZMUFZWllq3bq0lS5Z4TGIybdo0BQQEqHfv3iooKFBKSopeffVVC14FAAAAeztx+v+ywnZiWeM2AUBFtrvPW3XhdDqN2ZaYbRL+IigoyKu/pAYGBqq4uNiCEQEArBYQEODVGRYOh0Mul8uCEQG+52038Ok1bwD8S3h4uKk5AID9eDufQVVu5g34C8obAMtERkaamgMA2E+nTp1MzQH+hPIGwDJBQd5dZuttDgBgPxdffLGpOcCfUN4AWObw4cOm5gAA9rNq1SpTc4A/obwBsExeXp6pOQCA/ezZs0fSya9pK1tflgPwB8obAAAALBMWFiap9FYA1157reLi4hQaGqq4uDhde+21xi0CynIA/kB5AwAAgGV69uxpPF6+fLmys7NVUFCg7OxsLV++vNIcgFLc581HuM8b/JHD4fA6y48mAKiejh07poiIiNPm8vPzuXUM/Ab3eQMAAMA5p6SkxNQc4E8obwAAALBM//79Tc0B/oSbKQEAAMAyv/zyi/G4bt26SkhI0MGDBxUbG6vMzEwdOHCgQg5AKcobAAAALBMVFSVJCgoKUlhYmL7//ntJ0t69e5WYmKjAwECVlJQYOQB/4LRJAAAAWCYxMVGSVFxcrN27d3ts2717t3GtW1kOwB8obwAsc7Ibsp5pDgBgPwUFBabmAH9CeQNgmaAg787U9jYHALCfuLg4U3OAP6G8AbBMcXGxqTkAgP1kZWV5LDscDkVERFS4F+iJOQDcpNtnuEk3/FFQUJBX9+0JDAykwAFANcV7AVARN+kGcM7hxqwAgFP9jC9/9I33AqAiyhsAAAB8Ijg42GOZa56BU6O8AQAAwDLlC1tRUZHHtvLLJxY7AJQ3AAAAWGjq1Kmm5gB/QnkDAACAZbydK4859YCKKG8AAACwTJ06dUzNAf6E8gYAAADL/P7776bmAH9CeQMAAIBlatWqZTwOCwvz2FZ+uXwOQCnKGwAAACzz9ddfG49PvK6t/HL5HIBSlDcAAABYZt++fcbjgoICj23ll8vnAJSivAEAAMAykZGRpuYAf0J5AwAAgGVatmxpag7wJ5Q3AAAAWCYjI8N4HBDg+ato+eXyOQClHG7ugOgTTqdTMTExys3NVXR0tK+HA1jC4XB4neVHEwBUT2FhYRWudatMaGiojh8/bsGIAN/zthtw5A0AAACWKSoqMjUH+BPKGwAAACwTHh5uag7wJ5Q3AAAAWKZ///6m5gB/QnkDAACAZdavX29qDvAnlDcAAABY5siRI6bmAH9CeQNgmROnhP6zOQCA/TRs2NB43K1bN0VGRiogIECRkZHq1q1bpTkApfgNCYBlAgMDTc0BAOznwgsvNB5/9dVXOnr0qFwul44ePaq1a9dWmgNQivIGwDLe/hWVv7YCQPUVFBRkPD7xPm7Hjh2rNAegFOUNgGUSExNNzQEA7MfbI2oceQMqorwBsMyOHTtMzQEA7Kdfv36m5gB/QnkDYJns7GxTcwAA+7n55ptNzQH+hPIGwDJMWAIA+PHHH03NAf6EK0EBWKZWrVoeF6OfKgcAqJ7K3w6mbt266ty5sw4dOqTatWtr9erVOnDgQIUcgFJ8VwCwzP79+03NAQDsp2XLlsbjTZs2KTY2VocOHVJsbKw2bdpUaQ5AKY68AbBMcXGxqTkAgP2UvwVAfHy88Xjjxo2aPXt2pTkApTjyBgAAAMtERUWZmgP8CeUNAAAAlklOTjY1B/gTyhsAAAAs8+uvv5qaA/wJ5Q0AAACW2bBhg6k5wJ9Q3gAAAGAZh8Nhag7wJ5Q3AAAAWKZLly7G48zMTCUnJys2NlbJycnKzMysNAegFHOwAgAAwDJ5eXnG44SEBOPxwYMHPZbL5wCUssWRt507d2rQoEFq0qSJwsPD1bRpUz355JMqLCz0yP3www/q2LGjwsLClJiYqClTplTY1/z585WUlKSwsDC1bNlSixcv9tjudrs1YcIE1a9fX+Hh4erevbu2b9/ukTl06JD69eun6Oho1axZU4MGDdLRo0fN/8QBAACqGU6bBM6cLcrb1q1b5XK59Nprr2nLli2aNm2aZs+erccee8zIOJ1O9ejRQ40bN1Z6erqmTp2qiRMn6vXXXzcya9eu1Z133qlBgwbpu+++U2pqqlJTU7V582YjM2XKFM2YMUOzZ8/WunXrVKNGDaWkpOj48eNGpl+/ftqyZYuWL1+uhQsX6ssvv9QDDzxgzYsB2Ji3N1zlxqwAUH01atTI1BzgTxxut9vt60GcialTp2rWrFn67bffJEmzZs3S448/rqysLIWEhEiSxo0bpwULFmjr1q2SpD59+igvL08LFy409nPllVeqdevWmj17ttxutxISEvTII49o9OjRkqTc3FzFxcVpzpw56tu3r3766Se1aNFC33zzjdq2bStJWrJkiXr27Kk9e/Z4HO4/FafTqZiYGOXm5io6Otq01wU4l1Xlr6g2/dEEADiN++67T//85z9Pmxs0aJDeeOMNC0YE+J633cC2f97Ozc1V7dq1jeW0tDR16tTJKG6SlJKSoueee06HDx9WrVq1lJaWplGjRnnsJyUlRQsWLJAk7dixQ1lZWerevbuxPSYmRu3bt1daWpr69u2rtLQ01axZ0yhuktS9e3cFBARo3bp1uuWWWyodb0FBgQoKCoxlp9MpSSoqKlJRUdGZvxBANcX3BQBUT19++aXH8jXXXKOEhARlZmZq5cqVHjneC+AvvP1at2V5++WXX/Tyyy/r+eefN9ZlZWWpSZMmHrm4uDhjW61atZSVlWWsK5/JysoycuWfd7JMvXr1PLYHBQWpdu3aRqYykydP1qRJkyqsX7ZsmSIiIk75+QL+6MTrUQEA1UNOTo7x2OFweBQ2h8NhnHmRk5PDewH8Rn5+vlc5n5a3cePG6bnnnjtl5qefflJSUpKxvHfvXl133XW6/fbbdf/995/tIZpm/PjxHkf9nE6nEhMT1aNHD06bBCrRs2dPXw8BAHAWJCQk6MCBA5IqniJffjkhIYH3AviNsrPyTsen5e2RRx7RwIEDT5k5//zzjceZmZnq2rWrOnTo4DERiSTFx8crOzvbY13Zcnx8/Ckz5beXratfv75HpnXr1kZm//79HvsoLi7WoUOHjOdXJjQ0VKGhoRXWBwcHKzg4+KTPA/wV3xcAUD01btxY33//vVc53gvgL7z9WvfpbJN169ZVUlLSKf+VXcO2d+9edenSRW3atNGbb76pgADPoScnJ1c4N3r58uVq1qyZatWqZWRWrFjh8bzly5crOTlZktSkSRPFx8d7ZJxOp9atW2dkkpOTlZOTo/T0dCOzcuVKuVwutW/f3sRXBwAAoPq58sorTc0B/sQWtwooK26NGjXS888/rwMHDigrK8vjGrO77rpLISEhGjRokLZs2aJ58+Zp+vTpHqcqPvzww1qyZIleeOEFbd26VRMnTtS3336rYcOGSSo9z3rEiBF6+umn9cknn2jTpk265557lJCQoNTUVElS8+bNdd111+n+++/X+vXr9dVXX2nYsGHq27ev1zNNAgAA+KsdO3aYmgP8iS0mLFm+fLl++eUX/fLLL2rYsKHHtrJzo2NiYrRs2TINHTpUbdq0UWxsrCZMmOBx/7UOHTpo7ty5euKJJ/TYY4/pwgsv1IIFC3TJJZcYmUcffVR5eXl64IEHlJOTo6uvvlpLlixRWFiYkfnPf/6jYcOGqVu3bgoICFDv3r01Y8aMs/wqAAAA2N+GDRtMzQH+xLb3ebM77vMGf8R93gAA7dq107fffnvaXNu2bfXNN99YMCLA97ztBrY4bRIAAADVwzXXXGNqDvAnlDcAAABYpmbNmqbmAH9CeQMAAIBlTpz5+8/mAH9CeQMAAIBlMjIyTM0B/oTyBgAAAMt4OyEVE1cBFVHeAAAAYJnAwEBTc4A/obwBAADAMtnZ2abmAH9CeQMAAIBlvL3nZ1XuDQr4C8obAAAALBMbG2tqDvAnlDcAAABY5sYbbzQ1B/gTyhsAAAAsEx8fb2oO8CeUNwCWCQ0NNTUHALCf33//3dQc4E8obwAsU1BQYGoOAGA/33zzjak5wJ9Q3gAAAGCZrKwsU3OAPwny9QAAAADgP/Ly8ozHKSkpOnr0qDIyMtSoUSNFRkZq6dKlFXIASlHeAAAA4BNlRU2Sdu/e7cORAPbAaZMAAACwTIMGDUzNAf6E8gYAAADL9OrVy9Qc4E8obwAsExkZaWoOAGA/O3fuNDUH+BPKGwDLHD161NQcAMB+vvjiC1NzgD+hvAEAAMAy3KQbOHOUNwAAAFgmPDzceJyYmOixrfxy+RyAUpQ3AAAAWCY+Pt54fOLtAcovl88BKEV5AwAAgGW6detmag7wJ5Q3AJbx9hQYTpUBgOqrbt26puYAf0J5A2AZh8Nhag4AYD+HDh0yNQf4E8obAMsEBHj3I8fbHADAfvbs2WNqDvAn/IYEwDJhYWGm5gAA9tOoUSPj8YlnWpRfLp8DUIryBsAyx48fNzUHALCfLl26GI/dbrfHtvLL5XMASlHeAFjG5XKZmgMA2M+Jhe3P5gB/QnkDYJn8/HxTcwAA+1m1apXx+MTZhcsvl88BKEV5AwAAgGW+/fZbSVLbtm1VWFjosa2wsFCXX365Rw7AH4J8PQAAAAD4j4iICEmVl7OSkhJt2LDBIwfgDxx5AwAAgGWuvvpqj+Xu3bvr7rvvVvfu3U+ZA8CRNwAAAFgoKSnJeOxwOPT55597LJdNVFI+B6AUR94AAABgmRkzZhiPT3WrgPI5AKUobwAAALDMoUOHTM0B/oTyBgAAAMskJCSYmgP8CeUNAAAAlvH2WjaueQMqorwBAADAMnv27DE1B/gTyhsAAAAss3//flNzgD+hvAGwTJ06dUzNAQDs5/jx46bmAH9CeQNgmZKSElNzAAD7qV+/vqk5wJ9Q3gBYxuFwmJoDANgP17wBZ47yBsAyTqfT1BwAwH727dtnag7wJ5Q3AJbhtEkAQHFxsak5wJ9Q3gAAAGCZxMREU3OAP6G8AQAAwDINGzY0NQf4E8obAAAALLN3715Tc4A/obwBAADAMjk5OabmAH9CeQMAAIBlMjIyTM0B/oTyBgAAAMscP37c1BzgTyhvAAAAsAy3jQHOnG3K20033aRGjRopLCxM9evXV//+/ZWZmemR+eGHH9SxY0eFhYUpMTFRU6ZMqbCf+fPnKykpSWFhYWrZsqUWL17ssd3tdmvChAmqX7++wsPD1b17d23fvt0jc+jQIfXr10/R0dGqWbOmBg0apKNHj5r/SQMAAADA/2eb8ta1a1e999572rZtmz744AP9+uuvuu2224ztTqdTPXr0UOPGjZWenq6pU6dq4sSJev31143M2rVrdeedd2rQoEH67rvvlJqaqtTUVG3evNnITJkyRTNmzNDs2bO1bt061ahRQykpKR6H7vv166ctW7Zo+fLlWrhwob788ks98MAD1rwQAAAAAPySw+12u309iDPxySefKDU1VQUFBQoODtasWbP0+OOPKysrSyEhIZKkcePGacGCBdq6daskqU+fPsrLy9PChQuN/Vx55ZVq3bq1Zs+eLbfbrYSEBD3yyCMaPXq0JCk3N1dxcXGaM2eO+vbtq59++kktWrTQN998o7Zt20qSlixZop49e2rPnj1KSEjwavxOp1MxMTHKzc1VdHS0mS8NcM5yOBxeZ236owkAcBq8FwAVedsNgiwck2kOHTqk//znP+rQoYOCg4MlSWlpaerUqZNR3CQpJSVFzz33nA4fPqxatWopLS1No0aN8thXSkqKFixYIEnasWOHsrKy1L17d2N7TEyM2rdvr7S0NPXt21dpaWmqWbOmUdwkqXv37goICNC6det0yy23VDrmgoICFRQUGMtOp1OSVFRUpKKioj/3ggDVEN8XAFA9BQYGenU9W2BgIO8F8Bvefq3bqryNHTtWM2fOVH5+vq688kqPI2hZWVlq0qSJRz4uLs7YVqtWLWVlZRnrymeysrKMXPnnnSxTr149j+1BQUGqXbu2kanM5MmTNWnSpArrly1bpoiIiFN+3oA/OvF6VABA9VCVCUt4L4C/yM/P9yrn0/I2btw4Pffcc6fM/PTTT0pKSpIkjRkzRoMGDdKuXbs0adIk3XPPPVq4cGGVDr/7yvjx4z2O+jmdTiUmJqpHjx6cNglUomfPnr4eAgDAx3gvgL8oOyvvdHxa3h555BENHDjwlJnzzz/feBwbG6vY2FhddNFFat68uRITE/X1118rOTlZ8fHxys7O9nhu2XJ8fLzx38oy5beXratfv75HpnXr1kZm//79HvsoLi7WoUOHjOdXJjQ0VKGhoRXWBwcHG6d+AvgD3xcAAN4L4C+8/Vr36WyTdevWVVJS0in/lb+GrTyXyyVJxnVkycnJ+vLLLz3OF12+fLmaNWumWrVqGZkVK1Z47Gf58uVKTk6WJDVp0kTx8fEeGafTqXXr1hmZ5ORk5eTkKD093cisXLlSLpdL7du3/7MvCQAAAABUyha3Cli3bp1mzpypjRs3ateuXVq5cqXuvPNONW3a1ChVd911l0JCQjRo0CBt2bJF8+bN0/Tp0z1OVXz44Ye1ZMkSvfDCC9q6dasmTpyob7/9VsOGDZNUOvvRiBEj9PTTT+uTTz7Rpk2bdM899yghIUGpqamSpObNm+u6667T/fffr/Xr1+urr77SsGHD1LdvX69nmgT81cn+GHOmOQCA/ZQ/q8qMHOBPbFHeIiIi9OGHH6pbt25q1qyZBg0apFatWmn16tXGqYgxMTFatmyZduzYoTZt2uiRRx7RhAkTPO6/1qFDB82dO1evv/66Lr30Ur3//vtasGCBLrnkEiPz6KOPavjw4XrggQfUrl07HT16VEuWLFFYWJiR+c9//qOkpCR169ZNPXv21NVXX+1xPzkAlYuJiTE1BwCwH2+v7fE2B/gT297nze64zxv8Uc2aNZWbm3vaXExMjHJycs7+gAAAlmvcuLEyMjJOm2vUqJF27dplwYgA3/O2G9jiyBuA6sGb4laVHADAfjgLAzhzlDcAAABYZs+ePabmAH9CeQMAAIBlDh8+bGoO8CeUNwAAAACwAcobAAAAANgA5Q0AAAAAbIDyBgAAAAA2QHkDAAAAABugvAEAAACADVDeAAAAAMAGKG8AAAAAYAOUNwAAAFjG4XCYmgP8CeUNAAAAltm9e7epOcCfUN4AWGb79u2m5gAA9tOgQQOFhIScMhMSEqIGDRpYNCLAPihvACxzwQUXnPY0GIfDoQsuuMCiEQEAfKGgoOCkBS4kJEQFBQUWjwiwB8obAEu5XK6TFjiHwyGXy2XxiAAAvlBQUKA9e/aoVq1aCgwMVK1atbRnzx6KG3AKlDcAlnO5XNq+fbuCg4MlScHBwdq+fTvFDQD8TIMGDZSdna0PPvhA2dnZnCoJnAblDYBPXHDBBcrLy9OCBQuUl5fHqZIAAACnQXkDAAAAABugvAEAAACADVDeAAAAAMAGKG8AAAAAYAOUNwAAAACwAcobAAAAANgA5Q0AAAAAbIDyBgAAAAA2QHkDAAAAABugvAEAAACADVDeAAAAAMAGKG8AAAAAYAOUNwAAAACwgSBfD8Bfud1uSZLT6fTxSADfKSoqUn5+vpxOp4KDg309HACAD/BeAPzRCco6wslQ3nzkyJEjkqTExEQfjwQAAADAueDIkSOKiYk56XaH+3T1DmeFy+VSZmamoqKi5HA4fD0cwCecTqcSExO1e/duRUdH+3o4AAAf4L0AKD3iduTIESUkJCgg4ORXtnHkzUcCAgLUsGFDXw8DOCdER0fzhg0Afo73Avi7Ux1xK8OEJQAAAABgA5Q3AAAAALAByhsAnwkNDdWTTz6p0NBQXw8FAOAjvBcA3mPCEgAAAACwAY68AQAAAIANUN4AAAAAwAYobwAAAABgA5Q3AAAAALAByhsAAAAA2ADlDQAAAABsgPIGwFIHDhxQfHy8nn32WWPd2rVrFRISohUrVvhwZAAAq7z99tuqU6eOCgoKPNanpqaqf//+PhoVcO7jPm8ALLd48WKlpqZq7dq1atasmVq3bq2bb75ZL774oq+HBgCwwLFjx1S/fn394x//0O233y5J2r9/vxo0aKBly5apa9euPh4hcG6ivAHwiaFDh+rzzz9X27ZttWnTJn3zzTcKDQ319bAAABZ58MEHtXPnTi1evFiS9OKLL+qVV17RL7/8IofD4ePRAecmyhsAnzh27JguueQS7d69W+np6WrZsqWvhwQAsNB3332ndu3aadeuXWrQoIFatWql22+/XX/72998PTTgnMU1bwB84tdff1VmZqZcLpd27tzp6+EAACx22WWX6dJLL9Xbb7+t9PR0bdmyRQMHDvT1sIBzGkfeAFiusLBQV1xxhVq3bq1mzZrppZde0qZNm1SvXj1fDw0AYKFZs2bppZde0rXXXqvt27dr6dKlvh4ScE6jvAGw3JgxY/T+++/r+++/V2RkpDp37qyYmBgtXLjQ10MDAFgoNzdXCQkJKi4u1ttvv60+ffr4ekjAOY3TJgFYatWqVXrppZf0zjvvKDo6WgEBAXrnnXe0Zs0azZo1y9fDAwBYKCYmRr1791ZkZKRSU1N9PRzgnMeRNwAAAPhMt27ddPHFF2vGjBm+HgpwzqO8AQAAwHKHDx/WqlWrdNttt+nHH39Us2bNfD0k4JwX5OsBAAAAwP9cdtllOnz4sJ577jmKG+AljrwBAAAAgA0wYQkAAAAA2ADlDQAAAABsgPIGAAAAADZAeQMAAAAAG6C8AQAAAIANUN4AADiLHA6HFixY4HV+4sSJat269SkzAwcOVGpq6p8aFwDAfihvAAC/d+ONN+q6666rdNuaNWvkcDj0ww8/nNG+9+3bp+uvv/7PDA8AAEmUNwAANGjQIC1fvlx79uypsO3NN99U27Zt1apVqyrts7CwUJIUHx+v0NBQU8YJAPBvlDcAgN+74YYbVLduXc2ZM8dj/dGjRzV//nylpqbqzjvvVIMGDRQREaGWLVvqv//9r0e2S5cuGjZsmEaMGKHY2FilpKRIqnja5NixY3XRRRcpIiJC559/vv72t7+pqKiowphee+01JSYmKiIiQnfccYdyc3NPOn6Xy6XJkyerSZMmCg8P16WXXqr333/f2H748GH169dPdevWVXh4uC688EK9+eabZ/BKAQB8ifIGAPB7QUFBuueeezRnzhy53W5j/fz581VSUqK7775bbdq00aJFi7R582Y98MAD6t+/v9avX++xn7feekshISH66quvNHv27Eo/VlRUlObMmaMff/xR06dP1z/+8Q9NmzbNI/PLL7/ovffe06effqolS5bou+++04MPPnjS8U+ePFlvv/22Zs+erS1btmjkyJG6++67tXr1aknS3/72N/3444/67LPP9NNPP2nWrFmKjY0905cLAOAjDnf5dykAAPzU1q1b1bx5c33xxRfq0qWLJKlTp05q3Lix3nnnnQr5G264QUlJSXr++ecllR55czqd2rBhg0fO4XDoo48+OukEI88//7zeffddffvtt5JKJyx5+umntWvXLjVo0ECStGTJEvXq1Ut79+5VfHy8Bg4cqJycHC1YsEAFBQWqXbu2Pv/8cyUnJxv7ve+++5Sfn6+5c+fqpptuUmxsrP71r3/92ZcJAOBDQb4eAAAA54KkpCR16NBB//rXv9SlSxf98ssvWrNmjZ566imVlJTo2Wef1Xvvvae9e/eqsLBQBQUFioiI8NhHmzZtTvtx5s2bpxkzZujXX3/V0aNHVVxcrOjoaI9Mo0aNjOImScnJyXK5XNq2bZvi4+M9sr/88ovy8/N17bXXeqwvLCzUZZddJkkaMmSIevfurQ0bNqhHjx5KTU1Vhw4dqvT6AAB8j9MmAQD4/wYNGqQPPvhAR44c0ZtvvqmmTZuqc+fOmjp1qqZPn66xY8fqiy++0MaNG5WSkmJMSlKmRo0ap9x/Wlqa+vXrp549e2rhwoX67rvv9Pjjj1fYT1UcPXpUkrRo0SJt3LjR+Pfjjz8a171df/312rVrl0aOHKnMzEx169ZNo0ePPuOPCQDwDY68AQDw/91xxx16+OGHNXfuXL399tsaMmSIHA6HvvrqK9188826++67JZVOEPLzzz+rRYsWVdr/2rVr1bhxYz3++OPGul27dlXIZWRkKDMzUwkJCZKkr7/+WgEBAWrWrFmFbIsWLRQaGqqMjAx17tz5pB+7bt26GjBggAYMGKCOHTtqzJgxximfAAB7oLwBAPD/RUZGqk+fPho/frycTqcGDhwoSbrwwgv1/vvva+3atapVq5ZefPFFZWdnV7m8XXjhhcrIyNC7776rdu3aadGiRfroo48q5MLCwjRgwAA9//zzcjqdeuihh3THHXdUOGVSKp0AZfTo0Ro5cqRcLpeuvvpq5ebm6quvvlJ0dLQGDBigCRMmqE2bNrr44otVUFCghQsXqnnz5mf0GgEAfIfTJgEAKGfQoEE6fPiwUlJSjCNfTzzxhC6//HKlpKSoS5cuio+PP+kEJKdy0003aeTIkRo2bJhat26ttWvX6m9/+1uF3AUXXKBbb71VPXv2VI8ePdSqVSu9+uqrJ93v3//+d/3tb3/T5MmT1bx5c1133XVatGiRmjRpIkkKCQnR+PHj1apVK3Xq1EmBgYF69913qzx+AIBvMdskAAAAANgAR94AAAAAwAYobwAAAABgA5Q3AAAAALAByhsAAAAA2ADlDQAAAABsgPIGAAAAADZAeQMAAAAAG6C8AQAAAIANUN4AAAAAwAYobwAAAABgA5Q3AAAAALCB/wcPz36nvQh/nwAAAABJRU5ErkJggg==",
>>>>>>> main
      "text/plain": [
       "<Figure size 1000x600 with 1 Axes>"
      ]
     },
     "metadata": {},
     "output_type": "display_data"
    },
    {
     "name": "stdout",
     "output_type": "stream",
     "text": [
      "         node_id             x             y          z             q\n",
      "count  6489294.0  6.489294e+06  6.489294e+06  6489294.0  6.489294e+06\n",
      "mean      3200.0  7.801438e+02  2.594087e+03        0.0  6.484833e+01\n",
      "std          0.0  1.977287e+03  7.415937e+02        0.0  3.327497e+01\n",
      "min       3200.0 -3.281800e+04 -3.270500e+04        0.0  0.000000e+00\n",
      "25%       3200.0  4.600000e+01  2.453000e+03        0.0  4.800000e+01\n",
      "50%       3200.0  1.320000e+02  2.536000e+03        0.0  5.600000e+01\n",
      "75%       3200.0  3.130000e+02  2.642000e+03        0.0  6.900000e+01\n",
      "max       3200.0  3.265500e+04  3.270600e+04        0.0  2.550000e+02\n"
     ]
    }
   ],
   "source": [
    "# Tarkastellaan ja poistetaan Outlierit\n",
    "import matplotlib.pyplot as plt\n",
    "%matplotlib inline\n",
    "plt.figure(figsize=(10, 6))\n",
    "df.boxplot(column=['x', 'y'])\n",
    "plt.title('Boxplot of X and Y Variables')\n",
    "plt.ylabel('Values')\n",
    "plt.xlabel('Variables')\n",
    "plt.show()\n",
    "\n",
    "print(df.describe())"
   ]
  },
  {
   "cell_type": "code",
<<<<<<< HEAD
   "execution_count": 10,
=======
   "execution_count": 32,
>>>>>>> main
   "id": "cdd300fc",
   "metadata": {},
   "outputs": [
    {
     "name": "stdout",
     "output_type": "stream",
     "text": [
      "<class 'pandas.core.frame.DataFrame'>\n",
<<<<<<< HEAD
      "Index: 10787130 entries, 0 to 12978587\n",
=======
      "Index: 1088631 entries, 0 to 6489290\n",
>>>>>>> main
      "Data columns (total 4 columns):\n",
      " #   Column     Non-Null Count    Dtype              \n",
      "---  ------     --------------    -----              \n",
      " 0   node_id    1088631 non-null  int32              \n",
      " 1   timestamp  1088631 non-null  datetime64[ns, UTC]\n",
      " 2   x          1088631 non-null  int32              \n",
      " 3   y          1088631 non-null  int32              \n",
      "dtypes: datetime64[ns, UTC](1), int32(3)\n",
<<<<<<< HEAD
      "memory usage: 288.0 MB\n"
=======
      "memory usage: 29.1 MB\n"
>>>>>>> main
     ]
    },
    {
     "data": {
<<<<<<< HEAD
      "image/png": "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",
=======
      "image/png": "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",
>>>>>>> main
      "text/plain": [
       "<Figure size 1000x600 with 1 Axes>"
      ]
     },
     "metadata": {},
     "output_type": "display_data"
    }
   ],
   "source": [
    "# Tarkastellaan ja poistetaan Outlierit\n",
    "\n",
<<<<<<< HEAD
    "# Määritellään ylä ja alarajat X-akselissa TODO: määrittele tarkemmin\n",
    "lower_bound_X = 0\n",
    "upper_bound_X = 10406\n",
    "\n",
    "\n",
    "# Määritellään ylä ja alarajat y-akselissa TODO: määrittele tarkemmin\n",
    "lower_bound_Y = 0\n",
    "upper_bound_Y = 5220\n",
=======
    "# Määritellään ylä ja alarajat X-akselissa \n",
    "lower_bound_X = -700\n",
    "upper_bound_X = 10250\n",
    "\n",
    "\n",
    "# Määritellään ylä ja alarajat y-akselissa\n",
    "lower_bound_Y = 0\n",
    "upper_bound_Y = 5100\n",
>>>>>>> main
    "\n",
    "# Filteröidään pois\n",
    "outliers_X = df[(df['x'] < lower_bound_X) | (df['x'] > upper_bound_X)]\n",
    "outliers_Y = df[(df['y'] < lower_bound_Y) | (df['y'] > upper_bound_Y)]\n",
    "\n",
    "#Latausasemien filtteröinti\n",
    "charging_station1 = df[df['x'].between(-150, 1600) & (df['y'] > 2900)]\n",
    "charging_station2 = df[(df['y']> 2000) & df['x'].between(-150, 800)]\n",
    "\n",
    "\n",
    "# Poistetaan outlierit\n",
    "df = df[~df.index.isin(outliers_X.index) & ~df.index.isin(outliers_Y.index)]\n",
    "df = df[~df.index.isin(charging_station1.index) & ~df.index.isin(charging_station2.index)]\n",
    "\n",
    "df.info(verbose=True)\n",
    "\n",
    "\n",
    "\n",
    "\n",
    "\n",
    "import matplotlib.pyplot as plt\n",
    "%matplotlib inline\n",
    "plt.figure(figsize=(10, 6))\n",
    "df.boxplot(column=['x', 'y'])\n",
    "plt.title('Boxplot of X and Y Variables')\n",
    "plt.ylabel('Values')\n",
    "plt.xlabel('Variables')\n",
    "plt.show()"
   ]
  },
  {
<<<<<<< HEAD
   "cell_type": "code",
   "execution_count": 11,
=======
   "cell_type": "markdown",
>>>>>>> main
   "id": "f0da148a",
   "metadata": {},
   "source": [
    "### Onko jotain muuta?\n",
    "\n",
    "- Poistetaan järjestelmän koordinaatiston vanhat rajoitteet. Ainakin aikaisemmassa versiossa x,y akselit olivat rajoitettu tiettyyn arvoon, esim x>=(-50), jos kärryt menivät yli rajojen. Tällöin jos kärry meni alle -50 arvoon, niin se tallennettiin x=-50"
   ]
  },
  {
   "cell_type": "code",
<<<<<<< HEAD
   "execution_count": 12,
=======
   "execution_count": 33,
   "id": "c40370a2",
   "metadata": {},
   "outputs": [
    {
     "name": "stdout",
     "output_type": "stream",
     "text": [
      "Löydetty: 9448 37049 9919 kpl\n"
     ]
    }
   ],
   "source": [
    "limited_left_val = df['x'].isin([-50])\n",
    "limited_upper_val = df['y'].isin([150])\n",
    "limited_lower_val = df['y'].isin([5050])\n",
    "\n",
    "print(\"Löydetty:\", limited_lower_val.value_counts()[True], limited_left_val.value_counts()[True], limited_upper_val.value_counts()[True], \"kpl\")\n",
    "\n",
    "df = df[~limited_left_val & ~limited_upper_val & ~limited_lower_val]"
   ]
  },
  {
   "cell_type": "markdown",
   "id": "c1653ab4",
   "metadata": {},
   "source": []
  },
  {
   "cell_type": "code",
   "execution_count": 9,
   "id": "4844656e",
   "metadata": {},
   "outputs": [
    {
     "name": "stdout",
     "output_type": "stream",
     "text": [
      "<class 'pandas.core.frame.DataFrame'>\n",
      "Index: 1081371 entries, 0 to 6489293\n",
      "Data columns (total 4 columns):\n",
      " #   Column     Non-Null Count    Dtype              \n",
      "---  ------     --------------    -----              \n",
      " 0   node_id    1081371 non-null  int32              \n",
      " 1   timestamp  1081371 non-null  datetime64[ns, UTC]\n",
      " 2   x          1081371 non-null  int32              \n",
      " 3   y          1081371 non-null  int32              \n",
      "dtypes: datetime64[ns, UTC](1), int32(3)\n",
      "memory usage: 28.9 MB\n"
     ]
    }
   ],
   "source": [
    "df.info(verbose=True)"
   ]
  },
  {
   "cell_type": "code",
   "execution_count": 34,
>>>>>>> main
   "id": "1dfb3237",
   "metadata": {},
   "outputs": [
    {
     "name": "stdout",
     "output_type": "stream",
     "text": [
<<<<<<< HEAD
      "Silver_SensorData_lite on jo olemassa\n",
      "Tallennetaan dataframe tietokantaan, jonka muoto on: (10787130, 4)\n",
      "Tallennus tauluun Silver_SensorData_lite onnistui\n"
=======
      "Table dropped\n",
      "Silver_SensorData luotu\n",
      "Tallennetaan dataframe tietokantaan, jonka muoto on: (1040755, 4)\n",
      "Tallennus tauluun Silver_SensorData onnistui\n"
>>>>>>> main
     ]
    }
   ],
   "source": [
    "from functions.database import create_db_table\n",
    "from functions.database import insert_dataframe_into_table\n",
    "from functions.database import drop_table\n",
    "\n",
    "#from functions.database import drop_table\n",
    "# Tallennetaan dataframe silver tauluun\n",
    "\n",
    "table_name = \"Silver_SensorData\" # tai Silver_SensorData\n",
    "duckdb_path = \"data/duckdb.database\"\n",
    "schema = f'''\n",
    "        CREATE TABLE {table_name} (\n",
    "        node_id INTEGER NOT NULL,\n",
    "        timestamp TIMESTAMP,\n",
    "        x INTEGER NOT NULL,\n",
    "        y INTEGER NOT NULL,\n",
    "        )\n",
    "        '''\n",
    "\n",
    "drop_table(table_name, duckdb_path) # Poista kommentti, jos tarvitsee poistaa tietokantataulu\n",
    "create_db_table(database=duckdb_path, table_name=table_name,schema=schema) # Luodaan tietokantataulu\n",
    "insert_dataframe_into_table(database=duckdb_path, table_name=table_name, df=df, insert=True) # Lisätään dataframe tietokantatauluun (Insert, eli lisätään rivejä vanhan perään)\n",
    "\n"
   ]
  },
  {
   "cell_type": "code",
<<<<<<< HEAD
   "execution_count": 13,
=======
   "execution_count": 35,
>>>>>>> main
   "id": "bc14e0f7",
   "metadata": {},
   "outputs": [
    {
     "name": "stdout",
     "output_type": "stream",
     "text": [
      "┌─────────┬────────────────────────────┬───────┬───────┐\n",
      "│ node_id │         timestamp          │   x   │   y   │\n",
      "│  int32  │         timestamp          │ int32 │ int32 │\n",
      "├─────────┼────────────────────────────┼───────┼───────┤\n",
      "│    3200 │ 2019-03-07 13:46:19.078016 │     0 │     0 │\n",
      "│    3200 │ 2019-03-07 13:46:20.078012 │     0 │     0 │\n",
      "│    3200 │ 2019-03-07 13:46:21.078081 │     0 │     0 │\n",
      "│    3200 │ 2019-03-07 13:46:22.07813  │     0 │     0 │\n",
      "│    3200 │ 2019-03-14 11:57:31.687637 │   228 │  1084 │\n",
      "│    3200 │ 2019-03-14 11:57:32.687573 │   272 │  1240 │\n",
      "│    3200 │ 2019-03-14 11:57:33.687582 │   314 │  1388 │\n",
      "│    3200 │ 2019-03-14 11:57:34.687527 │   352 │  1523 │\n",
      "│    3200 │ 2019-03-14 11:57:35.687944 │   386 │  1642 │\n",
      "│    3200 │ 2019-03-14 11:57:36.688477 │   415 │  1745 │\n",
      "│      ·  │             ·              │    ·  │    ·  │\n",
      "│      ·  │             ·              │    ·  │    ·  │\n",
      "│      ·  │             ·              │    ·  │    ·  │\n",
      "│    3200 │ 2019-03-15 16:16:13.695478 │  7181 │  3361 │\n",
      "│    3200 │ 2019-03-15 16:16:14.69543  │  7181 │  3366 │\n",
      "│    3200 │ 2019-03-15 16:16:15.695393 │  7179 │  3360 │\n",
      "│    3200 │ 2019-03-15 16:16:16.695407 │  7176 │  3361 │\n",
      "│    3200 │ 2019-03-15 16:16:17.695362 │  7179 │  3388 │\n",
      "│    3200 │ 2019-03-15 16:16:18.695905 │  7177 │  3381 │\n",
      "│    3200 │ 2019-03-15 16:16:19.695494 │  7180 │  3373 │\n",
      "│    3200 │ 2019-03-15 16:16:20.695494 │  7179 │  3393 │\n",
      "│    3200 │ 2019-03-15 16:16:21.695539 │  7175 │  3412 │\n",
      "│    3200 │ 2019-03-15 16:16:22.695407 │  7176 │  3395 │\n",
      "├─────────┴────────────────────────────┴───────┴───────┤\n",
      "│ ? rows (>9999 rows, 20 shown)              4 columns │\n",
      "└──────────────────────────────────────────────────────┘\n",
      "\n"
     ]
    }
   ],
   "source": [
    "# Tarkistetaan, miltä luotu taulu näyttää:\n",
    "table_name = \"Silver_SensorData\"\n",
    "duckdb_path = \"data/duckdb.database\"\n",
    "import duckdb\n",
    "conn = duckdb.connect(database=duckdb_path)\n",
    "conn.table(table_name).show()\n",
    "conn.close()"
   ]
  },
  {
   "cell_type": "code",
   "execution_count": null,
   "id": "e835d4e0-2526-485f-82e8-16e515cf36b8",
   "metadata": {},
   "outputs": [],
   "source": []
  }
 ],
 "metadata": {
  "kernelspec": {
   "display_name": "Python 3 (ipykernel)",
   "language": "python",
   "name": "python3"
  },
  "language_info": {
   "codemirror_mode": {
    "name": "ipython",
    "version": 3
   },
   "file_extension": ".py",
   "mimetype": "text/x-python",
   "name": "python",
   "nbconvert_exporter": "python",
   "pygments_lexer": "ipython3",
<<<<<<< HEAD
   "version": "3.11.5"
=======
   "version": "3.10.12"
>>>>>>> main
  }
 },
 "nbformat": 4,
 "nbformat_minor": 5
}
