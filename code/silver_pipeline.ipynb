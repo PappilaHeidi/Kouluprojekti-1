{
 "cells": [
  {
   "cell_type": "markdown",
   "id": "2ba92c30-280a-41e1-8796-a9a36f6139af",
   "metadata": {},
   "source": [
    "Tässä notebookissa tehdään Silver-tason prosessoinnit datalle, eli ladataan bronze_pipeline.ipynb ETL-putken luomat lopputulokset ja otetaan data esikäsittellyyn. Esikäsittelyssä data putsataan ja prosessoidaan haluttuun muotoon. Tämän jälkeen data tallennetaan Gold-tason tauluun, joka toimii datan lopullisena tallennuspaikkana, josta sitä käytetään tämän projektin muissa välivaiheissa. Otetaan Polars käyttöön, jotta voidaan nopeuttaa ja tehostaa datan prosessointia. Polars on Pandasin kaltainen kirjasto, mutta sen avulla voidaan isoja datamassoja prosessoida nopeammin. (Se on kai optimoitu paremmin tms.)"
   ]
  },
  {
   "cell_type": "code",
   "execution_count": 5,
   "id": "36a8afa9-6f9c-4832-b8c7-58cff0d77995",
   "metadata": {},
   "outputs": [
    {
     "name": "stdout",
     "output_type": "stream",
     "text": [
      "Requirement already satisfied: duckdb in c:\\users\\jonik\\appdata\\local\\programs\\python\\python311\\lib\\site-packages (0.9.2)\n",
      "Requirement already satisfied: polars in c:\\users\\jonik\\appdata\\local\\programs\\python\\python311\\lib\\site-packages (0.20.19)\n"
     ]
    }
   ],
   "source": [
    "!pip install duckdb\n",
    "!pip install polars"
   ]
  },
  {
   "cell_type": "code",
   "execution_count": 6,
   "id": "db970226-895a-43e9-99af-bd74bab63181",
   "metadata": {},
   "outputs": [
    {
     "name": "stdout",
     "output_type": "stream",
     "text": [
      "┌─────────┬──────────────────────────────────┬───────┬───────┬───────┬───────┐\n",
      "│ node_id │            timestamp             │   x   │   y   │   z   │   q   │\n",
      "│  int32  │             varchar              │ int32 │ int32 │ int32 │ int32 │\n",
      "├─────────┼──────────────────────────────────┼───────┼───────┼───────┼───────┤\n",
      "│    3200 │ 2019-03-07 11:46:19.078016+00:00 │     0 │     0 │     0 │    51 │\n",
      "│    3200 │ 2019-03-07 11:46:20.078012+00:00 │     0 │     0 │     0 │   163 │\n",
      "│    3200 │ 2019-03-07 11:46:21.078081+00:00 │     0 │     0 │     0 │    42 │\n",
      "│    3200 │ 2019-03-07 11:46:22.07813+00:00  │     0 │     0 │     0 │   105 │\n",
      "│    3200 │ 2019-03-13 15:29:43.686639+00:00 │   -50 │    50 │     0 │   106 │\n",
      "│    3200 │ 2019-03-13 15:29:44.686592+00:00 │   -50 │    50 │     0 │    76 │\n",
      "│    3200 │ 2019-03-13 15:29:45.686654+00:00 │   -50 │    50 │     0 │    68 │\n",
      "│    3200 │ 2019-03-13 15:29:46.686785+00:00 │   -50 │    50 │     0 │   142 │\n",
      "│    3200 │ 2019-03-13 15:29:47.687715+00:00 │   -50 │    50 │     0 │   118 │\n",
      "│    3200 │ 2019-03-13 15:29:48.686671+00:00 │   -50 │    50 │     0 │   108 │\n",
      "│      ·  │                ·                 │     · │     · │     · │     · │\n",
      "│      ·  │                ·                 │     · │     · │     · │     · │\n",
      "│      ·  │                ·                 │     · │     · │     · │     · │\n",
      "│    3200 │ 2019-03-13 18:16:18.687651+00:00 │    85 │  2600 │     0 │    90 │\n",
      "│    3200 │ 2019-03-13 18:16:20.688145+00:00 │    91 │  2603 │     0 │    90 │\n",
      "│    3200 │ 2019-03-13 18:16:20.688157+00:00 │    81 │  2600 │     0 │    74 │\n",
      "│    3200 │ 2019-03-13 18:16:21.687772+00:00 │    84 │  2604 │     0 │    93 │\n",
      "│    3200 │ 2019-03-13 18:16:22.68769+00:00  │   100 │  2607 │     0 │    87 │\n",
      "│    3200 │ 2019-03-13 18:16:23.687961+00:00 │   105 │  2607 │     0 │    88 │\n",
      "│    3200 │ 2019-03-13 18:16:24.687727+00:00 │    91 │  2600 │     0 │    77 │\n",
      "│    3200 │ 2019-03-13 18:16:25.687547+00:00 │    80 │  2596 │     0 │    77 │\n",
      "│    3200 │ 2019-03-13 18:16:26.687789+00:00 │    74 │  2591 │     0 │    80 │\n",
      "│    3200 │ 2019-03-13 18:16:27.687683+00:00 │    72 │  2583 │     0 │    76 │\n",
      "├─────────┴──────────────────────────────────┴───────┴───────┴───────┴───────┤\n",
      "│ ? rows (>9999 rows, 20 shown)                                    6 columns │\n",
      "└────────────────────────────────────────────────────────────────────────────┘\n",
      "\n"
     ]
    }
   ],
   "source": [
    "import duckdb\n",
    "import pandas as pd\n",
    "duckdb_path = \"data/duckdb.database\" # Duckdb tietokannalle annettava nimi, tallentuu lokaalisti\n",
    "table_name = \"Bronze_SensorData\" # Tietokantataulu, josta luetaan, voi olla myös esim Bronze_SensorData_lite\n",
    "\n",
    "# Ota yhteys tietokantaa ja tarkista mitä dataa taulusta löytyy\n",
    "conn = duckdb.connect(database=duckdb_path)\n",
    "conn.table(table_name).show()\n",
    "conn.close()"
   ]
  },
  {
   "cell_type": "markdown",
   "id": "310c2415",
   "metadata": {},
   "source": [
    "Otetaan käyttöön Polars, koska sen avulla voidaan prosessoida isoja datamassoja nopeammin kuin Pandasilla.\n",
    "Lyhenti prosessointiaikoja merkittävästi."
   ]
  },
  {
   "cell_type": "code",
   "execution_count": 7,
   "id": "ce2aa2a1-562c-4c53-b5af-b34800e4cff9",
   "metadata": {},
   "outputs": [],
   "source": [
    "import duckdb\n",
    "import pandas as pd\n",
    "import polars as pl\n",
    "\n",
    "# Ota yhteys tietokantaa ja tarkista mitä dataa taulusta löytyy\n",
    "conn = duckdb.connect(database=duckdb_path)\n",
    "df = conn.sql(f\"SELECT * FROM {table_name}\").pl() # Tallenentaan taulun data Polars dataframeen\n",
    "conn.close()"
   ]
  },
  {
   "cell_type": "code",
   "execution_count": 8,
   "id": "bc23b1a7-7554-4075-936c-53c5de1c1593",
   "metadata": {},
   "outputs": [
    {
     "data": {
      "text/html": [
       "<div><style>\n",
       ".dataframe > thead > tr,\n",
       ".dataframe > tbody > tr {\n",
       "  text-align: right;\n",
       "  white-space: pre-wrap;\n",
       "}\n",
       "</style>\n",
       "<small>shape: (139_961_560, 6)</small><table border=\"1\" class=\"dataframe\"><thead><tr><th>node_id</th><th>timestamp</th><th>x</th><th>y</th><th>z</th><th>q</th></tr><tr><td>i32</td><td>str</td><td>i32</td><td>i32</td><td>i32</td><td>i32</td></tr></thead><tbody><tr><td>3200</td><td>&quot;2019-03-07 11:…</td><td>0</td><td>0</td><td>0</td><td>51</td></tr><tr><td>3200</td><td>&quot;2019-03-07 11:…</td><td>0</td><td>0</td><td>0</td><td>163</td></tr><tr><td>3200</td><td>&quot;2019-03-07 11:…</td><td>0</td><td>0</td><td>0</td><td>42</td></tr><tr><td>3200</td><td>&quot;2019-03-07 11:…</td><td>0</td><td>0</td><td>0</td><td>105</td></tr><tr><td>3200</td><td>&quot;2019-03-13 15:…</td><td>-50</td><td>50</td><td>0</td><td>106</td></tr><tr><td>&hellip;</td><td>&hellip;</td><td>&hellip;</td><td>&hellip;</td><td>&hellip;</td><td>&hellip;</td></tr><tr><td>54016</td><td>&quot;2020-01-23 13:…</td><td>949</td><td>3649</td><td>0</td><td>110</td></tr><tr><td>54016</td><td>&quot;2020-01-23 13:…</td><td>949</td><td>3649</td><td>0</td><td>110</td></tr><tr><td>54016</td><td>&quot;2020-01-23 13:…</td><td>949</td><td>3649</td><td>0</td><td>110</td></tr><tr><td>54016</td><td>&quot;2020-01-23 13:…</td><td>949</td><td>3649</td><td>0</td><td>23</td></tr><tr><td>64458</td><td>&quot;2019-12-30 08:…</td><td>-7125</td><td>-14064</td><td>0</td><td>74</td></tr></tbody></table></div>"
      ],
      "text/plain": [
       "shape: (139_961_560, 6)\n",
       "┌─────────┬──────────────────────────────────┬───────┬────────┬─────┬─────┐\n",
       "│ node_id ┆ timestamp                        ┆ x     ┆ y      ┆ z   ┆ q   │\n",
       "│ ---     ┆ ---                              ┆ ---   ┆ ---    ┆ --- ┆ --- │\n",
       "│ i32     ┆ str                              ┆ i32   ┆ i32    ┆ i32 ┆ i32 │\n",
       "╞═════════╪══════════════════════════════════╪═══════╪════════╪═════╪═════╡\n",
       "│ 3200    ┆ 2019-03-07 11:46:19.078016+00:00 ┆ 0     ┆ 0      ┆ 0   ┆ 51  │\n",
       "│ 3200    ┆ 2019-03-07 11:46:20.078012+00:00 ┆ 0     ┆ 0      ┆ 0   ┆ 163 │\n",
       "│ 3200    ┆ 2019-03-07 11:46:21.078081+00:00 ┆ 0     ┆ 0      ┆ 0   ┆ 42  │\n",
       "│ 3200    ┆ 2019-03-07 11:46:22.07813+00:00  ┆ 0     ┆ 0      ┆ 0   ┆ 105 │\n",
       "│ 3200    ┆ 2019-03-13 15:29:43.686639+00:00 ┆ -50   ┆ 50     ┆ 0   ┆ 106 │\n",
       "│ …       ┆ …                                ┆ …     ┆ …      ┆ …   ┆ …   │\n",
       "│ 54016   ┆ 2020-01-23 13:07:24.478952+00:00 ┆ 949   ┆ 3649   ┆ 0   ┆ 110 │\n",
       "│ 54016   ┆ 2020-01-23 13:07:25.479218+00:00 ┆ 949   ┆ 3649   ┆ 0   ┆ 110 │\n",
       "│ 54016   ┆ 2020-01-23 13:07:25.479252+00:00 ┆ 949   ┆ 3649   ┆ 0   ┆ 110 │\n",
       "│ 54016   ┆ 2020-01-23 13:07:26.478974+00:00 ┆ 949   ┆ 3649   ┆ 0   ┆ 23  │\n",
       "│ 64458   ┆ 2019-12-30 08:17:57.471818+00:00 ┆ -7125 ┆ -14064 ┆ 0   ┆ 74  │\n",
       "└─────────┴──────────────────────────────────┴───────┴────────┴─────┴─────┘"
      ]
     },
     "execution_count": 8,
     "metadata": {},
     "output_type": "execute_result"
    }
   ],
   "source": [
    "df"
   ]
  },
  {
   "cell_type": "code",
   "execution_count": 9,
   "id": "eceaff8c",
   "metadata": {
    "jupyter": {
     "source_hidden": true
    }
   },
   "outputs": [
    {
     "name": "stderr",
     "output_type": "stream",
     "text": [
      "C:\\Users\\jonik\\AppData\\Local\\Temp\\ipykernel_1844\\992959508.py:3: DeprecationWarning: named `columns` param is deprecated; use positional `*args` instead.\n",
      "  df = df.drop(columns=['z', 'q'])\n"
     ]
    },
    {
     "name": "stdout",
     "output_type": "stream",
     "text": [
      "shape: (9, 5)\n",
      "┌────────────┬──────────────┬──────────────────────────────────┬─────────────┬─────────────┐\n",
      "│ statistic  ┆ node_id      ┆ timestamp                        ┆ x           ┆ y           │\n",
      "│ ---        ┆ ---          ┆ ---                              ┆ ---         ┆ ---         │\n",
      "│ str        ┆ f64          ┆ str                              ┆ f64         ┆ f64         │\n",
      "╞════════════╪══════════════╪══════════════════════════════════╪═════════════╪═════════════╡\n",
      "│ count      ┆ 1.3996156e8  ┆ 139961560                        ┆ 1.3996156e8 ┆ 1.3996156e8 │\n",
      "│ null_count ┆ 0.0          ┆ 0                                ┆ 0.0         ┆ 0.0         │\n",
      "│ mean       ┆ 45784.672629 ┆ null                             ┆ 799.907906  ┆ 2587.673834 │\n",
      "│ std        ┆ 16863.539458 ┆ null                             ┆ 2339.921248 ┆ 1329.330248 │\n",
      "│ min        ┆ 3200.0       ┆ 2019-03-06 15:26:12.078161+00:00 ┆ -32818.0    ┆ -32718.0    │\n",
      "│ 25%        ┆ 51751.0      ┆ null                             ┆ 41.0        ┆ 2440.0      │\n",
      "│ 50%        ┆ 51976.0      ┆ null                             ┆ 146.0       ┆ 2516.0      │\n",
      "│ 75%        ┆ 52535.0      ┆ null                             ┆ 758.0       ┆ 2642.0      │\n",
      "│ max        ┆ 64458.0      ┆ 2020-01-23 13:07:26.478974+00:00 ┆ 32717.0     ┆ 32817.0     │\n",
      "└────────────┴──────────────┴──────────────────────────────────┴─────────────┴─────────────┘\n"
     ]
    }
   ],
   "source": [
    "# Tässä prosessoinnin vaiheessa poistetaan Z & Q sarakkeet\n",
    "\n",
    "df = df.drop(columns=['z', 'q'])\n",
    "print(df.describe())\n",
    "#df.info(verbose=True)"
   ]
  },
  {
   "cell_type": "code",
   "execution_count": 10,
   "id": "43c39c7f",
   "metadata": {},
   "outputs": [
    {
     "name": "stderr",
     "output_type": "stream",
     "text": [
      "C:\\Users\\jonik\\AppData\\Local\\Temp\\ipykernel_1844\\1218542018.py:3: ChronoFormatWarning: Detected the pattern `.%f` in the chrono format string. This pattern should not be used to parse values after a decimal point. Use `%.f` instead. See the full specification: https://docs.rs/chrono/latest/chrono/format/strftime\n",
      "  pl.col(\"timestamp\").str.to_datetime(\"%Y-%m-%d %H:%M:%S.%f%z\").alias(\"timestamp\")\n"
     ]
    },
    {
     "data": {
      "text/html": [
       "<div><style>\n",
       ".dataframe > thead > tr,\n",
       ".dataframe > tbody > tr {\n",
       "  text-align: right;\n",
       "  white-space: pre-wrap;\n",
       "}\n",
       "</style>\n",
       "<small>shape: (139_961_560, 4)</small><table border=\"1\" class=\"dataframe\"><thead><tr><th>node_id</th><th>timestamp</th><th>x</th><th>y</th></tr><tr><td>i32</td><td>datetime[ns, UTC]</td><td>i32</td><td>i32</td></tr></thead><tbody><tr><td>3200</td><td>2019-03-07 11:46:19.000078016 UTC</td><td>0</td><td>0</td></tr><tr><td>3200</td><td>2019-03-07 11:46:20.000078012 UTC</td><td>0</td><td>0</td></tr><tr><td>3200</td><td>2019-03-07 11:46:21.000078081 UTC</td><td>0</td><td>0</td></tr><tr><td>3200</td><td>2019-03-07 11:46:22.000007813 UTC</td><td>0</td><td>0</td></tr><tr><td>3200</td><td>2019-03-13 15:29:43.000686639 UTC</td><td>-50</td><td>50</td></tr><tr><td>&hellip;</td><td>&hellip;</td><td>&hellip;</td><td>&hellip;</td></tr><tr><td>54016</td><td>2020-01-23 13:07:24.000478952 UTC</td><td>949</td><td>3649</td></tr><tr><td>54016</td><td>2020-01-23 13:07:25.000479218 UTC</td><td>949</td><td>3649</td></tr><tr><td>54016</td><td>2020-01-23 13:07:25.000479252 UTC</td><td>949</td><td>3649</td></tr><tr><td>54016</td><td>2020-01-23 13:07:26.000478974 UTC</td><td>949</td><td>3649</td></tr><tr><td>64458</td><td>2019-12-30 08:17:57.000471818 UTC</td><td>-7125</td><td>-14064</td></tr></tbody></table></div>"
      ],
      "text/plain": [
       "shape: (139_961_560, 4)\n",
       "┌─────────┬───────────────────────────────────┬───────┬────────┐\n",
       "│ node_id ┆ timestamp                         ┆ x     ┆ y      │\n",
       "│ ---     ┆ ---                               ┆ ---   ┆ ---    │\n",
       "│ i32     ┆ datetime[ns, UTC]                 ┆ i32   ┆ i32    │\n",
       "╞═════════╪═══════════════════════════════════╪═══════╪════════╡\n",
       "│ 3200    ┆ 2019-03-07 11:46:19.000078016 UT… ┆ 0     ┆ 0      │\n",
       "│ 3200    ┆ 2019-03-07 11:46:20.000078012 UT… ┆ 0     ┆ 0      │\n",
       "│ 3200    ┆ 2019-03-07 11:46:21.000078081 UT… ┆ 0     ┆ 0      │\n",
       "│ 3200    ┆ 2019-03-07 11:46:22.000007813 UT… ┆ 0     ┆ 0      │\n",
       "│ 3200    ┆ 2019-03-13 15:29:43.000686639 UT… ┆ -50   ┆ 50     │\n",
       "│ …       ┆ …                                 ┆ …     ┆ …      │\n",
       "│ 54016   ┆ 2020-01-23 13:07:24.000478952 UT… ┆ 949   ┆ 3649   │\n",
       "│ 54016   ┆ 2020-01-23 13:07:25.000479218 UT… ┆ 949   ┆ 3649   │\n",
       "│ 54016   ┆ 2020-01-23 13:07:25.000479252 UT… ┆ 949   ┆ 3649   │\n",
       "│ 54016   ┆ 2020-01-23 13:07:26.000478974 UT… ┆ 949   ┆ 3649   │\n",
       "│ 64458   ┆ 2019-12-30 08:17:57.000471818 UT… ┆ -7125 ┆ -14064 │\n",
       "└─────────┴───────────────────────────────────┴───────┴────────┘"
      ]
     },
     "execution_count": 10,
     "metadata": {},
     "output_type": "execute_result"
    }
   ],
   "source": [
    "# Tässä prosessoinnin vaiheessa laitetaan oikea tietotyyppi timestamp sarakkeelle (datetime)\n",
    "df = df.with_columns(\n",
    "    pl.col(\"timestamp\").str.to_datetime(\"%Y-%m-%d %H:%M:%S.%f%z\").alias(\"timestamp\")\n",
    ")\n",
    "df"
   ]
  },
  {
   "cell_type": "code",
   "execution_count": 11,
   "id": "4f4ec7a9",
   "metadata": {},
   "outputs": [
    {
     "name": "stdout",
     "output_type": "stream",
     "text": [
      "Count of removed rows: 59491794\n"
     ]
    },
    {
     "data": {
      "text/html": [
       "<div><style>\n",
       ".dataframe > thead > tr,\n",
       ".dataframe > tbody > tr {\n",
       "  text-align: right;\n",
       "  white-space: pre-wrap;\n",
       "}\n",
       "</style>\n",
       "<small>shape: (1, 4)</small><table border=\"1\" class=\"dataframe\"><thead><tr><th>node_id</th><th>timestamp</th><th>x</th><th>y</th></tr><tr><td>u32</td><td>u32</td><td>u32</td><td>u32</td></tr></thead><tbody><tr><td>80469766</td><td>80469766</td><td>80469766</td><td>80469766</td></tr></tbody></table></div>"
      ],
      "text/plain": [
       "shape: (1, 4)\n",
       "┌──────────┬───────────┬──────────┬──────────┐\n",
       "│ node_id  ┆ timestamp ┆ x        ┆ y        │\n",
       "│ ---      ┆ ---       ┆ ---      ┆ ---      │\n",
       "│ u32      ┆ u32       ┆ u32      ┆ u32      │\n",
       "╞══════════╪═══════════╪══════════╪══════════╡\n",
       "│ 80469766 ┆ 80469766  ┆ 80469766 ┆ 80469766 │\n",
       "└──────────┴───────────┴──────────┴──────────┘"
      ]
     },
     "execution_count": 11,
     "metadata": {},
     "output_type": "execute_result"
    }
   ],
   "source": [
    "# Filteröidään ajan mukaan, poistetaan rivit joissa kärryä on liikuteltu kaupan oletettujen aukioloaikojen ulkopuolella\n",
    "from datetime import time\n",
    "\n",
    "# Filteröidään aukioloajat kello 8:00 - 21:00\n",
    "# Tässä voisi ehkä erikseen filteröidä vklp aukioloaikoja tai kovakoodata pyhäpäiviä tms?\n",
    "start_time = time(8, 0)\n",
    "end_time = time(21, 0)\n",
    "\n",
    "\n",
    "filtered_df = df.filter(\n",
    "    pl.col(\"timestamp\").cast(pl.Time).is_between(start_time, end_time)\n",
    ")\n",
    "\n",
    "# Montako riviä poistuu filteröintien ansiosta\n",
    "filtered_count = df[\"timestamp\"].count() - filtered_df[\"timestamp\"].count()\n",
    "# Print the count of removed rows\n",
    "print(\"Count of removed rows:\", filtered_count)\n",
    "\n",
    "df = filtered_df\n",
    "df.count()"
   ]
  },
  {
   "cell_type": "code",
   "execution_count": 12,
   "id": "6d9456c5",
   "metadata": {},
   "outputs": [
    {
     "data": {
      "text/plain": [
       "'\\nimport numpy as np\\ndf = df.to_pandas()\\nnodes = df[\"node_id\"].unique().tolist()\\nprint(\"Saatavilla olevat Node_id:t\", nodes)\\nprocessed = pd.DataFrame() #Alustetaan tyhjä dataframe\\nfor node in nodes: #Loopataan kaikki nodet yksikerrallaan läpi\\n    print(f\"Prosessoinnissa: {node}\")\\n    chunk = df[df[\"node_id\"] == node]\\n    row_count = chunk.shape[0]\\n    chunk[\\'previous_x\\'] = chunk[\\'x\\'].shift(1) # Lisätään edeltävän X:n sijainti\\n    chunk[\\'previous_y\\'] = chunk[\\'y\\'].shift(1) # Sama Y:lle\\n    chunk[\\'distance\\'] = np.around(np.sqrt((chunk[\\'x\\'] - chunk[\\'previous_x\\'])**2 + (chunk[\\'y\\'] - chunk[\\'previous_y\\'])**2), 3) # Kahden pisteen euro on euclidean distancen kaavalla laskettavissa (pyöristetään kolmen tarkkuuteen)\\n    chunk = chunk[chunk[\"distance\"] <= 500] # Poistetaan sarakkeet, joissa edeltävän tarkastus jakson etäisyys on yli 500cm\\n    chunk[\\'timedelta\\'] = df[\"timestamp\"].diff() / np.timedelta64(1, \\'s\\') # Jaetaan timedelta sekunneilla, jotta saadaan aikaero kahden mittauspisteen välillä sekunneissa\\n    chunk[\\'speed\\'] = chunk[\\'distance\\'] / chunk[\\'timedelta\\'] # Tällä hetkellä cm/s (1cm/s on 0.036 km/h) X tai Y-akselin muutos yhdellä on 1 cm\\n    chunk[\\'speed\\'] = chunk[\\'speed\\'] * 0.036 # Konversio cm/s -> km/h\\n    chunk = chunk[(chunk[\"speed\"] > -8) & (chunk[\"speed\"] < 8)]  # maksimivauhti 8km/h -8km/h olisi taaksepäin?\\n    processed = pd.concat([processed, chunk])\\n    print(f\"Rivejä poistettu {row_count - chunk.shape[0]}\")\\n    print(f\"{node} prosessoitu.\")\\n\\n'"
      ]
     },
     "execution_count": 12,
     "metadata": {},
     "output_type": "execute_result"
    }
   ],
   "source": [
    "# NodeID-kohtainen prosessointi tehty pandasilla\n",
    "\"\"\"\n",
    "import numpy as np\n",
    "df = df.to_pandas()\n",
    "nodes = df[\"node_id\"].unique().tolist()\n",
    "print(\"Saatavilla olevat Node_id:t\", nodes)\n",
    "processed = pd.DataFrame() #Alustetaan tyhjä dataframe\n",
    "for node in nodes: #Loopataan kaikki nodet yksikerrallaan läpi\n",
    "    print(f\"Prosessoinnissa: {node}\")\n",
    "    chunk = df[df[\"node_id\"] == node]\n",
    "    row_count = chunk.shape[0]\n",
    "    chunk['previous_x'] = chunk['x'].shift(1) # Lisätään edeltävän X:n sijainti\n",
    "    chunk['previous_y'] = chunk['y'].shift(1) # Sama Y:lle\n",
    "    chunk['distance'] = np.around(np.sqrt((chunk['x'] - chunk['previous_x'])**2 + (chunk['y'] - chunk['previous_y'])**2), 3) # Kahden pisteen euro on euclidean distancen kaavalla laskettavissa (pyöristetään kolmen tarkkuuteen)\n",
    "    chunk = chunk[chunk[\"distance\"] <= 500] # Poistetaan sarakkeet, joissa edeltävän tarkastus jakson etäisyys on yli 500cm\n",
    "    chunk['timedelta'] = df[\"timestamp\"].diff() / np.timedelta64(1, 's') # Jaetaan timedelta sekunneilla, jotta saadaan aikaero kahden mittauspisteen välillä sekunneissa\n",
    "    chunk['speed'] = chunk['distance'] / chunk['timedelta'] # Tällä hetkellä cm/s (1cm/s on 0.036 km/h) X tai Y-akselin muutos yhdellä on 1 cm\n",
    "    chunk['speed'] = chunk['speed'] * 0.036 # Konversio cm/s -> km/h\n",
    "    chunk = chunk[(chunk[\"speed\"] > -8) & (chunk[\"speed\"] < 8)]  # maksimivauhti 8km/h -8km/h olisi taaksepäin?\n",
    "    processed = pd.concat([processed, chunk])\n",
    "    print(f\"Rivejä poistettu {row_count - chunk.shape[0]}\")\n",
    "    print(f\"{node} prosessoitu.\")\n",
    "\n",
    "\"\"\""
   ]
  },
  {
   "cell_type": "code",
   "execution_count": 13,
   "id": "df10f03c",
   "metadata": {},
   "outputs": [
    {
     "name": "stdout",
     "output_type": "stream",
     "text": [
      "Saatavilla olevat Node_id:t [3200, 3224, 3240, 42787, 45300, 51719, 51720, 51735, 51751, 51850, 51866, 51889, 51968, 51976, 51992, 52003, 52008, 52023, 52099, 52535, 53000, 53011, 53027, 53130, 53768, 53795, 53888, 53924, 53936, 54016, 64458]\n",
      "Processing: 3200\n",
      "Rows removed 1923861\n",
      "3200 processed.\n",
      "Processing: 3224\n",
      "Rows removed 1867849\n",
      "3224 processed.\n",
      "Processing: 3240\n",
      "Rows removed 1821865\n",
      "3240 processed.\n",
      "Processing: 42787\n",
      "Rows removed 4\n",
      "42787 processed.\n",
      "Processing: 45300\n",
      "Rows removed 1\n",
      "45300 processed.\n",
      "Processing: 51719\n",
      "Rows removed 2882624\n",
      "51719 processed.\n",
      "Processing: 51720\n",
      "Rows removed 20\n",
      "51720 processed.\n",
      "Processing: 51735\n",
      "Rows removed 1513570\n",
      "51735 processed.\n",
      "Processing: 51751\n",
      "Rows removed 2316200\n",
      "51751 processed.\n",
      "Processing: 51850\n",
      "Rows removed 2170013\n",
      "51850 processed.\n",
      "Processing: 51866\n",
      "Rows removed 1692369\n",
      "51866 processed.\n",
      "Processing: 51889\n",
      "Rows removed 1469845\n",
      "51889 processed.\n",
      "Processing: 51968\n",
      "Rows removed 1172463\n",
      "51968 processed.\n",
      "Processing: 51976\n",
      "Rows removed 2261510\n",
      "51976 processed.\n",
      "Processing: 51992\n",
      "Rows removed 2135769\n",
      "51992 processed.\n",
      "Processing: 52003\n",
      "Rows removed 2063159\n",
      "52003 processed.\n",
      "Processing: 52008\n",
      "Rows removed 21\n",
      "52008 processed.\n",
      "Processing: 52023\n",
      "Rows removed 1822551\n",
      "52023 processed.\n",
      "Processing: 52099\n",
      "Rows removed 1595002\n",
      "52099 processed.\n",
      "Processing: 52535\n",
      "Rows removed 2600597\n",
      "52535 processed.\n",
      "Processing: 53000\n",
      "Rows removed 36\n",
      "53000 processed.\n",
      "Processing: 53011\n",
      "Rows removed 1869243\n",
      "53011 processed.\n",
      "Processing: 53027\n",
      "Rows removed 45\n",
      "53027 processed.\n",
      "Processing: 53130\n",
      "Rows removed 1166120\n",
      "53130 processed.\n",
      "Processing: 53768\n",
      "Rows removed 41\n",
      "53768 processed.\n",
      "Processing: 53795\n",
      "Rows removed 82\n",
      "53795 processed.\n",
      "Processing: 53888\n",
      "Rows removed 69\n",
      "53888 processed.\n",
      "Processing: 53924\n",
      "Rows removed 2112726\n",
      "53924 processed.\n",
      "Processing: 53936\n",
      "Rows removed 2445518\n",
      "53936 processed.\n",
      "Processing: 54016\n",
      "Rows removed 2588919\n",
      "54016 processed.\n",
      "Processing: 64458\n",
      "Rows removed 1\n",
      "64458 processed.\n"
     ]
    }
   ],
   "source": [
    "# NodeID kohtainen prosessointi polarsilla (PALJON nopeampi)\n",
    "processed = pl.DataFrame() #Alustetaan tyhjä dataframe, tähän kootaan nodet takaisin\n",
    "nodes = df[\"node_id\"].unique().to_list()\n",
    "print(\"Saatavilla olevat Node_id:t\", nodes)\n",
    "for node in nodes: #Loopataan kaikki nodet yksikerrallaan läpi\n",
    "    print(f\"Processing: {node}\")\n",
    "    chunk = df.filter(pl.col(\"node_id\") == node)\n",
    "    row_count = chunk.shape[0]\n",
    "    chunk = chunk.with_columns(pl.col(\"x\").shift(1).alias(\"previous_x\")) # Lisätään edeltävän X:n sijainti katsomalla edeltävä rivi\n",
    "    chunk = chunk.with_columns(pl.col(\"y\").shift(1).alias(\"previous_y\")) # Sama Y:lle\n",
    "    chunk = chunk.with_columns(((pl.col(\"x\") - pl.col(\"previous_x\"))**2 + (pl.col(\"y\") - pl.col(\"previous_y\"))**2).sqrt().round(3).alias(\"distance\")) # Kahden pisteen euro on euclidean distancen kaavalla laskettavissa (pyöristetään kolmen tarkkuuteen)\n",
    "    chunk = chunk.filter(pl.col(\"distance\") <= 500) # Poistetaan sarakkeet, joissa edeltävän tarkastus jakson etäisyys on yli 500cm\n",
    "    chunk = chunk.with_columns(chunk['timestamp'].diff().dt.total_seconds().alias('timedelta')) # Lasketaan aikaero edeltävän mittauspisteen välillä sekunneissa (timedelta)\n",
    "    chunk = chunk.with_columns((pl.col(\"distance\") / pl.col(\"timedelta\") * 0.036).alias(\"speed\")) # Tällä hetkellä yksikkö on cm/s (1cm/s on 0.036 km/h) X tai Y-akselin muutos yhdellä pisteellä on 1 cm, samalla tehdään konversio cm/s -> km/h\n",
    "    chunk = chunk.filter((pl.col(\"speed\") > -8) & (pl.col(\"speed\") < 8)) # maksimivauhti 8km/h -8km/h olisi taaksepäin?\n",
    "    processed = processed.vstack(chunk) #yhdistetään nodet yhdeksi dataframeksi takaisin\n",
    "    print(f\"Rows removed {row_count - chunk.shape[0]}\")\n",
    "    print(f\"{node} processed.\")\n",
    "\n",
    "df = processed # Assignataan takaisin df"
   ]
  },
  {
   "cell_type": "code",
   "execution_count": 14,
   "id": "21dd39d0",
   "metadata": {},
   "outputs": [
    {
     "data": {
      "text/html": [
       "<div><style>\n",
       ".dataframe > thead > tr,\n",
       ".dataframe > tbody > tr {\n",
       "  text-align: right;\n",
       "  white-space: pre-wrap;\n",
       "}\n",
       "</style>\n",
       "<small>shape: (9, 10)</small><table border=\"1\" class=\"dataframe\"><thead><tr><th>statistic</th><th>node_id</th><th>timestamp</th><th>x</th><th>y</th><th>previous_x</th><th>previous_y</th><th>distance</th><th>timedelta</th><th>speed</th></tr><tr><td>str</td><td>f64</td><td>str</td><td>f64</td><td>f64</td><td>f64</td><td>f64</td><td>f64</td><td>f64</td><td>f64</td></tr></thead><tbody><tr><td>&quot;count&quot;</td><td>3.8977673e7</td><td>&quot;38977673&quot;</td><td>3.8977673e7</td><td>3.8977673e7</td><td>3.8977673e7</td><td>3.8977673e7</td><td>3.8977673e7</td><td>3.8977673e7</td><td>3.8977673e7</td></tr><tr><td>&quot;null_count&quot;</td><td>0.0</td><td>&quot;0&quot;</td><td>0.0</td><td>0.0</td><td>0.0</td><td>0.0</td><td>0.0</td><td>0.0</td><td>0.0</td></tr><tr><td>&quot;mean&quot;</td><td>45725.863894</td><td>&quot;2019-08-26 12:…</td><td>1097.372806</td><td>2530.350378</td><td>1096.104358</td><td>2530.130476</td><td>34.258268</td><td>17.802699</td><td>1.100875</td></tr><tr><td>&quot;std&quot;</td><td>16916.293188</td><td>null</td><td>2596.217318</td><td>1233.736576</td><td>2596.576098</td><td>1232.745829</td><td>42.231024</td><td>6320.237774</td><td>1.263474</td></tr><tr><td>&quot;min&quot;</td><td>3200.0</td><td>&quot;2019-03-06 15:…</td><td>-32818.0</td><td>-32718.0</td><td>-32818.0</td><td>-32718.0</td><td>0.0</td><td>1.0</td><td>0.0</td></tr><tr><td>&quot;25%&quot;</td><td>51751.0</td><td>&quot;2019-06-08 12:…</td><td>46.0</td><td>2424.0</td><td>39.0</td><td>2421.0</td><td>5.385</td><td>1.0</td><td>0.18</td></tr><tr><td>&quot;50%&quot;</td><td>51976.0</td><td>&quot;2019-09-03 19:…</td><td>154.0</td><td>2510.0</td><td>154.0</td><td>2510.0</td><td>20.591</td><td>1.0</td><td>0.66186</td></tr><tr><td>&quot;75%&quot;</td><td>52535.0</td><td>&quot;2019-11-11 15:…</td><td>950.0</td><td>2645.0</td><td>950.0</td><td>2646.0</td><td>48.27</td><td>1.0</td><td>1.591344</td></tr><tr><td>&quot;max&quot;</td><td>54016.0</td><td>&quot;2020-01-23 13:…</td><td>32717.0</td><td>32817.0</td><td>32717.0</td><td>32817.0</td><td>500.0</td><td>2.0975658e7</td><td>7.9992</td></tr></tbody></table></div>"
      ],
      "text/plain": [
       "shape: (9, 10)\n",
       "┌───────────┬───────────┬───────────┬───────────┬───┬───────────┬───────────┬───────────┬──────────┐\n",
       "│ statistic ┆ node_id   ┆ timestamp ┆ x         ┆ … ┆ previous_ ┆ distance  ┆ timedelta ┆ speed    │\n",
       "│ ---       ┆ ---       ┆ ---       ┆ ---       ┆   ┆ y         ┆ ---       ┆ ---       ┆ ---      │\n",
       "│ str       ┆ f64       ┆ str       ┆ f64       ┆   ┆ ---       ┆ f64       ┆ f64       ┆ f64      │\n",
       "│           ┆           ┆           ┆           ┆   ┆ f64       ┆           ┆           ┆          │\n",
       "╞═══════════╪═══════════╪═══════════╪═══════════╪═══╪═══════════╪═══════════╪═══════════╪══════════╡\n",
       "│ count     ┆ 3.8977673 ┆ 38977673  ┆ 3.8977673 ┆ … ┆ 3.8977673 ┆ 3.8977673 ┆ 3.8977673 ┆ 3.897767 │\n",
       "│           ┆ e7        ┆           ┆ e7        ┆   ┆ e7        ┆ e7        ┆ e7        ┆ 3e7      │\n",
       "│ null_coun ┆ 0.0       ┆ 0         ┆ 0.0       ┆ … ┆ 0.0       ┆ 0.0       ┆ 0.0       ┆ 0.0      │\n",
       "│ t         ┆           ┆           ┆           ┆   ┆           ┆           ┆           ┆          │\n",
       "│ mean      ┆ 45725.863 ┆ 2019-08-2 ┆ 1097.3728 ┆ … ┆ 2530.1304 ┆ 34.258268 ┆ 17.802699 ┆ 1.100875 │\n",
       "│           ┆ 894       ┆ 6 12:33:0 ┆ 06        ┆   ┆ 76        ┆           ┆           ┆          │\n",
       "│           ┆           ┆ 3.737428+ ┆           ┆   ┆           ┆           ┆           ┆          │\n",
       "│           ┆           ┆ 00:00     ┆           ┆   ┆           ┆           ┆           ┆          │\n",
       "│ std       ┆ 16916.293 ┆ null      ┆ 2596.2173 ┆ … ┆ 1232.7458 ┆ 42.231024 ┆ 6320.2377 ┆ 1.263474 │\n",
       "│           ┆ 188       ┆           ┆ 18        ┆   ┆ 29        ┆           ┆ 74        ┆          │\n",
       "│ min       ┆ 3200.0    ┆ 2019-03-0 ┆ -32818.0  ┆ … ┆ -32718.0  ┆ 0.0       ┆ 1.0       ┆ 0.0      │\n",
       "│           ┆           ┆ 6 15:26:1 ┆           ┆   ┆           ┆           ┆           ┆          │\n",
       "│           ┆           ┆ 4.000079+ ┆           ┆   ┆           ┆           ┆           ┆          │\n",
       "│           ┆           ┆ 00:00     ┆           ┆   ┆           ┆           ┆           ┆          │\n",
       "│ 25%       ┆ 51751.0   ┆ 2019-06-0 ┆ 46.0      ┆ … ┆ 2421.0    ┆ 5.385     ┆ 1.0       ┆ 0.18     │\n",
       "│           ┆           ┆ 8 12:47:2 ┆           ┆   ┆           ┆           ┆           ┆          │\n",
       "│           ┆           ┆ 6.000989+ ┆           ┆   ┆           ┆           ┆           ┆          │\n",
       "│           ┆           ┆ 00:00     ┆           ┆   ┆           ┆           ┆           ┆          │\n",
       "│ 50%       ┆ 51976.0   ┆ 2019-09-0 ┆ 154.0     ┆ … ┆ 2510.0    ┆ 20.591    ┆ 1.0       ┆ 0.66186  │\n",
       "│           ┆           ┆ 3 19:33:3 ┆           ┆   ┆           ┆           ┆           ┆          │\n",
       "│           ┆           ┆ 0.000612+ ┆           ┆   ┆           ┆           ┆           ┆          │\n",
       "│           ┆           ┆ 00:00     ┆           ┆   ┆           ┆           ┆           ┆          │\n",
       "│ 75%       ┆ 52535.0   ┆ 2019-11-1 ┆ 950.0     ┆ … ┆ 2646.0    ┆ 48.27     ┆ 1.0       ┆ 1.591344 │\n",
       "│           ┆           ┆ 1 15:20:2 ┆           ┆   ┆           ┆           ┆           ┆          │\n",
       "│           ┆           ┆ 1.000471+ ┆           ┆   ┆           ┆           ┆           ┆          │\n",
       "│           ┆           ┆ 00:00     ┆           ┆   ┆           ┆           ┆           ┆          │\n",
       "│ max       ┆ 54016.0   ┆ 2020-01-2 ┆ 32717.0   ┆ … ┆ 32817.0   ┆ 500.0     ┆ 2.0975658 ┆ 7.9992   │\n",
       "│           ┆           ┆ 3 13:07:2 ┆           ┆   ┆           ┆           ┆ e7        ┆          │\n",
       "│           ┆           ┆ 5.000479+ ┆           ┆   ┆           ┆           ┆           ┆          │\n",
       "│           ┆           ┆ 00:00     ┆           ┆   ┆           ┆           ┆           ┆          │\n",
       "└───────────┴───────────┴───────────┴───────────┴───┴───────────┴───────────┴───────────┴──────────┘"
      ]
     },
     "execution_count": 14,
     "metadata": {},
     "output_type": "execute_result"
    }
   ],
   "source": [
    "df.describe()"
   ]
  },
  {
   "cell_type": "markdown",
   "id": "5996653e",
   "metadata": {},
   "source": [
    "Skaalauksien selvittäminen\n",
    "- Kuvan koko oli \"pixel size (1280, 617)\"\n",
    "- Otin datasetistä pienen samplen 250 000 riviä\n",
    "- Plottasin kauppa.jpg:n päälle\n",
    "- X:n suurin sallittu arvo kuvaajalla oli kun, X-akseli oli 1250 \"pikselin\" kohdalla, joten  X:n arvo kohdassa 1250 = x max  + x_offset\n",
    "- Y:n suurin sallittu arvo kuvaajalla oli kun, Y- akseli oli 593 \"pikselin\" kohdalla, joten Y:n arvo kohdassa 593 = y max + y_offset\n",
    "- Filteröitävät alueet piirsin kaupa:n kuvan päälle, siitä sai selvitettyä oikealla olevat kulmaukset."
   ]
  },
  {
   "cell_type": "code",
   "execution_count": 15,
   "id": "34d44060",
   "metadata": {},
   "outputs": [],
   "source": [
    "x_offset = 125  # x offset\n",
    "y_offset = 26   # y offset\n",
    "x_max = 1125;  # node_x_max = 10406\n",
    "y_max = 567;  # node_y_max = 5220\n",
    "x_scale = x_max/10406\n",
    "y_scale = y_max/5220\n",
    "\n",
    "\"\"\" \n",
    "Tiedetään, että halutaan filteröidä oikeasta yläreunasta ja oikeasta alareunasta kulma-alueet pois.\n",
    "Oikean alareunan koordinaatit on (x1,y1) = (1200,530) & (x2,y2) = (1250, 600)\n",
    "Oikean yläreunan vastaavat (x1,y2) = (1030,26) & (x2,y2) = (1250, 90)\n",
    "Alueiden koordinaatit on katsottu kuvaajaan piirtämällä\n",
    "\"\"\"\n",
    "# Lisätään skaalatut x ja y-sarakkeet\n",
    "df = df.with_columns(\n",
    "    x_scaled = pl.lit(df['x'] * x_scale + x_offset),\n",
    "    y_scaled = pl.lit(df['y'] * y_scale + y_offset),\n",
    ")\n",
    "\n",
    "# Filteröidään X-akselin ja Y-akselin ylimenevät\n",
    "filtered_df = df.filter(\n",
    "    (pl.col(\"x_scaled\") > 125) &\n",
    "    (pl.col(\"y_scaled\") > 26)\n",
    ")\n",
    "\n",
    "filtered_df = filtered_df.filter(\n",
    "    (pl.col(\"x_scaled\") < 1250) &\n",
    "    (pl.col(\"y_scaled\") < 593)\n",
    ")\n",
    "\n",
    "# Filteröidään oikea yläreuna\n",
    "filtered_df = filtered_df.filter(\n",
    "    (pl.col(\"x_scaled\") <= 1200) &\n",
    "    (pl.col(\"y_scaled\") > 90)\n",
    ")\n",
    "\n",
    "\"\"\"\n",
    "Filteröidään oikea alareuna \n",
    "(X-akseli ei saa olla välilä 1200 - 1250\n",
    "Y-akseli ei saa olla välillä 530-600 \"~\"-merkki tekee negaation, eli \"ei saa olla suurempaa kuin 530 tai alle 600\")\n",
    "\"\"\"\n",
    "filtered_df = filtered_df.filter(~((pl.col(\"x_scaled\") > 1200) & (pl.col(\"x_scaled\") < 1250)) | ~((pl.col(\"y_scaled\") > 530) & (pl.col(\"y_scaled\") < 600)))\n",
    "\n",
    "\n",
    "# TODO: Tehdäänkö lisää alueellisia filteröintejä?"
   ]
  },
  {
   "cell_type": "code",
   "execution_count": 16,
   "id": "418a383d",
   "metadata": {},
   "outputs": [
    {
     "data": {
      "text/html": [
       "<div><style>\n",
       ".dataframe > thead > tr,\n",
       ".dataframe > tbody > tr {\n",
       "  text-align: right;\n",
       "  white-space: pre-wrap;\n",
       "}\n",
       "</style>\n",
       "<small>shape: (38_977_673, 11)</small><table border=\"1\" class=\"dataframe\"><thead><tr><th>node_id</th><th>timestamp</th><th>x</th><th>y</th><th>previous_x</th><th>previous_y</th><th>distance</th><th>timedelta</th><th>speed</th><th>x_scaled</th><th>y_scaled</th></tr><tr><td>i32</td><td>datetime[ns, UTC]</td><td>i32</td><td>i32</td><td>i32</td><td>i32</td><td>f64</td><td>i64</td><td>f64</td><td>f64</td><td>f64</td></tr></thead><tbody><tr><td>3200</td><td>2019-03-07 11:46:21.000078081 UTC</td><td>0</td><td>0</td><td>0</td><td>0</td><td>0.0</td><td>1</td><td>0.0</td><td>125.0</td><td>26.0</td></tr><tr><td>3200</td><td>2019-03-13 15:29:43.000686639 UTC</td><td>-50</td><td>50</td><td>0</td><td>0</td><td>70.711</td><td>531801</td><td>0.000005</td><td>119.594465</td><td>31.431034</td></tr><tr><td>3200</td><td>2019-03-13 15:29:45.000686654 UTC</td><td>-50</td><td>50</td><td>-50</td><td>50</td><td>0.0</td><td>1</td><td>0.0</td><td>119.594465</td><td>31.431034</td></tr><tr><td>3200</td><td>2019-03-13 15:29:46.000686785 UTC</td><td>-50</td><td>50</td><td>-50</td><td>50</td><td>0.0</td><td>1</td><td>0.0</td><td>119.594465</td><td>31.431034</td></tr><tr><td>3200</td><td>2019-03-13 15:29:47.000687715 UTC</td><td>-50</td><td>50</td><td>-50</td><td>50</td><td>0.0</td><td>1</td><td>0.0</td><td>119.594465</td><td>31.431034</td></tr><tr><td>&hellip;</td><td>&hellip;</td><td>&hellip;</td><td>&hellip;</td><td>&hellip;</td><td>&hellip;</td><td>&hellip;</td><td>&hellip;</td><td>&hellip;</td><td>&hellip;</td><td>&hellip;</td></tr><tr><td>54016</td><td>2020-01-23 13:07:12.000479258 UTC</td><td>950</td><td>3650</td><td>950</td><td>3650</td><td>0.0</td><td>1</td><td>0.0</td><td>227.70517</td><td>422.465517</td></tr><tr><td>54016</td><td>2020-01-23 13:07:15.000479778 UTC</td><td>949</td><td>3649</td><td>949</td><td>3649</td><td>0.0</td><td>1</td><td>0.0</td><td>227.597059</td><td>422.356897</td></tr><tr><td>54016</td><td>2020-01-23 13:07:22.000479499 UTC</td><td>949</td><td>3649</td><td>949</td><td>3649</td><td>0.0</td><td>6</td><td>0.0</td><td>227.597059</td><td>422.356897</td></tr><tr><td>54016</td><td>2020-01-23 13:07:24.000478952 UTC</td><td>949</td><td>3649</td><td>949</td><td>3649</td><td>0.0</td><td>1</td><td>0.0</td><td>227.597059</td><td>422.356897</td></tr><tr><td>54016</td><td>2020-01-23 13:07:25.000479218 UTC</td><td>949</td><td>3649</td><td>949</td><td>3649</td><td>0.0</td><td>1</td><td>0.0</td><td>227.597059</td><td>422.356897</td></tr></tbody></table></div>"
      ],
      "text/plain": [
       "shape: (38_977_673, 11)\n",
       "┌─────────┬──────────────────────┬─────┬──────┬───┬───────────┬──────────┬────────────┬────────────┐\n",
       "│ node_id ┆ timestamp            ┆ x   ┆ y    ┆ … ┆ timedelta ┆ speed    ┆ x_scaled   ┆ y_scaled   │\n",
       "│ ---     ┆ ---                  ┆ --- ┆ ---  ┆   ┆ ---       ┆ ---      ┆ ---        ┆ ---        │\n",
       "│ i32     ┆ datetime[ns, UTC]    ┆ i32 ┆ i32  ┆   ┆ i64       ┆ f64      ┆ f64        ┆ f64        │\n",
       "╞═════════╪══════════════════════╪═════╪══════╪═══╪═══════════╪══════════╪════════════╪════════════╡\n",
       "│ 3200    ┆ 2019-03-07           ┆ 0   ┆ 0    ┆ … ┆ 1         ┆ 0.0      ┆ 125.0      ┆ 26.0       │\n",
       "│         ┆ 11:46:21.000078081   ┆     ┆      ┆   ┆           ┆          ┆            ┆            │\n",
       "│         ┆ UT…                  ┆     ┆      ┆   ┆           ┆          ┆            ┆            │\n",
       "│ 3200    ┆ 2019-03-13           ┆ -50 ┆ 50   ┆ … ┆ 531801    ┆ 0.000005 ┆ 119.594465 ┆ 31.431034  │\n",
       "│         ┆ 15:29:43.000686639   ┆     ┆      ┆   ┆           ┆          ┆            ┆            │\n",
       "│         ┆ UT…                  ┆     ┆      ┆   ┆           ┆          ┆            ┆            │\n",
       "│ 3200    ┆ 2019-03-13           ┆ -50 ┆ 50   ┆ … ┆ 1         ┆ 0.0      ┆ 119.594465 ┆ 31.431034  │\n",
       "│         ┆ 15:29:45.000686654   ┆     ┆      ┆   ┆           ┆          ┆            ┆            │\n",
       "│         ┆ UT…                  ┆     ┆      ┆   ┆           ┆          ┆            ┆            │\n",
       "│ 3200    ┆ 2019-03-13           ┆ -50 ┆ 50   ┆ … ┆ 1         ┆ 0.0      ┆ 119.594465 ┆ 31.431034  │\n",
       "│         ┆ 15:29:46.000686785   ┆     ┆      ┆   ┆           ┆          ┆            ┆            │\n",
       "│         ┆ UT…                  ┆     ┆      ┆   ┆           ┆          ┆            ┆            │\n",
       "│ 3200    ┆ 2019-03-13           ┆ -50 ┆ 50   ┆ … ┆ 1         ┆ 0.0      ┆ 119.594465 ┆ 31.431034  │\n",
       "│         ┆ 15:29:47.000687715   ┆     ┆      ┆   ┆           ┆          ┆            ┆            │\n",
       "│         ┆ UT…                  ┆     ┆      ┆   ┆           ┆          ┆            ┆            │\n",
       "│ …       ┆ …                    ┆ …   ┆ …    ┆ … ┆ …         ┆ …        ┆ …          ┆ …          │\n",
       "│ 54016   ┆ 2020-01-23           ┆ 950 ┆ 3650 ┆ … ┆ 1         ┆ 0.0      ┆ 227.70517  ┆ 422.465517 │\n",
       "│         ┆ 13:07:12.000479258   ┆     ┆      ┆   ┆           ┆          ┆            ┆            │\n",
       "│         ┆ UT…                  ┆     ┆      ┆   ┆           ┆          ┆            ┆            │\n",
       "│ 54016   ┆ 2020-01-23           ┆ 949 ┆ 3649 ┆ … ┆ 1         ┆ 0.0      ┆ 227.597059 ┆ 422.356897 │\n",
       "│         ┆ 13:07:15.000479778   ┆     ┆      ┆   ┆           ┆          ┆            ┆            │\n",
       "│         ┆ UT…                  ┆     ┆      ┆   ┆           ┆          ┆            ┆            │\n",
       "│ 54016   ┆ 2020-01-23           ┆ 949 ┆ 3649 ┆ … ┆ 6         ┆ 0.0      ┆ 227.597059 ┆ 422.356897 │\n",
       "│         ┆ 13:07:22.000479499   ┆     ┆      ┆   ┆           ┆          ┆            ┆            │\n",
       "│         ┆ UT…                  ┆     ┆      ┆   ┆           ┆          ┆            ┆            │\n",
       "│ 54016   ┆ 2020-01-23           ┆ 949 ┆ 3649 ┆ … ┆ 1         ┆ 0.0      ┆ 227.597059 ┆ 422.356897 │\n",
       "│         ┆ 13:07:24.000478952   ┆     ┆      ┆   ┆           ┆          ┆            ┆            │\n",
       "│         ┆ UT…                  ┆     ┆      ┆   ┆           ┆          ┆            ┆            │\n",
       "│ 54016   ┆ 2020-01-23           ┆ 949 ┆ 3649 ┆ … ┆ 1         ┆ 0.0      ┆ 227.597059 ┆ 422.356897 │\n",
       "│         ┆ 13:07:25.000479218   ┆     ┆      ┆   ┆           ┆          ┆            ┆            │\n",
       "│         ┆ UT…                  ┆     ┆      ┆   ┆           ┆          ┆            ┆            │\n",
       "└─────────┴──────────────────────┴─────┴──────┴───┴───────────┴──────────┴────────────┴────────────┘"
      ]
     },
     "execution_count": 16,
     "metadata": {},
     "output_type": "execute_result"
    }
   ],
   "source": [
    "df"
   ]
  },
  {
   "cell_type": "code",
   "execution_count": 17,
   "id": "9a796d08",
   "metadata": {},
   "outputs": [
    {
     "name": "stdout",
     "output_type": "stream",
     "text": [
      "Table dropped\n",
      "Silver_SensorData luotu\n",
      "Tallennetaan dataframe tietokantaan, jonka muoto on: (38977673, 11)\n",
      "Tallennus tauluun Silver_SensorData onnistui\n"
     ]
    }
   ],
   "source": [
    "from functions.database import create_db_table\n",
    "from functions.database import insert_dataframe_into_table\n",
    "from functions.database import drop_table\n",
    "\n",
    "#from functions.database import drop_table\n",
    "# Tallennetaan dataframe silver tauluun\n",
    "\n",
    "table_name = \"Silver_SensorData\" # tai Silver_SensorData_lite\n",
    "duckdb_path = \"data/duckdb.database\"\n",
    "schema = f'''\n",
    "        CREATE TABLE {table_name} (\n",
    "        node_id INTEGER NOT NULL,\n",
    "        timestamp TIMESTAMP,\n",
    "        x INTEGER NOT NULL,\n",
    "        y INTEGER NOT NULL,\n",
    "        previous_x INTEGER,\n",
    "        previous_y INTEGER,\n",
    "        distance FLOAT,\n",
    "        timedelta INTEGER,\n",
    "        speed FLOAT,\n",
    "        x_scaled FLOAT,\n",
    "        y_scaled FLOAT\n",
    "        )\n",
    "        '''\n",
    "\n",
    "drop_table(table_name, duckdb_path) # Poista kommentti, jos tarvitsee poistaa tietokantataulu\n",
    "create_db_table(database=duckdb_path, table_name=table_name,schema=schema) # Luodaan tietokantataulu\n",
    "insert_dataframe_into_table(database=duckdb_path, table_name=table_name, df=df, insert=True) # Lisätään dataframe tietokantatauluun (Insert, eli lisätään rivejä vanhan perään)"
   ]
  },
  {
   "cell_type": "code",
   "execution_count": 18,
   "id": "cfee0a75",
   "metadata": {},
   "outputs": [
    {
     "name": "stdout",
     "output_type": "stream",
     "text": [
      "┌─────────┬──────────────────────┬───────┬───────┬───┬──────────┬───────────┬──────────────┬───────────┬───────────┐\n",
      "│ node_id │      timestamp       │   x   │   y   │ … │ distance │ timedelta │    speed     │ x_scaled  │ y_scaled  │\n",
      "│  int32  │      timestamp       │ int32 │ int32 │   │  float   │   int32   │    float     │   float   │   float   │\n",
      "├─────────┼──────────────────────┼───────┼───────┼───┼──────────┼───────────┼──────────────┼───────────┼───────────┤\n",
      "│    3200 │ 2019-03-07 13:46:2…  │     0 │     0 │ … │      0.0 │         1 │          0.0 │     125.0 │      26.0 │\n",
      "│    3200 │ 2019-03-13 17:29:4…  │   -50 │    50 │ … │   70.711 │    531801 │ 4.786745e-06 │ 119.59447 │ 31.431034 │\n",
      "│    3200 │ 2019-03-13 17:29:4…  │   -50 │    50 │ … │      0.0 │         1 │          0.0 │ 119.59447 │ 31.431034 │\n",
      "│    3200 │ 2019-03-13 17:29:4…  │   -50 │    50 │ … │      0.0 │         1 │          0.0 │ 119.59447 │ 31.431034 │\n",
      "│    3200 │ 2019-03-13 17:29:4…  │   -50 │    50 │ … │      0.0 │         1 │          0.0 │ 119.59447 │ 31.431034 │\n",
      "│    3200 │ 2019-03-13 17:29:4…  │   -50 │    50 │ … │      0.0 │         1 │          0.0 │ 119.59447 │ 31.431034 │\n",
      "│    3200 │ 2019-03-13 17:29:5…  │   -50 │    50 │ … │      0.0 │         1 │          0.0 │ 119.59447 │ 31.431034 │\n",
      "│    3200 │ 2019-03-13 17:29:5…  │   -50 │    50 │ … │      0.0 │         1 │          0.0 │ 119.59447 │ 31.431034 │\n",
      "│    3200 │ 2019-03-13 17:29:5…  │   -50 │    50 │ … │      0.0 │         1 │          0.0 │ 119.59447 │ 31.431034 │\n",
      "│    3200 │ 2019-03-13 17:29:5…  │   -50 │    50 │ … │      0.0 │         1 │          0.0 │ 119.59447 │ 31.431034 │\n",
      "│      ·  │          ·           │    ·  │     · │ · │       ·  │         · │           ·  │     ·     │     ·     │\n",
      "│      ·  │          ·           │    ·  │     · │ · │       ·  │         · │           ·  │     ·     │     ·     │\n",
      "│      ·  │          ·           │    ·  │     · │ · │       ·  │         · │           ·  │     ·     │     ·     │\n",
      "│    3200 │ 2019-03-14 14:05:0…  │  8357 │  1389 │ … │     10.0 │         1 │         0.36 │ 1028.4812 │ 176.87415 │\n",
      "│    3200 │ 2019-03-14 14:05:0…  │  8368 │  1388 │ … │   11.045 │         1 │      0.39762 │ 1029.6704 │ 176.76552 │\n",
      "│    3200 │ 2019-03-14 14:05:0…  │  8391 │  1368 │ … │     15.0 │         1 │         0.54 │  1032.157 │ 174.59311 │\n",
      "│    3200 │ 2019-03-14 14:05:1…  │  8398 │  1348 │ … │     13.0 │         1 │        0.468 │ 1032.9137 │ 172.42068 │\n",
      "│    3200 │ 2019-03-14 14:05:1…  │  8426 │  1339 │ … │   29.411 │         1 │     1.058796 │ 1035.9408 │  171.4431 │\n",
      "│    3200 │ 2019-03-14 14:05:1…  │  8418 │  1323 │ … │    9.434 │         1 │     0.339624 │ 1035.0759 │ 169.70517 │\n",
      "│    3200 │ 2019-03-14 14:05:1…  │  8410 │  1322 │ … │    8.062 │         1 │     0.290232 │  1034.211 │ 169.59656 │\n",
      "│    3200 │ 2019-03-14 14:05:1…  │  8423 │  1317 │ … │   13.928 │         1 │     0.501408 │ 1035.6165 │ 169.05345 │\n",
      "│    3200 │ 2019-03-14 14:05:1…  │  8427 │  1326 │ … │     21.0 │         1 │        0.756 │  1036.049 │ 170.03104 │\n",
      "│    3200 │ 2019-03-14 14:05:2…  │  8414 │  1330 │ … │   10.198 │         1 │     0.367128 │ 1034.6434 │ 170.46552 │\n",
      "├─────────┴──────────────────────┴───────┴───────┴───┴──────────┴───────────┴──────────────┴───────────┴───────────┤\n",
      "│ ? rows (>9999 rows, 20 shown)                                                               11 columns (9 shown) │\n",
      "└──────────────────────────────────────────────────────────────────────────────────────────────────────────────────┘\n",
      "\n"
     ]
    }
   ],
   "source": [
    "# Tarkistetaan, miltä luotu taulu näyttää:\n",
    "table_name = \"Silver_SensorData\"\n",
    "duckdb_path = \"data/duckdb.database\"\n",
    "import duckdb\n",
    "conn = duckdb.connect(database=duckdb_path)\n",
    "conn.table(table_name).show()\n",
    "conn.close()"
   ]
  },
  {
   "cell_type": "code",
   "execution_count": 19,
   "id": "46b7a54a",
   "metadata": {},
   "outputs": [],
   "source": [
    "df_plot = df.to_pandas()"
   ]
  },
  {
   "cell_type": "code",
   "execution_count": 20,
   "id": "65fc4ca1",
   "metadata": {},
   "outputs": [],
   "source": [
    "df_plot = df_plot.head(n=750000) # Otetaan vain osa datasta, 38 miljoonan pisteen piirtämiseen menee pitkään. 750k pistettä kestää n. 45sec"
   ]
  },
  {
   "cell_type": "code",
   "execution_count": 21,
   "id": "addbc9e6",
   "metadata": {},
   "outputs": [],
   "source": [
    "%matplotlib inline\n",
    "from PIL import Image, ImageDraw, ImageFont\n",
    "#import ipywidgets as widgets\n",
    "import matplotlib.pyplot as plt\n",
    "from IPython.display import display\n",
    "from IPython.display import clear_output\n",
    "\n",
    "#Sisällytä kalibrointiviivat ja tekstit\n",
    "show_calibration_data = True\n",
    "\n",
    "\n",
    "def draw(df):\n",
    "    # Get image size with this method\n",
    "    img = Image.open('kauppa.jpg')\n",
    "    width, height = img.size\n",
    "    print(\"pixel size\", img.size)\n",
    "\n",
    "\n",
    "    # Create image widget\n",
    "    file = open(\"kauppa.jpg\", \"rb\")\n",
    "    image = file.read()\n",
    "    #widgets.Image(\n",
    "    #    value=image,\n",
    "    #    format='png',\n",
    "    #    width=width,\n",
    "    #    height=height,\n",
    "    #)\n",
    "\n",
    "    # Draw on image\n",
    "    d = ImageDraw.Draw(img)\n",
    "\n",
    "    for index, row in df.iterrows():\n",
    "        x = row.x_scaled\n",
    "        y = row.y_scaled\n",
    "        \n",
    "        d.rectangle((x,y,x+2,y+2), fill=(int(row.node_id)%255,0,0,20))\n",
    "    \n",
    "    def show_cal_data():\n",
    "        #y-akselin 0-linja kuvassa\n",
    "        #px = 26\n",
    "        d.line(xy=(0, 26, 1280, 26), \n",
    "              fill=(0, 128, 0), width = 3)\n",
    "\n",
    "        #x-akselin 0-linja kuvassa\n",
    "        #\n",
    "        d.line(xy=(112, 0, 112, 650),\n",
    "               fill=(0, 128, 0),\n",
    "                width = 3)\n",
    "        \n",
    "        #y-akseli alareuna\n",
    "        d.line(xy=(0, 593, 1280, 593),\n",
    "               fill=(0,500,20),\n",
    "               width=3)\n",
    "        \n",
    "        #x-akseli oikea reuna\n",
    "        d.line(xy=(1250, 0, 1250, 617),\n",
    "               fill=(0,500,20),\n",
    "               width=3)\n",
    "        #triggerline\n",
    "        d.line(xy=(200, 277, 200, 363),\n",
    "               fill=(0,500,20),\n",
    "               width=3)\n",
    "\n",
    "        #Latausaseman sijainti 1krs\n",
    "        d.rectangle((111,296, 135, 320),\n",
    "                    fill=(255,100,100,255))\n",
    "        \n",
    "        #Latausaseman sijainti 0krs\n",
    "        d.rectangle((130, 400, 180, 450),\n",
    "                    fill=(255,100,100,255))\n",
    "        # oikea yläreuna \n",
    "        d.rectangle(xy=(1030, 26, 1250, 90), \n",
    "              fill=(100, 50, 0), width = 3)\n",
    "        # oikea alareuna\n",
    "        d.rectangle(xy=(1200, 530, 1250, 600), \n",
    "              fill=(100, 50, 0), width = 3)\n",
    "        \n",
    "        \n",
    "        # Teksti kiinnostaville kohteille kuvissa\n",
    "        #latausaseman teksti\n",
    "        d.text(xy=(95, 325), \n",
    "              text=\"Latausasema\",\n",
    "              font_size = 12,\n",
    "              fill=(0, 127, 0))\n",
    "        #latausaseman teksti\n",
    "        d.text(xy=(181, 451), \n",
    "              text=\"Latausasema 0krs.\",\n",
    "              font_size = 12,\n",
    "              fill=(0, 127, 0))\n",
    "        #triggerline teksti\n",
    "        d.text(xy=(174, 363), \n",
    "              text=\"Triggerline\",\n",
    "              font_size = 12,\n",
    "              fill=(0, 127, 0))\n",
    "        #x, y = 0 teksti\n",
    "        d.text((115, 5),\n",
    "               text= \"x,y=0\",\n",
    "                font_size=12,\n",
    "                 fill=(0,127,0))\n",
    "        #x,y = max teksti\n",
    "        d.text((1130, 600),\n",
    "               text= \"x,y=(10406, 5220)\",\n",
    "                font_size=12,\n",
    "                 fill=(0,500, 20))\n",
    "        \n",
    "    if show_calibration_data:\n",
    "        show_cal_data()\n",
    "        \n",
    "    display(img)\n",
    "    \n",
    "def clear():\n",
    "    clear_output(wait=True)"
   ]
  },
  {
   "cell_type": "code",
   "execution_count": 22,
   "id": "3330a0bb",
   "metadata": {},
   "outputs": [
    {
     "ename": "NameError",
     "evalue": "name 'df_plot2' is not defined",
     "output_type": "error",
     "traceback": [
      "\u001b[1;31m---------------------------------------------------------------------------\u001b[0m",
      "\u001b[1;31mNameError\u001b[0m                                 Traceback (most recent call last)",
      "Cell \u001b[1;32mIn[22], line 1\u001b[0m\n\u001b[1;32m----> 1\u001b[0m draw(\u001b[43mdf_plot2\u001b[49m)\n",
      "\u001b[1;31mNameError\u001b[0m: name 'df_plot2' is not defined"
     ]
    }
   ],
   "source": [
    "draw(df_plot2)"
   ]
  },
  {
   "cell_type": "markdown",
   "id": "eb92e48d",
   "metadata": {},
   "source": []
  },
  {
   "cell_type": "markdown",
   "id": "f0da148a",
   "metadata": {},
   "source": [
    "### Onko jotain muuta?\n",
    "\n",
    "- Poistetaan järjestelmän koordinaatiston vanhat rajoitteet. Ainakin aikaisemmassa versiossa x,y akselit olivat rajoitettu tiettyyn arvoon, esim x>=(-50), jos kärryt menivät yli rajojen. Tällöin jos kärry meni alle -50 arvoon, niin se tallennettiin x=-50"
   ]
  },
  {
   "cell_type": "code",
   "execution_count": 25,
   "id": "c40370a2",
   "metadata": {},
   "outputs": [
    {
     "ename": "AttributeError",
     "evalue": "'Series' object has no attribute 'isin'",
     "output_type": "error",
     "traceback": [
      "\u001b[1;31m---------------------------------------------------------------------------\u001b[0m",
      "\u001b[1;31mAttributeError\u001b[0m                            Traceback (most recent call last)",
      "Cell \u001b[1;32mIn[25], line 1\u001b[0m\n\u001b[1;32m----> 1\u001b[0m limited_left_val \u001b[38;5;241m=\u001b[39m \u001b[43mdf\u001b[49m\u001b[43m[\u001b[49m\u001b[38;5;124;43m'\u001b[39;49m\u001b[38;5;124;43mx\u001b[39;49m\u001b[38;5;124;43m'\u001b[39;49m\u001b[43m]\u001b[49m\u001b[38;5;241;43m.\u001b[39;49m\u001b[43misin\u001b[49m([\u001b[38;5;241m-\u001b[39m\u001b[38;5;241m50\u001b[39m])\n\u001b[0;32m      2\u001b[0m limited_upper_val \u001b[38;5;241m=\u001b[39m df[\u001b[38;5;124m'\u001b[39m\u001b[38;5;124my\u001b[39m\u001b[38;5;124m'\u001b[39m]\u001b[38;5;241m.\u001b[39misin([\u001b[38;5;241m150\u001b[39m])\n\u001b[0;32m      3\u001b[0m limited_lower_val \u001b[38;5;241m=\u001b[39m df[\u001b[38;5;124m'\u001b[39m\u001b[38;5;124my\u001b[39m\u001b[38;5;124m'\u001b[39m]\u001b[38;5;241m.\u001b[39misin([\u001b[38;5;241m5050\u001b[39m])\n",
      "\u001b[1;31mAttributeError\u001b[0m: 'Series' object has no attribute 'isin'"
     ]
    }
   ],
   "source": [
    "limited_left_val = df['x'].isin([-50])\n",
    "limited_upper_val = df['y'].isin([150])\n",
    "limited_lower_val = df['y'].isin([5050])\n",
    "\n",
    "print(\"Löydetty:\", limited_lower_val.value_counts()[True], limited_left_val.value_counts()[True], limited_upper_val.value_counts()[True], \"kpl\")\n",
    "\n",
    "df = df[~limited_left_val & ~limited_upper_val & ~limited_lower_val]"
   ]
  },
  {
   "cell_type": "markdown",
   "id": "c1653ab4",
   "metadata": {},
   "source": []
  },
  {
   "cell_type": "code",
   "execution_count": 24,
   "id": "4844656e",
   "metadata": {},
   "outputs": [
    {
     "ename": "AttributeError",
     "evalue": "'DataFrame' object has no attribute 'info'",
     "output_type": "error",
     "traceback": [
      "\u001b[1;31m---------------------------------------------------------------------------\u001b[0m",
      "\u001b[1;31mAttributeError\u001b[0m                            Traceback (most recent call last)",
      "Cell \u001b[1;32mIn[24], line 1\u001b[0m\n\u001b[1;32m----> 1\u001b[0m \u001b[43mdf\u001b[49m\u001b[38;5;241;43m.\u001b[39;49m\u001b[43minfo\u001b[49m(verbose\u001b[38;5;241m=\u001b[39m\u001b[38;5;28;01mTrue\u001b[39;00m)\n",
      "\u001b[1;31mAttributeError\u001b[0m: 'DataFrame' object has no attribute 'info'"
     ]
    }
   ],
   "source": [
    "df.info(verbose=True)"
   ]
  },
  {
   "cell_type": "code",
   "execution_count": null,
   "id": "e835d4e0-2526-485f-82e8-16e515cf36b8",
   "metadata": {},
   "outputs": [],
   "source": []
  }
 ],
 "metadata": {
  "kernelspec": {
   "display_name": "Python 3 (ipykernel)",
   "language": "python",
   "name": "python3"
  },
  "language_info": {
   "codemirror_mode": {
    "name": "ipython",
    "version": 3
   },
   "file_extension": ".py",
   "mimetype": "text/x-python",
   "name": "python",
   "nbconvert_exporter": "python",
   "pygments_lexer": "ipython3",
   "version": "3.11.5"
  }
 },
 "nbformat": 4,
 "nbformat_minor": 5
}
